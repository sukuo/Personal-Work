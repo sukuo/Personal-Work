{
 "cells": [
  {
   "cell_type": "code",
   "execution_count": 2,
   "metadata": {
    "collapsed": false
   },
   "outputs": [],
   "source": [
    "import pandas as pd\n",
    "import numpy as np\n",
    "import re\n",
    "import collections\n",
    "from sklearn.feature_extraction.text import CountVectorizer\n",
    "from sklearn.cluster import KMeans\n",
    "import nltk\n",
    "import matplotlib.pyplot as plt\n",
    "from nltk.corpus import stopwords\n",
    "from sklearn.decomposition import PCA\n",
    "from textblob import TextBlob\n",
    "from sklearn.feature_extraction.text import TfidfVectorizer\n",
    "%matplotlib inline"
   ]
  },
  {
   "cell_type": "code",
   "execution_count": 3,
   "metadata": {
    "collapsed": true
   },
   "outputs": [],
   "source": [
    "df = pd.read_csv('NYT_df.csv')"
   ]
  },
  {
   "cell_type": "code",
   "execution_count": 6,
   "metadata": {
    "collapsed": true
   },
   "outputs": [],
   "source": [
    "df['Article'] = df['Article'].apply(lambda x:str(x))"
   ]
  },
  {
   "cell_type": "code",
   "execution_count": 7,
   "metadata": {
    "collapsed": false
   },
   "outputs": [],
   "source": [
    "df_ne = df.drop(df[df.Article =='nan'].index)"
   ]
  },
  {
   "cell_type": "code",
   "execution_count": 10,
   "metadata": {
    "collapsed": true
   },
   "outputs": [],
   "source": [
    "df_ne['polarity'] = df_ne['Article'].apply(lambda x: TextBlob(x).sentiment[0])\n",
    "df_ne['subjectivity'] = df_ne['Article'].apply(lambda x: TextBlob(x).sentiment[1])"
   ]
  },
  {
   "cell_type": "code",
   "execution_count": 11,
   "metadata": {
    "collapsed": true
   },
   "outputs": [],
   "source": [
    "df_ne['Article'] = df_ne['Article'].apply(lambda x: re.sub('((\\\\n)|(/\\\\n)+)', ' ', x)).apply(lambda x: re.sub('[^A-Za-z]+', ' ', x))"
   ]
  },
  {
   "cell_type": "code",
   "execution_count": 12,
   "metadata": {
    "collapsed": false
   },
   "outputs": [],
   "source": [
    "df_ne.drop('Unnamed: 0', axis=1, inplace=True)"
   ]
  },
  {
   "cell_type": "code",
   "execution_count": 110,
   "metadata": {
    "collapsed": false
   },
   "outputs": [],
   "source": [
    "vectorizer_tf = TfidfVectorizer(max_df = .85, max_features = X.shape[0] )\n",
    "X_tf = vectorizer_tf.fit_transform(df_ne.Article).toarray()"
   ]
  },
  {
   "cell_type": "code",
   "execution_count": 17,
   "metadata": {
    "collapsed": false
   },
   "outputs": [],
   "source": [
    "vectorizer = CountVectorizer(stop_words='english')\n",
    "X = vectorizer.fit_transform(df_ne.Article) "
   ]
  },
  {
   "cell_type": "code",
   "execution_count": 68,
   "metadata": {
    "collapsed": false
   },
   "outputs": [
    {
     "data": {
      "text/plain": [
       "(594, 19131)"
      ]
     },
     "execution_count": 68,
     "metadata": {},
     "output_type": "execute_result"
    }
   ],
   "source": [
    "type(X)\n",
    "X.shape"
   ]
  },
  {
   "cell_type": "code",
   "execution_count": 33,
   "metadata": {
    "collapsed": false
   },
   "outputs": [],
   "source": [
    "pca = PCA(n_components=(X.shape[1]))\n",
    "pca_x = pca.fit_transform(X.toarray())"
   ]
  },
  {
   "cell_type": "code",
   "execution_count": 24,
   "metadata": {
    "collapsed": false
   },
   "outputs": [
    {
     "data": {
      "text/plain": [
       "(594, 594)"
      ]
     },
     "execution_count": 24,
     "metadata": {},
     "output_type": "execute_result"
    }
   ],
   "source": [
    "pca_x.shape"
   ]
  },
  {
   "cell_type": "code",
   "execution_count": 35,
   "metadata": {
    "collapsed": false
   },
   "outputs": [],
   "source": [
    "pca_t = PCA(n_components=(X_tf.shape[1]))\n",
    "pca_xtf = pca.fit_transform(X_tf)"
   ]
  },
  {
   "cell_type": "code",
   "execution_count": null,
   "metadata": {
    "collapsed": true
   },
   "outputs": [],
   "source": [
    "cluster_tf = KMeans(n_clusters)"
   ]
  },
  {
   "cell_type": "code",
   "execution_count": 31,
   "metadata": {
    "collapsed": true
   },
   "outputs": [
    {
     "data": {
      "text/plain": [
       "[<matplotlib.lines.Line2D at 0x11be6cda0>]"
      ]
     },
     "execution_count": 31,
     "metadata": {},
     "output_type": "execute_result"
    },
    {
     "data": {
      "image/png": "[encoded data removed]",
      "text/plain": [
       "<matplotlib.figure.Figure at 0x11be44470>"
      ]
     },
     "metadata": {},
     "output_type": "display_data"
    }
   ],
   "source": [
    "n_tfinertia = []\n",
    "for i in range(1,16):\n",
    "    km = KMeans(n_clusters = i, init = 'k-means++', n_init=25)\n",
    "    kmeans_pca_array = km.fit_transform(X_tf)\n",
    "    tf_clusters_array = km.predict(X_tf)\n",
    "    inertia = km.inertia_\n",
    "    n_tfinertia.append(inertia)\n",
    "    \n",
    "#plt.plot(range(1,16),n_tfinertia)"
   ]
  },
  {
   "cell_type": "code",
   "execution_count": 36,
   "metadata": {
    "collapsed": true
   },
   "outputs": [
    {
     "data": {
      "text/plain": [
       "[<matplotlib.lines.Line2D at 0x11c502e48>]"
      ]
     },
     "execution_count": 36,
     "metadata": {},
     "output_type": "execute_result"
    },
    {
     "data": {
      "image/png": "[encoded data removed]",
      "text/plain": [
       "<matplotlib.figure.Figure at 0x11be89518>"
      ]
     },
     "metadata": {},
     "output_type": "display_data"
    }
   ],
   "source": [
    "n_tfinertia = []\n",
    "for i in range(1,16):\n",
    "    km = KMeans(n_clusters = i, init = 'k-means++', n_init=25)\n",
    "    kmeans_pca_array = km.fit_transform(pca_xtf)\n",
    "    tf_clusters_array = km.predict(pca_xtf)\n",
    "    inertia = km.inertia_\n",
    "    n_tfinertia.append(inertia)\n",
    "    \n",
    "plt.plot(range(1,16),n_tfinertia)"
   ]
  },
  {
   "cell_type": "code",
   "execution_count": 27,
   "metadata": {
    "collapsed": false
   },
   "outputs": [],
   "source": [
    "n_inertia = []\n",
    "for i in range(1,16):\n",
    "    km = KMeans(n_clusters = i, init = 'k-means++', n_init=25)\n",
    "    kmeans_pca_array = km.fit_transform(pca_x)\n",
    "    pca_clusters_array = km.predict(pca_x)\n",
    "    inertia = km.inertia_\n",
    "    n_inertia.append(inertia)"
   ]
  },
  {
   "cell_type": "code",
   "execution_count": 28,
   "metadata": {
    "collapsed": true
   },
   "outputs": [
    {
     "data": {
      "text/plain": [
       "[<matplotlib.lines.Line2D at 0x11be322e8>]"
      ]
     },
     "execution_count": 28,
     "metadata": {},
     "output_type": "execute_result"
    },
    {
     "data": {
      "image/png": "[encoded data removed]",
      "text/plain": [
       "<matplotlib.figure.Figure at 0x11c4bb7b8>"
      ]
     },
     "metadata": {},
     "output_type": "display_data"
    }
   ],
   "source": [
    "plt.plot(range(1,16),n_inertia)"
   ]
  },
  {
   "cell_type": "code",
   "execution_count": 39,
   "metadata": {
    "collapsed": false
   },
   "outputs": [],
   "source": [
    "km_cluster1 = KMeans(n_clusters=4, init='k-means++', n_init=25)\n",
    "kmeans_pca_array = km_cluster1.fit_transform(pca_x)\n",
    "pca_clusters_array = km_cluster1.predict(pca_x)\n",
    "df_ne['pca_cluster'] = pca_clusters_array"
   ]
  },
  {
   "cell_type": "code",
   "execution_count": 103,
   "metadata": {
    "collapsed": false
   },
   "outputs": [
    {
     "data": {
      "text/plain": [
       "3    310\n",
       "1    157\n",
       "2    126\n",
       "0      1\n",
       "Name: pca_cluster, dtype: int64"
      ]
     },
     "execution_count": 103,
     "metadata": {},
     "output_type": "execute_result"
    }
   ],
   "source": [
    "df_ne['pca_cluster'].value_counts()"
   ]
  },
  {
   "cell_type": "code",
   "execution_count": 111,
   "metadata": {
    "collapsed": true
   },
   "outputs": [],
   "source": [
    "km_cluster1 = KMeans(n_clusters=6, init='k-means++', n_init=25)\n",
    "kmeans_tfpca_array = km_cluster1.fit_transform(X_tf)\n",
    "tfpca_clusters_array = km_cluster1.predict(X_tf)\n",
    "df_ne['tfpca_cluster'] = tfpca_clusters_array"
   ]
  },
  {
   "cell_type": "code",
   "execution_count": 112,
   "metadata": {
    "collapsed": false
   },
   "outputs": [
    {
     "data": {
      "text/html": [
       "<div>\n",
       "<table border=\"1\" class=\"dataframe\">\n",
       "  <thead>\n",
       "    <tr style=\"text-align: right;\">\n",
       "      <th></th>\n",
       "      <th>Article</th>\n",
       "      <th>Healine</th>\n",
       "      <th>Pub_date</th>\n",
       "      <th>Snippet</th>\n",
       "      <th>URL</th>\n",
       "      <th>polarity</th>\n",
       "      <th>subjectivity</th>\n",
       "      <th>tfpca_cluster</th>\n",
       "      <th>pca_cluster</th>\n",
       "    </tr>\n",
       "  </thead>\n",
       "  <tbody>\n",
       "    <tr>\n",
       "      <th>0</th>\n",
       "      <td>You don t dare use a four letter word around ...</td>\n",
       "      <td>Herald Price Fahringer, a Defender of Free Spe...</td>\n",
       "      <td>2015-02-20</td>\n",
       "      <td>The court victories of Mr. Fahringer, a lawyer...</td>\n",
       "      <td>http://www.nytimes.com/2015/02/19/nyregion/her...</td>\n",
       "      <td>0.110565</td>\n",
       "      <td>0.426802</td>\n",
       "      <td>2</td>\n",
       "      <td>1</td>\n",
       "    </tr>\n",
       "    <tr>\n",
       "      <th>1</th>\n",
       "      <td>Photo They say the news media likes to dwell o...</td>\n",
       "      <td>Five Economic Trends to Be Thankful For</td>\n",
       "      <td>2014-11-28</td>\n",
       "      <td>Cheap gas, job growth, worker confidence, home...</td>\n",
       "      <td>http://www.nytimes.com/2014/11/28/upshot/five-...</td>\n",
       "      <td>0.074505</td>\n",
       "      <td>0.439308</td>\n",
       "      <td>3</td>\n",
       "      <td>1</td>\n",
       "    </tr>\n",
       "  </tbody>\n",
       "</table>\n",
       "</div>"
      ],
      "text/plain": [
       "                                             Article  \\\n",
       "0   You don t dare use a four letter word around ...   \n",
       "1  Photo They say the news media likes to dwell o...   \n",
       "\n",
       "                                             Healine    Pub_date  \\\n",
       "0  Herald Price Fahringer, a Defender of Free Spe...  2015-02-20   \n",
       "1            Five Economic Trends to Be Thankful For  2014-11-28   \n",
       "\n",
       "                                             Snippet  \\\n",
       "0  The court victories of Mr. Fahringer, a lawyer...   \n",
       "1  Cheap gas, job growth, worker confidence, home...   \n",
       "\n",
       "                                                 URL  polarity  subjectivity  \\\n",
       "0  http://www.nytimes.com/2015/02/19/nyregion/her...  0.110565      0.426802   \n",
       "1  http://www.nytimes.com/2014/11/28/upshot/five-...  0.074505      0.439308   \n",
       "\n",
       "   tfpca_cluster  pca_cluster  \n",
       "0              2            1  \n",
       "1              3            1  "
      ]
     },
     "execution_count": 112,
     "metadata": {},
     "output_type": "execute_result"
    }
   ],
   "source": [
    "df_ne.head(2)"
   ]
  },
  {
   "cell_type": "code",
   "execution_count": 75,
   "metadata": {
    "collapsed": false
   },
   "outputs": [],
   "source": [
    "#df_ne.head(2)"
   ]
  },
  {
   "cell_type": "code",
   "execution_count": 344,
   "metadata": {
    "collapsed": false
   },
   "outputs": [],
   "source": [
    "#plt.hist(df_ne['polarity'])"
   ]
  },
  {
   "cell_type": "code",
   "execution_count": 343,
   "metadata": {
    "collapsed": false
   },
   "outputs": [],
   "source": [
    "#plt.hist(df_ne['subjectivity'])"
   ]
  },
  {
   "cell_type": "code",
   "execution_count": 342,
   "metadata": {
    "collapsed": false
   },
   "outputs": [],
   "source": [
    "#sorted(np.array(df_ne['Pub_date']))"
   ]
  },
  {
   "cell_type": "code",
   "execution_count": 119,
   "metadata": {
    "collapsed": true
   },
   "outputs": [],
   "source": [
    "def cluster_words(cluster_num, array):\n",
    "    tmp = ''\n",
    "    stop = stopwords.words('english')\n",
    "    stop.extend(('said', 'also'))\n",
    "    for i in df_ne[array == cluster_num]['Article']:\n",
    "        tmp = tmp + ' '  + i.lower()\n",
    "    words = nltk.word_tokenize(tmp)\n",
    "    stopwordsfree = [stemmer.stem(word) for word in words if word not in stop]\n",
    "    return pd.Series(stopwordsfree).value_counts()"
   ]
  },
  {
   "cell_type": "code",
   "execution_count": 120,
   "metadata": {
    "collapsed": false
   },
   "outputs": [
    {
     "data": {
      "text/plain": [
       "oil        647\n",
       "compani    637\n",
       "price      368\n",
       "ga         308\n",
       "year       308\n",
       "billion    287\n",
       "percent    244\n",
       "energi     212\n",
       "mr         198\n",
       "would      182\n",
       "shell      173\n",
       "million    159\n",
       "invest     152\n",
       "continu    145\n",
       "new        141\n",
       "drill      134\n",
       "share      132\n",
       "product    131\n",
       "deal       129\n",
       "fund       125\n",
       "dtype: int64"
      ]
     },
     "execution_count": 120,
     "metadata": {},
     "output_type": "execute_result"
    }
   ],
   "source": [
    "cluster_words(0, df_ne['tfpca_cluster'])[:20]"
   ]
  },
  {
   "cell_type": "code",
   "execution_count": 121,
   "metadata": {
    "collapsed": false
   },
   "outputs": [
    {
     "data": {
      "text/plain": [
       "oil        1137\n",
       "price       857\n",
       "product     453\n",
       "barrel      385\n",
       "year        371\n",
       "saudi       322\n",
       "market      321\n",
       "energi      262\n",
       "state       256\n",
       "opec        243\n",
       "unit        241\n",
       "produc      239\n",
       "day         235\n",
       "crude       228\n",
       "percent     203\n",
       "countri     202\n",
       "continu     193\n",
       "global      191\n",
       "million     190\n",
       "arabia      188\n",
       "dtype: int64"
      ]
     },
     "execution_count": 121,
     "metadata": {},
     "output_type": "execute_result"
    }
   ],
   "source": [
    "cluster_words(1, df_ne['tfpca_cluster'])[:20]"
   ]
  },
  {
   "cell_type": "code",
   "execution_count": 122,
   "metadata": {
    "collapsed": false
   },
   "outputs": [
    {
     "data": {
      "text/plain": [
       "mr          719\n",
       "oil         693\n",
       "year        536\n",
       "price       458\n",
       "compani     395\n",
       "state       379\n",
       "one         356\n",
       "would       343\n",
       "continu     336\n",
       "new         323\n",
       "main        306\n",
       "like        299\n",
       "stori       296\n",
       "read        284\n",
       "advertis    277\n",
       "time        252\n",
       "million     249\n",
       "market      229\n",
       "govern      217\n",
       "use         212\n",
       "dtype: int64"
      ]
     },
     "execution_count": 122,
     "metadata": {},
     "output_type": "execute_result"
    }
   ],
   "source": [
    "cluster_words(2, df_ne['tfpca_cluster'])[:20]"
   ]
  },
  {
   "cell_type": "code",
   "execution_count": 123,
   "metadata": {
    "collapsed": false
   },
   "outputs": [
    {
     "data": {
      "text/plain": [
       "price      550\n",
       "percent    549\n",
       "oil        374\n",
       "year       331\n",
       "market     273\n",
       "rate       237\n",
       "bank       219\n",
       "month      210\n",
       "last       185\n",
       "economi    172\n",
       "continu    165\n",
       "report     163\n",
       "inflat     157\n",
       "growth     150\n",
       "expect     148\n",
       "state      141\n",
       "consum     140\n",
       "compani    139\n",
       "increas    136\n",
       "econom     130\n",
       "dtype: int64"
      ]
     },
     "execution_count": 123,
     "metadata": {},
     "output_type": "execute_result"
    }
   ],
   "source": [
    "cluster_words(3, df_ne['tfpca_cluster'])[:20]"
   ]
  },
  {
   "cell_type": "code",
   "execution_count": 124,
   "metadata": {
    "collapsed": false
   },
   "outputs": [
    {
     "data": {
      "text/plain": [
       "percent     2379\n",
       "stock        906\n",
       "rose         824\n",
       "fell         806\n",
       "oil          773\n",
       "price        752\n",
       "year         649\n",
       "cent         631\n",
       "compani      547\n",
       "point        528\n",
       "market       524\n",
       "close        508\n",
       "p            483\n",
       "dow          475\n",
       "index        468\n",
       "investor     391\n",
       "gain         381\n",
       "industri     369\n",
       "crude        361\n",
       "minut        353\n",
       "dtype: int64"
      ]
     },
     "execution_count": 124,
     "metadata": {},
     "output_type": "execute_result"
    }
   ],
   "source": [
    "cluster_words(4, df_ne['tfpca_cluster'])[:20]"
   ]
  },
  {
   "cell_type": "code",
   "execution_count": 125,
   "metadata": {
    "collapsed": false
   },
   "outputs": [
    {
     "data": {
      "text/plain": [
       "oil        182\n",
       "price      165\n",
       "ga         155\n",
       "would      152\n",
       "tax        129\n",
       "climat     126\n",
       "carbon     122\n",
       "energi     117\n",
       "fuel        91\n",
       "chang       86\n",
       "year        79\n",
       "compani     72\n",
       "could       62\n",
       "state       59\n",
       "emiss       59\n",
       "like        59\n",
       "use         57\n",
       "world       55\n",
       "mr          55\n",
       "increas     53\n",
       "dtype: int64"
      ]
     },
     "execution_count": 125,
     "metadata": {},
     "output_type": "execute_result"
    }
   ],
   "source": [
    "cluster_words(5, df_ne['tfpca_cluster'])[:20]"
   ]
  },
  {
   "cell_type": "code",
   "execution_count": 147,
   "metadata": {
    "collapsed": false
   },
   "outputs": [],
   "source": [
    "#cluster_words(4)[:20]"
   ]
  },
  {
   "cell_type": "markdown",
   "metadata": {
    "collapsed": true
   },
   "source": [
    "** ========================================================================================================= **"
   ]
  },
  {
   "cell_type": "code",
   "execution_count": 339,
   "metadata": {
    "collapsed": false,
    "scrolled": true
   },
   "outputs": [],
   "source": [
    "#cluster_words(0, df_ne['pca_cluster'])[:50]"
   ]
  },
  {
   "cell_type": "code",
   "execution_count": 338,
   "metadata": {
    "collapsed": false,
    "scrolled": true
   },
   "outputs": [],
   "source": [
    "#cluster_words(1, df_ne['pca_cluster'])[:50]"
   ]
  },
  {
   "cell_type": "code",
   "execution_count": 9,
   "metadata": {
    "collapsed": false
   },
   "outputs": [],
   "source": [
    "stemmer = nltk.stem.porter.PorterStemmer()\n",
    "def word_counter(cluster_num, array):\n",
    "    stemmer = nltk.stem.porter.PorterStemmer()\n",
    "    tmp = ''\n",
    "    stop = stopwords.words('english')\n",
    "    stop.extend(('said', 'also'))\n",
    "    for i in df_ne[array == cluster_num]['Article']:\n",
    "        tmp = tmp + ' '  + i.lower()\n",
    "    words = nltk.word_tokenize(tmp)\n",
    "    stopwordsfree = [stemmer.stem(word) for word in words if word not in stop]\n",
    "    return sorted(collections.Counter(stopwordsfree), key = (lambda x: x[1]))"
   ]
  },
  {
   "cell_type": "code",
   "execution_count": 340,
   "metadata": {
    "collapsed": false,
    "scrolled": true
   },
   "outputs": [],
   "source": [
    "#sorted(word_counter(0, df_ne['pca_cluster']).items(), key=lambda x: x[1], reverse=True)[:50]"
   ]
  },
  {
   "cell_type": "code",
   "execution_count": 341,
   "metadata": {
    "collapsed": false,
    "scrolled": true
   },
   "outputs": [],
   "source": [
    "#sorted(word_counter(1, df_ne['pca_cluster']).items(), key=lambda x: x[1], reverse=True)[:50]"
   ]
  },
  {
   "cell_type": "code",
   "execution_count": 105,
   "metadata": {
    "collapsed": false
   },
   "outputs": [
    {
     "name": "stdout",
     "output_type": "stream",
     "text": [
      "range(0, 263)\n",
      "263\n"
     ]
    },
    {
     "data": {
      "image/png": "[encoded data removed]",
      "text/plain": [
       "<matplotlib.figure.Figure at 0x11e81ab70>"
      ]
     },
     "metadata": {},
     "output_type": "display_data"
    }
   ],
   "source": [
    "sentiment_df = pd.DataFrame(df_ne.groupby(['Pub_date'])['polarity'].mean())\n",
    "plt.scatter(range(len(sentiment_df)), sentiment_df['polarity'])\n",
    "print(range(len(sentiment_df)))\n",
    "print(len(sentiment_df['polarity']))"
   ]
  },
  {
   "cell_type": "code",
   "execution_count": 126,
   "metadata": {
    "collapsed": false
   },
   "outputs": [],
   "source": [
    "cl1 = pd.DataFrame(cluster_words(1, df_ne['tfpca_cluster'])[:20])\n",
    "cl1.to_csv('cluster1.csv')"
   ]
  },
  {
   "cell_type": "code",
   "execution_count": 127,
   "metadata": {
    "collapsed": false
   },
   "outputs": [],
   "source": [
    "cl2 = pd.DataFrame(cluster_words(3, df_ne['tfpca_cluster'])[:20])\n",
    "cl2.to_csv('cluster2.csv')"
   ]
  },
  {
   "cell_type": "code",
   "execution_count": 128,
   "metadata": {
    "collapsed": false
   },
   "outputs": [],
   "source": [
    "cl3 = pd.DataFrame(cluster_words(4, df_ne['tfpca_cluster'])[:20])\n",
    "cl3.to_csv('cluster3.csv')"
   ]
  },
  {
   "cell_type": "code",
   "execution_count": 135,
   "metadata": {
    "collapsed": false
   },
   "outputs": [],
   "source": [
    "cl4 = pd.DataFrame(cluster_words(5, df_ne['tfpca_cluster'])[:17])\n",
    "cl4.to_csv('cluster4.csv')"
   ]
  },
  {
   "cell_type": "markdown",
   "metadata": {
    "collapsed": false
   },
   "source": [
    "** ========================================================================================================= **"
   ]
  },
  {
   "cell_type": "code",
   "execution_count": 132,
   "metadata": {
    "collapsed": false
   },
   "outputs": [
    {
     "data": {
      "text/plain": [
       "oil         1137\n",
       "price        857\n",
       "product      453\n",
       "barrel       385\n",
       "year         371\n",
       "saudi        322\n",
       "market       321\n",
       "energi       262\n",
       "state        256\n",
       "opec         243\n",
       "unit         241\n",
       "produc       239\n",
       "day          235\n",
       "crude        228\n",
       "percent      203\n",
       "countri      202\n",
       "continu      193\n",
       "global       191\n",
       "million      190\n",
       "arabia       188\n",
       "export       179\n",
       "cut          177\n",
       "compani      171\n",
       "would        169\n",
       "american     168\n",
       "dtype: int64"
      ]
     },
     "execution_count": 132,
     "metadata": {},
     "output_type": "execute_result"
    }
   ],
   "source": [
    "cluster_words(1, df_ne['tfpca_cluster'] )[:25]"
   ]
  },
  {
   "cell_type": "code",
   "execution_count": 134,
   "metadata": {
    "collapsed": false
   },
   "outputs": [
    {
     "data": {
      "text/html": [
       "<div>\n",
       "<table border=\"1\" class=\"dataframe\">\n",
       "  <thead>\n",
       "    <tr style=\"text-align: right;\">\n",
       "      <th></th>\n",
       "      <th>0</th>\n",
       "    </tr>\n",
       "  </thead>\n",
       "  <tbody>\n",
       "    <tr>\n",
       "      <th>oil</th>\n",
       "      <td>182</td>\n",
       "    </tr>\n",
       "    <tr>\n",
       "      <th>price</th>\n",
       "      <td>165</td>\n",
       "    </tr>\n",
       "    <tr>\n",
       "      <th>ga</th>\n",
       "      <td>155</td>\n",
       "    </tr>\n",
       "    <tr>\n",
       "      <th>would</th>\n",
       "      <td>152</td>\n",
       "    </tr>\n",
       "    <tr>\n",
       "      <th>tax</th>\n",
       "      <td>129</td>\n",
       "    </tr>\n",
       "    <tr>\n",
       "      <th>climat</th>\n",
       "      <td>126</td>\n",
       "    </tr>\n",
       "    <tr>\n",
       "      <th>carbon</th>\n",
       "      <td>122</td>\n",
       "    </tr>\n",
       "    <tr>\n",
       "      <th>energi</th>\n",
       "      <td>117</td>\n",
       "    </tr>\n",
       "    <tr>\n",
       "      <th>fuel</th>\n",
       "      <td>91</td>\n",
       "    </tr>\n",
       "    <tr>\n",
       "      <th>chang</th>\n",
       "      <td>86</td>\n",
       "    </tr>\n",
       "    <tr>\n",
       "      <th>year</th>\n",
       "      <td>79</td>\n",
       "    </tr>\n",
       "    <tr>\n",
       "      <th>compani</th>\n",
       "      <td>72</td>\n",
       "    </tr>\n",
       "    <tr>\n",
       "      <th>could</th>\n",
       "      <td>62</td>\n",
       "    </tr>\n",
       "    <tr>\n",
       "      <th>state</th>\n",
       "      <td>59</td>\n",
       "    </tr>\n",
       "    <tr>\n",
       "      <th>emiss</th>\n",
       "      <td>59</td>\n",
       "    </tr>\n",
       "    <tr>\n",
       "      <th>like</th>\n",
       "      <td>59</td>\n",
       "    </tr>\n",
       "    <tr>\n",
       "      <th>use</th>\n",
       "      <td>57</td>\n",
       "    </tr>\n",
       "    <tr>\n",
       "      <th>world</th>\n",
       "      <td>55</td>\n",
       "    </tr>\n",
       "    <tr>\n",
       "      <th>mr</th>\n",
       "      <td>55</td>\n",
       "    </tr>\n",
       "    <tr>\n",
       "      <th>increas</th>\n",
       "      <td>53</td>\n",
       "    </tr>\n",
       "  </tbody>\n",
       "</table>\n",
       "</div>"
      ],
      "text/plain": [
       "           0\n",
       "oil      182\n",
       "price    165\n",
       "ga       155\n",
       "would    152\n",
       "tax      129\n",
       "climat   126\n",
       "carbon   122\n",
       "energi   117\n",
       "fuel      91\n",
       "chang     86\n",
       "year      79\n",
       "compani   72\n",
       "could     62\n",
       "state     59\n",
       "emiss     59\n",
       "like      59\n",
       "use       57\n",
       "world     55\n",
       "mr        55\n",
       "increas   53"
      ]
     },
     "execution_count": 134,
     "metadata": {},
     "output_type": "execute_result"
    }
   ],
   "source": [
    "cl4"
   ]
  },
  {
   "cell_type": "code",
   "execution_count": null,
   "metadata": {
    "collapsed": true
   },
   "outputs": [],
   "source": []
  }
 ],
 "metadata": {
  "kernelspec": {
   "display_name": "Python 3",
   "language": "python",
   "name": "python3"
  },
  "language_info": {
   "codemirror_mode": {
    "name": "ipython",
    "version": 3
   },
   "file_extension": ".py",
   "mimetype": "text/x-python",
   "name": "python",
   "nbconvert_exporter": "python",
   "pygments_lexer": "ipython3",
   "version": "3.5.1"
  }
 },
 "nbformat": 4,
 "nbformat_minor": 0
}
