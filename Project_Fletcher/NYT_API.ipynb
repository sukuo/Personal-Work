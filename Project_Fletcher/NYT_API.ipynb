{
 "cells": [
  {
   "cell_type": "code",
   "execution_count": null,
   "metadata": {
    "collapsed": false
   },
   "outputs": [],
   "source": [
    "import requests\n",
    "import json\n",
    "import pandas as pd\n",
    "import numpy as np\n",
    "import re\n",
    "from sklearn.feature_extraction.text import CountVectorizer\n",
    "from sklearn.cluster import KMeans\n",
    "from datetime import datetime\n",
    "from newspaper import Article"
   ]
  },
  {
   "cell_type": "code",
   "execution_count": null,
   "metadata": {
    "collapsed": false
   },
   "outputs": [],
   "source": [
    "params = {'api-key':\"692b06ab1a5646f2a30ecd21c35235a8\", 'q': \"oil price\", 'begin_date':20140610, 'page':1}\n",
    "url = requests.get('https://api.nytimes.com/svc/search/v2/articlesearch.json', params=params)\n",
    "data = json.loads(url.text)\n",
    "#data"
   ]
  },
  {
   "cell_type": "code",
   "execution_count": null,
   "metadata": {
    "collapsed": false
   },
   "outputs": [],
   "source": [
    "def get_text(i):\n",
    "    url = Article(i)\n",
    "    try:\n",
    "        url.download()\n",
    "        url.parse()\n",
    "    except:\n",
    "        return \"\"\n",
    "        pass\n",
    "    return url.text"
   ]
  },
  {
   "cell_type": "code",
   "execution_count": null,
   "metadata": {
    "collapsed": false
   },
   "outputs": [],
   "source": [
    "#g = data['response']['docs'][0]['web_url']"
   ]
  },
  {
   "cell_type": "code",
   "execution_count": null,
   "metadata": {
    "collapsed": true
   },
   "outputs": [],
   "source": [
    "url_list = []\n",
    "content_list = []\n",
    "pub_date_list = []\n",
    "headline_list = []\n",
    "for i in range(1,101):\n",
    "    params = {'api-key': '692b06ab1a5646f2a30ecd21c35235a8', 'q': \"oil price\", 'begin_date': 20140601,\n",
    "              'end_date': 20150601  , 'page':_}\n",
    "    params['page'] = i\n",
    "    url = requests.get('https://api.nytimes.com/svc/search/v2/articlesearch.json', params=params)\n",
    "    data = json.loads(url.text)\n",
    "    for t in range(9):\n",
    "        indexer = data['response']['docs'][t]\n",
    "        article =  get_text(indexer['web_url'])\n",
    "        headline_list.append({'headline' : indexer['headline']['main']})\n",
    "        url_list.append({'url' : indexer['web_url']})\n",
    "        content_list.append({'content': [{'date' : datetime.strptime(indexer['pub_date'][:10], '%Y-%m-%d')},\n",
    "             {'snippet' : indexer['snippet']},\n",
    "             {'full_article' : article}]})"
   ]
  },
  {
   "cell_type": "code",
   "execution_count": null,
   "metadata": {
    "collapsed": true
   },
   "outputs": [],
   "source": [
    "for i in range(1,101):\n",
    "    params = {'api-key': '692b06ab1a5646f2a30ecd21c35235a8', 'q': \"oil price\", 'begin_date': 20150602,\n",
    "              'end_date': 20160101, 'page':_}\n",
    "    params['page'] = i\n",
    "    url = requests.get('https://api.nytimes.com/svc/search/v2/articlesearch.json', params=params)\n",
    "    data = json.loads(url.text)\n",
    "    for t in range(9):\n",
    "        indexer = data['response']['docs'][t]\n",
    "        article =  get_text(indexer['web_url'])\n",
    "        headline_list.append({'headline' : indexer['headline']['main']})\n",
    "        url_list.append({'url' : indexer['web_url']})\n",
    "        content_list.append({'content': [{'date' : datetime.strptime(indexer['pub_date'][:10], '%Y-%m-%d')},\n",
    "             {'snippet' : indexer['snippet']},\n",
    "             {'full_article' : article}]})"
   ]
  },
  {
   "cell_type": "code",
   "execution_count": null,
   "metadata": {
    "collapsed": true
   },
   "outputs": [],
   "source": [
    "for i in range(1,101):\n",
    "    params = {'api-key': '692b06ab1a5646f2a30ecd21c35235a8', 'q': \"oil price\", 'begin_date': 20160602,\n",
    "              'page':_}\n",
    "    params['page'] = i\n",
    "    url = requests.get('https://api.nytimes.com/svc/search/v2/articlesearch.json', params=params)\n",
    "    data = json.loads(url.text)\n",
    "    for t in range(9):\n",
    "        indexer = data['response']['docs'][t]\n",
    "        article =  get_text(indexer['web_url'])\n",
    "        headline_list.append({'headline' : indexer['headline']['main']})\n",
    "        url_list.append({'url' : indexer['web_url']})\n",
    "        content_list.append({'content': [{'date' : datetime.strptime(indexer['pub_date'][:10], '%Y-%m-%d')},\n",
    "             {'snippet' : indexer['snippet']},\n",
    "             {'full_article' : article}]})"
   ]
  },
  {
   "cell_type": "code",
   "execution_count": null,
   "metadata": {
    "collapsed": false
   },
   "outputs": [],
   "source": [
    "aws_load = { url_list[i]['url'] : content_list[i] for i in range(len(content_list))}"
   ]
  },
  {
   "cell_type": "code",
   "execution_count": null,
   "metadata": {
    "collapsed": false
   },
   "outputs": [],
   "source": [
    "for k ,v in aws_load.items():\n",
    "    print (k, v)\n",
    "    break"
   ]
  },
  {
   "cell_type": "code",
   "execution_count": null,
   "metadata": {
    "collapsed": false
   },
   "outputs": [],
   "source": [
    "counter = 0\n",
    "for i in range(len(content_list)):\n",
    "    if list(content_list[i]['content'][3].values()) == ['empty']:\n",
    "        counter+=1\n",
    "counter"
   ]
  },
  {
   "cell_type": "code",
   "execution_count": null,
   "metadata": {
    "collapsed": false
   },
   "outputs": [],
   "source": [
    "non_empty = len(url_list) - counter\n",
    "non_empty"
   ]
  },
  {
   "cell_type": "code",
   "execution_count": null,
   "metadata": {
    "collapsed": false
   },
   "outputs": [],
   "source": [
    "aws_copy = aws_load.copy()"
   ]
  },
  {
   "cell_type": "code",
   "execution_count": null,
   "metadata": {
    "collapsed": false
   },
   "outputs": [],
   "source": [
    "#values"
   ]
  },
  {
   "cell_type": "code",
   "execution_count": null,
   "metadata": {
    "collapsed": true
   },
   "outputs": [],
   "source": [
    "url_df = []\n",
    "pub_date = []\n",
    "headlines = []\n",
    "snippets = []\n",
    "articles = []\n",
    "\n",
    "for i in range(1,101):\n",
    "    params = {'api-key': '692b06ab1a5646f2a30ecd21c35235a8', 'q': \"oil price\", 'begin_date': 20140601,\n",
    "              'end_date': 20150601  , 'page':_}\n",
    "    params['page'] = i\n",
    "    url = requests.get('https://api.nytimes.com/svc/search/v2/articlesearch.json', params=params)\n",
    "    data = json.loads(url.text)\n",
    "    for t in range(9):\n",
    "        indexer = data['response']['docs'][t]\n",
    "        article =  get_text(indexer['web_url'])\n",
    "        url_df.append(indexer['web_url'])\n",
    "        pub_date.append(datetime.strptime(indexer['pub_date'][:10], '%Y-%m-%d'))\n",
    "        headlines.append(indexer['headline']['main'])\n",
    "        snippets.append(indexer['snippet'])\n",
    "        articles.append(article)\n",
    "#         content_list.append({'content': [{'date' : datetime.strptime(indexer['pub_date'][:10], '%Y-%m-%d')},\n",
    "#              {'headline' : indexer['headline']['main']},\n",
    "#              {'snippet' : indexer['snippet']},\n",
    "#              {'full_article' : article}]})"
   ]
  },
  {
   "cell_type": "code",
   "execution_count": null,
   "metadata": {
    "collapsed": true
   },
   "outputs": [],
   "source": [
    "for i in range(1,101):\n",
    "    params = {'api-key': '692b06ab1a5646f2a30ecd21c35235a8', 'q': \"oil price\", 'begin_date': 20150602,\n",
    "              'end_date': 20160101  , 'page':_}\n",
    "    params['page'] = i\n",
    "    url = requests.get('https://api.nytimes.com/svc/search/v2/articlesearch.json', params=params)\n",
    "    data = json.loads(url.text)\n",
    "    for t in range(9):\n",
    "        indexer = data['response']['docs'][t]\n",
    "        article =  get_text(indexer['web_url'])\n",
    "        url_df.append(indexer['web_url'])\n",
    "        pub_date.append(datetime.strptime(indexer['pub_date'][:10], '%Y-%m-%d'))\n",
    "        headlines.append(indexer['headline']['main'])\n",
    "        snippets.append(indexer['snippet'])\n",
    "        articles.append(article)"
   ]
  },
  {
   "cell_type": "code",
   "execution_count": null,
   "metadata": {
    "collapsed": true
   },
   "outputs": [],
   "source": [
    "for i in range(1,101):\n",
    "    params = {'api-key': '692b06ab1a5646f2a30ecd21c35235a8', 'q': \"oil price\", 'begin_date': 20160602,\n",
    "              'page':_}\n",
    "    params['page'] = i\n",
    "    url = requests.get('https://api.nytimes.com/svc/search/v2/articlesearch.json', params=params)\n",
    "    data = json.loads(url.text)\n",
    "    for t in range(9):\n",
    "        index1 = data['response']['docs'][t]\n",
    "        article =  get_text(index1['web_url'])\n",
    "        url_df.append(indexer['web_url'])\n",
    "        pub_date.append(datetime.strptime(indexer['pub_date'][:10], '%Y-%m-%d'))\n",
    "        headlines.append(indexer['headline']['main'])\n",
    "        snippets.append(indexer['snippet'])\n",
    "        articles.append(article)"
   ]
  },
  {
   "cell_type": "code",
   "execution_count": null,
   "metadata": {
    "collapsed": false
   },
   "outputs": [],
   "source": [
    "df = pd.DataFrame({'URL':np.array(url_df),\n",
    "                   'Pub_date':np.array(pub_date),\n",
    "                   'Healine':np.array(headlines),\n",
    "                   'Snippet':np.array(snippets),\n",
    "                   'Article':np.array(articles)})"
   ]
  },
  {
   "cell_type": "code",
   "execution_count": null,
   "metadata": {
    "collapsed": true
   },
   "outputs": [],
   "source": [
    "df_ne = df.drop(df[df.Article ==''].index)"
   ]
  },
  {
   "cell_type": "code",
   "execution_count": null,
   "metadata": {
    "collapsed": false
   },
   "outputs": [],
   "source": [
    "df.to_csv('NYT_df.csv')"
   ]
  }
 ],
 "metadata": {
  "kernelspec": {
   "display_name": "Python 3",
   "language": "python",
   "name": "python3"
  },
  "language_info": {
   "codemirror_mode": {
    "name": "ipython",
    "version": 3
   },
   "file_extension": ".py",
   "mimetype": "text/x-python",
   "name": "python",
   "nbconvert_exporter": "python",
   "pygments_lexer": "ipython3",
   "version": "3.5.1"
  }
 },
 "nbformat": 4,
 "nbformat_minor": 0
}
