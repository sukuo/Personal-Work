{
 "cells": [
  {
   "cell_type": "code",
   "execution_count": 54,
   "metadata": {
    "collapsed": true
   },
   "outputs": [],
   "source": [
    "import pandas as pd\n",
    "from datetime import datetime\n",
    "import re\n",
    "import numpy as np\n",
    "import pickle\n",
    "from pymongo import MongoClient\n",
    "import json"
   ]
  },
  {
   "cell_type": "code",
   "execution_count": 127,
   "metadata": {
    "collapsed": false
   },
   "outputs": [],
   "source": [
    "df = pd.read_csv('data.csv')\n",
    "clu1 = pd.read_csv('cluster1.csv')\n",
    "clu2 = pd.read_csv('cluster2.csv')\n",
    "clu3 = pd.read_csv('cluster3.csv')\n",
    "clu4 = pd.read_csv('cluster4.csv')\n",
    "clusters = [clu1, clu2, clu3, clu4]"
   ]
  },
  {
   "cell_type": "code",
   "execution_count": 128,
   "metadata": {
    "collapsed": false
   },
   "outputs": [],
   "source": [
    "df = pd.DataFrame(df['date\\tclose'].apply(lambda x: x.split('\\t')))"
   ]
  },
  {
   "cell_type": "code",
   "execution_count": 129,
   "metadata": {
    "collapsed": false
   },
   "outputs": [],
   "source": [
    "df['date'] = df['date\\tclose'].apply(lambda x: x[0])\n",
    "df['close'] = df['date\\tclose'].apply(lambda x: x[1])"
   ]
  },
  {
   "cell_type": "code",
   "execution_count": 130,
   "metadata": {
    "collapsed": false
   },
   "outputs": [],
   "source": [
    "df['date'] = pd.to_datetime(df['date']).apply(lambda x: datetime.strftime(x, '%d-%b-%y'))\n",
    "df.drop('date\\tclose', axis=1, inplace=True)"
   ]
  },
  {
   "cell_type": "code",
   "execution_count": 131,
   "metadata": {
    "collapsed": false
   },
   "outputs": [],
   "source": [
    "df1 = pd.DataFrame({'date':np.array(df['date'])[::-1],\n",
    "                   'price':np.array(df['close'])[::-1]})"
   ]
  },
  {
   "cell_type": "code",
   "execution_count": 132,
   "metadata": {
    "collapsed": false
   },
   "outputs": [],
   "source": [
    "df1['date'] = df1['date'].apply(lambda x: re.sub('0', '', x) if x[0][0] == '0' else x)\n",
    "#df1.head()"
   ]
  },
  {
   "cell_type": "code",
   "execution_count": 133,
   "metadata": {
    "collapsed": true
   },
   "outputs": [],
   "source": [
    "for i in clusters:\n",
    "    i.columns = ['word', 'count']"
   ]
  },
  {
   "cell_type": "code",
   "execution_count": 134,
   "metadata": {
    "collapsed": false
   },
   "outputs": [],
   "source": [
    "clu1_dict = {'compani':'companies', 'famili':'families', 'foundat':'foundation', 'advertis':'advertise', 'continu':'continue',\n",
    "            'stori':'stories', 'offshor':'offshore', 'servic':'service', 'countri':'countries', 'energi': 'energy',\n",
    "            'industri':'industries','energi':'energy','minut':'minute','averag':'average','produc': 'production',\n",
    "            'economi':'economics', 'econom':'economy','busi':'business','peopl':'people', 'consum':'consumer','increas':'increase',\n",
    "            'emiss':'emissions', 'chang':'change','climat':'climate','inflat':'inflation'}"
   ]
  },
  {
   "cell_type": "code",
   "execution_count": 135,
   "metadata": {
    "collapsed": false
   },
   "outputs": [],
   "source": [
    "for i in clusters:\n",
    "    i['word'] = i['word'].apply(lambda x: clu1_dict[x] if x in clu1_dict.keys() else x)"
   ]
  },
  {
   "cell_type": "code",
   "execution_count": 136,
   "metadata": {
    "collapsed": false
   },
   "outputs": [],
   "source": [
    "# clu4\n",
    "# print(182/1.3)"
   ]
  },
  {
   "cell_type": "code",
   "execution_count": 137,
   "metadata": {
    "collapsed": false
   },
   "outputs": [],
   "source": [
    "count1 = clu1['count'].tolist()\n",
    "count1 = [int(i/8) for i in count1]\n",
    "word1 = clu1['word'].tolist()\n",
    "c1 = dict(zip(word1, count1))\n",
    "#c1"
   ]
  },
  {
   "cell_type": "code",
   "execution_count": 138,
   "metadata": {
    "collapsed": false
   },
   "outputs": [
    {
     "data": {
      "text/plain": [
       "{'bank': 54,\n",
       " 'companies': 34,\n",
       " 'consumer': 35,\n",
       " 'continue': 41,\n",
       " 'economics': 43,\n",
       " 'economy': 32,\n",
       " 'expect': 37,\n",
       " 'growth': 37,\n",
       " 'increase': 34,\n",
       " 'inflation': 39,\n",
       " 'last': 46,\n",
       " 'market': 68,\n",
       " 'month': 52,\n",
       " 'oil': 93,\n",
       " 'percent': 137,\n",
       " 'price': 137,\n",
       " 'rate': 59,\n",
       " 'report': 40,\n",
       " 'state': 35,\n",
       " 'year': 82}"
      ]
     },
     "execution_count": 138,
     "metadata": {},
     "output_type": "execute_result"
    }
   ],
   "source": [
    "count2 = clu2['count'].tolist()\n",
    "count2 = [int(i/4) for i in count2]\n",
    "word2 = clu2['word'].tolist()\n",
    "c2 = dict(zip(word2, count2))\n",
    "c2"
   ]
  },
  {
   "cell_type": "code",
   "execution_count": 140,
   "metadata": {
    "collapsed": false
   },
   "outputs": [
    {
     "data": {
      "text/plain": [
       "{'cent': 37,\n",
       " 'close': 29,\n",
       " 'companies': 32,\n",
       " 'crude': 21,\n",
       " 'dow': 27,\n",
       " 'fell': 47,\n",
       " 'gain': 22,\n",
       " 'index': 27,\n",
       " 'industries': 21,\n",
       " 'investor': 23,\n",
       " 'market': 30,\n",
       " 'minute': 20,\n",
       " 'oil': 45,\n",
       " 'p': 28,\n",
       " 'percent': 139,\n",
       " 'point': 31,\n",
       " 'price': 44,\n",
       " 'rose': 48,\n",
       " 'stock': 53,\n",
       " 'year': 38}"
      ]
     },
     "execution_count": 140,
     "metadata": {},
     "output_type": "execute_result"
    }
   ],
   "source": [
    "count3 = clu3['count'].tolist()\n",
    "count3 = [int(i/17) for i in count3]\n",
    "word3 = clu3['word'].tolist()\n",
    "c3 = dict(zip(word3, count3))\n",
    "c3"
   ]
  },
  {
   "cell_type": "code",
   "execution_count": 141,
   "metadata": {
    "collapsed": false
   },
   "outputs": [
    {
     "data": {
      "text/plain": [
       "{'carbon': 53,\n",
       " 'change': 37,\n",
       " 'climate': 54,\n",
       " 'companies': 31,\n",
       " 'could': 26,\n",
       " 'emissions': 25,\n",
       " 'energy': 50,\n",
       " 'fuel': 39,\n",
       " 'ga': 67,\n",
       " 'like': 25,\n",
       " 'oil': 79,\n",
       " 'price': 71,\n",
       " 'state': 25,\n",
       " 'tax': 56,\n",
       " 'use': 24,\n",
       " 'would': 66,\n",
       " 'year': 34}"
      ]
     },
     "execution_count": 141,
     "metadata": {},
     "output_type": "execute_result"
    }
   ],
   "source": [
    "count4 = clu4['count'].tolist()\n",
    "count4 = [int(i/2.3) for i in count4]\n",
    "word4 = clu4['word'].tolist()\n",
    "c4 = dict(zip(word4, count4))\n",
    "c4"
   ]
  },
  {
   "cell_type": "markdown",
   "metadata": {},
   "source": [
    "{\"text\":\"study\",\"size\":40}"
   ]
  },
  {
   "cell_type": "code",
   "execution_count": 67,
   "metadata": {
    "collapsed": false
   },
   "outputs": [],
   "source": [
    "text_list2 = [x for x in c2.keys()]\n",
    "size_list2 = [c2[x] for x in c2.keys()]\n",
    "ts2_dfa = pd.DataFrame({'text':text_list2, 'size':size_list2},columns=['text','size'])\n",
    "ts2_json = ts2_df.to_json(orient='records')"
   ]
  },
  {
   "cell_type": "code",
   "execution_count": 68,
   "metadata": {
    "collapsed": false
   },
   "outputs": [],
   "source": [
    "text_list1 = [x for x in c1.keys()]\n",
    "size_list1 = [c1[x] for x in c1.keys()]\n",
    "ts1_dfa = pd.DataFrame({'text':text_list1, 'size':size_list1},columns=['text','size'])\n",
    "ts1_json = ts1_df.to_json(orient='records') #'split','records','index','columns','values'"
   ]
  },
  {
   "cell_type": "code",
   "execution_count": 142,
   "metadata": {
    "collapsed": false
   },
   "outputs": [],
   "source": [
    "text_list4 = [x for x in c4.keys()]\n",
    "size_list4 = [c4[x] for x in c4.keys()]\n",
    "ts4_dfa = pd.DataFrame({'text':text_list4, 'size':size_list4},columns=['text','size'])\n",
    "ts4_json = ts4_dfa.to_json(orient='records') #'split','records','index','columns','values'"
   ]
  },
  {
   "cell_type": "code",
   "execution_count": 98,
   "metadata": {
    "collapsed": false
   },
   "outputs": [],
   "source": [
    "text_list3 = [x for x in c3.keys()]\n",
    "size_list3 = [c3[x] for x in c3.keys()]\n",
    "ts3_dfa = pd.DataFrame({'text':text_list3, 'size':size_list3},columns=['text','size'])\n",
    "ts3_json = ts3_df.to_json(orient='records')"
   ]
  },
  {
   "cell_type": "code",
   "execution_count": 143,
   "metadata": {
    "collapsed": false
   },
   "outputs": [
    {
     "data": {
      "text/plain": [
       "'[{\"text\":\"climate\",\"size\":54},{\"text\":\"emissions\",\"size\":25},{\"text\":\"carbon\",\"size\":53},{\"text\":\"would\",\"size\":66},{\"text\":\"use\",\"size\":24},{\"text\":\"energy\",\"size\":50},{\"text\":\"year\",\"size\":34},{\"text\":\"price\",\"size\":71},{\"text\":\"companies\",\"size\":31},{\"text\":\"like\",\"size\":25},{\"text\":\"fuel\",\"size\":39},{\"text\":\"tax\",\"size\":56},{\"text\":\"change\",\"size\":37},{\"text\":\"ga\",\"size\":67},{\"text\":\"oil\",\"size\":79},{\"text\":\"could\",\"size\":26},{\"text\":\"state\",\"size\":25}]'"
      ]
     },
     "execution_count": 143,
     "metadata": {},
     "output_type": "execute_result"
    }
   ],
   "source": [
    "ts4_json"
   ]
  },
  {
   "cell_type": "code",
   "execution_count": 74,
   "metadata": {
    "collapsed": true
   },
   "outputs": [],
   "source": [
    "clouds = {\"cloud1\":ts1_json, \"cloud2\":ts2_json, \"cloud3\":ts3_json, \"cloud4\":ts4_json }"
   ]
  },
  {
   "cell_type": "code",
   "execution_count": 76,
   "metadata": {
    "collapsed": true
   },
   "outputs": [],
   "source": [
    "with open('final_cloud.json', 'w') as outfile:\n",
    "    json.dump(clouds, outfile)"
   ]
  },
  {
   "cell_type": "markdown",
   "metadata": {},
   "source": [
    "import pickle\n",
    "   3 \n",
    "   4 favorite_color = { \"lion\": \"yellow\", \"kitty\": \"red\" }\n",
    "   5 \n",
    "   6 pickle.dump( favorite_color, open( \"save.p\", \"wb\" ) )"
   ]
  },
  {
   "cell_type": "code",
   "execution_count": 50,
   "metadata": {
    "collapsed": true
   },
   "outputs": [],
   "source": [
    "pickle.dump(clouds, open(\"clouds.pkl\", \"wb\"))"
   ]
  },
  {
   "cell_type": "code",
   "execution_count": 71,
   "metadata": {
    "collapsed": false
   },
   "outputs": [],
   "source": [
    "with open('word_cloud1.json', 'w') as outfile:\n",
    "    json.dump(ts3_json, outfile)\n",
    "    \n",
    "with open('word_cloud2.json', 'w') as outfile:\n",
    "    json.dump(ts2_json, outfile)\n",
    "    \n",
    "with open('word_cloud3.json', 'w') as outfile:\n",
    "    json.dump(ts3_json, outfile)\n",
    "    \n",
    "with open('word_cloud4.json', 'w') as outfile:\n",
    "    json.dump(ts4_json, outfile)"
   ]
  },
  {
   "cell_type": "code",
   "execution_count": null,
   "metadata": {
    "collapsed": true
   },
   "outputs": [],
   "source": [
    "# import json\n",
    "# with open('data.txt', 'w') as outfile:\n",
    "#     json.dump(data, outfile)"
   ]
  },
  {
   "cell_type": "code",
   "execution_count": null,
   "metadata": {
    "collapsed": true
   },
   "outputs": [],
   "source": [
    "# client = MongoClient()\n",
    "# db = client.food_db\n",
    "# # Our collection: \n",
    "# reviews_9 = db.food_collections9\n",
    "\n",
    "# [11:21]  \n",
    "# ```\n",
    "# client = MongoClient()\n",
    "# db = client.food_db\n",
    "# # Our collection: \n",
    "# reviews_9 = db.food_collections9"
   ]
  },
  {
   "cell_type": "code",
   "execution_count": null,
   "metadata": {
    "collapsed": true
   },
   "outputs": [],
   "source": [
    "# from pymongo import MongoClient\n",
    "# client = MongoClient()\n",
    "\n",
    "# import pickle\n",
    "# with open('heavy_metal_parsed.pkl', 'r') as infile:\n",
    "#     reviews = pickle.load(infile)\n",
    "# reviews[0].keys()\n",
    "# reviews[0]\n",
    "# len(reviews)\n",
    "\n",
    "# hmm = client.my_cool_db.hmm\n",
    "# hmm.insert(reviews[0])"
   ]
  },
  {
   "cell_type": "code",
   "execution_count": 81,
   "metadata": {
    "collapsed": false
   },
   "outputs": [],
   "source": [
    "client = MongoClient()\n",
    "db = client.cloud_db\n",
    "clouds = db.clouds_db"
   ]
  },
  {
   "cell_type": "code",
   "execution_count": 82,
   "metadata": {
    "collapsed": false
   },
   "outputs": [
    {
     "data": {
      "text/plain": [
       "Collection(Database(MongoClient(host=['localhost:27017'], document_class=dict, tz_aware=False, connect=True), 'cloud_db'), 'clouds_db')"
      ]
     },
     "execution_count": 82,
     "metadata": {},
     "output_type": "execute_result"
    }
   ],
   "source": [
    "clouds"
   ]
  },
  {
   "cell_type": "code",
   "execution_count": 79,
   "metadata": {
    "collapsed": false
   },
   "outputs": [
    {
     "name": "stdout",
     "output_type": "stream",
     "text": [
      "Article_text.ipynb        cluster2.numbers          new_data.csv\r\n",
      "NYT_API.ipynb             cluster3.csv              \u001b[34moil_price_d3\u001b[m\u001b[m\r\n",
      "NYT_df.csv                cluster4.csv              reformat_d3_data.ipynb\r\n",
      "Text_analysis-Copy1.ipynb \u001b[34mcluster_text\u001b[m\u001b[m              test.csv\r\n",
      "Text_analysis.ipynb       data.csv                  word_cloud1.json\r\n",
      "clouds.json               final_cloud.json          word_cloud2.json\r\n",
      "clouds.pkl                formatted_data.csv        word_cloud3.json\r\n",
      "cluster1.csv              index.html                word_cloud4.json\r\n",
      "cluster2.csv              \u001b[34mmulti-line_d3\u001b[m\u001b[m             word_clouds.json\r\n"
     ]
    }
   ],
   "source": [
    "!ls"
   ]
  },
  {
   "cell_type": "code",
   "execution_count": 80,
   "metadata": {
    "collapsed": false
   },
   "outputs": [
    {
     "name": "stdout",
     "output_type": "stream",
     "text": [
      "\r",
      "final_cloud.json                                0%    0     0.0KB/s   --:-- ETA\r",
      "final_cloud.json                              100% 2752     2.7KB/s   00:00    \r\n"
     ]
    }
   ],
   "source": [
    "!scp final_cloud.json sukuo_machine:~"
   ]
  },
  {
   "cell_type": "code",
   "execution_count": null,
   "metadata": {
    "collapsed": true
   },
   "outputs": [],
   "source": []
  }
 ],
 "metadata": {
  "kernelspec": {
   "display_name": "Python 3",
   "language": "python",
   "name": "python3"
  },
  "language_info": {
   "codemirror_mode": {
    "name": "ipython",
    "version": 3
   },
   "file_extension": ".py",
   "mimetype": "text/x-python",
   "name": "python",
   "nbconvert_exporter": "python",
   "pygments_lexer": "ipython3",
   "version": "3.5.1"
  }
 },
 "nbformat": 4,
 "nbformat_minor": 0
}
