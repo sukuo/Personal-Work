{
 "cells": [
  {
   "cell_type": "code",
   "execution_count": 1,
   "metadata": {
    "collapsed": true
   },
   "outputs": [],
   "source": [
    "from newspaper import Article"
   ]
  },
  {
   "cell_type": "raw",
   "metadata": {},
   "source": [
    "\n",
    ">>> url = 'http://www.bbc.co.uk/zhongwen/simp/chinese_news/2012/12/121210_hongkong_politics.shtml'\n",
    "\n",
    ">>> a = Article(url, language='zh') # Chinese\n",
    "\n",
    ">>> a.download()\n",
    ">>> a.parse()"
   ]
  },
  {
   "cell_type": "code",
   "execution_count": 3,
   "metadata": {
    "collapsed": false
   },
   "outputs": [],
   "source": [
    "t = 'http://www.nytimes.com/2016/08/10/us/politics/donald-trump-hillary-clinton.html?hp&action=click&pgtype=\\\n",
    "Homepage&clickSource=story-heading&module=first-column-region&region=top-news&WT.nav=top-news&_r=0'\n",
    "\n",
    "# a = Article(url, langauge='en')\n",
    "# a.download()\n",
    "# a.parse()\n",
    "#print(a.text)"
   ]
  },
  {
   "cell_type": "code",
   "execution_count": 4,
   "metadata": {
    "collapsed": false
   },
   "outputs": [],
   "source": [
    "nyt_urls = [t]"
   ]
  },
  {
   "cell_type": "code",
   "execution_count": 5,
   "metadata": {
    "collapsed": false
   },
   "outputs": [],
   "source": [
    "from newspaper import Article\n",
    "\n",
    "def parse_article(urls):\n",
    "    for url in urls:\n",
    "        url = Article(url, langauge='en')\n",
    "        url.download()\n",
    "        return url.parse()\n",
    "        "
   ]
  },
  {
   "cell_type": "code",
   "execution_count": 6,
   "metadata": {
    "collapsed": false
   },
   "outputs": [
    {
     "name": "stdout",
     "output_type": "stream",
     "text": [
      "Paul D. Ryan, the Republican House speaker who has had a tense relationship with Mr. Trump, told reporters on Tuesday night that the remarks sounded “like a joke gone bad.”\n",
      "\n",
      "He added: “You should never joke about that. I hope he clears it up quickly.”\n",
      "\n",
      "Mr. Trump and his campaign did not treat his remark as a joke; instead, they insisted he was merely urging gun rights supporters to vote as a bloc against Mrs. Clinton. “The Second Amendment people have tremendous power because they are so united,” he told a CBS affiliate in North Carolina late Tuesday.\n",
      "\n",
      "In an interview with Fox News, Mr. Trump grew adamant. “There can be no other interpretation,” he said, adding, “I mean, give me a break.”\n",
      "\n",
      "But at his rally earlier in the day, Mr. Trump had actually been discussing what could happen once Mrs. Clinton was president, not before the election.\n",
      "\n",
      "And even many in the audience seemed caught by surprise. Video showed a man just over Mr. Trump’s shoulder go slack-jawed and turn to his companion, apparently in disbelief, when Mr. Trump made the remark.\n",
      "\n",
      "The uproar over Mr. Trump’s off-the-cuff remark came as his campaign has been faced with a series of public opinion surveys showing him quickly losing ground to Mrs. Clinton, and just a day after his campaign called his delivery of a prepared economic speech in Detroit, evidence of a newfound political discipline.\n",
      "\n",
      "Advertisement Continue reading the main story\n",
      "\n",
      "Mr. Trump’s fellow opponents of gun control stood by him, focusing on his depiction of Mrs. Clinton as a threat to the Second Amendment.\n",
      "\n",
      "“Donald Trump is absolutely correct,” said Jennifer Baker, a strategist for the National Rifle Association. “If Hillary Clinton is elected, there is nothing we can do to stop her from nominating an anti-gun Supreme Court justice who will vote to overturn the individual right of law-abiding citizens to own a gun in their home for protection.”\n",
      "\n",
      "The association also began running a new commercial characterizing Mrs. Clinton as “one of the wealthiest women in politics” and calling her a hypocrite for favoring gun restrictions while having been “protected by armed guards for 30 years.” Her gun policies, the ad says, would leave ordinary people “defenseless.”\n",
      "\n",
      "Veiled references to gun violence have tripped up candidates before. In 2010, Sharron Angle, a Nevada Republican challenging the Senate majority leader at the time, Harry Reid, severely damaged her unsuccessful candidacy while discussing the importance of the Second Amendment. “When you read that Constitution and the founding fathers, they intended this to stop tyranny,” she said, adding: “It’s to defend ourselves. And you know, I’m hoping that we’re not getting to Second Amendment remedies. I hope the vote will be the cure for the Harry Reid problems.”\n",
      "\n",
      "Mrs. Clinton herself learned the hard way: In June 2008, shortly before she conceded defeat in her Democratic primary contest with Barack Obama, she defended her perseverance in a way that critics said alluded to the possibility that Mr. Obama could be gunned down. “We all remember Bobby Kennedy was assassinated in June in California,” Mrs. Clinton said. She apologized hours later.\n",
      "\n",
      "Mr. Trump did not repeat his violent insinuation at a later event in Fayetteville, N.C.\n",
      "\n",
      "Video\n",
      "\n",
      "But Senator Chris Murphy, Democrat of Connecticut, who has championed gun control since the Sandy Hook mass shooting in his state, called Mr. Trump’s remarks “disgusting and embarrassing and sad.”\n",
      "\n",
      "“This isn’t play,” Mr. Murphy wrote. “Unstable people with powerful guns and an unhinged hatred for Hillary are listening to you, @realDonaldTrump.”\n",
      "\n",
      "Advertisement Continue reading the main story\n",
      "\n",
      "The condemnation from Mr. Trump’s critics across the political spectrum was deep. On Twitter, the conservative writer John Podhoretz, in a series of posts, wrote that Mr. Trump had implied that all Second Amendment supporters were “potential assassins.” He added that a president’s words “CANNOT MEAN NOTHING. They are the most important words spoken in the world.”\n",
      "\n",
      "And Representative Eric Swalwell, Democrat of California, wrote on Twitter that the Secret Service should investigate Mr. Trump for making a death threat against Mrs. Clinton: “Donald Trump suggested someone kill Sec. Clinton. We must take people at their word.”\n",
      "\n",
      "A Secret Service spokesman, who refused to identify himself, said that the agency was “aware of the comments” but did not elaborate.\n",
      "\n",
      "Others seized on Mr. Trump’s remark as an occasion for mockery. Senator Elizabeth Warren, Democrat of Massachusetts, wrote on Twitter that Mr. Trump “makes death threats because he’s a pathetic coward who can’t handle the fact that he’s losing to a girl.”\n",
      "\n",
      "Mr. Trump’s campaign events have grown increasingly vitriolic, with angry chants and jeers directed at Mrs. Clinton. People at his rallies have, with greater frequency, loudly called for violence against Mrs. Clinton — catcalls that Mr. Trump has generally let pass.\n",
      "\n",
      "And on Saturday, Mr. Trump praised his New Hampshire state co-chairman, State Representative Al Baldasaro, who said recently that Mrs. Clinton deserved to face a firing squad over the F.B.I.’s investigation of her use of a private email server while she was secretary of state.\n",
      "\n",
      "In Wilmington on Tuesday, chants of “lock her up,” which first gained traction during the Republican National Convention, were loud and frequent before Mr. Trump took the stage. But one speaker, former Mayor Rudolph W. Giuliani of New York, tried to tamp those down.\n",
      "\n",
      "“No, no, we’re here to beat her, and keep her out of Washington,” Mr. Giuliani said. He was interrupted by the same chant minutes later.\n"
     ]
    }
   ],
   "source": [
    "for i in url_list:\n",
    "    print(i)\n",
    "    break"
   ]
  },
  {
   "cell_type": "code",
   "execution_count": null,
   "metadata": {
    "collapsed": true
   },
   "outputs": [],
   "source": []
  }
 ],
 "metadata": {
  "kernelspec": {
   "display_name": "Python 3",
   "language": "python",
   "name": "python3"
  },
  "language_info": {
   "codemirror_mode": {
    "name": "ipython",
    "version": 3
   },
   "file_extension": ".py",
   "mimetype": "text/x-python",
   "name": "python",
   "nbconvert_exporter": "python",
   "pygments_lexer": "ipython3",
   "version": "3.5.1"
  }
 },
 "nbformat": 4,
 "nbformat_minor": 0
}
