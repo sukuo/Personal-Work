{
 "cells": [
  {
   "cell_type": "code",
   "execution_count": 3,
   "metadata": {
    "collapsed": false
   },
   "outputs": [
    {
     "name": "stderr",
     "output_type": "stream",
     "text": [
      "/Users/sunkuo/anaconda/lib/python3.5/site-packages/nltk/twitter/__init__.py:20: UserWarning: The twython library has not been installed. Some functionality from the twitter package will not be available.\n",
      "  warnings.warn(\"The twython library has not been installed. \"\n"
     ]
    }
   ],
   "source": [
    "import pandas as pd\n",
    "import numpy as np\n",
    "import re\n",
    "import collections\n",
    "from sklearn.feature_extraction.text import CountVectorizer\n",
    "from sklearn.cluster import KMeans\n",
    "import nltk\n",
    "import matplotlib.pyplot as plt\n",
    "from nltk.corpus import stopwords\n",
    "from sklearn.decomposition import PCA\n",
    "from textblob import TextBlob\n",
    "from nltk.sentiment.vader import SentimentIntensityAnalyzer\n",
    "%matplotlib inline"
   ]
  },
  {
   "cell_type": "code",
   "execution_count": 2,
   "metadata": {
    "collapsed": false
   },
   "outputs": [
    {
     "ename": "ImportError",
     "evalue": "No module named 'xgboost'",
     "output_type": "error",
     "traceback": [
      "\u001b[0;31m---------------------------------------------------------------------------\u001b[0m",
      "\u001b[0;31mImportError\u001b[0m                               Traceback (most recent call last)",
      "\u001b[0;32m<ipython-input-2-745aa3a2d734>\u001b[0m in \u001b[0;36m<module>\u001b[0;34m()\u001b[0m\n\u001b[0;32m----> 1\u001b[0;31m \u001b[0;32mimport\u001b[0m \u001b[0mxgboost\u001b[0m \u001b[0;32mas\u001b[0m \u001b[0mxgb\u001b[0m\u001b[0;34m\u001b[0m\u001b[0m\n\u001b[0m",
      "\u001b[0;31mImportError\u001b[0m: No module named 'xgboost'"
     ]
    }
   ],
   "source": []
  },
  {
   "cell_type": "code",
   "execution_count": 4,
   "metadata": {
    "collapsed": true
   },
   "outputs": [],
   "source": [
    "df = pd.read_csv('NYT_df.csv')"
   ]
  },
  {
   "cell_type": "code",
   "execution_count": 5,
   "metadata": {
    "collapsed": true
   },
   "outputs": [],
   "source": [
    "df['Article'] = df['Article'].apply(lambda x:str(x))"
   ]
  },
  {
   "cell_type": "code",
   "execution_count": 6,
   "metadata": {
    "collapsed": false
   },
   "outputs": [],
   "source": [
    "df_ne = df.drop(df[df.Article =='nan'].index)"
   ]
  },
  {
   "cell_type": "code",
   "execution_count": 7,
   "metadata": {
    "collapsed": true
   },
   "outputs": [],
   "source": [
    "df_ne['polarity'] = df_ne['Article'].apply(lambda x: TextBlob(x).sentiment[0])\n",
    "df_ne['subjectivity'] = df_ne['Article'].apply(lambda x: TextBlob(x).sentiment[1])"
   ]
  },
  {
   "cell_type": "code",
   "execution_count": 8,
   "metadata": {
    "collapsed": true
   },
   "outputs": [],
   "source": [
    "df_ne['Article'] = df_ne['Article'].apply(lambda x: re.sub('((\\\\n)|(/\\\\n)+)', ' ', x)).apply(lambda x: re.sub('[^A-Za-z]+', ' ', x))"
   ]
  },
  {
   "cell_type": "code",
   "execution_count": 9,
   "metadata": {
    "collapsed": false
   },
   "outputs": [],
   "source": [
    "df_ne.drop('Unnamed: 0', axis=1, inplace=True)"
   ]
  },
  {
   "cell_type": "code",
   "execution_count": 10,
   "metadata": {
    "collapsed": false
   },
   "outputs": [],
   "source": [
    "vectorizer = CountVectorizer(stop_words='english')\n",
    "X = vectorizer.fit_transform(df_ne.Article) "
   ]
  },
  {
   "cell_type": "code",
   "execution_count": 11,
   "metadata": {
    "collapsed": false
   },
   "outputs": [
    {
     "data": {
      "text/plain": [
       "(594, 19131)"
      ]
     },
     "execution_count": 11,
     "metadata": {},
     "output_type": "execute_result"
    }
   ],
   "source": [
    "type(X)\n",
    "X.shape"
   ]
  },
  {
   "cell_type": "code",
   "execution_count": 12,
   "metadata": {
    "collapsed": false
   },
   "outputs": [],
   "source": [
    "pca = PCA(n_components=(X.shape[1]))\n",
    "pca_x = pca.fit_transform(X.toarray())\n",
    "pca_x.shape"
   ]
  },
  {
   "cell_type": "code",
   "execution_count": 13,
   "metadata": {
    "collapsed": false
   },
   "outputs": [
    {
     "data": {
      "text/plain": [
       "(594, 594)"
      ]
     },
     "execution_count": 13,
     "metadata": {},
     "output_type": "execute_result"
    }
   ],
   "source": [
    "pca_x.shape"
   ]
  },
  {
   "cell_type": "code",
   "execution_count": 98,
   "metadata": {
    "collapsed": false
   },
   "outputs": [
    {
     "name": "stderr",
     "output_type": "stream",
     "text": [
      "/Users/sunkuo/anaconda/lib/python3.5/site-packages/sklearn/utils/validation.py:420: DataConversionWarning: Data with input dtype int64 was converted to float64.\n",
      "  warnings.warn(msg, DataConversionWarning)\n"
     ]
    }
   ],
   "source": [
    "km_cluster = KMeans(n_clusters=3, init='k-means++', n_init=10)\n",
    "kmeans_array = km_cluster.fit_transform(X)\n",
    "clusters_array = km_cluster.predict(X)\n",
    "df_ne['cluster'] = clusters_array"
   ]
  },
  {
   "cell_type": "code",
   "execution_count": 99,
   "metadata": {
    "collapsed": false
   },
   "outputs": [],
   "source": [
    "km_cluster1 = KMeans(n_clusters=2, init='k-means++', n_init=25)\n",
    "kmeans_pca_array = km_cluster1.fit_transform(pca_x)\n",
    "pca_clusters_array = km_cluster1.predict(pca_x)\n",
    "df_ne['pca_cluster'] = pca_clusters_array\n"
   ]
  },
  {
   "cell_type": "code",
   "execution_count": 14,
   "metadata": {
    "collapsed": false
   },
   "outputs": [],
   "source": [
    "n_inertia = []\n",
    "for i in range(1,16):\n",
    "    km = KMeans(n_clusters = i, init = 'k-means++', n_init=25)\n",
    "    kmeans_pca_array = km.fit_transform(pca_x)\n",
    "    pca_clusters_array = km.predict(pca_x)\n",
    "    inertia = km.inertia_\n",
    "    n_inertia.append(inertia)"
   ]
  },
  {
   "cell_type": "code",
   "execution_count": 18,
   "metadata": {
    "collapsed": false
   },
   "outputs": [
    {
     "data": {
      "text/plain": [
       "<matplotlib.text.Text at 0x11ade7550>"
      ]
     },
     "execution_count": 18,
     "metadata": {},
     "output_type": "execute_result"
    },
    {
     "data": {
      "image/png": "[encoded data removed]",
      "text/plain": [
       "<matplotlib.figure.Figure at 0x11bba09e8>"
      ]
     },
     "metadata": {},
     "output_type": "display_data"
    }
   ],
   "source": [
    "plt.plot(range(1,16),n_inertia)\n",
    "plt.title('Inertia Plot')\n",
    "plt.xlabel('No. Clusters')"
   ]
  },
  {
   "cell_type": "code",
   "execution_count": 102,
   "metadata": {
    "collapsed": false
   },
   "outputs": [],
   "source": [
    "km_cluster1 = KMeans(n_clusters=4, init='k-means++', n_init=25)\n",
    "kmeans_pca_array = km_cluster1.fit_transform(pca_x)\n",
    "pca_clusters_array = km_cluster1.predict(pca_x)\n",
    "df_ne['pca_cluster'] = pca_clusters_array"
   ]
  },
  {
   "cell_type": "code",
   "execution_count": 103,
   "metadata": {
    "collapsed": false
   },
   "outputs": [
    {
     "data": {
      "text/plain": [
       "3    310\n",
       "1    157\n",
       "2    126\n",
       "0      1\n",
       "Name: pca_cluster, dtype: int64"
      ]
     },
     "execution_count": 103,
     "metadata": {},
     "output_type": "execute_result"
    }
   ],
   "source": [
    "df_ne['pca_cluster'].value_counts()"
   ]
  },
  {
   "cell_type": "code",
   "execution_count": 75,
   "metadata": {
    "collapsed": false
   },
   "outputs": [],
   "source": [
    "#df_ne.head(2)"
   ]
  },
  {
   "cell_type": "code",
   "execution_count": 344,
   "metadata": {
    "collapsed": false
   },
   "outputs": [],
   "source": [
    "#plt.hist(df_ne['polarity'])"
   ]
  },
  {
   "cell_type": "code",
   "execution_count": 343,
   "metadata": {
    "collapsed": false
   },
   "outputs": [],
   "source": [
    "#plt.hist(df_ne['subjectivity'])"
   ]
  },
  {
   "cell_type": "code",
   "execution_count": 342,
   "metadata": {
    "collapsed": false
   },
   "outputs": [],
   "source": [
    "#sorted(np.array(df_ne['Pub_date']))"
   ]
  },
  {
   "cell_type": "code",
   "execution_count": 89,
   "metadata": {
    "collapsed": true
   },
   "outputs": [],
   "source": [
    "def cluster_words(cluster_num, array):\n",
    "    stemmer = nltk.stem.porter.PorterStemmer()\n",
    "    tmp = ''\n",
    "    stop = stopwords.words('english')\n",
    "    stop.extend(('said', 'also'))\n",
    "    for i in df_ne[array == cluster_num]['Article']:\n",
    "        tmp = tmp + ' '  + i.lower()\n",
    "    words = nltk.word_tokenize(tmp)\n",
    "    stopwordsfree = [stemmer.stem(word) for word in words if word not in stop]\n",
    "    return pd.Series(stopwordsfree).value_counts()"
   ]
  },
  {
   "cell_type": "code",
   "execution_count": 58,
   "metadata": {
    "collapsed": false
   },
   "outputs": [],
   "source": [
    "#cluster_words(0, df_ne['cluster'])[:20]"
   ]
  },
  {
   "cell_type": "code",
   "execution_count": 142,
   "metadata": {
    "collapsed": false
   },
   "outputs": [],
   "source": [
    "#cluster_words(1)[:20]"
   ]
  },
  {
   "cell_type": "code",
   "execution_count": 145,
   "metadata": {
    "collapsed": false
   },
   "outputs": [],
   "source": [
    "#cluster_words(2)[:20]"
   ]
  },
  {
   "cell_type": "code",
   "execution_count": 146,
   "metadata": {
    "collapsed": false
   },
   "outputs": [],
   "source": [
    "#cluster_words(3)[:20]"
   ]
  },
  {
   "cell_type": "code",
   "execution_count": 147,
   "metadata": {
    "collapsed": false
   },
   "outputs": [],
   "source": [
    "#cluster_words(4)[:20]"
   ]
  },
  {
   "cell_type": "markdown",
   "metadata": {
    "collapsed": true
   },
   "source": [
    "** ========================================================================================================= **"
   ]
  },
  {
   "cell_type": "code",
   "execution_count": 339,
   "metadata": {
    "collapsed": false,
    "scrolled": true
   },
   "outputs": [],
   "source": [
    "#cluster_words(0, df_ne['pca_cluster'])[:50]"
   ]
  },
  {
   "cell_type": "code",
   "execution_count": 338,
   "metadata": {
    "collapsed": false,
    "scrolled": true
   },
   "outputs": [],
   "source": [
    "#cluster_words(1, df_ne['pca_cluster'])[:50]"
   ]
  },
  {
   "cell_type": "code",
   "execution_count": 104,
   "metadata": {
    "collapsed": false
   },
   "outputs": [],
   "source": [
    "def word_counter(cluster_num, array):\n",
    "    stemmer = nltk.stem.porter.PorterStemmer()\n",
    "    tmp = ''\n",
    "    stop = stopwords.words('english')\n",
    "    stop.extend(('said', 'also'))\n",
    "    for i in df_ne[array == cluster_num]['Article']:\n",
    "        tmp = tmp + ' '  + i.lower()\n",
    "    words = nltk.word_tokenize(tmp)\n",
    "    stopwordsfree = [stemmer.stem(word) for word in words if word not in stop]\n",
    "    return sorted(collections.Counter(stopwordsfree), key = (lambda x: x[1]))"
   ]
  },
  {
   "cell_type": "code",
   "execution_count": 340,
   "metadata": {
    "collapsed": false,
    "scrolled": true
   },
   "outputs": [],
   "source": [
    "#sorted(word_counter(0, df_ne['pca_cluster']).items(), key=lambda x: x[1], reverse=True)[:50]"
   ]
  },
  {
   "cell_type": "code",
   "execution_count": 341,
   "metadata": {
    "collapsed": false,
    "scrolled": true
   },
   "outputs": [],
   "source": [
    "#sorted(word_counter(1, df_ne['pca_cluster']).items(), key=lambda x: x[1], reverse=True)[:50]"
   ]
  },
  {
   "cell_type": "code",
   "execution_count": 105,
   "metadata": {
    "collapsed": false
   },
   "outputs": [
    {
     "name": "stdout",
     "output_type": "stream",
     "text": [
      "range(0, 263)\n",
      "263\n"
     ]
    },
    {
     "data": {
      "image/png": "[encoded data removed]",
      "text/plain": [
       "<matplotlib.figure.Figure at 0x11e81ab70>"
      ]
     },
     "metadata": {},
     "output_type": "display_data"
    }
   ],
   "source": [
    "sentiment_df = pd.DataFrame(df_ne.groupby(['Pub_date'])['polarity'].mean())\n",
    "plt.scatter(range(len(sentiment_df)), sentiment_df['polarity'])\n",
    "print(range(len(sentiment_df)))\n",
    "print(len(sentiment_df['polarity']))"
   ]
  },
  {
   "cell_type": "code",
   "execution_count": 106,
   "metadata": {
    "collapsed": false
   },
   "outputs": [],
   "source": [
    "cl1 = pd.DataFrame(cluster_words(0, df_ne['pca_cluster'])[:32])\n",
    "cl1.to_csv('cluster1.csv')"
   ]
  },
  {
   "cell_type": "code",
   "execution_count": 107,
   "metadata": {
    "collapsed": false
   },
   "outputs": [],
   "source": [
    "cl2 = pd.DataFrame(cluster_words(1, df_ne['pca_cluster'])[:32])\n",
    "cl2.to_csv('cluster2.csv')"
   ]
  },
  {
   "cell_type": "code",
   "execution_count": 108,
   "metadata": {
    "collapsed": false
   },
   "outputs": [],
   "source": [
    "cl3 = pd.DataFrame(cluster_words(2, df_ne['pca_cluster'])[:32])\n",
    "cl3.to_csv('cluster3.csv')"
   ]
  },
  {
   "cell_type": "code",
   "execution_count": 109,
   "metadata": {
    "collapsed": false
   },
   "outputs": [],
   "source": [
    "cl4 = pd.DataFrame(cluster_words(3, df_ne['pca_cluster'])[:32])\n",
    "cl4.to_csv('cluster4.csv')"
   ]
  },
  {
   "cell_type": "markdown",
   "metadata": {
    "collapsed": false
   },
   "source": [
    "** ========================================================================================================= **"
   ]
  },
  {
   "cell_type": "code",
   "execution_count": 114,
   "metadata": {
    "collapsed": true
   },
   "outputs": [],
   "source": [
    "import lda"
   ]
  },
  {
   "cell_type": "code",
   "execution_count": 111,
   "metadata": {
    "collapsed": false
   },
   "outputs": [
    {
     "data": {
      "text/plain": [
       "(594, 19131)"
      ]
     },
     "execution_count": 111,
     "metadata": {},
     "output_type": "execute_result"
    }
   ],
   "source": [
    "X.shape"
   ]
  },
  {
   "cell_type": "code",
   "execution_count": 117,
   "metadata": {
    "collapsed": false
   },
   "outputs": [
    {
     "data": {
      "text/plain": [
       "array([[  2.18329466e-01,   3.43619490e-01,   2.50812065e-01, ...,\n",
       "          2.32018561e-04,   2.32018561e-04,   2.32018561e-04],\n",
       "       [  2.76470588e-02,   2.96078431e-02,   2.70784314e-01, ...,\n",
       "          1.00196078e-01,   1.96078431e-04,   5.31568627e-01],\n",
       "       [  2.47524752e-04,   2.72277228e-03,   9.18316832e-02, ...,\n",
       "          4.72772277e-02,   4.97772277e-01,   2.75000000e-01],\n",
       "       ..., \n",
       "       [  5.18779343e-02,   2.34741784e-04,   1.73943662e-01, ...,\n",
       "          4.92957746e-03,   2.34741784e-04,   1.22300469e-01],\n",
       "       [  4.82745098e-01,   5.92156863e-02,   2.98431373e-01, ...,\n",
       "          3.92156863e-04,   3.92156863e-04,   8.66666667e-02],\n",
       "       [  6.18104668e-02,   2.96605375e-01,   2.65959453e-01, ...,\n",
       "          4.01225837e-02,   4.71475719e-05,   9.00518623e-03]])"
      ]
     },
     "execution_count": 117,
     "metadata": {},
     "output_type": "execute_result"
    }
   ],
   "source": [
    "lda_mod = lda.LDA(n_topics=10, n_iter=500, random_state=1)\n",
    "lda_mod.fit_transform(X)  # model.fit_transform(X) is also available"
   ]
  },
  {
   "cell_type": "code",
   "execution_count": 118,
   "metadata": {
    "collapsed": true
   },
   "outputs": [],
   "source": [
    "topic_word = lda_mod.topic_word_  # model.components_ also works"
   ]
  },
  {
   "cell_type": "code",
   "execution_count": 120,
   "metadata": {
    "collapsed": false
   },
   "outputs": [
    {
     "name": "stdout",
     "output_type": "stream",
     "text": [
      "<class 'numpy.ndarray'>\n",
      "(10, 19131)\n",
      "[  6.97140539e-07   6.97140539e-07   6.97140539e-07   1.40125248e-04\n",
      "   6.97140539e-07   6.97140539e-07   6.97140539e-07   6.97140539e-07\n",
      "   6.97140539e-07   6.97140539e-07   6.97140539e-07   6.97140539e-07\n",
      "   6.97140539e-07   6.97140539e-07   6.97140539e-07   6.97140539e-07\n",
      "   6.97140539e-07   6.97140539e-07   6.97140539e-07   6.97140539e-07]\n",
      "1.0\n"
     ]
    }
   ],
   "source": [
    "print( type(topic_word))\n",
    "print( topic_word.shape)\n",
    "print( topic_word[0][:20])\n",
    "print( topic_word[0].sum())"
   ]
  },
  {
   "cell_type": "code",
   "execution_count": null,
   "metadata": {
    "collapsed": true
   },
   "outputs": [],
   "source": []
  }
 ],
 "metadata": {
  "kernelspec": {
   "display_name": "Python 3",
   "language": "python",
   "name": "python3"
  },
  "language_info": {
   "codemirror_mode": {
    "name": "ipython",
    "version": 3
   },
   "file_extension": ".py",
   "mimetype": "text/x-python",
   "name": "python",
   "nbconvert_exporter": "python",
   "pygments_lexer": "ipython3",
   "version": "3.5.1"
  }
 },
 "nbformat": 4,
 "nbformat_minor": 0
}
