{
 "cells": [
  {
   "cell_type": "markdown",
   "metadata": {},
   "source": [
    "#          Challenge 9: Poisson-GLM Challenges\n",
    "\n",
    "| Title        | Answer                     |\n",
    "| :---------- | :------------------------   |\n",
    "| Topic:       | Poisson-GLM Challenges     | \n",
    "| Date:        | 06/10/2016                 |\n",
    "| Name:        | Sunne Kuo                  |\n",
    "| Worked with: | None                       | "
   ]
  },
  {
   "cell_type": "code",
   "execution_count": 21,
   "metadata": {
    "collapsed": true
   },
   "outputs": [],
   "source": [
    "import pandas as pd\n",
    "import statsmodels.api as sm\n",
    "import numpy as np\n",
    "from patsy import dmatrices\n",
    "from sklearn.cross_validation import train_test_split\n",
    "from sklearn.metrics import mean_squared_error\n",
    "%matplotlib inline"
   ]
  },
  {
   "cell_type": "code",
   "execution_count": 208,
   "metadata": {
    "collapsed": false
   },
   "outputs": [],
   "source": [
    "from pandas.io.stata import StataReader\n",
    "reader = StataReader('ships.dta')\n",
    "ship_df = reader.read()"
   ]
  },
  {
   "cell_type": "markdown",
   "metadata": {},
   "source": [
    "### Challenge 1\n",
    "\n",
    "Model the damage incident counts with a Poisson Regression.\n",
    "\n",
    "Take a look at the statsmodels summary table, the goodness of fit indicators (Deviance, Pearson's chi square statistic) and the coefficients. Is this a good model?"
   ]
  },
  {
   "cell_type": "code",
   "execution_count": 209,
   "metadata": {
    "collapsed": false
   },
   "outputs": [
    {
     "data": {
      "text/html": [
       "<div>\n",
       "<table border=\"1\" class=\"dataframe\">\n",
       "  <thead>\n",
       "    <tr style=\"text-align: right;\">\n",
       "      <th></th>\n",
       "      <th>type</th>\n",
       "      <th>construction</th>\n",
       "      <th>operation</th>\n",
       "      <th>months</th>\n",
       "      <th>damage</th>\n",
       "    </tr>\n",
       "  </thead>\n",
       "  <tbody>\n",
       "    <tr>\n",
       "      <th>0</th>\n",
       "      <td>A</td>\n",
       "      <td>1960-64</td>\n",
       "      <td>1960-74</td>\n",
       "      <td>127.0</td>\n",
       "      <td>0.0</td>\n",
       "    </tr>\n",
       "    <tr>\n",
       "      <th>1</th>\n",
       "      <td>A</td>\n",
       "      <td>1960-64</td>\n",
       "      <td>1975-79</td>\n",
       "      <td>63.0</td>\n",
       "      <td>0.0</td>\n",
       "    </tr>\n",
       "  </tbody>\n",
       "</table>\n",
       "</div>"
      ],
      "text/plain": [
       "  type construction operation  months  damage\n",
       "0    A      1960-64   1960-74   127.0     0.0\n",
       "1    A      1960-64   1975-79    63.0     0.0"
      ]
     },
     "execution_count": 209,
     "metadata": {},
     "output_type": "execute_result"
    }
   ],
   "source": [
    "ship_df.head(2)"
   ]
  },
  {
   "cell_type": "code",
   "execution_count": 210,
   "metadata": {
    "collapsed": false
   },
   "outputs": [],
   "source": [
    "type_dummies = pd.get_dummies(ship_df['type'])\n",
    "ship_df = pd.concat([ ship_df, type_dummies], axis=1)"
   ]
  },
  {
   "cell_type": "code",
   "execution_count": 211,
   "metadata": {
    "collapsed": false
   },
   "outputs": [],
   "source": [
    "#ship_df.head(2)"
   ]
  },
  {
   "cell_type": "code",
   "execution_count": 212,
   "metadata": {
    "collapsed": false
   },
   "outputs": [],
   "source": [
    "ship_df['con_constr'] = ship_df['construction'].apply(lambda x: int(sum(map(int, x[-5:].split('-')))/2))\n",
    "ship_df['binary_op'] = ship_df['operation'].apply(lambda x: 1 if x[-2:] == '74' else 0)"
   ]
  },
  {
   "cell_type": "code",
   "execution_count": 213,
   "metadata": {
    "collapsed": false
   },
   "outputs": [],
   "source": [
    "#ship_df.head(2)"
   ]
  },
  {
   "cell_type": "code",
   "execution_count": 214,
   "metadata": {
    "collapsed": false
   },
   "outputs": [],
   "source": [
    "def fit_poissonGLM(ind, dep, off):\n",
    "    mod = sm.genmod.GLM(dep, ind, family=sm.families.Poisson(sm.genmod.families.links.log), offset = off).fit()\n",
    "    deviance = mod.deviance\n",
    "    print ('AIC =', mod.aic)\n",
    "    print('Null Deviance', mod.null_deviance)\n",
    "    return mod.summary()"
   ]
  },
  {
   "cell_type": "code",
   "execution_count": 215,
   "metadata": {
    "collapsed": true
   },
   "outputs": [],
   "source": [
    "y1, x1 = dmatrices('damage ~ months + con_constr + binary_op + A + B + C + D + E',\\\n",
    "                 data = ship_df, return_type = 'dataframe')\n",
    "x1 = sm.add_constant(x1)"
   ]
  },
  {
   "cell_type": "code",
   "execution_count": 216,
   "metadata": {
    "collapsed": false
   },
   "outputs": [
    {
     "name": "stdout",
     "output_type": "stream",
     "text": [
      "AIC = 234.430660456\n",
      "Null Deviance 614.539328817\n"
     ]
    },
    {
     "data": {
      "text/html": [
       "<table class=\"simpletable\">\n",
       "<caption>Generalized Linear Model Regression Results</caption>\n",
       "<tr>\n",
       "  <th>Dep. Variable:</th>       <td>damage</td>      <th>  No. Observations:  </th>  <td>    34</td> \n",
       "</tr>\n",
       "<tr>\n",
       "  <th>Model:</th>                 <td>GLM</td>       <th>  Df Residuals:      </th>  <td>    26</td> \n",
       "</tr>\n",
       "<tr>\n",
       "  <th>Model Family:</th>        <td>Poisson</td>     <th>  Df Model:          </th>  <td>     7</td> \n",
       "</tr>\n",
       "<tr>\n",
       "  <th>Link Function:</th>         <td>log</td>       <th>  Scale:             </th>    <td>1.0</td>  \n",
       "</tr>\n",
       "<tr>\n",
       "  <th>Method:</th>               <td>IRLS</td>       <th>  Log-Likelihood:    </th> <td> -109.22</td>\n",
       "</tr>\n",
       "<tr>\n",
       "  <th>Date:</th>           <td>Tue, 09 Aug 2016</td> <th>  Deviance:          </th> <td>  120.56</td>\n",
       "</tr>\n",
       "<tr>\n",
       "  <th>Time:</th>               <td>16:35:36</td>     <th>  Pearson chi2:      </th>  <td>  114.</td> \n",
       "</tr>\n",
       "<tr>\n",
       "  <th>No. Iterations:</th>         <td>9</td>        <th>                     </th>     <td> </td>   \n",
       "</tr>\n",
       "</table>\n",
       "<table class=\"simpletable\">\n",
       "<tr>\n",
       "       <td></td>         <th>coef</th>     <th>std err</th>      <th>z</th>      <th>P>|z|</th> <th>[95.0% Conf. Int.]</th> \n",
       "</tr>\n",
       "<tr>\n",
       "  <th>Intercept</th>  <td>   -1.6722</td> <td>    0.828</td> <td>   -2.019</td> <td> 0.043</td> <td>   -3.295    -0.049</td>\n",
       "</tr>\n",
       "<tr>\n",
       "  <th>months</th>     <td> 4.785e-05</td> <td> 7.05e-06</td> <td>    6.787</td> <td> 0.000</td> <td>  3.4e-05  6.17e-05</td>\n",
       "</tr>\n",
       "<tr>\n",
       "  <th>con_constr</th> <td>    0.0528</td> <td>    0.014</td> <td>    3.831</td> <td> 0.000</td> <td>    0.026     0.080</td>\n",
       "</tr>\n",
       "<tr>\n",
       "  <th>binary_op</th>  <td>   -0.5462</td> <td>    0.139</td> <td>   -3.939</td> <td> 0.000</td> <td>   -0.818    -0.274</td>\n",
       "</tr>\n",
       "<tr>\n",
       "  <th>A</th>          <td>   -0.0894</td> <td>    0.214</td> <td>   -0.418</td> <td> 0.676</td> <td>   -0.509     0.330</td>\n",
       "</tr>\n",
       "<tr>\n",
       "  <th>B</th>          <td>    0.8728</td> <td>    0.243</td> <td>    3.588</td> <td> 0.000</td> <td>    0.396     1.350</td>\n",
       "</tr>\n",
       "<tr>\n",
       "  <th>C</th>          <td>   -1.3011</td> <td>    0.289</td> <td>   -4.499</td> <td> 0.000</td> <td>   -1.868    -0.734</td>\n",
       "</tr>\n",
       "<tr>\n",
       "  <th>D</th>          <td>   -0.9546</td> <td>    0.261</td> <td>   -3.658</td> <td> 0.000</td> <td>   -1.466    -0.443</td>\n",
       "</tr>\n",
       "<tr>\n",
       "  <th>E</th>          <td>   -0.1999</td> <td>    0.233</td> <td>   -0.859</td> <td> 0.390</td> <td>   -0.656     0.256</td>\n",
       "</tr>\n",
       "</table>"
      ],
      "text/plain": [
       "<class 'statsmodels.iolib.summary.Summary'>\n",
       "\"\"\"\n",
       "                 Generalized Linear Model Regression Results                  \n",
       "==============================================================================\n",
       "Dep. Variable:                 damage   No. Observations:                   34\n",
       "Model:                            GLM   Df Residuals:                       26\n",
       "Model Family:                 Poisson   Df Model:                            7\n",
       "Link Function:                    log   Scale:                             1.0\n",
       "Method:                          IRLS   Log-Likelihood:                -109.22\n",
       "Date:                Tue, 09 Aug 2016   Deviance:                       120.56\n",
       "Time:                        16:35:36   Pearson chi2:                     114.\n",
       "No. Iterations:                     9                                         \n",
       "==============================================================================\n",
       "                 coef    std err          z      P>|z|      [95.0% Conf. Int.]\n",
       "------------------------------------------------------------------------------\n",
       "Intercept     -1.6722      0.828     -2.019      0.043        -3.295    -0.049\n",
       "months      4.785e-05   7.05e-06      6.787      0.000       3.4e-05  6.17e-05\n",
       "con_constr     0.0528      0.014      3.831      0.000         0.026     0.080\n",
       "binary_op     -0.5462      0.139     -3.939      0.000        -0.818    -0.274\n",
       "A             -0.0894      0.214     -0.418      0.676        -0.509     0.330\n",
       "B              0.8728      0.243      3.588      0.000         0.396     1.350\n",
       "C             -1.3011      0.289     -4.499      0.000        -1.868    -0.734\n",
       "D             -0.9546      0.261     -3.658      0.000        -1.466    -0.443\n",
       "E             -0.1999      0.233     -0.859      0.390        -0.656     0.256\n",
       "==============================================================================\n",
       "\"\"\""
      ]
     },
     "execution_count": 216,
     "metadata": {},
     "output_type": "execute_result"
    }
   ],
   "source": [
    "fit_poissonGLM(x1, y1, None)"
   ]
  },
  {
   "cell_type": "markdown",
   "metadata": {},
   "source": [
    "It's hard to tell whether it's a good model in a vacuum.  However there are two parameters that do not add to the fit of the model"
   ]
  },
  {
   "cell_type": "markdown",
   "metadata": {},
   "source": [
    "### Challenge 2\n",
    "\n",
    "The months of service provides the time interval in which a ship has chances to acquire damages. It can be thought of \"exposure\", and this column can be used as an offset.\n",
    "\n",
    "You can check these two resources for a quick idea on exposure and using an offset:\n",
    "\n",
    "Try your model with months of service as the offset. Does it perform better?"
   ]
  },
  {
   "cell_type": "code",
   "execution_count": 217,
   "metadata": {
    "collapsed": false
   },
   "outputs": [
    {
     "data": {
      "text/plain": [
       "Index(['type', 'construction', 'operation', 'months', 'damage', 'A', 'B', 'C',\n",
       "       'D', 'E', 'con_constr', 'binary_op'],\n",
       "      dtype='object')"
      ]
     },
     "execution_count": 217,
     "metadata": {},
     "output_type": "execute_result"
    }
   ],
   "source": [
    "ship_df.columns"
   ]
  },
  {
   "cell_type": "code",
   "execution_count": 218,
   "metadata": {
    "collapsed": false
   },
   "outputs": [],
   "source": [
    "ship_df['log_dmg'] = ship_df['damage'].apply(lambda x: 0 if x==0 else np.log(1.1) if x==1 else np.log(x))\n",
    "ship_df['log_months'] = ship_df['months'].apply(lambda x: np.log(x))"
   ]
  },
  {
   "cell_type": "code",
   "execution_count": 219,
   "metadata": {
    "collapsed": false
   },
   "outputs": [],
   "source": [
    "y_log, x_log = dmatrices('log_dmg ~ con_constr + binary_op + A + B + C + D + E',\\\n",
    "                 data = ship_df, return_type = 'dataframe')\n",
    "x_log = sm.add_constant(x_log)"
   ]
  },
  {
   "cell_type": "code",
   "execution_count": 220,
   "metadata": {
    "collapsed": false
   },
   "outputs": [
    {
     "name": "stdout",
     "output_type": "stream",
     "text": [
      "AIC = 87.6640077896\n",
      "Null Deviance 55.0268855491\n"
     ]
    },
    {
     "data": {
      "text/html": [
       "<table class=\"simpletable\">\n",
       "<caption>Generalized Linear Model Regression Results</caption>\n",
       "<tr>\n",
       "  <th>Dep. Variable:</th>       <td>log_dmg</td>     <th>  No. Observations:  </th>  <td>    34</td> \n",
       "</tr>\n",
       "<tr>\n",
       "  <th>Model:</th>                 <td>GLM</td>       <th>  Df Residuals:      </th>  <td>    27</td> \n",
       "</tr>\n",
       "<tr>\n",
       "  <th>Model Family:</th>        <td>Poisson</td>     <th>  Df Model:          </th>  <td>     6</td> \n",
       "</tr>\n",
       "<tr>\n",
       "  <th>Link Function:</th>         <td>log</td>       <th>  Scale:             </th>    <td>1.0</td>  \n",
       "</tr>\n",
       "<tr>\n",
       "  <th>Method:</th>               <td>IRLS</td>       <th>  Log-Likelihood:    </th> <td> -36.832</td>\n",
       "</tr>\n",
       "<tr>\n",
       "  <th>Date:</th>           <td>Tue, 09 Aug 2016</td> <th>  Deviance:          </th> <td>  15.143</td>\n",
       "</tr>\n",
       "<tr>\n",
       "  <th>Time:</th>               <td>16:35:40</td>     <th>  Pearson chi2:      </th>  <td>  17.5</td> \n",
       "</tr>\n",
       "<tr>\n",
       "  <th>No. Iterations:</th>         <td>8</td>        <th>                     </th>     <td> </td>   \n",
       "</tr>\n",
       "</table>\n",
       "<table class=\"simpletable\">\n",
       "<tr>\n",
       "       <td></td>         <th>coef</th>     <th>std err</th>      <th>z</th>      <th>P>|z|</th> <th>[95.0% Conf. Int.]</th> \n",
       "</tr>\n",
       "<tr>\n",
       "  <th>Intercept</th>  <td>   -9.2773</td> <td>    2.242</td> <td>   -4.138</td> <td> 0.000</td> <td>  -13.671    -4.883</td>\n",
       "</tr>\n",
       "<tr>\n",
       "  <th>con_constr</th> <td>    0.0545</td> <td>    0.037</td> <td>    1.467</td> <td> 0.142</td> <td>   -0.018     0.127</td>\n",
       "</tr>\n",
       "<tr>\n",
       "  <th>binary_op</th>  <td>   -0.0733</td> <td>    0.334</td> <td>   -0.219</td> <td> 0.826</td> <td>   -0.729     0.582</td>\n",
       "</tr>\n",
       "<tr>\n",
       "  <th>A</th>          <td>   -1.5369</td> <td>    0.581</td> <td>   -2.645</td> <td> 0.008</td> <td>   -2.676    -0.398</td>\n",
       "</tr>\n",
       "<tr>\n",
       "  <th>B</th>          <td>   -2.9595</td> <td>    0.409</td> <td>   -7.234</td> <td> 0.000</td> <td>   -3.761    -2.158</td>\n",
       "</tr>\n",
       "<tr>\n",
       "  <th>C</th>          <td>   -2.1205</td> <td>    0.643</td> <td>   -3.297</td> <td> 0.001</td> <td>   -3.381    -0.860</td>\n",
       "</tr>\n",
       "<tr>\n",
       "  <th>D</th>          <td>   -1.6160</td> <td>    0.678</td> <td>   -2.384</td> <td> 0.017</td> <td>   -2.944    -0.288</td>\n",
       "</tr>\n",
       "<tr>\n",
       "  <th>E</th>          <td>   -1.0445</td> <td>    0.578</td> <td>   -1.806</td> <td> 0.071</td> <td>   -2.178     0.089</td>\n",
       "</tr>\n",
       "</table>"
      ],
      "text/plain": [
       "<class 'statsmodels.iolib.summary.Summary'>\n",
       "\"\"\"\n",
       "                 Generalized Linear Model Regression Results                  \n",
       "==============================================================================\n",
       "Dep. Variable:                log_dmg   No. Observations:                   34\n",
       "Model:                            GLM   Df Residuals:                       27\n",
       "Model Family:                 Poisson   Df Model:                            6\n",
       "Link Function:                    log   Scale:                             1.0\n",
       "Method:                          IRLS   Log-Likelihood:                -36.832\n",
       "Date:                Tue, 09 Aug 2016   Deviance:                       15.143\n",
       "Time:                        16:35:40   Pearson chi2:                     17.5\n",
       "No. Iterations:                     8                                         \n",
       "==============================================================================\n",
       "                 coef    std err          z      P>|z|      [95.0% Conf. Int.]\n",
       "------------------------------------------------------------------------------\n",
       "Intercept     -9.2773      2.242     -4.138      0.000       -13.671    -4.883\n",
       "con_constr     0.0545      0.037      1.467      0.142        -0.018     0.127\n",
       "binary_op     -0.0733      0.334     -0.219      0.826        -0.729     0.582\n",
       "A             -1.5369      0.581     -2.645      0.008        -2.676    -0.398\n",
       "B             -2.9595      0.409     -7.234      0.000        -3.761    -2.158\n",
       "C             -2.1205      0.643     -3.297      0.001        -3.381    -0.860\n",
       "D             -1.6160      0.678     -2.384      0.017        -2.944    -0.288\n",
       "E             -1.0445      0.578     -1.806      0.071        -2.178     0.089\n",
       "==============================================================================\n",
       "\"\"\""
      ]
     },
     "execution_count": 220,
     "metadata": {},
     "output_type": "execute_result"
    }
   ],
   "source": [
    "fit_poissonGLM(x_log, y_log, ship_df['log_months'])"
   ]
  },
  {
   "cell_type": "markdown",
   "metadata": {},
   "source": [
    "** The model with the offset performs much better than the one without**"
   ]
  },
  {
   "cell_type": "markdown",
   "metadata": {},
   "source": [
    "### Challenge 3\n",
    "\n",
    "Now separate your data (even though it's only 14 rows) into a training and test set (your test will only be 4 or 5 rows), and check if you predict well (you can look at mean absolute error or mean squared error using sklearn.metrics)."
   ]
  },
  {
   "cell_type": "code",
   "execution_count": 221,
   "metadata": {
    "collapsed": false
   },
   "outputs": [],
   "source": [
    "x_train, x_test, y_train, y_test = train_test_split(x_log, np.ravel(y_log), test_size = .25, random_state = 1423)\n",
    "tr_offset = ship_df['log_months'].iloc[:25]\n",
    "te_offset = ship_df['log_months'].iloc[25:]"
   ]
  },
  {
   "cell_type": "code",
   "execution_count": 222,
   "metadata": {
    "collapsed": true
   },
   "outputs": [],
   "source": [
    "# statsmodels.genmod.generalized_linear_model.GLM(endog, exog, family=None, offset=None, exposure=None, missing='none', **kwargs)[source]"
   ]
  },
  {
   "cell_type": "code",
   "execution_count": 223,
   "metadata": {
    "collapsed": false
   },
   "outputs": [
    {
     "name": "stdout",
     "output_type": "stream",
     "text": [
      "Training set MSE = 4.06049408659\n"
     ]
    }
   ],
   "source": [
    "mod3tr = sm.genmod.GLM(y_train, x_train, family=sm.families.Poisson(sm.genmod.families.links.log), offset = tr_offset)\n",
    "mod3tr_fit = mod3tr.fit()\n",
    "pred = mod3tr_fit.predict(x_train)\n",
    "print('Training set MSE =', mean_squared_error(y_train, pred))"
   ]
  },
  {
   "cell_type": "code",
   "execution_count": 224,
   "metadata": {
    "collapsed": false
   },
   "outputs": [
    {
     "name": "stdout",
     "output_type": "stream",
     "text": [
      "Testing set MSE = 3.64594115781\n"
     ]
    }
   ],
   "source": [
    "#fit_poissonGLM(x_test, y_test, te_offset)\n",
    "mod3te = sm.genmod.GLM(y_test, x_test, family=sm.families.Poisson(sm.genmod.families.links.log), offset = te_offset)\n",
    "mod3te_fit = mod3te.fit()\n",
    "pred3 = mod3_fit.predict(x_test)\n",
    "print('Testing set MSE =', mean_squared_error(y_test, pred3))"
   ]
  },
  {
   "cell_type": "markdown",
   "metadata": {},
   "source": [
    "** Mean Square errors for training and testing sets are very comparable.**\n",
    "_______________________________________________________________________________"
   ]
  },
  {
   "cell_type": "markdown",
   "metadata": {},
   "source": [
    "### Challenge 4\n",
    "\n",
    "Deviance. Compute the difference in Deviance statistics for your model and the null model. This is called the null deviance.\n",
    "\n",
    "Check if this difference is extreme enough that we can reject the null hypothesis. If we can't reject the null hypothesis, we cannot say that this model tells us more than that trivial, null model. To calculate the p-value (prob. of getting a deviance difference at least as extreme as this under the null hypothesis), we need to do a hypothesis test."
   ]
  },
  {
   "cell_type": "code",
   "execution_count": 225,
   "metadata": {
    "collapsed": false
   },
   "outputs": [
    {
     "name": "stdout",
     "output_type": "stream",
     "text": [
      "AIC = 87.6640077896\n",
      "Null Deviance 55.0268855491\n"
     ]
    },
    {
     "data": {
      "text/html": [
       "<table class=\"simpletable\">\n",
       "<caption>Generalized Linear Model Regression Results</caption>\n",
       "<tr>\n",
       "  <th>Dep. Variable:</th>       <td>log_dmg</td>     <th>  No. Observations:  </th>  <td>    34</td> \n",
       "</tr>\n",
       "<tr>\n",
       "  <th>Model:</th>                 <td>GLM</td>       <th>  Df Residuals:      </th>  <td>    27</td> \n",
       "</tr>\n",
       "<tr>\n",
       "  <th>Model Family:</th>        <td>Poisson</td>     <th>  Df Model:          </th>  <td>     6</td> \n",
       "</tr>\n",
       "<tr>\n",
       "  <th>Link Function:</th>         <td>log</td>       <th>  Scale:             </th>    <td>1.0</td>  \n",
       "</tr>\n",
       "<tr>\n",
       "  <th>Method:</th>               <td>IRLS</td>       <th>  Log-Likelihood:    </th> <td> -36.832</td>\n",
       "</tr>\n",
       "<tr>\n",
       "  <th>Date:</th>           <td>Tue, 09 Aug 2016</td> <th>  Deviance:          </th> <td>  15.143</td>\n",
       "</tr>\n",
       "<tr>\n",
       "  <th>Time:</th>               <td>16:35:44</td>     <th>  Pearson chi2:      </th>  <td>  17.5</td> \n",
       "</tr>\n",
       "<tr>\n",
       "  <th>No. Iterations:</th>         <td>8</td>        <th>                     </th>     <td> </td>   \n",
       "</tr>\n",
       "</table>\n",
       "<table class=\"simpletable\">\n",
       "<tr>\n",
       "       <td></td>         <th>coef</th>     <th>std err</th>      <th>z</th>      <th>P>|z|</th> <th>[95.0% Conf. Int.]</th> \n",
       "</tr>\n",
       "<tr>\n",
       "  <th>Intercept</th>  <td>   -9.2773</td> <td>    2.242</td> <td>   -4.138</td> <td> 0.000</td> <td>  -13.671    -4.883</td>\n",
       "</tr>\n",
       "<tr>\n",
       "  <th>con_constr</th> <td>    0.0545</td> <td>    0.037</td> <td>    1.467</td> <td> 0.142</td> <td>   -0.018     0.127</td>\n",
       "</tr>\n",
       "<tr>\n",
       "  <th>binary_op</th>  <td>   -0.0733</td> <td>    0.334</td> <td>   -0.219</td> <td> 0.826</td> <td>   -0.729     0.582</td>\n",
       "</tr>\n",
       "<tr>\n",
       "  <th>A</th>          <td>   -1.5369</td> <td>    0.581</td> <td>   -2.645</td> <td> 0.008</td> <td>   -2.676    -0.398</td>\n",
       "</tr>\n",
       "<tr>\n",
       "  <th>B</th>          <td>   -2.9595</td> <td>    0.409</td> <td>   -7.234</td> <td> 0.000</td> <td>   -3.761    -2.158</td>\n",
       "</tr>\n",
       "<tr>\n",
       "  <th>C</th>          <td>   -2.1205</td> <td>    0.643</td> <td>   -3.297</td> <td> 0.001</td> <td>   -3.381    -0.860</td>\n",
       "</tr>\n",
       "<tr>\n",
       "  <th>D</th>          <td>   -1.6160</td> <td>    0.678</td> <td>   -2.384</td> <td> 0.017</td> <td>   -2.944    -0.288</td>\n",
       "</tr>\n",
       "<tr>\n",
       "  <th>E</th>          <td>   -1.0445</td> <td>    0.578</td> <td>   -1.806</td> <td> 0.071</td> <td>   -2.178     0.089</td>\n",
       "</tr>\n",
       "</table>"
      ],
      "text/plain": [
       "<class 'statsmodels.iolib.summary.Summary'>\n",
       "\"\"\"\n",
       "                 Generalized Linear Model Regression Results                  \n",
       "==============================================================================\n",
       "Dep. Variable:                log_dmg   No. Observations:                   34\n",
       "Model:                            GLM   Df Residuals:                       27\n",
       "Model Family:                 Poisson   Df Model:                            6\n",
       "Link Function:                    log   Scale:                             1.0\n",
       "Method:                          IRLS   Log-Likelihood:                -36.832\n",
       "Date:                Tue, 09 Aug 2016   Deviance:                       15.143\n",
       "Time:                        16:35:44   Pearson chi2:                     17.5\n",
       "No. Iterations:                     8                                         \n",
       "==============================================================================\n",
       "                 coef    std err          z      P>|z|      [95.0% Conf. Int.]\n",
       "------------------------------------------------------------------------------\n",
       "Intercept     -9.2773      2.242     -4.138      0.000       -13.671    -4.883\n",
       "con_constr     0.0545      0.037      1.467      0.142        -0.018     0.127\n",
       "binary_op     -0.0733      0.334     -0.219      0.826        -0.729     0.582\n",
       "A             -1.5369      0.581     -2.645      0.008        -2.676    -0.398\n",
       "B             -2.9595      0.409     -7.234      0.000        -3.761    -2.158\n",
       "C             -2.1205      0.643     -3.297      0.001        -3.381    -0.860\n",
       "D             -1.6160      0.678     -2.384      0.017        -2.944    -0.288\n",
       "E             -1.0445      0.578     -1.806      0.071        -2.178     0.089\n",
       "==============================================================================\n",
       "\"\"\""
      ]
     },
     "execution_count": 225,
     "metadata": {},
     "output_type": "execute_result"
    }
   ],
   "source": [
    "fit_poissonGLM(x_log, y_log, ship_df['log_months'])"
   ]
  },
  {
   "cell_type": "markdown",
   "metadata": {},
   "source": [
    "** Without doing a hypothesis test, it looks like the Deviance of the Poisson model is >3x less than that of the Null Model.  Easy to say that it is a much better model.**"
   ]
  },
  {
   "cell_type": "markdown",
   "metadata": {},
   "source": [
    "### Challenge 5\n",
    "\n",
    "Now, instead of a poisson regression, do an ordinary least squares regression with log Y. Compare the models. Are the coefficients close? Do they perform similarly?"
   ]
  },
  {
   "cell_type": "code",
   "execution_count": 226,
   "metadata": {
    "collapsed": false
   },
   "outputs": [
    {
     "name": "stdout",
     "output_type": "stream",
     "text": [
      "OLS MSE = 0.558385689446\n",
      "==============================================================================\n",
      "                            OLS Regression Results                            \n",
      "==============================================================================\n",
      "Dep. Variable:                log_dmg   R-squared:                       0.700\n",
      "Model:                            OLS   Adj. R-squared:                  0.633\n",
      "Method:                 Least Squares   F-statistic:                     10.50\n",
      "Date:                Tue, 09 Aug 2016   Prob (F-statistic):           5.08e-06\n",
      "Time:                        16:35:48   Log-Likelihood:                -38.338\n",
      "No. Observations:                  34   AIC:                             90.68\n",
      "Df Residuals:                      27   BIC:                             101.4\n",
      "Df Model:                           6                                         \n",
      "Covariance Type:            nonrobust                                         \n",
      "==============================================================================\n",
      "                 coef    std err          t      P>|t|      [95.0% Conf. Int.]\n",
      "------------------------------------------------------------------------------\n",
      "Intercept     -2.2625      1.727     -1.310      0.201        -5.807     1.282\n",
      "con_constr     0.0613      0.030      2.078      0.047         0.001     0.122\n",
      "binary_op     -0.1103      0.303     -0.364      0.718        -0.732     0.511\n",
      "A             -0.5190      0.441     -1.176      0.250        -1.425     0.387\n",
      "B              1.5747      0.441      3.567      0.001         0.669     2.480\n",
      "C             -1.4760      0.441     -3.344      0.002        -2.382    -0.570\n",
      "D             -1.2458      0.441     -2.822      0.009        -2.152    -0.340\n",
      "E             -0.5963      0.484     -1.233      0.228        -1.589     0.396\n",
      "==============================================================================\n",
      "Omnibus:                        0.175   Durbin-Watson:                   1.681\n",
      "Prob(Omnibus):                  0.916   Jarque-Bera (JB):                0.312\n",
      "Skew:                          -0.148   Prob(JB):                        0.855\n",
      "Kurtosis:                       2.635   Cond. No.                     5.22e+17\n",
      "==============================================================================\n",
      "\n",
      "Warnings:\n",
      "[1] Standard Errors assume that the covariance matrix of the errors is correctly specified.\n",
      "[2] The smallest eigenvalue is 5.91e-31. This might indicate that there are\n",
      "strong multicollinearity problems or that the design matrix is singular.\n"
     ]
    }
   ],
   "source": [
    "mod_ols = sm.OLS(y_log, x_log).fit()\n",
    "ols_pred = mod_ols.predict(x_log)\n",
    "print('OLS MSE =', mean_squared_error(y_log, ols_pred))\n",
    "print('==============================================================================')\n",
    "print(mod.summary())"
   ]
  },
  {
   "cell_type": "code",
   "execution_count": 228,
   "metadata": {
    "collapsed": false
   },
   "outputs": [
    {
     "name": "stdout",
     "output_type": "stream",
     "text": [
      "Poisson GLM MSE = 3.95486860058\n",
      "==============================================================================\n",
      "                 Generalized Linear Model Regression Results                  \n",
      "==============================================================================\n",
      "Dep. Variable:               log_dead   No. Observations:                   36\n",
      "Model:                            GLM   Df Residuals:                       24\n",
      "Model Family:                 Poisson   Df Model:                           11\n",
      "Link Function:                    log   Scale:                             1.0\n",
      "Method:                          IRLS   Log-Likelihood:                -70.706\n",
      "Date:                Tue, 09 Aug 2016   Deviance:                       20.156\n",
      "Time:                        16:36:03   Pearson chi2:                     25.4\n",
      "No. Iterations:                     8                                         \n",
      "=============================================================================================================\n",
      "                                                coef    std err          z      P>|z|      [95.0% Conf. Int.]\n",
      "-------------------------------------------------------------------------------------------------------------\n",
      "age_40-44                                    -2.4254      0.260     -9.315      0.000        -2.936    -1.915\n",
      "age_45-49                                    -1.9040      0.251     -7.583      0.000        -2.396    -1.412\n",
      "age_50-54                                    -1.6562      0.251     -6.587      0.000        -2.149    -1.163\n",
      "age_55-59                                    -2.0471      0.214     -9.558      0.000        -2.467    -1.627\n",
      "age_60-64                                    -2.2349      0.200    -11.175      0.000        -2.627    -1.843\n",
      "age_65-69                                    -1.9041      0.197     -9.677      0.000        -2.290    -1.518\n",
      "age_70-74                                    -1.4624      0.200     -7.320      0.000        -1.854    -1.071\n",
      "age_75-79                                    -0.9146      0.210     -4.350      0.000        -1.327    -0.503\n",
      "age_80+                                      -0.5306      0.226     -2.346      0.019        -0.974    -0.087\n",
      "smoke_Doesn't smoke                          -3.2286      0.155    -20.856      0.000        -3.532    -2.925\n",
      "smoke_Smokes cigars or pipe only             -3.5050      0.177    -19.798      0.000        -3.852    -3.158\n",
      "smoke_Smokes cigarettes and cigar or pipe    -4.3587      0.131    -33.342      0.000        -4.615    -4.102\n",
      "smoke_smokes cigarettes only                 -3.9870      0.136    -29.252      0.000        -4.254    -3.720\n",
      "=============================================================================================================\n"
     ]
    }
   ],
   "source": [
    "mod_1 = sm.genmod.GLM(y_log, x_log, family=sm.families.Poisson(sm.genmod.families.links.log), offset = ship_df['log_months']).fit()\n",
    "pred = mod_1.predict(x_log)\n",
    "print('Poisson GLM MSE =', mean_squared_error(y_log, pred))\n",
    "print('==============================================================================')\n",
    "print(mod_2.summary())"
   ]
  },
  {
   "cell_type": "markdown",
   "metadata": {},
   "source": [
    "** The MSE for the OLS is lower than the Poisson GLM **"
   ]
  },
  {
   "cell_type": "markdown",
   "metadata": {},
   "source": [
    "### Challenge 6\n",
    "\n",
    "Now, let's do this on another dataset: Smoking and Cancer. You can get it here:\n",
    "\n",
    "http://data.princeton.edu/wws509/datasets/smoking.dta\n",
    "\n",
    "This dataset has information on lung cancer deaths by age and smoking status. It has these columns:\n",
    "\n",
    "age: in five-year age groups coded 1 to 9 for 40-44, 45-49, 50-54, 55-59, 60-64, 65-69, 70-74, 75-79, 80+.\n",
    "smoking status: coded 1 = doesn't smoke, 2 = smokes cigars or pipe only, 3 = smokes cigarrettes and cigar or pipe, and 4 = smokes cigarrettes only,\n",
    "population: in hundreds of thousands\n",
    "deaths: number of lung cancer deaths in a year.\n",
    "That population looks a lot like an offset!\n",
    "\n",
    "Fit poisson and OLS models and compare them."
   ]
  },
  {
   "cell_type": "code",
   "execution_count": 175,
   "metadata": {
    "collapsed": true
   },
   "outputs": [],
   "source": [
    "from pandas.io.stata import StataReader\n",
    "reader1 = StataReader('smoking.dta')\n",
    "smoke_df = reader1.read()"
   ]
  },
  {
   "cell_type": "code",
   "execution_count": 197,
   "metadata": {
    "collapsed": false
   },
   "outputs": [],
   "source": [
    "#smoke_df.head()"
   ]
  },
  {
   "cell_type": "code",
   "execution_count": 196,
   "metadata": {
    "collapsed": false
   },
   "outputs": [],
   "source": [
    "smoke_dum = pd.get_dummies(smoke_df)\n",
    "#smoke_dum.head(2)"
   ]
  },
  {
   "cell_type": "code",
   "execution_count": 178,
   "metadata": {
    "collapsed": false
   },
   "outputs": [],
   "source": [
    "smoke_dum['log_pop'] = smoke_dum['pop'].apply(lambda x: np.log(x))\n",
    "smoke_dum['log_dead'] = smoke_dum['dead'].apply(lambda x: np.log(x))"
   ]
  },
  {
   "cell_type": "code",
   "execution_count": 188,
   "metadata": {
    "collapsed": false
   },
   "outputs": [],
   "source": [
    "offset = smoke_dum['log_pop']\n",
    "ind_vars = smoke_dum.iloc[:,2:15]\n",
    "dep_vars = pd.Series(smoke_dum['log_dead'])"
   ]
  },
  {
   "cell_type": "code",
   "execution_count": 198,
   "metadata": {
    "collapsed": false
   },
   "outputs": [],
   "source": [
    "#smoke_dum.columns"
   ]
  },
  {
   "cell_type": "code",
   "execution_count": 200,
   "metadata": {
    "collapsed": false
   },
   "outputs": [
    {
     "name": "stdout",
     "output_type": "stream",
     "text": [
      "Poisson GLM MSE = 25.4871219072\n",
      "AIC = 165.412781268\n",
      "Null Deviance 119.723798547\n"
     ]
    },
    {
     "data": {
      "text/html": [
       "<table class=\"simpletable\">\n",
       "<caption>Generalized Linear Model Regression Results</caption>\n",
       "<tr>\n",
       "  <th>Dep. Variable:</th>      <td>log_dead</td>     <th>  No. Observations:  </th>  <td>    36</td> \n",
       "</tr>\n",
       "<tr>\n",
       "  <th>Model:</th>                 <td>GLM</td>       <th>  Df Residuals:      </th>  <td>    24</td> \n",
       "</tr>\n",
       "<tr>\n",
       "  <th>Model Family:</th>        <td>Poisson</td>     <th>  Df Model:          </th>  <td>    11</td> \n",
       "</tr>\n",
       "<tr>\n",
       "  <th>Link Function:</th>         <td>log</td>       <th>  Scale:             </th>    <td>1.0</td>  \n",
       "</tr>\n",
       "<tr>\n",
       "  <th>Method:</th>               <td>IRLS</td>       <th>  Log-Likelihood:    </th> <td> -70.706</td>\n",
       "</tr>\n",
       "<tr>\n",
       "  <th>Date:</th>           <td>Tue, 09 Aug 2016</td> <th>  Deviance:          </th> <td>  20.156</td>\n",
       "</tr>\n",
       "<tr>\n",
       "  <th>Time:</th>               <td>16:29:20</td>     <th>  Pearson chi2:      </th>  <td>  25.4</td> \n",
       "</tr>\n",
       "<tr>\n",
       "  <th>No. Iterations:</th>         <td>8</td>        <th>                     </th>     <td> </td>   \n",
       "</tr>\n",
       "</table>\n",
       "<table class=\"simpletable\">\n",
       "<tr>\n",
       "                      <td></td>                         <th>coef</th>     <th>std err</th>      <th>z</th>      <th>P>|z|</th> <th>[95.0% Conf. Int.]</th> \n",
       "</tr>\n",
       "<tr>\n",
       "  <th>age_40-44</th>                                 <td>   -2.4254</td> <td>    0.260</td> <td>   -9.315</td> <td> 0.000</td> <td>   -2.936    -1.915</td>\n",
       "</tr>\n",
       "<tr>\n",
       "  <th>age_45-49</th>                                 <td>   -1.9040</td> <td>    0.251</td> <td>   -7.583</td> <td> 0.000</td> <td>   -2.396    -1.412</td>\n",
       "</tr>\n",
       "<tr>\n",
       "  <th>age_50-54</th>                                 <td>   -1.6562</td> <td>    0.251</td> <td>   -6.587</td> <td> 0.000</td> <td>   -2.149    -1.163</td>\n",
       "</tr>\n",
       "<tr>\n",
       "  <th>age_55-59</th>                                 <td>   -2.0471</td> <td>    0.214</td> <td>   -9.558</td> <td> 0.000</td> <td>   -2.467    -1.627</td>\n",
       "</tr>\n",
       "<tr>\n",
       "  <th>age_60-64</th>                                 <td>   -2.2349</td> <td>    0.200</td> <td>  -11.175</td> <td> 0.000</td> <td>   -2.627    -1.843</td>\n",
       "</tr>\n",
       "<tr>\n",
       "  <th>age_65-69</th>                                 <td>   -1.9041</td> <td>    0.197</td> <td>   -9.677</td> <td> 0.000</td> <td>   -2.290    -1.518</td>\n",
       "</tr>\n",
       "<tr>\n",
       "  <th>age_70-74</th>                                 <td>   -1.4624</td> <td>    0.200</td> <td>   -7.320</td> <td> 0.000</td> <td>   -1.854    -1.071</td>\n",
       "</tr>\n",
       "<tr>\n",
       "  <th>age_75-79</th>                                 <td>   -0.9146</td> <td>    0.210</td> <td>   -4.350</td> <td> 0.000</td> <td>   -1.327    -0.503</td>\n",
       "</tr>\n",
       "<tr>\n",
       "  <th>age_80+</th>                                   <td>   -0.5306</td> <td>    0.226</td> <td>   -2.346</td> <td> 0.019</td> <td>   -0.974    -0.087</td>\n",
       "</tr>\n",
       "<tr>\n",
       "  <th>smoke_Doesn't smoke</th>                       <td>   -3.2286</td> <td>    0.155</td> <td>  -20.856</td> <td> 0.000</td> <td>   -3.532    -2.925</td>\n",
       "</tr>\n",
       "<tr>\n",
       "  <th>smoke_Smokes cigars or pipe only</th>          <td>   -3.5050</td> <td>    0.177</td> <td>  -19.798</td> <td> 0.000</td> <td>   -3.852    -3.158</td>\n",
       "</tr>\n",
       "<tr>\n",
       "  <th>smoke_Smokes cigarettes and cigar or pipe</th> <td>   -4.3587</td> <td>    0.131</td> <td>  -33.342</td> <td> 0.000</td> <td>   -4.615    -4.102</td>\n",
       "</tr>\n",
       "<tr>\n",
       "  <th>smoke_smokes cigarettes only</th>              <td>   -3.9870</td> <td>    0.136</td> <td>  -29.252</td> <td> 0.000</td> <td>   -4.254    -3.720</td>\n",
       "</tr>\n",
       "</table>"
      ],
      "text/plain": [
       "<class 'statsmodels.iolib.summary.Summary'>\n",
       "\"\"\"\n",
       "                 Generalized Linear Model Regression Results                  \n",
       "==============================================================================\n",
       "Dep. Variable:               log_dead   No. Observations:                   36\n",
       "Model:                            GLM   Df Residuals:                       24\n",
       "Model Family:                 Poisson   Df Model:                           11\n",
       "Link Function:                    log   Scale:                             1.0\n",
       "Method:                          IRLS   Log-Likelihood:                -70.706\n",
       "Date:                Tue, 09 Aug 2016   Deviance:                       20.156\n",
       "Time:                        16:29:20   Pearson chi2:                     25.4\n",
       "No. Iterations:                     8                                         \n",
       "=============================================================================================================\n",
       "                                                coef    std err          z      P>|z|      [95.0% Conf. Int.]\n",
       "-------------------------------------------------------------------------------------------------------------\n",
       "age_40-44                                    -2.4254      0.260     -9.315      0.000        -2.936    -1.915\n",
       "age_45-49                                    -1.9040      0.251     -7.583      0.000        -2.396    -1.412\n",
       "age_50-54                                    -1.6562      0.251     -6.587      0.000        -2.149    -1.163\n",
       "age_55-59                                    -2.0471      0.214     -9.558      0.000        -2.467    -1.627\n",
       "age_60-64                                    -2.2349      0.200    -11.175      0.000        -2.627    -1.843\n",
       "age_65-69                                    -1.9041      0.197     -9.677      0.000        -2.290    -1.518\n",
       "age_70-74                                    -1.4624      0.200     -7.320      0.000        -1.854    -1.071\n",
       "age_75-79                                    -0.9146      0.210     -4.350      0.000        -1.327    -0.503\n",
       "age_80+                                      -0.5306      0.226     -2.346      0.019        -0.974    -0.087\n",
       "smoke_Doesn't smoke                          -3.2286      0.155    -20.856      0.000        -3.532    -2.925\n",
       "smoke_Smokes cigars or pipe only             -3.5050      0.177    -19.798      0.000        -3.852    -3.158\n",
       "smoke_Smokes cigarettes and cigar or pipe    -4.3587      0.131    -33.342      0.000        -4.615    -4.102\n",
       "smoke_smokes cigarettes only                 -3.9870      0.136    -29.252      0.000        -4.254    -3.720\n",
       "=============================================================================================================\n",
       "\"\"\""
      ]
     },
     "execution_count": 200,
     "metadata": {},
     "output_type": "execute_result"
    }
   ],
   "source": [
    "mod_1 = sm.genmod.GLM(dep_vars, ind_vars, family=sm.families.Poisson(sm.genmod.families.links.log), offset = offset)\n",
    "mod_2 = mod_1.fit()\n",
    "pred = mod_2.predict(ind_vars)\n",
    "print('Poisson GLM MSE =', mean_squared_error(dep_vars, pred))\n",
    "\n",
    "fit_poissonGLM(ind_vars, dep_vars, offset)"
   ]
  },
  {
   "cell_type": "code",
   "execution_count": 195,
   "metadata": {
    "collapsed": false
   },
   "outputs": [
    {
     "name": "stdout",
     "output_type": "stream",
     "text": [
      "OLS MSE = 0.558385689446\n",
      "==============================================================================\n"
     ]
    },
    {
     "data": {
      "text/html": [
       "<table class=\"simpletable\">\n",
       "<caption>OLS Regression Results</caption>\n",
       "<tr>\n",
       "  <th>Dep. Variable:</th>        <td>log_dead</td>     <th>  R-squared:         </th> <td>   0.775</td>\n",
       "</tr>\n",
       "<tr>\n",
       "  <th>Model:</th>                   <td>OLS</td>       <th>  Adj. R-squared:    </th> <td>   0.672</td>\n",
       "</tr>\n",
       "<tr>\n",
       "  <th>Method:</th>             <td>Least Squares</td>  <th>  F-statistic:       </th> <td>   7.529</td>\n",
       "</tr>\n",
       "<tr>\n",
       "  <th>Date:</th>             <td>Tue, 09 Aug 2016</td> <th>  Prob (F-statistic):</th> <td>1.99e-05</td>\n",
       "</tr>\n",
       "<tr>\n",
       "  <th>Time:</th>                 <td>16:05:38</td>     <th>  Log-Likelihood:    </th> <td> -39.050</td>\n",
       "</tr>\n",
       "<tr>\n",
       "  <th>No. Observations:</th>      <td>    36</td>      <th>  AIC:               </th> <td>   102.1</td>\n",
       "</tr>\n",
       "<tr>\n",
       "  <th>Df Residuals:</th>          <td>    24</td>      <th>  BIC:               </th> <td>   121.1</td>\n",
       "</tr>\n",
       "<tr>\n",
       "  <th>Df Model:</th>              <td>    11</td>      <th>                     </th>     <td> </td>   \n",
       "</tr>\n",
       "<tr>\n",
       "  <th>Covariance Type:</th>      <td>nonrobust</td>    <th>                     </th>     <td> </td>   \n",
       "</tr>\n",
       "</table>\n",
       "<table class=\"simpletable\">\n",
       "<tr>\n",
       "                      <td></td>                         <th>coef</th>     <th>std err</th>      <th>t</th>      <th>P>|t|</th> <th>[95.0% Conf. Int.]</th> \n",
       "</tr>\n",
       "<tr>\n",
       "  <th>age_40-44</th>                                 <td>    0.0130</td> <td>    0.416</td> <td>    0.031</td> <td> 0.975</td> <td>   -0.845     0.871</td>\n",
       "</tr>\n",
       "<tr>\n",
       "  <th>age_45-49</th>                                 <td>    0.2983</td> <td>    0.416</td> <td>    0.718</td> <td> 0.480</td> <td>   -0.560     1.156</td>\n",
       "</tr>\n",
       "<tr>\n",
       "  <th>age_50-54</th>                                 <td>    0.2953</td> <td>    0.416</td> <td>    0.710</td> <td> 0.484</td> <td>   -0.563     1.153</td>\n",
       "</tr>\n",
       "<tr>\n",
       "  <th>age_55-59</th>                                 <td>    1.7219</td> <td>    0.416</td> <td>    4.142</td> <td> 0.000</td> <td>    0.864     2.580</td>\n",
       "</tr>\n",
       "<tr>\n",
       "  <th>age_60-64</th>                                 <td>    2.4249</td> <td>    0.416</td> <td>    5.832</td> <td> 0.000</td> <td>    1.567     3.283</td>\n",
       "</tr>\n",
       "<tr>\n",
       "  <th>age_65-69</th>                                 <td>    2.5681</td> <td>    0.416</td> <td>    6.177</td> <td> 0.000</td> <td>    1.710     3.426</td>\n",
       "</tr>\n",
       "<tr>\n",
       "  <th>age_70-74</th>                                 <td>    2.4188</td> <td>    0.416</td> <td>    5.818</td> <td> 0.000</td> <td>    1.561     3.277</td>\n",
       "</tr>\n",
       "<tr>\n",
       "  <th>age_75-79</th>                                 <td>    2.0278</td> <td>    0.416</td> <td>    4.877</td> <td> 0.000</td> <td>    1.170     2.886</td>\n",
       "</tr>\n",
       "<tr>\n",
       "  <th>age_80+</th>                                   <td>    1.5875</td> <td>    0.416</td> <td>    3.818</td> <td> 0.001</td> <td>    0.729     2.446</td>\n",
       "</tr>\n",
       "<tr>\n",
       "  <th>smoke_Doesn't smoke</th>                       <td>    2.6931</td> <td>    0.273</td> <td>    9.880</td> <td> 0.000</td> <td>    2.131     3.256</td>\n",
       "</tr>\n",
       "<tr>\n",
       "  <th>smoke_Smokes cigars or pipe only</th>          <td>    2.1915</td> <td>    0.273</td> <td>    8.040</td> <td> 0.000</td> <td>    1.629     2.754</td>\n",
       "</tr>\n",
       "<tr>\n",
       "  <th>smoke_Smokes cigarettes and cigar or pipe</th> <td>    4.3988</td> <td>    0.273</td> <td>   16.138</td> <td> 0.000</td> <td>    3.836     4.961</td>\n",
       "</tr>\n",
       "<tr>\n",
       "  <th>smoke_smokes cigarettes only</th>              <td>    4.0721</td> <td>    0.273</td> <td>   14.939</td> <td> 0.000</td> <td>    3.510     4.635</td>\n",
       "</tr>\n",
       "</table>\n",
       "<table class=\"simpletable\">\n",
       "<tr>\n",
       "  <th>Omnibus:</th>       <td> 0.830</td> <th>  Durbin-Watson:     </th> <td>   0.651</td>\n",
       "</tr>\n",
       "<tr>\n",
       "  <th>Prob(Omnibus):</th> <td> 0.660</td> <th>  Jarque-Bera (JB):  </th> <td>   0.259</td>\n",
       "</tr>\n",
       "<tr>\n",
       "  <th>Skew:</th>          <td>-0.180</td> <th>  Prob(JB):          </th> <td>   0.879</td>\n",
       "</tr>\n",
       "<tr>\n",
       "  <th>Kurtosis:</th>      <td> 3.206</td> <th>  Cond. No.          </th> <td>2.30e+16</td>\n",
       "</tr>\n",
       "</table>"
      ],
      "text/plain": [
       "<class 'statsmodels.iolib.summary.Summary'>\n",
       "\"\"\"\n",
       "                            OLS Regression Results                            \n",
       "==============================================================================\n",
       "Dep. Variable:               log_dead   R-squared:                       0.775\n",
       "Model:                            OLS   Adj. R-squared:                  0.672\n",
       "Method:                 Least Squares   F-statistic:                     7.529\n",
       "Date:                Tue, 09 Aug 2016   Prob (F-statistic):           1.99e-05\n",
       "Time:                        16:05:38   Log-Likelihood:                -39.050\n",
       "No. Observations:                  36   AIC:                             102.1\n",
       "Df Residuals:                      24   BIC:                             121.1\n",
       "Df Model:                          11                                         \n",
       "Covariance Type:            nonrobust                                         \n",
       "=============================================================================================================\n",
       "                                                coef    std err          t      P>|t|      [95.0% Conf. Int.]\n",
       "-------------------------------------------------------------------------------------------------------------\n",
       "age_40-44                                     0.0130      0.416      0.031      0.975        -0.845     0.871\n",
       "age_45-49                                     0.2983      0.416      0.718      0.480        -0.560     1.156\n",
       "age_50-54                                     0.2953      0.416      0.710      0.484        -0.563     1.153\n",
       "age_55-59                                     1.7219      0.416      4.142      0.000         0.864     2.580\n",
       "age_60-64                                     2.4249      0.416      5.832      0.000         1.567     3.283\n",
       "age_65-69                                     2.5681      0.416      6.177      0.000         1.710     3.426\n",
       "age_70-74                                     2.4188      0.416      5.818      0.000         1.561     3.277\n",
       "age_75-79                                     2.0278      0.416      4.877      0.000         1.170     2.886\n",
       "age_80+                                       1.5875      0.416      3.818      0.001         0.729     2.446\n",
       "smoke_Doesn't smoke                           2.6931      0.273      9.880      0.000         2.131     3.256\n",
       "smoke_Smokes cigars or pipe only              2.1915      0.273      8.040      0.000         1.629     2.754\n",
       "smoke_Smokes cigarettes and cigar or pipe     4.3988      0.273     16.138      0.000         3.836     4.961\n",
       "smoke_smokes cigarettes only                  4.0721      0.273     14.939      0.000         3.510     4.635\n",
       "==============================================================================\n",
       "Omnibus:                        0.830   Durbin-Watson:                   0.651\n",
       "Prob(Omnibus):                  0.660   Jarque-Bera (JB):                0.259\n",
       "Skew:                          -0.180   Prob(JB):                        0.879\n",
       "Kurtosis:                       3.206   Cond. No.                     2.30e+16\n",
       "==============================================================================\n",
       "\n",
       "Warnings:\n",
       "[1] Standard Errors assume that the covariance matrix of the errors is correctly specified.\n",
       "[2] The smallest eigenvalue is 2.47e-32. This might indicate that there are\n",
       "strong multicollinearity problems or that the design matrix is singular.\n",
       "\"\"\""
      ]
     },
     "execution_count": 195,
     "metadata": {},
     "output_type": "execute_result"
    }
   ],
   "source": [
    "mod_ols = sm.OLS(dep_vars, ind_vars).fit()\n",
    "#ols_pred = mod_ols.predict(x_log)\n",
    "print('OLS MSE =', mean_squared_error(y_log, ols_pred))\n",
    "print('==============================================================================')\n",
    "mod_ols.summary()"
   ]
  },
  {
   "cell_type": "markdown",
   "metadata": {
    "collapsed": true
   },
   "source": [
    "** All of the parameters add to the Poisson model while two of the age ranges are insignificant in the OLS**"
   ]
  },
  {
   "cell_type": "code",
   "execution_count": null,
   "metadata": {
    "collapsed": true
   },
   "outputs": [],
   "source": []
  }
 ],
 "metadata": {
  "kernelspec": {
   "display_name": "Python 3",
   "language": "python",
   "name": "python3"
  },
  "language_info": {
   "codemirror_mode": {
    "name": "ipython",
    "version": 3
   },
   "file_extension": ".py",
   "mimetype": "text/x-python",
   "name": "python",
   "nbconvert_exporter": "python",
   "pygments_lexer": "ipython3",
   "version": "3.5.1"
  }
 },
 "nbformat": 4,
 "nbformat_minor": 0
}
