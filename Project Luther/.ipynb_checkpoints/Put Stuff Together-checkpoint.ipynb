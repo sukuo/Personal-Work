{
 "cells": [
  {
   "cell_type": "code",
   "execution_count": 13,
   "metadata": {
    "collapsed": true
   },
   "outputs": [],
   "source": [
    "import pandas as pd\n",
    "import numpy as np\n",
    "import pprint"
   ]
  },
  {
   "cell_type": "code",
   "execution_count": 3,
   "metadata": {
    "collapsed": false
   },
   "outputs": [],
   "source": [
    "grahamDF = pd.read_csv('script_and_dicts copy.csv')\n",
    "#grahamDF.head()"
   ]
  },
  {
   "cell_type": "code",
   "execution_count": 4,
   "metadata": {
    "collapsed": false,
    "scrolled": true
   },
   "outputs": [],
   "source": [
    "sethDF = pd.read_csv('movie_mojo.csv')\n",
    "#sethDF.head()"
   ]
  },
  {
   "cell_type": "code",
   "execution_count": 5,
   "metadata": {
    "collapsed": true
   },
   "outputs": [],
   "source": [
    "def rem_char(word):\n",
    "    return (''.join(e for e in word if e.isalnum())).lower()"
   ]
  },
  {
   "cell_type": "code",
   "execution_count": 6,
   "metadata": {
    "collapsed": true
   },
   "outputs": [],
   "source": [
    "grahamDF = pd.read_csv('script_and_dicts copy.csv')"
   ]
  },
  {
   "cell_type": "code",
   "execution_count": 7,
   "metadata": {
    "collapsed": false
   },
   "outputs": [],
   "source": [
    "grahamDF['title'] = grahamDF['title'].apply(rem_char)\n"
   ]
  },
  {
   "cell_type": "code",
   "execution_count": 8,
   "metadata": {
    "collapsed": false
   },
   "outputs": [],
   "source": [
    "sethDF['title'] = sethDF['title'].apply(rem_char)\n",
    "#sethDF.head()"
   ]
  },
  {
   "cell_type": "code",
   "execution_count": 69,
   "metadata": {
    "collapsed": false
   },
   "outputs": [],
   "source": [
    "#grahamDF.join(sethDF, on='title')"
   ]
  },
  {
   "cell_type": "code",
   "execution_count": 9,
   "metadata": {
    "collapsed": false
   },
   "outputs": [
    {
     "data": {
      "text/html": [
       "<div>\n",
       "<table border=\"1\" class=\"dataframe\">\n",
       "  <thead>\n",
       "    <tr style=\"text-align: right;\">\n",
       "      <th></th>\n",
       "      <th>Unnamed: 0_x</th>\n",
       "      <th>Unnamed: 0.1</th>\n",
       "      <th>filepath</th>\n",
       "      <th>title</th>\n",
       "      <th>genre_x</th>\n",
       "      <th>script</th>\n",
       "      <th>Unnamed: 0_y</th>\n",
       "      <th>rank</th>\n",
       "      <th>studio</th>\n",
       "      <th>lifetime_gross</th>\n",
       "      <th>theaters</th>\n",
       "      <th>opening</th>\n",
       "      <th>theaters.1</th>\n",
       "      <th>release_date</th>\n",
       "      <th>genre_y</th>\n",
       "    </tr>\n",
       "  </thead>\n",
       "  <tbody>\n",
       "    <tr>\n",
       "      <th>0</th>\n",
       "      <td>0</td>\n",
       "      <td>0</td>\n",
       "      <td>/Users/robert/ds/metisgh/nyc16_ds8/projects/02...</td>\n",
       "      <td>10thingsihateaboutyou</td>\n",
       "      <td>0</td>\n",
       "      <td>fpo</td>\n",
       "      <td>2056</td>\n",
       "      <td>22</td>\n",
       "      <td>BV</td>\n",
       "      <td>$38,178,166</td>\n",
       "      <td>2,311</td>\n",
       "      <td>$8,330,681</td>\n",
       "      <td>2,271</td>\n",
       "      <td>3/31/99</td>\n",
       "      <td>highschoolcomedy</td>\n",
       "    </tr>\n",
       "    <tr>\n",
       "      <th>1</th>\n",
       "      <td>0</td>\n",
       "      <td>0</td>\n",
       "      <td>/Users/robert/ds/metisgh/nyc16_ds8/projects/02...</td>\n",
       "      <td>10thingsihateaboutyou</td>\n",
       "      <td>0</td>\n",
       "      <td>fpo</td>\n",
       "      <td>4362</td>\n",
       "      <td>16</td>\n",
       "      <td>BV</td>\n",
       "      <td>$38,178,166</td>\n",
       "      <td>2,311</td>\n",
       "      <td>$8,330,681</td>\n",
       "      <td>2,271</td>\n",
       "      <td>3/31/99</td>\n",
       "      <td>teenromance</td>\n",
       "    </tr>\n",
       "    <tr>\n",
       "      <th>2</th>\n",
       "      <td>2</td>\n",
       "      <td>2</td>\n",
       "      <td>/Users/robert/ds/metisgh/nyc16_ds8/projects/02...</td>\n",
       "      <td>12monkeys</td>\n",
       "      <td>0</td>\n",
       "      <td>Counter({'cole': 783, 'railly': 429, 'jeffrey'...</td>\n",
       "      <td>3104</td>\n",
       "      <td>8</td>\n",
       "      <td>Uni.</td>\n",
       "      <td>$57,141,459</td>\n",
       "      <td>1,629</td>\n",
       "      <td>$184,776</td>\n",
       "      <td>3</td>\n",
       "      <td>12/29/95</td>\n",
       "      <td>mindbender</td>\n",
       "    </tr>\n",
       "    <tr>\n",
       "      <th>3</th>\n",
       "      <td>2</td>\n",
       "      <td>2</td>\n",
       "      <td>/Users/robert/ds/metisgh/nyc16_ds8/projects/02...</td>\n",
       "      <td>12monkeys</td>\n",
       "      <td>0</td>\n",
       "      <td>Counter({'cole': 783, 'railly': 429, 'jeffrey'...</td>\n",
       "      <td>5539</td>\n",
       "      <td>11</td>\n",
       "      <td>Uni.</td>\n",
       "      <td>$57,141,459</td>\n",
       "      <td>1,629</td>\n",
       "      <td>$184,776</td>\n",
       "      <td>3</td>\n",
       "      <td>12/29/95</td>\n",
       "      <td>scifiremake</td>\n",
       "    </tr>\n",
       "    <tr>\n",
       "      <th>4</th>\n",
       "      <td>2</td>\n",
       "      <td>2</td>\n",
       "      <td>/Users/robert/ds/metisgh/nyc16_ds8/projects/02...</td>\n",
       "      <td>12monkeys</td>\n",
       "      <td>0</td>\n",
       "      <td>Counter({'cole': 783, 'railly': 429, 'jeffrey'...</td>\n",
       "      <td>6031</td>\n",
       "      <td>20</td>\n",
       "      <td>Uni.</td>\n",
       "      <td>$57,141,459</td>\n",
       "      <td>1,629</td>\n",
       "      <td>$184,776</td>\n",
       "      <td>3</td>\n",
       "      <td>12/29/95</td>\n",
       "      <td>timetravel</td>\n",
       "    </tr>\n",
       "  </tbody>\n",
       "</table>\n",
       "</div>"
      ],
      "text/plain": [
       "   Unnamed: 0_x  Unnamed: 0.1  \\\n",
       "0             0             0   \n",
       "1             0             0   \n",
       "2             2             2   \n",
       "3             2             2   \n",
       "4             2             2   \n",
       "\n",
       "                                            filepath                  title  \\\n",
       "0  /Users/robert/ds/metisgh/nyc16_ds8/projects/02...  10thingsihateaboutyou   \n",
       "1  /Users/robert/ds/metisgh/nyc16_ds8/projects/02...  10thingsihateaboutyou   \n",
       "2  /Users/robert/ds/metisgh/nyc16_ds8/projects/02...              12monkeys   \n",
       "3  /Users/robert/ds/metisgh/nyc16_ds8/projects/02...              12monkeys   \n",
       "4  /Users/robert/ds/metisgh/nyc16_ds8/projects/02...              12monkeys   \n",
       "\n",
       "   genre_x                                             script  Unnamed: 0_y  \\\n",
       "0        0                                                fpo          2056   \n",
       "1        0                                                fpo          4362   \n",
       "2        0  Counter({'cole': 783, 'railly': 429, 'jeffrey'...          3104   \n",
       "3        0  Counter({'cole': 783, 'railly': 429, 'jeffrey'...          5539   \n",
       "4        0  Counter({'cole': 783, 'railly': 429, 'jeffrey'...          6031   \n",
       "\n",
       "  rank studio lifetime_gross theaters     opening theaters.1 release_date  \\\n",
       "0   22     BV    $38,178,166    2,311  $8,330,681      2,271      3/31/99   \n",
       "1   16     BV    $38,178,166    2,311  $8,330,681      2,271      3/31/99   \n",
       "2    8   Uni.    $57,141,459    1,629    $184,776          3     12/29/95   \n",
       "3   11   Uni.    $57,141,459    1,629    $184,776          3     12/29/95   \n",
       "4   20   Uni.    $57,141,459    1,629    $184,776          3     12/29/95   \n",
       "\n",
       "            genre_y  \n",
       "0  highschoolcomedy  \n",
       "1       teenromance  \n",
       "2        mindbender  \n",
       "3       scifiremake  \n",
       "4        timetravel  "
      ]
     },
     "execution_count": 9,
     "metadata": {},
     "output_type": "execute_result"
    }
   ],
   "source": [
    "merged_df = pd.merge(grahamDF, sethDF, on='title')\n",
    "merged_df.head()\n"
   ]
  },
  {
   "cell_type": "code",
   "execution_count": 10,
   "metadata": {
    "collapsed": true
   },
   "outputs": [],
   "source": [
    "merged_df.to_csv('merged_df.csv', sep='\\t')\n"
   ]
  },
  {
   "cell_type": "code",
   "execution_count": 14,
   "metadata": {
    "collapsed": false
   },
   "outputs": [
    {
     "name": "stdout",
     "output_type": "stream",
     "text": [
      "array(['3d', '70s', 'actionbuddycomedy', 'actionheroine', 'actionremake',\n",
      "       'adventureperiod', 'adventureremake', 'animatedfantasy',\n",
      "       'animation', 'animationstop', 'arresteddevelopment', 'baseball',\n",
      "       'basedonanimatedtv', 'basedoncartoons', 'basedontv', 'basketball',\n",
      "       'blackcomedy', 'boardingschool', 'bodyswitchcomedy', 'boston',\n",
      "       'boxing', 'britishremake', 'bumblingcomedy', 'cannes', 'caper',\n",
      "       'carracing', 'cgistar', 'childrensbook', 'christmas',\n",
      "       'christmassetting', 'cinderella', 'collegecomedy', 'comedysequel',\n",
      "       'comicbookadaptation', 'computeranimation', 'conartist',\n",
      "       'creaturefeature', 'crime', 'crossdressing', 'cyborg',\n",
      "       'daddyfishoutofwater', 'dance', 'desertadventure', 'dinosaur',\n",
      "       'dirtycop', 'disability-paraplegic', 'disaster', 'dragon',\n",
      "       'dragonelements', 'environment', 'eroticthriller', 'explorer',\n",
      "       'extremesports', 'fatsuit', 'fire', 'footballelements', 'foreign',\n",
      "       'foreignthrillerremake', 'frenchremake', 'future', 'gay',\n",
      "       'godcomedy', 'golf', 'hawaii', 'highschoolcomedy', 'hitman',\n",
      "       'hollywoodmovies', 'horrorcomedy', 'horrorperiod', 'horrorremake',\n",
      "       'horrortorture', 'horse', 'hostage', 'imax', 'irish', 'japan',\n",
      "       'kidnappingdrama', 'lasvegas', 'liveactionfantasy', 'manvsmachine',\n",
      "       'martialarts', 'medieval', 'memory', 'mexico', 'middleeast',\n",
      "       'mindbender', 'mockumentary', 'mother', 'mouseelements', 'musical',\n",
      "       'musiccomedy', 'neonoir', 'newjersey', 'neworleans', 'news',\n",
      "       'newyears', 'paris', 'pilot', 'pirate', 'political-election',\n",
      "       'politicalsatire', 'politicalthriller', 'postapoalypse',\n",
      "       'pregnancy', 'prequel', 'president', 'psychothriller', 'puppet',\n",
      "       'r-ratedcomedy', 'rap', 'realitytv', 'revenge', 'roadtrip',\n",
      "       'romanticcomedy', 'romanticdrama', 'romanticfantasy', 'romcomcrime',\n",
      "       'scifiadventure', 'scifialieninvasion', 'scifianimation',\n",
      "       'scifibook', 'scifichase', 'scificomedy', 'scifihorror',\n",
      "       'scifiremake', 'scifisatire', 'sequelremake',\n",
      "       'serialkillerthriller', 'shark', 'slackerstoner', 'slasher',\n",
      "       'spoof', 'sportperiod', 'sportscomedy', 'sportsdrama', 'spy',\n",
      "       'spycomedy', 'summerdrama', 'summergirlpower', 'sundance2011',\n",
      "       'sundance2012', 'sundance2013', 'superhero', 'superherocomedy',\n",
      "       'superheroorigin', 'supernaturalhorror', 'surfing', 'swashbuckler',\n",
      "       'swordandsorcery', 'taxi', 'teachers', 'teacherselements',\n",
      "       'teenromance', 'terrorintehwater', 'terrorism', 'thanksgiving',\n",
      "       'thrillerontherun', 'timetravel', 'toyadaptation', 'toys',\n",
      "       'treasurehunt', 'truecrime', 'twentysomething', 'twins',\n",
      "       'underwater', 'vampire', 'videogameadaptation', 'virtualreality',\n",
      "       'wedding', 'werewolf', 'western', 'whatifcomedy', 'wirefu',\n",
      "       'womanizer', 'worldwar2', 'worldwari', 'yaadaptations', 'zombie'], dtype=object)\n"
     ]
    }
   ],
   "source": [
    "pprint.pprint(np.unique(merged_df['genre_y']))"
   ]
  },
  {
   "cell_type": "code",
   "execution_count": 17,
   "metadata": {
    "collapsed": false
   },
   "outputs": [],
   "source": [
    "action_genres =['actionheroine','actionbuddycomedy', 'actionremake', 'adventureperiod', 'adventureremake','boxing',\\\n",
    "'comicbookadaptation', 'computeranimation', 'conartist', 'creaturefeature', 'crime', 'cyborg',\\\n",
    "'desertadventure', 'dirtycop', 'disaster', 'dragon', 'hitman', 'horrorcomedy', 'horrorperiod', 'horrorremake',\\\n",
    "'horrortorture','martialarts', 'postapoalypse', 'psychothriller', 'revenge', 'pirate', 'romcomcrime', 'scifiadventure',\\\n",
    "'scifialieninvasion', 'scifihorror','serialkillerthriller','shark','slasher','spy','superhero','superherocomedy',\\\n",
    "'superheroorigin', 'supernaturalhorror','swashbuckler','swordandsorcery','terrorintehwater','terrorism',\\\n",
    "'treasurehunt', 'truecrime','vampire','werewolf','western','worldwar2', 'worldwari','zombie']"
   ]
  },
  {
   "cell_type": "code",
   "execution_count": null,
   "metadata": {
    "collapsed": true
   },
   "outputs": [],
   "source": [
    "violent_words = ['kill', 'hack','rip','smash','break','grab','slash','punch','grip',\\\n",
    "                 'pummel'"
   ]
  },
  {
   "cell_type": "code",
   "execution_count": null,
   "metadata": {
    "collapsed": true
   },
   "outputs": [],
   "source": [
    "a = ['Acid', 'Aggressor', 'Agitator', 'Aim', 'Alert', 'Ambush', 'Ammunition', 'Anarchy', 'Anguish', 'Annihilate'\\\n",
    ", 'Apartheid', 'arms', 'Arsenal', 'Artillery', 'Assassin', 'Assassinate', 'Assault', 'atrocity', 'Attack', \\\n",
    "'Authority', 'Automatic']"
   ]
  },
  {
   "cell_type": "code",
   "execution_count": 22,
   "metadata": {
    "collapsed": false
   },
   "outputs": [],
   "source": [
    "b = ['Barrage', 'Barricade', 'Battle', 'Battlefield', 'Belligerent', 'Betrayal', 'Blast', 'Blindside',\\\n",
    "'Blood', 'Bloody', 'Bomb', 'Bombardment', 'Booby trap', 'Breach', 'Break', 'Brutal', 'Brutality', 'Brute',\\\n",
    "'Bullet', 'Bully', 'Burn','behead', 'bash']"
   ]
  },
  {
   "cell_type": "code",
   "execution_count": 25,
   "metadata": {
    "collapsed": false
   },
   "outputs": [],
   "source": [
    "c = ['Cadaver', 'Camouflage', 'Campaign', 'Captive', 'Capture', 'Careen', 'Carnage', 'Casualties', 'Cataclysm' 'Chaos',\\\n",
    "'Charge', 'Charred', 'Checking', 'Clandestine', 'Clash', 'Coalition', 'Collapse', 'Combat', 'Commandos', 'Concussion',\\\n",
    "'Conflagration', 'Conflict', 'Confrontation', 'Conquer', 'Conspiracy', 'Conspire', 'Control',\\\n",
    "'Corpse', 'Counterattack', 'Countermand', 'Crash', 'Crime', 'Crisis', 'Cross-hairs', 'chop',]"
   ]
  },
  {
   "cell_type": "code",
   "execution_count": 26,
   "metadata": {
    "collapsed": true
   },
   "outputs": [],
   "source": [
    "d = ['Damage', 'Danger', 'Dangerous', 'Dead', 'Deadly', 'Death', 'Deception',\\\n",
    "     'Demolish', 'Demoralize', 'Despot', 'Destroy', 'Destruction', 'Devastation',\\\n",
    "    'Dictator', 'Dictatorship', 'Die', 'Disarmament', 'Disaster', 'Disastrous', \\\n",
    "     'Disease', 'Dispute', 'Disruption', 'Dissonance', 'Division', 'Domination', 'Doom', 'Downfall', 'Dread']"
   ]
  },
  {
   "cell_type": "code",
   "execution_count": 27,
   "metadata": {
    "collapsed": true
   },
   "outputs": [],
   "source": [
    "e = ['Encounter', 'Enemy','enemies', 'Enforce', 'Engage','engaged', 'Epithet', 'Escalate', 'Excess', 'Execute',\\\n",
    "     'Execution', 'Explode', 'Exploitation','exploit', 'Explosion', 'Explosive', 'Expunge', 'Extremism', 'extreme']"
   ]
  },
  {
   "cell_type": "code",
   "execution_count": null,
   "metadata": {
    "collapsed": true
   },
   "outputs": [],
   "source": [
    "f = ['Faction', 'Fanatic', 'Fatal', 'Fear', 'Fearful', 'Felon', 'Ferment', 'Ferocious', 'Feud',\\\n",
    "    'Fierce', 'Fiery', 'Fight', 'Fighter', 'Force', 'Forceful', 'Forces', 'Fray', 'Frenzy',\\\n",
    "     'Front lines', 'Fuel', 'Fugitive', 'Furtive']"
   ]
  },
  {
   "cell_type": "code",
   "execution_count": null,
   "metadata": {
    "collapsed": true
   },
   "outputs": [],
   "source": []
  }
 ],
 "metadata": {
  "kernelspec": {
   "display_name": "Python 3",
   "language": "python",
   "name": "python3"
  },
  "language_info": {
   "codemirror_mode": {
    "name": "ipython",
    "version": 3
   },
   "file_extension": ".py",
   "mimetype": "text/x-python",
   "name": "python",
   "nbconvert_exporter": "python",
   "pygments_lexer": "ipython3",
   "version": "3.5.1"
  }
 },
 "nbformat": 4,
 "nbformat_minor": 0
}
