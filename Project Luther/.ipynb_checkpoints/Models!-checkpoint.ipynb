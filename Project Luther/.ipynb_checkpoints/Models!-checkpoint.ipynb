{
 "cells": [
  {
   "cell_type": "code",
   "execution_count": 86,
   "metadata": {
    "collapsed": true
   },
   "outputs": [],
   "source": [
    "import pandas as pd\n",
    "import numpy as np\n",
    "import pprint\n",
    "import matplotlib.pyplot as plt\n",
    "from sklearn import linear_model\n",
    "from patsy import dmatrices\n",
    "import statsmodels.api as sm\n",
    "from sklearn import cross_validation as cv\n",
    "from sklearn import metrics\n",
    "%matplotlib inline"
   ]
  },
  {
   "cell_type": "code",
   "execution_count": 13,
   "metadata": {
    "collapsed": false
   },
   "outputs": [],
   "source": [
    "with open('violent_words.txt', 'r') as vio:\n",
    "    read_data = vio.read()\n",
    "violent_list = read_data.split(',')\n",
    "violent = []\n",
    "for word in violent_list:\n",
    "    word = word[1:].lower()\n",
    "    violent.append(word)\n",
    "s_violent = sorted(violent)\n",
    "#s_violent[:20]"
   ]
  },
  {
   "cell_type": "code",
   "execution_count": 6,
   "metadata": {
    "collapsed": false
   },
   "outputs": [],
   "source": [
    "final_luther_df = pd.read_csv('final_luther_df.csv')"
   ]
  },
  {
   "cell_type": "code",
   "execution_count": 37,
   "metadata": {
    "collapsed": true
   },
   "outputs": [],
   "source": [
    "def eval_dict(x):\n",
    "    return dict(eval(x))\n",
    "\n",
    "def standardize(i):\n",
    "    return ((i - vw_pct_mean)/vw_pct_std)"
   ]
  },
  {
   "cell_type": "code",
   "execution_count": 16,
   "metadata": {
    "collapsed": false
   },
   "outputs": [],
   "source": [
    "final_luther_df['movie_script'] = final_luther_df['movie_script'].apply(eval_dict)\n",
    "final_luther_df['v_w_cnt'] = final_luther_df['movie_script'].apply(cnt_v_words)"
   ]
  },
  {
   "cell_type": "code",
   "execution_count": 39,
   "metadata": {
    "collapsed": false
   },
   "outputs": [],
   "source": [
    "script_wc = final_luther_df['script_wc'].tolist()\n",
    "v_w_cnt = final_luther_df['v_w_cnt'].tolist()\n",
    "final_luther_df['v_w_pct'] = [float(v_w_cnt[i]/script_wc[i]) for i in range(len(script_wc))]\n",
    "final_luther_df['z_score'] = final_luther_df['v_w_pct'].apply(standardize)"
   ]
  },
  {
   "cell_type": "code",
   "execution_count": 41,
   "metadata": {
    "collapsed": false
   },
   "outputs": [
    {
     "name": "stdout",
     "output_type": "stream",
     "text": [
      "0.02290008467378136\n",
      "0.009631509181754235\n"
     ]
    }
   ],
   "source": [
    "vw_pct_mean = final_luther_df['v_w_pct'].mean()\n",
    "vw_pct_std = final_luther_df['v_w_pct'].std()\n",
    "print(vw_pct_mean)\n",
    "print(vw_pct_std)"
   ]
  },
  {
   "cell_type": "code",
   "execution_count": 96,
   "metadata": {
    "collapsed": false
   },
   "outputs": [],
   "source": [
    "final_luther_df.head(2)"
   ]
  },
  {
   "cell_type": "code",
   "execution_count": 86,
   "metadata": {
    "collapsed": false
   },
   "outputs": [],
   "source": [
    "# plt.title('Word Count vs. Ratings Plot')\n",
    "# plt.axis([0, 25000, 2, 11])\n",
    "#plt.plot(np.array(act_data_df['script_wc']), np.array(act_data_df['ratings']), 'x' )\n",
    "# plt.savefig('mvp1.png', format='png')"
   ]
  },
  {
   "cell_type": "code",
   "execution_count": 45,
   "metadata": {
    "collapsed": false
   },
   "outputs": [],
   "source": [
    "#merged_dff['theaters'] == '2,311'"
   ]
  },
  {
   "cell_type": "code",
   "execution_count": 9,
   "metadata": {
    "collapsed": false
   },
   "outputs": [],
   "source": [
    "# word_score = merged_dff['fb_score_norm'].tolist()\n",
    "# ratings = merged_dff['ratings'].tolist()\n",
    "# plt.plot(word_score, ratings, 'x')\n",
    "# plt.axis([0, 40, 0, 11])\n",
    "# plt.title('Unrefined Word Score vs. Ratings Plot')\n",
    "# plt.savefig('mvp2.png', format='png')"
   ]
  },
  {
   "cell_type": "code",
   "execution_count": 42,
   "metadata": {
    "collapsed": false
   },
   "outputs": [
    {
     "data": {
      "text/plain": [
       "359"
      ]
     },
     "execution_count": 42,
     "metadata": {},
     "output_type": "execute_result"
    }
   ],
   "source": [
    "action_df = final_luther_df[final_luther_df['genre_action'] == 1]\n",
    "len(action_df)"
   ]
  },
  {
   "cell_type": "code",
   "execution_count": 67,
   "metadata": {
    "collapsed": false
   },
   "outputs": [
    {
     "data": {
      "text/html": [
       "<div>\n",
       "<table border=\"1\" class=\"dataframe\">\n",
       "  <thead>\n",
       "    <tr style=\"text-align: right;\">\n",
       "      <th></th>\n",
       "      <th>script_wc</th>\n",
       "      <th>fb_score_norm</th>\n",
       "      <th>theaters</th>\n",
       "      <th>lifetime_gross</th>\n",
       "      <th>ratings</th>\n",
       "      <th>z_score</th>\n",
       "    </tr>\n",
       "  </thead>\n",
       "  <tbody>\n",
       "    <tr>\n",
       "      <th>count</th>\n",
       "      <td>359.000000</td>\n",
       "      <td>359.000000</td>\n",
       "      <td>347.000000</td>\n",
       "      <td>3.580000e+02</td>\n",
       "      <td>359.000000</td>\n",
       "      <td>359.000000</td>\n",
       "    </tr>\n",
       "    <tr>\n",
       "      <th>mean</th>\n",
       "      <td>12198.740947</td>\n",
       "      <td>8.618713</td>\n",
       "      <td>2434.884726</td>\n",
       "      <td>8.685698e+07</td>\n",
       "      <td>6.768524</td>\n",
       "      <td>0.452913</td>\n",
       "    </tr>\n",
       "    <tr>\n",
       "      <th>std</th>\n",
       "      <td>2972.029531</td>\n",
       "      <td>6.682542</td>\n",
       "      <td>946.007509</td>\n",
       "      <td>9.152747e+07</td>\n",
       "      <td>1.062508</td>\n",
       "      <td>0.870220</td>\n",
       "    </tr>\n",
       "    <tr>\n",
       "      <th>min</th>\n",
       "      <td>288.000000</td>\n",
       "      <td>0.000000</td>\n",
       "      <td>24.000000</td>\n",
       "      <td>5.613100e+04</td>\n",
       "      <td>2.300000</td>\n",
       "      <td>-2.111401</td>\n",
       "    </tr>\n",
       "    <tr>\n",
       "      <th>25%</th>\n",
       "      <td>11018.000000</td>\n",
       "      <td>4.450876</td>\n",
       "      <td>1670.000000</td>\n",
       "      <td>2.678192e+07</td>\n",
       "      <td>6.300000</td>\n",
       "      <td>-0.143455</td>\n",
       "    </tr>\n",
       "    <tr>\n",
       "      <th>50%</th>\n",
       "      <td>12246.000000</td>\n",
       "      <td>6.805095</td>\n",
       "      <td>2515.000000</td>\n",
       "      <td>5.611755e+07</td>\n",
       "      <td>6.800000</td>\n",
       "      <td>0.378961</td>\n",
       "    </tr>\n",
       "    <tr>\n",
       "      <th>75%</th>\n",
       "      <td>13963.500000</td>\n",
       "      <td>10.484773</td>\n",
       "      <td>3184.500000</td>\n",
       "      <td>1.205407e+08</td>\n",
       "      <td>7.600000</td>\n",
       "      <td>0.963369</td>\n",
       "    </tr>\n",
       "    <tr>\n",
       "      <th>max</th>\n",
       "      <td>23305.000000</td>\n",
       "      <td>50.236049</td>\n",
       "      <td>4102.000000</td>\n",
       "      <td>7.605076e+08</td>\n",
       "      <td>8.900000</td>\n",
       "      <td>5.680584</td>\n",
       "    </tr>\n",
       "  </tbody>\n",
       "</table>\n",
       "</div>"
      ],
      "text/plain": [
       "          script_wc  fb_score_norm     theaters  lifetime_gross     ratings  \\\n",
       "count    359.000000     359.000000   347.000000    3.580000e+02  359.000000   \n",
       "mean   12198.740947       8.618713  2434.884726    8.685698e+07    6.768524   \n",
       "std     2972.029531       6.682542   946.007509    9.152747e+07    1.062508   \n",
       "min      288.000000       0.000000    24.000000    5.613100e+04    2.300000   \n",
       "25%    11018.000000       4.450876  1670.000000    2.678192e+07    6.300000   \n",
       "50%    12246.000000       6.805095  2515.000000    5.611755e+07    6.800000   \n",
       "75%    13963.500000      10.484773  3184.500000    1.205407e+08    7.600000   \n",
       "max    23305.000000      50.236049  4102.000000    7.605076e+08    8.900000   \n",
       "\n",
       "          z_score  \n",
       "count  359.000000  \n",
       "mean     0.452913  \n",
       "std      0.870220  \n",
       "min     -2.111401  \n",
       "25%     -0.143455  \n",
       "50%      0.378961  \n",
       "75%      0.963369  \n",
       "max      5.680584  "
      ]
     },
     "execution_count": 67,
     "metadata": {},
     "output_type": "execute_result"
    }
   ],
   "source": [
    "act_data_df = action_df[['script_wc', 'fb_score_norm', 'theaters','lifetime_gross', 'ratings', 'z_score']]\n",
    "act_data_df.describe()"
   ]
  },
  {
   "cell_type": "code",
   "execution_count": 76,
   "metadata": {
    "collapsed": false
   },
   "outputs": [
    {
     "data": {
      "text/plain": [
       "<matplotlib.figure.Figure at 0x139f82470>"
      ]
     },
     "execution_count": 76,
     "metadata": {},
     "output_type": "execute_result"
    },
    {
     "data": {
      "image/png": "[encoded data removed]",
      "text/plain": [
       "<matplotlib.figure.Figure at 0x1386eb198>"
      ]
     },
     "metadata": {},
     "output_type": "display_data"
    },
    {
     "data": {
      "text/plain": [
       "<matplotlib.figure.Figure at 0x139f82470>"
      ]
     },
     "metadata": {},
     "output_type": "display_data"
    }
   ],
   "source": [
    "fig = pd.tools.plotting.scatter_matrix(act_data_df)\n",
    "plt.figure(figsize=(50,50))\n",
    "#fig"
   ]
  },
  {
   "cell_type": "code",
   "execution_count": 100,
   "metadata": {
    "collapsed": false
   },
   "outputs": [],
   "source": [
    "y, X = dmatrices('ratings ~ script_wc + z_score + theaters', data = act_data_df, return_type = 'dataframe')"
   ]
  },
  {
   "cell_type": "code",
   "execution_count": 101,
   "metadata": {
    "collapsed": false
   },
   "outputs": [],
   "source": [
    "model = sm.OLS(y, X)\n",
    "results = model.fit()"
   ]
  },
  {
   "cell_type": "code",
   "execution_count": 102,
   "metadata": {
    "collapsed": false
   },
   "outputs": [
    {
     "data": {
      "text/html": [
       "<table class=\"simpletable\">\n",
       "<caption>OLS Regression Results</caption>\n",
       "<tr>\n",
       "  <th>Dep. Variable:</th>         <td>ratings</td>     <th>  R-squared:         </th> <td>   0.046</td>\n",
       "</tr>\n",
       "<tr>\n",
       "  <th>Model:</th>                   <td>OLS</td>       <th>  Adj. R-squared:    </th> <td>   0.037</td>\n",
       "</tr>\n",
       "<tr>\n",
       "  <th>Method:</th>             <td>Least Squares</td>  <th>  F-statistic:       </th> <td>   5.490</td>\n",
       "</tr>\n",
       "<tr>\n",
       "  <th>Date:</th>             <td>Thu, 14 Jul 2016</td> <th>  Prob (F-statistic):</th>  <td>0.00108</td>\n",
       "</tr>\n",
       "<tr>\n",
       "  <th>Time:</th>                 <td>15:17:15</td>     <th>  Log-Likelihood:    </th> <td> -502.34</td>\n",
       "</tr>\n",
       "<tr>\n",
       "  <th>No. Observations:</th>      <td>   347</td>      <th>  AIC:               </th> <td>   1013.</td>\n",
       "</tr>\n",
       "<tr>\n",
       "  <th>Df Residuals:</th>          <td>   343</td>      <th>  BIC:               </th> <td>   1028.</td>\n",
       "</tr>\n",
       "<tr>\n",
       "  <th>Df Model:</th>              <td>     3</td>      <th>                     </th>     <td> </td>   \n",
       "</tr>\n",
       "<tr>\n",
       "  <th>Covariance Type:</th>      <td>nonrobust</td>    <th>                     </th>     <td> </td>   \n",
       "</tr>\n",
       "</table>\n",
       "<table class=\"simpletable\">\n",
       "<tr>\n",
       "      <td></td>         <th>coef</th>     <th>std err</th>      <th>t</th>      <th>P>|t|</th> <th>[95.0% Conf. Int.]</th> \n",
       "</tr>\n",
       "<tr>\n",
       "  <th>Intercept</th> <td>    6.5392</td> <td>    0.257</td> <td>   25.476</td> <td> 0.000</td> <td>    6.034     7.044</td>\n",
       "</tr>\n",
       "<tr>\n",
       "  <th>script_wc</th> <td> 5.808e-05</td> <td> 1.92e-05</td> <td>    3.026</td> <td> 0.003</td> <td> 2.03e-05  9.58e-05</td>\n",
       "</tr>\n",
       "<tr>\n",
       "  <th>z_score</th>   <td>   -0.0354</td> <td>    0.065</td> <td>   -0.545</td> <td> 0.586</td> <td>   -0.163     0.092</td>\n",
       "</tr>\n",
       "<tr>\n",
       "  <th>theaters</th>  <td>   -0.0002</td> <td> 6.06e-05</td> <td>   -3.132</td> <td> 0.002</td> <td>   -0.000 -7.06e-05</td>\n",
       "</tr>\n",
       "</table>\n",
       "<table class=\"simpletable\">\n",
       "<tr>\n",
       "  <th>Omnibus:</th>       <td>53.756</td> <th>  Durbin-Watson:     </th> <td>   1.461</td>\n",
       "</tr>\n",
       "<tr>\n",
       "  <th>Prob(Omnibus):</th> <td> 0.000</td> <th>  Jarque-Bera (JB):  </th> <td>  92.742</td>\n",
       "</tr>\n",
       "<tr>\n",
       "  <th>Skew:</th>          <td>-0.893</td> <th>  Prob(JB):          </th> <td>7.27e-21</td>\n",
       "</tr>\n",
       "<tr>\n",
       "  <th>Kurtosis:</th>      <td> 4.796</td> <th>  Cond. No.          </th> <td>5.94e+04</td>\n",
       "</tr>\n",
       "</table>"
      ],
      "text/plain": [
       "<class 'statsmodels.iolib.summary.Summary'>\n",
       "\"\"\"\n",
       "                            OLS Regression Results                            \n",
       "==============================================================================\n",
       "Dep. Variable:                ratings   R-squared:                       0.046\n",
       "Model:                            OLS   Adj. R-squared:                  0.037\n",
       "Method:                 Least Squares   F-statistic:                     5.490\n",
       "Date:                Thu, 14 Jul 2016   Prob (F-statistic):            0.00108\n",
       "Time:                        15:17:15   Log-Likelihood:                -502.34\n",
       "No. Observations:                 347   AIC:                             1013.\n",
       "Df Residuals:                     343   BIC:                             1028.\n",
       "Df Model:                           3                                         \n",
       "Covariance Type:            nonrobust                                         \n",
       "==============================================================================\n",
       "                 coef    std err          t      P>|t|      [95.0% Conf. Int.]\n",
       "------------------------------------------------------------------------------\n",
       "Intercept      6.5392      0.257     25.476      0.000         6.034     7.044\n",
       "script_wc   5.808e-05   1.92e-05      3.026      0.003      2.03e-05  9.58e-05\n",
       "z_score       -0.0354      0.065     -0.545      0.586        -0.163     0.092\n",
       "theaters      -0.0002   6.06e-05     -3.132      0.002        -0.000 -7.06e-05\n",
       "==============================================================================\n",
       "Omnibus:                       53.756   Durbin-Watson:                   1.461\n",
       "Prob(Omnibus):                  0.000   Jarque-Bera (JB):               92.742\n",
       "Skew:                          -0.893   Prob(JB):                     7.27e-21\n",
       "Kurtosis:                       4.796   Cond. No.                     5.94e+04\n",
       "==============================================================================\n",
       "\n",
       "Warnings:\n",
       "[1] Standard Errors assume that the covariance matrix of the errors is correctly specified.\n",
       "[2] The condition number is large, 5.94e+04. This might indicate that there are\n",
       "strong multicollinearity or other numerical problems.\n",
       "\"\"\""
      ]
     },
     "execution_count": 102,
     "metadata": {},
     "output_type": "execute_result"
    }
   ],
   "source": [
    "results.summary()"
   ]
  },
  {
   "cell_type": "code",
   "execution_count": 87,
   "metadata": {
    "collapsed": true
   },
   "outputs": [],
   "source": [
    "m, n = dmatrices('lifetime_gross ~ script_wc + z_score', data = act_data_df, return_type = 'dataframe')"
   ]
  },
  {
   "cell_type": "code",
   "execution_count": 88,
   "metadata": {
    "collapsed": true
   },
   "outputs": [],
   "source": [
    "model2 = sm.OLS(m,n)\n",
    "results2 = model2.fit()"
   ]
  },
  {
   "cell_type": "code",
   "execution_count": 80,
   "metadata": {
    "collapsed": false
   },
   "outputs": [
    {
     "data": {
      "text/html": [
       "<table class=\"simpletable\">\n",
       "<caption>OLS Regression Results</caption>\n",
       "<tr>\n",
       "  <th>Dep. Variable:</th>     <td>lifetime_gross</td>  <th>  R-squared:         </th> <td>   0.051</td> \n",
       "</tr>\n",
       "<tr>\n",
       "  <th>Model:</th>                   <td>OLS</td>       <th>  Adj. R-squared:    </th> <td>   0.046</td> \n",
       "</tr>\n",
       "<tr>\n",
       "  <th>Method:</th>             <td>Least Squares</td>  <th>  F-statistic:       </th> <td>   9.553</td> \n",
       "</tr>\n",
       "<tr>\n",
       "  <th>Date:</th>             <td>Thu, 14 Jul 2016</td> <th>  Prob (F-statistic):</th> <td>9.10e-05</td> \n",
       "</tr>\n",
       "<tr>\n",
       "  <th>Time:</th>                 <td>14:52:40</td>     <th>  Log-Likelihood:    </th> <td> -7061.0</td> \n",
       "</tr>\n",
       "<tr>\n",
       "  <th>No. Observations:</th>      <td>   358</td>      <th>  AIC:               </th> <td>1.413e+04</td>\n",
       "</tr>\n",
       "<tr>\n",
       "  <th>Df Residuals:</th>          <td>   355</td>      <th>  BIC:               </th> <td>1.414e+04</td>\n",
       "</tr>\n",
       "<tr>\n",
       "  <th>Df Model:</th>              <td>     2</td>      <th>                     </th>     <td> </td>    \n",
       "</tr>\n",
       "<tr>\n",
       "  <th>Covariance Type:</th>      <td>nonrobust</td>    <th>                     </th>     <td> </td>    \n",
       "</tr>\n",
       "</table>\n",
       "<table class=\"simpletable\">\n",
       "<tr>\n",
       "      <td></td>         <th>coef</th>     <th>std err</th>      <th>t</th>      <th>P>|t|</th> <th>[95.0% Conf. Int.]</th> \n",
       "</tr>\n",
       "<tr>\n",
       "  <th>Intercept</th> <td> 2.788e+06</td> <td>    2e+07</td> <td>    0.140</td> <td> 0.889</td> <td>-3.65e+07  4.21e+07</td>\n",
       "</tr>\n",
       "<tr>\n",
       "  <th>script_wc</th> <td> 6780.6873</td> <td> 1604.294</td> <td>    4.227</td> <td> 0.000</td> <td> 3625.572  9935.803</td>\n",
       "</tr>\n",
       "<tr>\n",
       "  <th>z_score</th>   <td> 2.969e+06</td> <td> 5.48e+06</td> <td>    0.542</td> <td> 0.588</td> <td>-7.81e+06  1.37e+07</td>\n",
       "</tr>\n",
       "</table>\n",
       "<table class=\"simpletable\">\n",
       "<tr>\n",
       "  <th>Omnibus:</th>       <td>221.492</td> <th>  Durbin-Watson:     </th> <td>   1.308</td>\n",
       "</tr>\n",
       "<tr>\n",
       "  <th>Prob(Omnibus):</th> <td> 0.000</td>  <th>  Jarque-Bera (JB):  </th> <td>1977.535</td>\n",
       "</tr>\n",
       "<tr>\n",
       "  <th>Skew:</th>          <td> 2.520</td>  <th>  Prob(JB):          </th> <td>    0.00</td>\n",
       "</tr>\n",
       "<tr>\n",
       "  <th>Kurtosis:</th>      <td>13.353</td>  <th>  Cond. No.          </th> <td>5.31e+04</td>\n",
       "</tr>\n",
       "</table>"
      ],
      "text/plain": [
       "<class 'statsmodels.iolib.summary.Summary'>\n",
       "\"\"\"\n",
       "                            OLS Regression Results                            \n",
       "==============================================================================\n",
       "Dep. Variable:         lifetime_gross   R-squared:                       0.051\n",
       "Model:                            OLS   Adj. R-squared:                  0.046\n",
       "Method:                 Least Squares   F-statistic:                     9.553\n",
       "Date:                Thu, 14 Jul 2016   Prob (F-statistic):           9.10e-05\n",
       "Time:                        14:52:40   Log-Likelihood:                -7061.0\n",
       "No. Observations:                 358   AIC:                         1.413e+04\n",
       "Df Residuals:                     355   BIC:                         1.414e+04\n",
       "Df Model:                           2                                         \n",
       "Covariance Type:            nonrobust                                         \n",
       "==============================================================================\n",
       "                 coef    std err          t      P>|t|      [95.0% Conf. Int.]\n",
       "------------------------------------------------------------------------------\n",
       "Intercept   2.788e+06      2e+07      0.140      0.889     -3.65e+07  4.21e+07\n",
       "script_wc   6780.6873   1604.294      4.227      0.000      3625.572  9935.803\n",
       "z_score     2.969e+06   5.48e+06      0.542      0.588     -7.81e+06  1.37e+07\n",
       "==============================================================================\n",
       "Omnibus:                      221.492   Durbin-Watson:                   1.308\n",
       "Prob(Omnibus):                  0.000   Jarque-Bera (JB):             1977.535\n",
       "Skew:                           2.520   Prob(JB):                         0.00\n",
       "Kurtosis:                      13.353   Cond. No.                     5.31e+04\n",
       "==============================================================================\n",
       "\n",
       "Warnings:\n",
       "[1] Standard Errors assume that the covariance matrix of the errors is correctly specified.\n",
       "[2] The condition number is large, 5.31e+04. This might indicate that there are\n",
       "strong multicollinearity or other numerical problems.\n",
       "\"\"\""
      ]
     },
     "execution_count": 80,
     "metadata": {},
     "output_type": "execute_result"
    }
   ],
   "source": [
    "results2.summary()"
   ]
  },
  {
   "cell_type": "code",
   "execution_count": 90,
   "metadata": {
    "collapsed": true
   },
   "outputs": [],
   "source": [
    "a, b = dmatrices('lifetime_gross ~ theaters', data = act_data_df, return_type = 'dataframe')"
   ]
  },
  {
   "cell_type": "code",
   "execution_count": 91,
   "metadata": {
    "collapsed": true
   },
   "outputs": [],
   "source": [
    "model3 = sm.OLS(a,b)\n",
    "results3 = model3.fit()"
   ]
  },
  {
   "cell_type": "code",
   "execution_count": 92,
   "metadata": {
    "collapsed": false
   },
   "outputs": [
    {
     "data": {
      "text/html": [
       "<table class=\"simpletable\">\n",
       "<caption>OLS Regression Results</caption>\n",
       "<tr>\n",
       "  <th>Dep. Variable:</th>     <td>lifetime_gross</td>  <th>  R-squared:         </th> <td>   0.275</td> \n",
       "</tr>\n",
       "<tr>\n",
       "  <th>Model:</th>                   <td>OLS</td>       <th>  Adj. R-squared:    </th> <td>   0.273</td> \n",
       "</tr>\n",
       "<tr>\n",
       "  <th>Method:</th>             <td>Least Squares</td>  <th>  F-statistic:       </th> <td>   130.9</td> \n",
       "</tr>\n",
       "<tr>\n",
       "  <th>Date:</th>             <td>Thu, 14 Jul 2016</td> <th>  Prob (F-statistic):</th> <td>6.49e-26</td> \n",
       "</tr>\n",
       "<tr>\n",
       "  <th>Time:</th>                 <td>15:07:34</td>     <th>  Log-Likelihood:    </th> <td> -6800.3</td> \n",
       "</tr>\n",
       "<tr>\n",
       "  <th>No. Observations:</th>      <td>   347</td>      <th>  AIC:               </th> <td>1.360e+04</td>\n",
       "</tr>\n",
       "<tr>\n",
       "  <th>Df Residuals:</th>          <td>   345</td>      <th>  BIC:               </th> <td>1.361e+04</td>\n",
       "</tr>\n",
       "<tr>\n",
       "  <th>Df Model:</th>              <td>     1</td>      <th>                     </th>     <td> </td>    \n",
       "</tr>\n",
       "<tr>\n",
       "  <th>Covariance Type:</th>      <td>nonrobust</td>    <th>                     </th>     <td> </td>    \n",
       "</tr>\n",
       "</table>\n",
       "<table class=\"simpletable\">\n",
       "<tr>\n",
       "      <td></td>         <th>coef</th>     <th>std err</th>      <th>t</th>      <th>P>|t|</th> <th>[95.0% Conf. Int.]</th> \n",
       "</tr>\n",
       "<tr>\n",
       "  <th>Intercept</th> <td> -3.59e+07</td> <td> 1.17e+07</td> <td>   -3.073</td> <td> 0.002</td> <td>-5.89e+07 -1.29e+07</td>\n",
       "</tr>\n",
       "<tr>\n",
       "  <th>theaters</th>  <td> 5.119e+04</td> <td> 4473.873</td> <td>   11.441</td> <td> 0.000</td> <td> 4.24e+04     6e+04</td>\n",
       "</tr>\n",
       "</table>\n",
       "<table class=\"simpletable\">\n",
       "<tr>\n",
       "  <th>Omnibus:</th>       <td>276.220</td> <th>  Durbin-Watson:     </th> <td>   1.382</td>\n",
       "</tr>\n",
       "<tr>\n",
       "  <th>Prob(Omnibus):</th> <td> 0.000</td>  <th>  Jarque-Bera (JB):  </th> <td>4995.796</td>\n",
       "</tr>\n",
       "<tr>\n",
       "  <th>Skew:</th>          <td> 3.216</td>  <th>  Prob(JB):          </th> <td>    0.00</td>\n",
       "</tr>\n",
       "<tr>\n",
       "  <th>Kurtosis:</th>      <td>20.440</td>  <th>  Cond. No.          </th> <td>7.22e+03</td>\n",
       "</tr>\n",
       "</table>"
      ],
      "text/plain": [
       "<class 'statsmodels.iolib.summary.Summary'>\n",
       "\"\"\"\n",
       "                            OLS Regression Results                            \n",
       "==============================================================================\n",
       "Dep. Variable:         lifetime_gross   R-squared:                       0.275\n",
       "Model:                            OLS   Adj. R-squared:                  0.273\n",
       "Method:                 Least Squares   F-statistic:                     130.9\n",
       "Date:                Thu, 14 Jul 2016   Prob (F-statistic):           6.49e-26\n",
       "Time:                        15:07:34   Log-Likelihood:                -6800.3\n",
       "No. Observations:                 347   AIC:                         1.360e+04\n",
       "Df Residuals:                     345   BIC:                         1.361e+04\n",
       "Df Model:                           1                                         \n",
       "Covariance Type:            nonrobust                                         \n",
       "==============================================================================\n",
       "                 coef    std err          t      P>|t|      [95.0% Conf. Int.]\n",
       "------------------------------------------------------------------------------\n",
       "Intercept   -3.59e+07   1.17e+07     -3.073      0.002     -5.89e+07 -1.29e+07\n",
       "theaters    5.119e+04   4473.873     11.441      0.000      4.24e+04     6e+04\n",
       "==============================================================================\n",
       "Omnibus:                      276.220   Durbin-Watson:                   1.382\n",
       "Prob(Omnibus):                  0.000   Jarque-Bera (JB):             4995.796\n",
       "Skew:                           3.216   Prob(JB):                         0.00\n",
       "Kurtosis:                      20.440   Cond. No.                     7.22e+03\n",
       "==============================================================================\n",
       "\n",
       "Warnings:\n",
       "[1] Standard Errors assume that the covariance matrix of the errors is correctly specified.\n",
       "[2] The condition number is large, 7.22e+03. This might indicate that there are\n",
       "strong multicollinearity or other numerical problems.\n",
       "\"\"\""
      ]
     },
     "execution_count": 92,
     "metadata": {},
     "output_type": "execute_result"
    }
   ],
   "source": [
    "results3.summary()"
   ]
  },
  {
   "cell_type": "code",
   "execution_count": 89,
   "metadata": {
    "collapsed": false
   },
   "outputs": [
    {
     "data": {
      "text/plain": [
       "0.050284569403075366"
      ]
     },
     "execution_count": 89,
     "metadata": {},
     "output_type": "execute_result"
    }
   ],
   "source": [
    "from sklearn.linear_model import LinearRegression\n",
    "\n",
    "model = LinearRegression()\n",
    "model.fit(m,n)\n",
    "\n",
    "model.score(m,n)"
   ]
  },
  {
   "cell_type": "code",
   "execution_count": null,
   "metadata": {
    "collapsed": false
   },
   "outputs": [],
   "source": []
  },
  {
   "cell_type": "code",
   "execution_count": null,
   "metadata": {
    "collapsed": true
   },
   "outputs": [],
   "source": []
  }
 ],
 "metadata": {
  "kernelspec": {
   "display_name": "Python 3",
   "language": "python",
   "name": "python3"
  },
  "language_info": {
   "codemirror_mode": {
    "name": "ipython",
    "version": 3
   },
   "file_extension": ".py",
   "mimetype": "text/x-python",
   "name": "python",
   "nbconvert_exporter": "python",
   "pygments_lexer": "ipython3",
   "version": "3.5.1"
  }
 },
 "nbformat": 4,
 "nbformat_minor": 0
}
