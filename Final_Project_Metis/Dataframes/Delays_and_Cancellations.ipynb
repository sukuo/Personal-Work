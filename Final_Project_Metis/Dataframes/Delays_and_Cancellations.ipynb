{
 "cells": [
  {
   "cell_type": "markdown",
   "metadata": {},
   "source": [
    "## Import and Organize Flight Delay Data"
   ]
  },
  {
   "cell_type": "code",
   "execution_count": 1,
   "metadata": {
    "collapsed": true
   },
   "outputs": [],
   "source": [
    "import pandas as pd\n",
    "import numpy as np\n",
    "from collections import Counter\n",
    "import matplotlib.pyplot as plt\n",
    "%matplotlib inline"
   ]
  },
  {
   "cell_type": "code",
   "execution_count": 2,
   "metadata": {
    "collapsed": true
   },
   "outputs": [],
   "source": [
    "flight_df1 = pd.read_csv('1024041396_T_ONTIME.csv')"
   ]
  },
  {
   "cell_type": "code",
   "execution_count": 3,
   "metadata": {
    "collapsed": true
   },
   "outputs": [],
   "source": [
    "flight_df2 = pd.read_csv('1019340177_T_ONTIME.csv')"
   ]
  },
  {
   "cell_type": "code",
   "execution_count": 4,
   "metadata": {
    "collapsed": true
   },
   "outputs": [],
   "source": [
    "flight_df3 = pd.read_csv('1019340177_T_ONTIME 2.csv')"
   ]
  },
  {
   "cell_type": "code",
   "execution_count": 5,
   "metadata": {
    "collapsed": false
   },
   "outputs": [
    {
     "data": {
      "text/html": [
       "<div>\n",
       "<table border=\"1\" class=\"dataframe\">\n",
       "  <thead>\n",
       "    <tr style=\"text-align: right;\">\n",
       "      <th></th>\n",
       "      <th>FL_DATE</th>\n",
       "      <th>UNIQUE_CARRIER</th>\n",
       "      <th>AIRLINE_ID</th>\n",
       "      <th>ORIGIN_AIRPORT_ID</th>\n",
       "      <th>ORIGIN</th>\n",
       "      <th>ORIGIN_CITY_NAME</th>\n",
       "      <th>ORIGIN_STATE_ABR</th>\n",
       "      <th>DEST_AIRPORT_ID</th>\n",
       "      <th>DEST</th>\n",
       "      <th>DEST_CITY_NAME</th>\n",
       "      <th>...</th>\n",
       "      <th>DEP_DELAY_NEW</th>\n",
       "      <th>ARR_DELAY</th>\n",
       "      <th>ARR_DELAY_NEW</th>\n",
       "      <th>CANCELLED</th>\n",
       "      <th>ACTUAL_ELAPSED_TIME</th>\n",
       "      <th>FLIGHTS</th>\n",
       "      <th>DISTANCE</th>\n",
       "      <th>CARRIER_DELAY</th>\n",
       "      <th>WEATHER_DELAY</th>\n",
       "      <th>Unnamed: 21</th>\n",
       "    </tr>\n",
       "  </thead>\n",
       "  <tbody>\n",
       "    <tr>\n",
       "      <th>0</th>\n",
       "      <td>2016-06-01</td>\n",
       "      <td>AA</td>\n",
       "      <td>19805</td>\n",
       "      <td>12478</td>\n",
       "      <td>JFK</td>\n",
       "      <td>New York, NY</td>\n",
       "      <td>NY</td>\n",
       "      <td>12892</td>\n",
       "      <td>LAX</td>\n",
       "      <td>Los Angeles, CA</td>\n",
       "      <td>...</td>\n",
       "      <td>0.0</td>\n",
       "      <td>-33.0</td>\n",
       "      <td>0.0</td>\n",
       "      <td>0.0</td>\n",
       "      <td>347.0</td>\n",
       "      <td>1.0</td>\n",
       "      <td>2475.0</td>\n",
       "      <td>NaN</td>\n",
       "      <td>NaN</td>\n",
       "      <td>NaN</td>\n",
       "    </tr>\n",
       "    <tr>\n",
       "      <th>1</th>\n",
       "      <td>2016-06-01</td>\n",
       "      <td>AA</td>\n",
       "      <td>19805</td>\n",
       "      <td>12892</td>\n",
       "      <td>LAX</td>\n",
       "      <td>Los Angeles, CA</td>\n",
       "      <td>CA</td>\n",
       "      <td>12478</td>\n",
       "      <td>JFK</td>\n",
       "      <td>New York, NY</td>\n",
       "      <td>...</td>\n",
       "      <td>0.0</td>\n",
       "      <td>-5.0</td>\n",
       "      <td>0.0</td>\n",
       "      <td>0.0</td>\n",
       "      <td>335.0</td>\n",
       "      <td>1.0</td>\n",
       "      <td>2475.0</td>\n",
       "      <td>NaN</td>\n",
       "      <td>NaN</td>\n",
       "      <td>NaN</td>\n",
       "    </tr>\n",
       "  </tbody>\n",
       "</table>\n",
       "<p>2 rows × 22 columns</p>\n",
       "</div>"
      ],
      "text/plain": [
       "      FL_DATE UNIQUE_CARRIER  AIRLINE_ID  ORIGIN_AIRPORT_ID ORIGIN  \\\n",
       "0  2016-06-01             AA       19805              12478    JFK   \n",
       "1  2016-06-01             AA       19805              12892    LAX   \n",
       "\n",
       "  ORIGIN_CITY_NAME ORIGIN_STATE_ABR  DEST_AIRPORT_ID DEST   DEST_CITY_NAME  \\\n",
       "0     New York, NY               NY            12892  LAX  Los Angeles, CA   \n",
       "1  Los Angeles, CA               CA            12478  JFK     New York, NY   \n",
       "\n",
       "      ...      DEP_DELAY_NEW  ARR_DELAY  ARR_DELAY_NEW  CANCELLED  \\\n",
       "0     ...                0.0      -33.0            0.0        0.0   \n",
       "1     ...                0.0       -5.0            0.0        0.0   \n",
       "\n",
       "   ACTUAL_ELAPSED_TIME  FLIGHTS  DISTANCE  CARRIER_DELAY  WEATHER_DELAY  \\\n",
       "0                347.0      1.0    2475.0            NaN            NaN   \n",
       "1                335.0      1.0    2475.0            NaN            NaN   \n",
       "\n",
       "   Unnamed: 21  \n",
       "0          NaN  \n",
       "1          NaN  \n",
       "\n",
       "[2 rows x 22 columns]"
      ]
     },
     "execution_count": 5,
     "metadata": {},
     "output_type": "execute_result"
    }
   ],
   "source": [
    "flight_df1.head(2)"
   ]
  },
  {
   "cell_type": "code",
   "execution_count": 6,
   "metadata": {
    "collapsed": true
   },
   "outputs": [],
   "source": [
    "airline_lookup = pd.read_csv('L_UNIQUE_CARRIERS.csv')\n",
    "#Import airline names for identification"
   ]
  },
  {
   "cell_type": "code",
   "execution_count": 7,
   "metadata": {
    "collapsed": false
   },
   "outputs": [
    {
     "data": {
      "text/plain": [
       "Index(['UNIQUE_CARRIER', 'airline_name'], dtype='object')"
      ]
     },
     "execution_count": 7,
     "metadata": {},
     "output_type": "execute_result"
    }
   ],
   "source": [
    "airline_lookup.columns = ['UNIQUE_CARRIER', 'airline_name']\n",
    "airline_lookup.columns"
   ]
  },
  {
   "cell_type": "code",
   "execution_count": 8,
   "metadata": {
    "collapsed": false,
    "scrolled": true
   },
   "outputs": [
    {
     "data": {
      "text/plain": [
       "Index(['FL_DATE', 'UNIQUE_CARRIER', 'AIRLINE_ID', 'ORIGIN_AIRPORT_ID',\n",
       "       'ORIGIN', 'ORIGIN_CITY_NAME', 'ORIGIN_STATE_ABR', 'DEST_AIRPORT_ID',\n",
       "       'DEST', 'DEST_CITY_NAME', 'DEST_STATE_ABR', 'DEP_DELAY',\n",
       "       'DEP_DELAY_NEW', 'ARR_DELAY', 'ARR_DELAY_NEW', 'CANCELLED',\n",
       "       'ACTUAL_ELAPSED_TIME', 'FLIGHTS', 'DISTANCE', 'CARRIER_DELAY',\n",
       "       'WEATHER_DELAY', 'Unnamed: 21'],\n",
       "      dtype='object')"
      ]
     },
     "execution_count": 8,
     "metadata": {},
     "output_type": "execute_result"
    }
   ],
   "source": [
    "flight_df1.columns"
   ]
  },
  {
   "cell_type": "code",
   "execution_count": 9,
   "metadata": {
    "collapsed": false
   },
   "outputs": [],
   "source": [
    "frames = [flight_df1, flight_df2, flight_df3]"
   ]
  },
  {
   "cell_type": "code",
   "execution_count": 11,
   "metadata": {
    "collapsed": false
   },
   "outputs": [
    {
     "data": {
      "text/plain": [
       "1428625"
      ]
     },
     "execution_count": 11,
     "metadata": {},
     "output_type": "execute_result"
    }
   ],
   "source": [
    "flight_df1 = pd.concat(frames)\n",
    "len(flight_df1)"
   ]
  },
  {
   "cell_type": "code",
   "execution_count": 12,
   "metadata": {
    "collapsed": false
   },
   "outputs": [],
   "source": [
    "flight_df1 = pd.merge(airline_lookup, flight_df1, on='UNIQUE_CARRIER')"
   ]
  },
  {
   "cell_type": "code",
   "execution_count": 13,
   "metadata": {
    "collapsed": false
   },
   "outputs": [
    {
     "data": {
      "text/plain": [
       "Index(['UNIQUE_CARRIER', 'airline_name', 'FL_DATE', 'AIRLINE_ID',\n",
       "       'ORIGIN_AIRPORT_ID', 'ORIGIN', 'ORIGIN_CITY_NAME', 'ORIGIN_STATE_ABR',\n",
       "       'DEST_AIRPORT_ID', 'DEST', 'DEST_CITY_NAME', 'DEST_STATE_ABR',\n",
       "       'DEP_DELAY', 'DEP_DELAY_NEW', 'ARR_DELAY', 'ARR_DELAY_NEW', 'CANCELLED',\n",
       "       'ACTUAL_ELAPSED_TIME', 'FLIGHTS', 'DISTANCE', 'CARRIER_DELAY',\n",
       "       'WEATHER_DELAY', 'Unnamed: 21'],\n",
       "      dtype='object')"
      ]
     },
     "execution_count": 13,
     "metadata": {},
     "output_type": "execute_result"
    }
   ],
   "source": [
    "#sum(flight_df1['airline_name_y'].value_counts())\n",
    "flight_df1.columns"
   ]
  },
  {
   "cell_type": "code",
   "execution_count": 14,
   "metadata": {
    "collapsed": true
   },
   "outputs": [],
   "source": [
    "#df.drop('column_name', axis=1, inplace=True)\n",
    "#flight_df1.drop('airline_name_y', axis=1, inplace=True)"
   ]
  },
  {
   "cell_type": "code",
   "execution_count": 15,
   "metadata": {
    "collapsed": false
   },
   "outputs": [],
   "source": [
    "flight_no_nan = flight_df1.replace(np.nan, 0)"
   ]
  },
  {
   "cell_type": "code",
   "execution_count": 16,
   "metadata": {
    "collapsed": false
   },
   "outputs": [
    {
     "data": {
      "text/html": [
       "<div>\n",
       "<table border=\"1\" class=\"dataframe\">\n",
       "  <thead>\n",
       "    <tr style=\"text-align: right;\">\n",
       "      <th></th>\n",
       "      <th>UNIQUE_CARRIER</th>\n",
       "      <th>airline_name</th>\n",
       "      <th>FL_DATE</th>\n",
       "      <th>AIRLINE_ID</th>\n",
       "      <th>ORIGIN_AIRPORT_ID</th>\n",
       "      <th>ORIGIN</th>\n",
       "      <th>ORIGIN_CITY_NAME</th>\n",
       "      <th>ORIGIN_STATE_ABR</th>\n",
       "      <th>DEST_AIRPORT_ID</th>\n",
       "      <th>DEST</th>\n",
       "      <th>...</th>\n",
       "      <th>DEP_DELAY_NEW</th>\n",
       "      <th>ARR_DELAY</th>\n",
       "      <th>ARR_DELAY_NEW</th>\n",
       "      <th>CANCELLED</th>\n",
       "      <th>ACTUAL_ELAPSED_TIME</th>\n",
       "      <th>FLIGHTS</th>\n",
       "      <th>DISTANCE</th>\n",
       "      <th>CARRIER_DELAY</th>\n",
       "      <th>WEATHER_DELAY</th>\n",
       "      <th>Unnamed: 21</th>\n",
       "    </tr>\n",
       "  </thead>\n",
       "  <tbody>\n",
       "    <tr>\n",
       "      <th>0</th>\n",
       "      <td>AA</td>\n",
       "      <td>American Airlines Inc.</td>\n",
       "      <td>2016-06-01</td>\n",
       "      <td>19805</td>\n",
       "      <td>12478</td>\n",
       "      <td>JFK</td>\n",
       "      <td>New York, NY</td>\n",
       "      <td>NY</td>\n",
       "      <td>12892</td>\n",
       "      <td>LAX</td>\n",
       "      <td>...</td>\n",
       "      <td>0.0</td>\n",
       "      <td>-33.0</td>\n",
       "      <td>0.0</td>\n",
       "      <td>0.0</td>\n",
       "      <td>347.0</td>\n",
       "      <td>1.0</td>\n",
       "      <td>2475.0</td>\n",
       "      <td>0.0</td>\n",
       "      <td>0.0</td>\n",
       "      <td>0.0</td>\n",
       "    </tr>\n",
       "    <tr>\n",
       "      <th>1</th>\n",
       "      <td>AA</td>\n",
       "      <td>American Airlines Inc.</td>\n",
       "      <td>2016-06-01</td>\n",
       "      <td>19805</td>\n",
       "      <td>12892</td>\n",
       "      <td>LAX</td>\n",
       "      <td>Los Angeles, CA</td>\n",
       "      <td>CA</td>\n",
       "      <td>12478</td>\n",
       "      <td>JFK</td>\n",
       "      <td>...</td>\n",
       "      <td>0.0</td>\n",
       "      <td>-5.0</td>\n",
       "      <td>0.0</td>\n",
       "      <td>0.0</td>\n",
       "      <td>335.0</td>\n",
       "      <td>1.0</td>\n",
       "      <td>2475.0</td>\n",
       "      <td>0.0</td>\n",
       "      <td>0.0</td>\n",
       "      <td>0.0</td>\n",
       "    </tr>\n",
       "    <tr>\n",
       "      <th>2</th>\n",
       "      <td>AA</td>\n",
       "      <td>American Airlines Inc.</td>\n",
       "      <td>2016-06-01</td>\n",
       "      <td>19805</td>\n",
       "      <td>12478</td>\n",
       "      <td>JFK</td>\n",
       "      <td>New York, NY</td>\n",
       "      <td>NY</td>\n",
       "      <td>12892</td>\n",
       "      <td>LAX</td>\n",
       "      <td>...</td>\n",
       "      <td>66.0</td>\n",
       "      <td>32.0</td>\n",
       "      <td>32.0</td>\n",
       "      <td>0.0</td>\n",
       "      <td>336.0</td>\n",
       "      <td>1.0</td>\n",
       "      <td>2475.0</td>\n",
       "      <td>32.0</td>\n",
       "      <td>0.0</td>\n",
       "      <td>0.0</td>\n",
       "    </tr>\n",
       "    <tr>\n",
       "      <th>3</th>\n",
       "      <td>AA</td>\n",
       "      <td>American Airlines Inc.</td>\n",
       "      <td>2016-06-01</td>\n",
       "      <td>19805</td>\n",
       "      <td>12892</td>\n",
       "      <td>LAX</td>\n",
       "      <td>Los Angeles, CA</td>\n",
       "      <td>CA</td>\n",
       "      <td>12478</td>\n",
       "      <td>JFK</td>\n",
       "      <td>...</td>\n",
       "      <td>0.0</td>\n",
       "      <td>-14.0</td>\n",
       "      <td>0.0</td>\n",
       "      <td>0.0</td>\n",
       "      <td>332.0</td>\n",
       "      <td>1.0</td>\n",
       "      <td>2475.0</td>\n",
       "      <td>0.0</td>\n",
       "      <td>0.0</td>\n",
       "      <td>0.0</td>\n",
       "    </tr>\n",
       "    <tr>\n",
       "      <th>4</th>\n",
       "      <td>AA</td>\n",
       "      <td>American Airlines Inc.</td>\n",
       "      <td>2016-06-01</td>\n",
       "      <td>19805</td>\n",
       "      <td>11298</td>\n",
       "      <td>DFW</td>\n",
       "      <td>Dallas/Fort Worth, TX</td>\n",
       "      <td>TX</td>\n",
       "      <td>12173</td>\n",
       "      <td>HNL</td>\n",
       "      <td>...</td>\n",
       "      <td>35.0</td>\n",
       "      <td>11.0</td>\n",
       "      <td>11.0</td>\n",
       "      <td>0.0</td>\n",
       "      <td>492.0</td>\n",
       "      <td>1.0</td>\n",
       "      <td>3784.0</td>\n",
       "      <td>0.0</td>\n",
       "      <td>0.0</td>\n",
       "      <td>0.0</td>\n",
       "    </tr>\n",
       "  </tbody>\n",
       "</table>\n",
       "<p>5 rows × 23 columns</p>\n",
       "</div>"
      ],
      "text/plain": [
       "  UNIQUE_CARRIER            airline_name     FL_DATE  AIRLINE_ID  \\\n",
       "0             AA  American Airlines Inc.  2016-06-01       19805   \n",
       "1             AA  American Airlines Inc.  2016-06-01       19805   \n",
       "2             AA  American Airlines Inc.  2016-06-01       19805   \n",
       "3             AA  American Airlines Inc.  2016-06-01       19805   \n",
       "4             AA  American Airlines Inc.  2016-06-01       19805   \n",
       "\n",
       "   ORIGIN_AIRPORT_ID ORIGIN       ORIGIN_CITY_NAME ORIGIN_STATE_ABR  \\\n",
       "0              12478    JFK           New York, NY               NY   \n",
       "1              12892    LAX        Los Angeles, CA               CA   \n",
       "2              12478    JFK           New York, NY               NY   \n",
       "3              12892    LAX        Los Angeles, CA               CA   \n",
       "4              11298    DFW  Dallas/Fort Worth, TX               TX   \n",
       "\n",
       "   DEST_AIRPORT_ID DEST     ...      DEP_DELAY_NEW ARR_DELAY  ARR_DELAY_NEW  \\\n",
       "0            12892  LAX     ...                0.0     -33.0            0.0   \n",
       "1            12478  JFK     ...                0.0      -5.0            0.0   \n",
       "2            12892  LAX     ...               66.0      32.0           32.0   \n",
       "3            12478  JFK     ...                0.0     -14.0            0.0   \n",
       "4            12173  HNL     ...               35.0      11.0           11.0   \n",
       "\n",
       "   CANCELLED  ACTUAL_ELAPSED_TIME  FLIGHTS  DISTANCE  CARRIER_DELAY  \\\n",
       "0        0.0                347.0      1.0    2475.0            0.0   \n",
       "1        0.0                335.0      1.0    2475.0            0.0   \n",
       "2        0.0                336.0      1.0    2475.0           32.0   \n",
       "3        0.0                332.0      1.0    2475.0            0.0   \n",
       "4        0.0                492.0      1.0    3784.0            0.0   \n",
       "\n",
       "   WEATHER_DELAY  Unnamed: 21  \n",
       "0            0.0          0.0  \n",
       "1            0.0          0.0  \n",
       "2            0.0          0.0  \n",
       "3            0.0          0.0  \n",
       "4            0.0          0.0  \n",
       "\n",
       "[5 rows x 23 columns]"
      ]
     },
     "execution_count": 16,
     "metadata": {},
     "output_type": "execute_result"
    }
   ],
   "source": [
    "flight_no_nan.head()"
   ]
  },
  {
   "cell_type": "code",
   "execution_count": 17,
   "metadata": {
    "collapsed": false
   },
   "outputs": [
    {
     "data": {
      "text/plain": [
       "1428625.0"
      ]
     },
     "execution_count": 17,
     "metadata": {},
     "output_type": "execute_result"
    }
   ],
   "source": [
    "sum(flight_no_nan['FLIGHTS'])"
   ]
  },
  {
   "cell_type": "code",
   "execution_count": 18,
   "metadata": {
    "collapsed": false
   },
   "outputs": [],
   "source": [
    "#departure delay minutes by airline\n",
    "dep_delay_totals = flight_no_nan.groupby(['UNIQUE_CARRIER'])['DEP_DELAY'].sum()\n",
    "dep_delay_averages= flight_no_nan.groupby(['UNIQUE_CARRIER'])['DEP_DELAY'].mean()\n",
    "dep_delay_var= flight_no_nan.groupby(['UNIQUE_CARRIER'])['DEP_DELAY'].var()"
   ]
  },
  {
   "cell_type": "code",
   "execution_count": 19,
   "metadata": {
    "collapsed": false
   },
   "outputs": [],
   "source": [
    "#arrival delays and averages\n",
    "arr_delay_totals = flight_no_nan.groupby(['UNIQUE_CARRIER'])['ARR_DELAY'].sum()\n",
    "arr_delay_averages = flight_no_nan.groupby(['UNIQUE_CARRIER'])['ARR_DELAY'].mean()\n",
    "arr_delay_var = flight_no_nan.groupby(['UNIQUE_CARRIER'])['ARR_DELAY'].var()"
   ]
  },
  {
   "cell_type": "code",
   "execution_count": 20,
   "metadata": {
    "collapsed": true
   },
   "outputs": [],
   "source": [
    "#total delay minutes by airline\n",
    "weather_del_tot = flight_no_nan.groupby(['UNIQUE_CARRIER'])['WEATHER_DELAY'].sum()\n",
    "carrier_del_tot = flight_no_nan.groupby(['UNIQUE_CARRIER'])['CARRIER_DELAY'].sum()"
   ]
  },
  {
   "cell_type": "code",
   "execution_count": 21,
   "metadata": {
    "collapsed": false
   },
   "outputs": [],
   "source": [
    "#total number of flights by airline\n",
    "tot_flights = flight_no_nan.groupby(['UNIQUE_CARRIER'])['FLIGHTS'].sum()"
   ]
  },
  {
   "cell_type": "code",
   "execution_count": 22,
   "metadata": {
    "collapsed": true
   },
   "outputs": [],
   "source": [
    "#total number of cancellations by airline\n",
    "tot_canc = flight_no_nan.groupby(['UNIQUE_CARRIER'])['CANCELLED'].sum()"
   ]
  },
  {
   "cell_type": "code",
   "execution_count": 23,
   "metadata": {
    "collapsed": false
   },
   "outputs": [
    {
     "data": {
      "text/plain": [
       "23"
      ]
     },
     "execution_count": 23,
     "metadata": {},
     "output_type": "execute_result"
    }
   ],
   "source": [
    "len(flight_df1.columns)"
   ]
  },
  {
   "cell_type": "markdown",
   "metadata": {},
   "source": [
    "## Analysis of Routes"
   ]
  },
  {
   "cell_type": "code",
   "execution_count": 24,
   "metadata": {
    "collapsed": false
   },
   "outputs": [],
   "source": [
    "origin_destination = flight_df1[['UNIQUE_CARRIER', 'airline_name', 'ORIGIN', 'ORIGIN_CITY_NAME', 'DEST',\n",
    "                                 'DEST_CITY_NAME', 'DISTANCE', 'WEATHER_DELAY', 'CARRIER_DELAY', 'FLIGHTS']]"
   ]
  },
  {
   "cell_type": "code",
   "execution_count": 25,
   "metadata": {
    "collapsed": false
   },
   "outputs": [
    {
     "name": "stderr",
     "output_type": "stream",
     "text": [
      "/Users/sunkuo/anaconda/lib/python3.5/site-packages/ipykernel/__main__.py:1: SettingWithCopyWarning: \n",
      "A value is trying to be set on a copy of a slice from a DataFrame.\n",
      "Try using .loc[row_indexer,col_indexer] = value instead\n",
      "\n",
      "See the caveats in the documentation: http://pandas.pydata.org/pandas-docs/stable/indexing.html#indexing-view-versus-copy\n",
      "  if __name__ == '__main__':\n"
     ]
    }
   ],
   "source": [
    "origin_destination['total_delay'] = origin_destination['WEATHER_DELAY'].radd(origin_destination['CARRIER_DELAY'])"
   ]
  },
  {
   "cell_type": "code",
   "execution_count": 26,
   "metadata": {
    "collapsed": false
   },
   "outputs": [],
   "source": [
    "# origin_destination.head()"
   ]
  },
  {
   "cell_type": "code",
   "execution_count": 27,
   "metadata": {
    "collapsed": false
   },
   "outputs": [
    {
     "name": "stderr",
     "output_type": "stream",
     "text": [
      "/Users/sunkuo/anaconda/lib/python3.5/site-packages/ipykernel/__main__.py:1: SettingWithCopyWarning: \n",
      "A value is trying to be set on a copy of a slice from a DataFrame\n",
      "\n",
      "See the caveats in the documentation: http://pandas.pydata.org/pandas-docs/stable/indexing.html#indexing-view-versus-copy\n",
      "  if __name__ == '__main__':\n"
     ]
    }
   ],
   "source": [
    "origin_destination.replace(np.nan, 0, inplace = True)"
   ]
  },
  {
   "cell_type": "code",
   "execution_count": 28,
   "metadata": {
    "collapsed": false
   },
   "outputs": [],
   "source": [
    "cancellations = flight_df1.groupby(['UNIQUE_CARRIER'])['CANCELLED'].sum()\n",
    "#cancellations"
   ]
  },
  {
   "cell_type": "code",
   "execution_count": 29,
   "metadata": {
    "collapsed": false
   },
   "outputs": [],
   "source": [
    "carrier_delay = flight_df1.groupby(['UNIQUE_CARRIER'])['CARRIER_DELAY'].sum()\n",
    "#carrier delay"
   ]
  },
  {
   "cell_type": "code",
   "execution_count": 30,
   "metadata": {
    "collapsed": false
   },
   "outputs": [],
   "source": [
    "weather_delay = flight_df1.groupby(['UNIQUE_CARRIER'])['WEATHER_DELAY'].sum()\n",
    "#weather_delay"
   ]
  },
  {
   "cell_type": "code",
   "execution_count": 31,
   "metadata": {
    "collapsed": false
   },
   "outputs": [
    {
     "name": "stderr",
     "output_type": "stream",
     "text": [
      "/Users/sunkuo/anaconda/lib/python3.5/site-packages/ipykernel/__main__.py:1: SettingWithCopyWarning: \n",
      "A value is trying to be set on a copy of a slice from a DataFrame.\n",
      "Try using .loc[row_indexer,col_indexer] = value instead\n",
      "\n",
      "See the caveats in the documentation: http://pandas.pydata.org/pandas-docs/stable/indexing.html#indexing-view-versus-copy\n",
      "  if __name__ == '__main__':\n",
      "/Users/sunkuo/anaconda/lib/python3.5/site-packages/ipykernel/__main__.py:2: SettingWithCopyWarning: \n",
      "A value is trying to be set on a copy of a slice from a DataFrame.\n",
      "Try using .loc[row_indexer,col_indexer] = value instead\n",
      "\n",
      "See the caveats in the documentation: http://pandas.pydata.org/pandas-docs/stable/indexing.html#indexing-view-versus-copy\n",
      "  from ipykernel import kernelapp as app\n"
     ]
    }
   ],
   "source": [
    "# origin_destination['airport_routes'] = origin_destination[['ORIGIN', 'DEST']].apply(tuple, axis=1)\n",
    "# origin_destination['city_routes'] = origin_destination[['ORIGIN_CITY_NAME', 'DEST_CITY_NAME']].apply(tuple, axis=1)"
   ]
  },
  {
   "cell_type": "code",
   "execution_count": 32,
   "metadata": {
    "collapsed": false
   },
   "outputs": [
    {
     "name": "stderr",
     "output_type": "stream",
     "text": [
      "/Users/sunkuo/anaconda/lib/python3.5/site-packages/ipykernel/__main__.py:1: SettingWithCopyWarning: \n",
      "A value is trying to be set on a copy of a slice from a DataFrame.\n",
      "Try using .loc[row_indexer,col_indexer] = value instead\n",
      "\n",
      "See the caveats in the documentation: http://pandas.pydata.org/pandas-docs/stable/indexing.html#indexing-view-versus-copy\n",
      "  if __name__ == '__main__':\n",
      "/Users/sunkuo/anaconda/lib/python3.5/site-packages/ipykernel/__main__.py:2: SettingWithCopyWarning: \n",
      "A value is trying to be set on a copy of a slice from a DataFrame.\n",
      "Try using .loc[row_indexer,col_indexer] = value instead\n",
      "\n",
      "See the caveats in the documentation: http://pandas.pydata.org/pandas-docs/stable/indexing.html#indexing-view-versus-copy\n",
      "  from ipykernel import kernelapp as app\n"
     ]
    }
   ],
   "source": [
    "origin_destination['airport_routes'] = origin_destination.loc[:,('ORIGIN', 'DEST')].apply(tuple, axis=1)\n",
    "origin_destination['city_routes'] = origin_destination.loc[:,('ORIGIN_CITY_NAME', 'DEST_CITY_NAME')].apply(tuple, axis=1)"
   ]
  },
  {
   "cell_type": "markdown",
   "metadata": {},
   "source": [
    "## Create Summary Statistics for Routes the Airlines Serve"
   ]
  },
  {
   "cell_type": "code",
   "execution_count": 34,
   "metadata": {
    "collapsed": false
   },
   "outputs": [],
   "source": [
    "airline_routes_delays = origin_destination.groupby(['UNIQUE_CARRIER', 'airline_name', 'airport_routes', 'city_routes', \n",
    "                                                    'DISTANCE'])['total_delay'].mean()"
   ]
  },
  {
   "cell_type": "code",
   "execution_count": 35,
   "metadata": {
    "collapsed": false
   },
   "outputs": [],
   "source": [
    "airline_routes_sum = origin_destination.groupby(['UNIQUE_CARRIER', 'airline_name', 'airport_routes', 'city_routes', \n",
    "                                                    'DISTANCE'])['FLIGHTS'].sum()"
   ]
  },
  {
   "cell_type": "code",
   "execution_count": 60,
   "metadata": {
    "collapsed": true
   },
   "outputs": [],
   "source": [
    "route_delay_var = origin_destination.groupby(['UNIQUE_CARRIER', 'airline_name', 'airport_routes', 'city_routes', \n",
    "                                                    'DISTANCE'])['total_delay'].var()"
   ]
  },
  {
   "cell_type": "code",
   "execution_count": 61,
   "metadata": {
    "collapsed": false
   },
   "outputs": [],
   "source": [
    "route_delay_var = pd.DataFrame(route_delay_var)\n",
    "route_delay_var = route_delay_var.add_suffix('_Count').reset_index() \n",
    "#route_delay_var.drop('index', axis=1, inplace=True)"
   ]
  },
  {
   "cell_type": "code",
   "execution_count": 62,
   "metadata": {
    "collapsed": false
   },
   "outputs": [
    {
     "data": {
      "text/html": [
       "<div>\n",
       "<table border=\"1\" class=\"dataframe\">\n",
       "  <thead>\n",
       "    <tr style=\"text-align: right;\">\n",
       "      <th></th>\n",
       "      <th>UNIQUE_CARRIER</th>\n",
       "      <th>airline_name</th>\n",
       "      <th>airport_routes</th>\n",
       "      <th>city_routes</th>\n",
       "      <th>DISTANCE</th>\n",
       "      <th>total_delay_Count</th>\n",
       "    </tr>\n",
       "  </thead>\n",
       "  <tbody>\n",
       "    <tr>\n",
       "      <th>0</th>\n",
       "      <td>AA</td>\n",
       "      <td>American Airlines Inc.</td>\n",
       "      <td>(ABQ, DFW)</td>\n",
       "      <td>(Albuquerque, NM, Dallas/Fort Worth, TX)</td>\n",
       "      <td>569.0</td>\n",
       "      <td>2874.268092</td>\n",
       "    </tr>\n",
       "    <tr>\n",
       "      <th>1</th>\n",
       "      <td>AA</td>\n",
       "      <td>American Airlines Inc.</td>\n",
       "      <td>(ALB, CLT)</td>\n",
       "      <td>(Albany, NY, Charlotte, NC)</td>\n",
       "      <td>646.0</td>\n",
       "      <td>26.290526</td>\n",
       "    </tr>\n",
       "    <tr>\n",
       "      <th>2</th>\n",
       "      <td>AA</td>\n",
       "      <td>American Airlines Inc.</td>\n",
       "      <td>(ANC, DFW)</td>\n",
       "      <td>(Anchorage, AK, Dallas/Fort Worth, TX)</td>\n",
       "      <td>3043.0</td>\n",
       "      <td>157.078818</td>\n",
       "    </tr>\n",
       "    <tr>\n",
       "      <th>3</th>\n",
       "      <td>AA</td>\n",
       "      <td>American Airlines Inc.</td>\n",
       "      <td>(ANC, LAX)</td>\n",
       "      <td>(Anchorage, AK, Los Angeles, CA)</td>\n",
       "      <td>2345.0</td>\n",
       "      <td>12432.758621</td>\n",
       "    </tr>\n",
       "    <tr>\n",
       "      <th>4</th>\n",
       "      <td>AA</td>\n",
       "      <td>American Airlines Inc.</td>\n",
       "      <td>(ANC, PHX)</td>\n",
       "      <td>(Anchorage, AK, Phoenix, AZ)</td>\n",
       "      <td>2552.0</td>\n",
       "      <td>60.130337</td>\n",
       "    </tr>\n",
       "  </tbody>\n",
       "</table>\n",
       "</div>"
      ],
      "text/plain": [
       "  UNIQUE_CARRIER            airline_name airport_routes  \\\n",
       "0             AA  American Airlines Inc.     (ABQ, DFW)   \n",
       "1             AA  American Airlines Inc.     (ALB, CLT)   \n",
       "2             AA  American Airlines Inc.     (ANC, DFW)   \n",
       "3             AA  American Airlines Inc.     (ANC, LAX)   \n",
       "4             AA  American Airlines Inc.     (ANC, PHX)   \n",
       "\n",
       "                                city_routes  DISTANCE  total_delay_Count  \n",
       "0  (Albuquerque, NM, Dallas/Fort Worth, TX)     569.0        2874.268092  \n",
       "1               (Albany, NY, Charlotte, NC)     646.0          26.290526  \n",
       "2    (Anchorage, AK, Dallas/Fort Worth, TX)    3043.0         157.078818  \n",
       "3          (Anchorage, AK, Los Angeles, CA)    2345.0       12432.758621  \n",
       "4              (Anchorage, AK, Phoenix, AZ)    2552.0          60.130337  "
      ]
     },
     "execution_count": 62,
     "metadata": {},
     "output_type": "execute_result"
    }
   ],
   "source": [
    "route_delay_var.head()"
   ]
  },
  {
   "cell_type": "code",
   "execution_count": 63,
   "metadata": {
    "collapsed": false
   },
   "outputs": [],
   "source": [
    "route_delay_var.columns = ['UNIQUE_CARRIER', 'airline_name', 'airport_routes', 'city_routes', 'DISTANCE', 'var_delays']"
   ]
  },
  {
   "cell_type": "code",
   "execution_count": 64,
   "metadata": {
    "collapsed": false
   },
   "outputs": [],
   "source": [
    "route_delay_var['merge_col'] = route_delay_var.loc[:, ('UNIQUE_CARRIER', 'airport_routes')].apply(tuple, axis=1)"
   ]
  },
  {
   "cell_type": "code",
   "execution_count": 65,
   "metadata": {
    "collapsed": false
   },
   "outputs": [
    {
     "data": {
      "text/html": [
       "<div>\n",
       "<table border=\"1\" class=\"dataframe\">\n",
       "  <thead>\n",
       "    <tr style=\"text-align: right;\">\n",
       "      <th></th>\n",
       "      <th>UNIQUE_CARRIER</th>\n",
       "      <th>airline_name</th>\n",
       "      <th>airport_routes</th>\n",
       "      <th>city_routes</th>\n",
       "      <th>DISTANCE</th>\n",
       "      <th>var_delays</th>\n",
       "      <th>merge_col</th>\n",
       "    </tr>\n",
       "  </thead>\n",
       "  <tbody>\n",
       "    <tr>\n",
       "      <th>0</th>\n",
       "      <td>AA</td>\n",
       "      <td>American Airlines Inc.</td>\n",
       "      <td>(ABQ, DFW)</td>\n",
       "      <td>(Albuquerque, NM, Dallas/Fort Worth, TX)</td>\n",
       "      <td>569.0</td>\n",
       "      <td>2874.268092</td>\n",
       "      <td>(AA, (ABQ, DFW))</td>\n",
       "    </tr>\n",
       "    <tr>\n",
       "      <th>1</th>\n",
       "      <td>AA</td>\n",
       "      <td>American Airlines Inc.</td>\n",
       "      <td>(ALB, CLT)</td>\n",
       "      <td>(Albany, NY, Charlotte, NC)</td>\n",
       "      <td>646.0</td>\n",
       "      <td>26.290526</td>\n",
       "      <td>(AA, (ALB, CLT))</td>\n",
       "    </tr>\n",
       "  </tbody>\n",
       "</table>\n",
       "</div>"
      ],
      "text/plain": [
       "  UNIQUE_CARRIER            airline_name airport_routes  \\\n",
       "0             AA  American Airlines Inc.     (ABQ, DFW)   \n",
       "1             AA  American Airlines Inc.     (ALB, CLT)   \n",
       "\n",
       "                                city_routes  DISTANCE   var_delays  \\\n",
       "0  (Albuquerque, NM, Dallas/Fort Worth, TX)     569.0  2874.268092   \n",
       "1               (Albany, NY, Charlotte, NC)     646.0    26.290526   \n",
       "\n",
       "          merge_col  \n",
       "0  (AA, (ABQ, DFW))  \n",
       "1  (AA, (ALB, CLT))  "
      ]
     },
     "execution_count": 65,
     "metadata": {},
     "output_type": "execute_result"
    }
   ],
   "source": [
    "route_delay_var.head(2)"
   ]
  },
  {
   "cell_type": "code",
   "execution_count": 138,
   "metadata": {
    "collapsed": false
   },
   "outputs": [],
   "source": [
    "#len(route_delay_var)"
   ]
  },
  {
   "cell_type": "code",
   "execution_count": 66,
   "metadata": {
    "collapsed": false
   },
   "outputs": [],
   "source": [
    "airline_routes_sum = pd.DataFrame(airline_routes_sum)"
   ]
  },
  {
   "cell_type": "code",
   "execution_count": 67,
   "metadata": {
    "collapsed": false,
    "scrolled": true
   },
   "outputs": [
    {
     "data": {
      "text/html": [
       "<div>\n",
       "<table border=\"1\" class=\"dataframe\">\n",
       "  <thead>\n",
       "    <tr style=\"text-align: right;\">\n",
       "      <th></th>\n",
       "      <th>UNIQUE_CARRIER</th>\n",
       "      <th>airline_name</th>\n",
       "      <th>airport_routes</th>\n",
       "      <th>city_routes</th>\n",
       "      <th>DISTANCE</th>\n",
       "      <th>FLIGHTS_Count</th>\n",
       "    </tr>\n",
       "  </thead>\n",
       "  <tbody>\n",
       "    <tr>\n",
       "      <th>0</th>\n",
       "      <td>AA</td>\n",
       "      <td>American Airlines Inc.</td>\n",
       "      <td>(ABQ, DFW)</td>\n",
       "      <td>(Albuquerque, NM, Dallas/Fort Worth, TX)</td>\n",
       "      <td>569.0</td>\n",
       "      <td>442.0</td>\n",
       "    </tr>\n",
       "    <tr>\n",
       "      <th>1</th>\n",
       "      <td>AA</td>\n",
       "      <td>American Airlines Inc.</td>\n",
       "      <td>(ALB, CLT)</td>\n",
       "      <td>(Albany, NY, Charlotte, NC)</td>\n",
       "      <td>646.0</td>\n",
       "      <td>260.0</td>\n",
       "    </tr>\n",
       "    <tr>\n",
       "      <th>2</th>\n",
       "      <td>AA</td>\n",
       "      <td>American Airlines Inc.</td>\n",
       "      <td>(ANC, DFW)</td>\n",
       "      <td>(Anchorage, AK, Dallas/Fort Worth, TX)</td>\n",
       "      <td>3043.0</td>\n",
       "      <td>29.0</td>\n",
       "    </tr>\n",
       "    <tr>\n",
       "      <th>3</th>\n",
       "      <td>AA</td>\n",
       "      <td>American Airlines Inc.</td>\n",
       "      <td>(ANC, LAX)</td>\n",
       "      <td>(Anchorage, AK, Los Angeles, CA)</td>\n",
       "      <td>2345.0</td>\n",
       "      <td>29.0</td>\n",
       "    </tr>\n",
       "    <tr>\n",
       "      <th>4</th>\n",
       "      <td>AA</td>\n",
       "      <td>American Airlines Inc.</td>\n",
       "      <td>(ANC, PHX)</td>\n",
       "      <td>(Anchorage, AK, Phoenix, AZ)</td>\n",
       "      <td>2552.0</td>\n",
       "      <td>90.0</td>\n",
       "    </tr>\n",
       "  </tbody>\n",
       "</table>\n",
       "</div>"
      ],
      "text/plain": [
       "  UNIQUE_CARRIER            airline_name airport_routes  \\\n",
       "0             AA  American Airlines Inc.     (ABQ, DFW)   \n",
       "1             AA  American Airlines Inc.     (ALB, CLT)   \n",
       "2             AA  American Airlines Inc.     (ANC, DFW)   \n",
       "3             AA  American Airlines Inc.     (ANC, LAX)   \n",
       "4             AA  American Airlines Inc.     (ANC, PHX)   \n",
       "\n",
       "                                city_routes  DISTANCE  FLIGHTS_Count  \n",
       "0  (Albuquerque, NM, Dallas/Fort Worth, TX)     569.0          442.0  \n",
       "1               (Albany, NY, Charlotte, NC)     646.0          260.0  \n",
       "2    (Anchorage, AK, Dallas/Fort Worth, TX)    3043.0           29.0  \n",
       "3          (Anchorage, AK, Los Angeles, CA)    2345.0           29.0  \n",
       "4              (Anchorage, AK, Phoenix, AZ)    2552.0           90.0  "
      ]
     },
     "execution_count": 67,
     "metadata": {},
     "output_type": "execute_result"
    }
   ],
   "source": [
    "airline_routes_sum = airline_routes_sum.add_suffix('_Count').reset_index() \n",
    "airline_routes_sum.head()"
   ]
  },
  {
   "cell_type": "code",
   "execution_count": 68,
   "metadata": {
    "collapsed": false
   },
   "outputs": [
    {
     "data": {
      "text/html": [
       "<div>\n",
       "<table border=\"1\" class=\"dataframe\">\n",
       "  <thead>\n",
       "    <tr style=\"text-align: right;\">\n",
       "      <th></th>\n",
       "      <th>UNIQUE_CARRIER</th>\n",
       "      <th>airline_name</th>\n",
       "      <th>airport_routes</th>\n",
       "      <th>city_routes</th>\n",
       "      <th>DISTANCE</th>\n",
       "      <th>FLIGHTS_Count</th>\n",
       "      <th>merge_col</th>\n",
       "    </tr>\n",
       "  </thead>\n",
       "  <tbody>\n",
       "    <tr>\n",
       "      <th>0</th>\n",
       "      <td>AA</td>\n",
       "      <td>American Airlines Inc.</td>\n",
       "      <td>(ABQ, DFW)</td>\n",
       "      <td>(Albuquerque, NM, Dallas/Fort Worth, TX)</td>\n",
       "      <td>569.0</td>\n",
       "      <td>442.0</td>\n",
       "      <td>(AA, (ABQ, DFW))</td>\n",
       "    </tr>\n",
       "    <tr>\n",
       "      <th>1</th>\n",
       "      <td>AA</td>\n",
       "      <td>American Airlines Inc.</td>\n",
       "      <td>(ALB, CLT)</td>\n",
       "      <td>(Albany, NY, Charlotte, NC)</td>\n",
       "      <td>646.0</td>\n",
       "      <td>260.0</td>\n",
       "      <td>(AA, (ALB, CLT))</td>\n",
       "    </tr>\n",
       "    <tr>\n",
       "      <th>2</th>\n",
       "      <td>AA</td>\n",
       "      <td>American Airlines Inc.</td>\n",
       "      <td>(ANC, DFW)</td>\n",
       "      <td>(Anchorage, AK, Dallas/Fort Worth, TX)</td>\n",
       "      <td>3043.0</td>\n",
       "      <td>29.0</td>\n",
       "      <td>(AA, (ANC, DFW))</td>\n",
       "    </tr>\n",
       "    <tr>\n",
       "      <th>3</th>\n",
       "      <td>AA</td>\n",
       "      <td>American Airlines Inc.</td>\n",
       "      <td>(ANC, LAX)</td>\n",
       "      <td>(Anchorage, AK, Los Angeles, CA)</td>\n",
       "      <td>2345.0</td>\n",
       "      <td>29.0</td>\n",
       "      <td>(AA, (ANC, LAX))</td>\n",
       "    </tr>\n",
       "    <tr>\n",
       "      <th>4</th>\n",
       "      <td>AA</td>\n",
       "      <td>American Airlines Inc.</td>\n",
       "      <td>(ANC, PHX)</td>\n",
       "      <td>(Anchorage, AK, Phoenix, AZ)</td>\n",
       "      <td>2552.0</td>\n",
       "      <td>90.0</td>\n",
       "      <td>(AA, (ANC, PHX))</td>\n",
       "    </tr>\n",
       "  </tbody>\n",
       "</table>\n",
       "</div>"
      ],
      "text/plain": [
       "  UNIQUE_CARRIER            airline_name airport_routes  \\\n",
       "0             AA  American Airlines Inc.     (ABQ, DFW)   \n",
       "1             AA  American Airlines Inc.     (ALB, CLT)   \n",
       "2             AA  American Airlines Inc.     (ANC, DFW)   \n",
       "3             AA  American Airlines Inc.     (ANC, LAX)   \n",
       "4             AA  American Airlines Inc.     (ANC, PHX)   \n",
       "\n",
       "                                city_routes  DISTANCE  FLIGHTS_Count  \\\n",
       "0  (Albuquerque, NM, Dallas/Fort Worth, TX)     569.0          442.0   \n",
       "1               (Albany, NY, Charlotte, NC)     646.0          260.0   \n",
       "2    (Anchorage, AK, Dallas/Fort Worth, TX)    3043.0           29.0   \n",
       "3          (Anchorage, AK, Los Angeles, CA)    2345.0           29.0   \n",
       "4              (Anchorage, AK, Phoenix, AZ)    2552.0           90.0   \n",
       "\n",
       "          merge_col  \n",
       "0  (AA, (ABQ, DFW))  \n",
       "1  (AA, (ALB, CLT))  \n",
       "2  (AA, (ANC, DFW))  \n",
       "3  (AA, (ANC, LAX))  \n",
       "4  (AA, (ANC, PHX))  "
      ]
     },
     "execution_count": 68,
     "metadata": {},
     "output_type": "execute_result"
    }
   ],
   "source": [
    "airline_routes_sum['merge_col'] = airline_routes_sum.loc[:, ('UNIQUE_CARRIER', 'airport_routes')].apply(tuple, axis=1)\n",
    "airline_routes_sum.head()\n",
    "#df.drop('column_name', axis=1, inplace=True)\n",
    "#airline_routes_sum.drop('index', axis=1, inplace=True)"
   ]
  },
  {
   "cell_type": "code",
   "execution_count": 69,
   "metadata": {
    "collapsed": false
   },
   "outputs": [
    {
     "data": {
      "text/plain": [
       "Index(['UNIQUE_CARRIER', 'airline_name', 'airport_routes', 'city_routes',\n",
       "       'DISTANCE', 'FLIGHTS_Count', 'merge_col'],\n",
       "      dtype='object')"
      ]
     },
     "execution_count": 69,
     "metadata": {},
     "output_type": "execute_result"
    }
   ],
   "source": [
    "airline_routes_sum.columns"
   ]
  },
  {
   "cell_type": "code",
   "execution_count": 377,
   "metadata": {
    "collapsed": false
   },
   "outputs": [],
   "source": [
    "# airline_routes_sum.columns = ['UNIQUE_CARRIER', 'airline_name', 'airport_routes', 'city_routes', 'DISTANCE',\n",
    "#                               'FLIGHTS_Count', 'merge_col']"
   ]
  },
  {
   "cell_type": "code",
   "execution_count": 70,
   "metadata": {
    "collapsed": false
   },
   "outputs": [
    {
     "data": {
      "text/plain": [
       "Index(['UNIQUE_CARRIER', 'airline_name', 'ORIGIN', 'ORIGIN_CITY_NAME', 'DEST',\n",
       "       'DEST_CITY_NAME', 'DISTANCE', 'WEATHER_DELAY', 'CARRIER_DELAY',\n",
       "       'FLIGHTS', 'total_delay', 'airport_routes', 'city_routes'],\n",
       "      dtype='object')"
      ]
     },
     "execution_count": 70,
     "metadata": {},
     "output_type": "execute_result"
    }
   ],
   "source": [
    "origin_destination.columns"
   ]
  },
  {
   "cell_type": "code",
   "execution_count": 71,
   "metadata": {
    "collapsed": false
   },
   "outputs": [],
   "source": [
    "route_delays = pd.DataFrame(origin_destination.groupby(['UNIQUE_CARRIER', 'airline_name', 'airport_routes', 'city_routes', \n",
    "                                            'DISTANCE'])['total_delay'].mean())"
   ]
  },
  {
   "cell_type": "code",
   "execution_count": 72,
   "metadata": {
    "collapsed": false
   },
   "outputs": [
    {
     "data": {
      "text/html": [
       "<div>\n",
       "<table border=\"1\" class=\"dataframe\">\n",
       "  <thead>\n",
       "    <tr style=\"text-align: right;\">\n",
       "      <th></th>\n",
       "      <th>UNIQUE_CARRIER</th>\n",
       "      <th>airline_name</th>\n",
       "      <th>airport_routes</th>\n",
       "      <th>city_routes</th>\n",
       "      <th>DISTANCE</th>\n",
       "      <th>total_delay_Count</th>\n",
       "    </tr>\n",
       "  </thead>\n",
       "  <tbody>\n",
       "    <tr>\n",
       "      <th>0</th>\n",
       "      <td>AA</td>\n",
       "      <td>American Airlines Inc.</td>\n",
       "      <td>(ABQ, DFW)</td>\n",
       "      <td>(Albuquerque, NM, Dallas/Fort Worth, TX)</td>\n",
       "      <td>569.0</td>\n",
       "      <td>6.843891</td>\n",
       "    </tr>\n",
       "    <tr>\n",
       "      <th>1</th>\n",
       "      <td>AA</td>\n",
       "      <td>American Airlines Inc.</td>\n",
       "      <td>(ALB, CLT)</td>\n",
       "      <td>(Albany, NY, Charlotte, NC)</td>\n",
       "      <td>646.0</td>\n",
       "      <td>0.946154</td>\n",
       "    </tr>\n",
       "    <tr>\n",
       "      <th>2</th>\n",
       "      <td>AA</td>\n",
       "      <td>American Airlines Inc.</td>\n",
       "      <td>(ANC, DFW)</td>\n",
       "      <td>(Anchorage, AK, Dallas/Fort Worth, TX)</td>\n",
       "      <td>3043.0</td>\n",
       "      <td>5.310345</td>\n",
       "    </tr>\n",
       "    <tr>\n",
       "      <th>3</th>\n",
       "      <td>AA</td>\n",
       "      <td>American Airlines Inc.</td>\n",
       "      <td>(ANC, LAX)</td>\n",
       "      <td>(Anchorage, AK, Los Angeles, CA)</td>\n",
       "      <td>2345.0</td>\n",
       "      <td>26.517241</td>\n",
       "    </tr>\n",
       "    <tr>\n",
       "      <th>4</th>\n",
       "      <td>AA</td>\n",
       "      <td>American Airlines Inc.</td>\n",
       "      <td>(ANC, PHX)</td>\n",
       "      <td>(Anchorage, AK, Phoenix, AZ)</td>\n",
       "      <td>2552.0</td>\n",
       "      <td>1.600000</td>\n",
       "    </tr>\n",
       "  </tbody>\n",
       "</table>\n",
       "</div>"
      ],
      "text/plain": [
       "  UNIQUE_CARRIER            airline_name airport_routes  \\\n",
       "0             AA  American Airlines Inc.     (ABQ, DFW)   \n",
       "1             AA  American Airlines Inc.     (ALB, CLT)   \n",
       "2             AA  American Airlines Inc.     (ANC, DFW)   \n",
       "3             AA  American Airlines Inc.     (ANC, LAX)   \n",
       "4             AA  American Airlines Inc.     (ANC, PHX)   \n",
       "\n",
       "                                city_routes  DISTANCE  total_delay_Count  \n",
       "0  (Albuquerque, NM, Dallas/Fort Worth, TX)     569.0           6.843891  \n",
       "1               (Albany, NY, Charlotte, NC)     646.0           0.946154  \n",
       "2    (Anchorage, AK, Dallas/Fort Worth, TX)    3043.0           5.310345  \n",
       "3          (Anchorage, AK, Los Angeles, CA)    2345.0          26.517241  \n",
       "4              (Anchorage, AK, Phoenix, AZ)    2552.0           1.600000  "
      ]
     },
     "execution_count": 72,
     "metadata": {},
     "output_type": "execute_result"
    }
   ],
   "source": [
    "#route_delays.sort(columns = 'total_delay', ascending = False, inplace = True)\n",
    "route_delays = route_delays.add_suffix('_Count').reset_index()\n",
    "#route_delays.drop('index_Count', axis=1, inplace=True)\n",
    "route_delays.head()"
   ]
  },
  {
   "cell_type": "code",
   "execution_count": 73,
   "metadata": {
    "collapsed": false
   },
   "outputs": [],
   "source": [
    "# route_delays.columns = ['UNIQUE_CARRIER', 'airline_name', 'airport_routes', 'city_routes',\n",
    "#        'DISTANCE', 'avg_delay_minutes'] \n",
    "route_delays['merge_col'] = route_delays.loc[:, ('UNIQUE_CARRIER', 'airport_routes')].apply(tuple, axis=1)"
   ]
  },
  {
   "cell_type": "code",
   "execution_count": 74,
   "metadata": {
    "collapsed": false
   },
   "outputs": [
    {
     "data": {
      "text/html": [
       "<div>\n",
       "<table border=\"1\" class=\"dataframe\">\n",
       "  <thead>\n",
       "    <tr style=\"text-align: right;\">\n",
       "      <th></th>\n",
       "      <th>UNIQUE_CARRIER</th>\n",
       "      <th>airline_name</th>\n",
       "      <th>airport_routes</th>\n",
       "      <th>city_routes</th>\n",
       "      <th>DISTANCE</th>\n",
       "      <th>total_delay_Count</th>\n",
       "      <th>merge_col</th>\n",
       "    </tr>\n",
       "  </thead>\n",
       "  <tbody>\n",
       "    <tr>\n",
       "      <th>0</th>\n",
       "      <td>AA</td>\n",
       "      <td>American Airlines Inc.</td>\n",
       "      <td>(ABQ, DFW)</td>\n",
       "      <td>(Albuquerque, NM, Dallas/Fort Worth, TX)</td>\n",
       "      <td>569.0</td>\n",
       "      <td>6.843891</td>\n",
       "      <td>(AA, (ABQ, DFW))</td>\n",
       "    </tr>\n",
       "    <tr>\n",
       "      <th>1</th>\n",
       "      <td>AA</td>\n",
       "      <td>American Airlines Inc.</td>\n",
       "      <td>(ALB, CLT)</td>\n",
       "      <td>(Albany, NY, Charlotte, NC)</td>\n",
       "      <td>646.0</td>\n",
       "      <td>0.946154</td>\n",
       "      <td>(AA, (ALB, CLT))</td>\n",
       "    </tr>\n",
       "    <tr>\n",
       "      <th>2</th>\n",
       "      <td>AA</td>\n",
       "      <td>American Airlines Inc.</td>\n",
       "      <td>(ANC, DFW)</td>\n",
       "      <td>(Anchorage, AK, Dallas/Fort Worth, TX)</td>\n",
       "      <td>3043.0</td>\n",
       "      <td>5.310345</td>\n",
       "      <td>(AA, (ANC, DFW))</td>\n",
       "    </tr>\n",
       "    <tr>\n",
       "      <th>3</th>\n",
       "      <td>AA</td>\n",
       "      <td>American Airlines Inc.</td>\n",
       "      <td>(ANC, LAX)</td>\n",
       "      <td>(Anchorage, AK, Los Angeles, CA)</td>\n",
       "      <td>2345.0</td>\n",
       "      <td>26.517241</td>\n",
       "      <td>(AA, (ANC, LAX))</td>\n",
       "    </tr>\n",
       "    <tr>\n",
       "      <th>4</th>\n",
       "      <td>AA</td>\n",
       "      <td>American Airlines Inc.</td>\n",
       "      <td>(ANC, PHX)</td>\n",
       "      <td>(Anchorage, AK, Phoenix, AZ)</td>\n",
       "      <td>2552.0</td>\n",
       "      <td>1.600000</td>\n",
       "      <td>(AA, (ANC, PHX))</td>\n",
       "    </tr>\n",
       "  </tbody>\n",
       "</table>\n",
       "</div>"
      ],
      "text/plain": [
       "  UNIQUE_CARRIER            airline_name airport_routes  \\\n",
       "0             AA  American Airlines Inc.     (ABQ, DFW)   \n",
       "1             AA  American Airlines Inc.     (ALB, CLT)   \n",
       "2             AA  American Airlines Inc.     (ANC, DFW)   \n",
       "3             AA  American Airlines Inc.     (ANC, LAX)   \n",
       "4             AA  American Airlines Inc.     (ANC, PHX)   \n",
       "\n",
       "                                city_routes  DISTANCE  total_delay_Count  \\\n",
       "0  (Albuquerque, NM, Dallas/Fort Worth, TX)     569.0           6.843891   \n",
       "1               (Albany, NY, Charlotte, NC)     646.0           0.946154   \n",
       "2    (Anchorage, AK, Dallas/Fort Worth, TX)    3043.0           5.310345   \n",
       "3          (Anchorage, AK, Los Angeles, CA)    2345.0          26.517241   \n",
       "4              (Anchorage, AK, Phoenix, AZ)    2552.0           1.600000   \n",
       "\n",
       "          merge_col  \n",
       "0  (AA, (ABQ, DFW))  \n",
       "1  (AA, (ALB, CLT))  \n",
       "2  (AA, (ANC, DFW))  \n",
       "3  (AA, (ANC, LAX))  \n",
       "4  (AA, (ANC, PHX))  "
      ]
     },
     "execution_count": 74,
     "metadata": {},
     "output_type": "execute_result"
    }
   ],
   "source": [
    "route_delays.head()"
   ]
  },
  {
   "cell_type": "markdown",
   "metadata": {},
   "source": [
    "## Merge Dataframes containing summary statistics"
   ]
  },
  {
   "cell_type": "code",
   "execution_count": 75,
   "metadata": {
    "collapsed": false
   },
   "outputs": [
    {
     "data": {
      "text/html": [
       "<div>\n",
       "<table border=\"1\" class=\"dataframe\">\n",
       "  <thead>\n",
       "    <tr style=\"text-align: right;\">\n",
       "      <th></th>\n",
       "      <th>UNIQUE_CARRIER_x</th>\n",
       "      <th>airline_name_x</th>\n",
       "      <th>airport_routes_x</th>\n",
       "      <th>city_routes_x</th>\n",
       "      <th>DISTANCE_x</th>\n",
       "      <th>total_delay_Count</th>\n",
       "      <th>merge_col</th>\n",
       "      <th>UNIQUE_CARRIER_y</th>\n",
       "      <th>airline_name_y</th>\n",
       "      <th>airport_routes_y</th>\n",
       "      <th>city_routes_y</th>\n",
       "      <th>DISTANCE_y</th>\n",
       "      <th>FLIGHTS_Count</th>\n",
       "      <th>UNIQUE_CARRIER</th>\n",
       "      <th>airline_name</th>\n",
       "      <th>airport_routes</th>\n",
       "      <th>city_routes</th>\n",
       "      <th>DISTANCE</th>\n",
       "      <th>var_delays</th>\n",
       "    </tr>\n",
       "  </thead>\n",
       "  <tbody>\n",
       "    <tr>\n",
       "      <th>0</th>\n",
       "      <td>AA</td>\n",
       "      <td>American Airlines Inc.</td>\n",
       "      <td>(ABQ, DFW)</td>\n",
       "      <td>(Albuquerque, NM, Dallas/Fort Worth, TX)</td>\n",
       "      <td>569.0</td>\n",
       "      <td>6.843891</td>\n",
       "      <td>(AA, (ABQ, DFW))</td>\n",
       "      <td>AA</td>\n",
       "      <td>American Airlines Inc.</td>\n",
       "      <td>(ABQ, DFW)</td>\n",
       "      <td>(Albuquerque, NM, Dallas/Fort Worth, TX)</td>\n",
       "      <td>569.0</td>\n",
       "      <td>442.0</td>\n",
       "      <td>AA</td>\n",
       "      <td>American Airlines Inc.</td>\n",
       "      <td>(ABQ, DFW)</td>\n",
       "      <td>(Albuquerque, NM, Dallas/Fort Worth, TX)</td>\n",
       "      <td>569.0</td>\n",
       "      <td>2874.268092</td>\n",
       "    </tr>\n",
       "    <tr>\n",
       "      <th>1</th>\n",
       "      <td>AA</td>\n",
       "      <td>American Airlines Inc.</td>\n",
       "      <td>(ALB, CLT)</td>\n",
       "      <td>(Albany, NY, Charlotte, NC)</td>\n",
       "      <td>646.0</td>\n",
       "      <td>0.946154</td>\n",
       "      <td>(AA, (ALB, CLT))</td>\n",
       "      <td>AA</td>\n",
       "      <td>American Airlines Inc.</td>\n",
       "      <td>(ALB, CLT)</td>\n",
       "      <td>(Albany, NY, Charlotte, NC)</td>\n",
       "      <td>646.0</td>\n",
       "      <td>260.0</td>\n",
       "      <td>AA</td>\n",
       "      <td>American Airlines Inc.</td>\n",
       "      <td>(ALB, CLT)</td>\n",
       "      <td>(Albany, NY, Charlotte, NC)</td>\n",
       "      <td>646.0</td>\n",
       "      <td>26.290526</td>\n",
       "    </tr>\n",
       "    <tr>\n",
       "      <th>2</th>\n",
       "      <td>AA</td>\n",
       "      <td>American Airlines Inc.</td>\n",
       "      <td>(ANC, DFW)</td>\n",
       "      <td>(Anchorage, AK, Dallas/Fort Worth, TX)</td>\n",
       "      <td>3043.0</td>\n",
       "      <td>5.310345</td>\n",
       "      <td>(AA, (ANC, DFW))</td>\n",
       "      <td>AA</td>\n",
       "      <td>American Airlines Inc.</td>\n",
       "      <td>(ANC, DFW)</td>\n",
       "      <td>(Anchorage, AK, Dallas/Fort Worth, TX)</td>\n",
       "      <td>3043.0</td>\n",
       "      <td>29.0</td>\n",
       "      <td>AA</td>\n",
       "      <td>American Airlines Inc.</td>\n",
       "      <td>(ANC, DFW)</td>\n",
       "      <td>(Anchorage, AK, Dallas/Fort Worth, TX)</td>\n",
       "      <td>3043.0</td>\n",
       "      <td>157.078818</td>\n",
       "    </tr>\n",
       "    <tr>\n",
       "      <th>3</th>\n",
       "      <td>AA</td>\n",
       "      <td>American Airlines Inc.</td>\n",
       "      <td>(ANC, LAX)</td>\n",
       "      <td>(Anchorage, AK, Los Angeles, CA)</td>\n",
       "      <td>2345.0</td>\n",
       "      <td>26.517241</td>\n",
       "      <td>(AA, (ANC, LAX))</td>\n",
       "      <td>AA</td>\n",
       "      <td>American Airlines Inc.</td>\n",
       "      <td>(ANC, LAX)</td>\n",
       "      <td>(Anchorage, AK, Los Angeles, CA)</td>\n",
       "      <td>2345.0</td>\n",
       "      <td>29.0</td>\n",
       "      <td>AA</td>\n",
       "      <td>American Airlines Inc.</td>\n",
       "      <td>(ANC, LAX)</td>\n",
       "      <td>(Anchorage, AK, Los Angeles, CA)</td>\n",
       "      <td>2345.0</td>\n",
       "      <td>12432.758621</td>\n",
       "    </tr>\n",
       "    <tr>\n",
       "      <th>4</th>\n",
       "      <td>AA</td>\n",
       "      <td>American Airlines Inc.</td>\n",
       "      <td>(ANC, PHX)</td>\n",
       "      <td>(Anchorage, AK, Phoenix, AZ)</td>\n",
       "      <td>2552.0</td>\n",
       "      <td>1.600000</td>\n",
       "      <td>(AA, (ANC, PHX))</td>\n",
       "      <td>AA</td>\n",
       "      <td>American Airlines Inc.</td>\n",
       "      <td>(ANC, PHX)</td>\n",
       "      <td>(Anchorage, AK, Phoenix, AZ)</td>\n",
       "      <td>2552.0</td>\n",
       "      <td>90.0</td>\n",
       "      <td>AA</td>\n",
       "      <td>American Airlines Inc.</td>\n",
       "      <td>(ANC, PHX)</td>\n",
       "      <td>(Anchorage, AK, Phoenix, AZ)</td>\n",
       "      <td>2552.0</td>\n",
       "      <td>60.130337</td>\n",
       "    </tr>\n",
       "  </tbody>\n",
       "</table>\n",
       "</div>"
      ],
      "text/plain": [
       "  UNIQUE_CARRIER_x          airline_name_x airport_routes_x  \\\n",
       "0               AA  American Airlines Inc.       (ABQ, DFW)   \n",
       "1               AA  American Airlines Inc.       (ALB, CLT)   \n",
       "2               AA  American Airlines Inc.       (ANC, DFW)   \n",
       "3               AA  American Airlines Inc.       (ANC, LAX)   \n",
       "4               AA  American Airlines Inc.       (ANC, PHX)   \n",
       "\n",
       "                              city_routes_x  DISTANCE_x  total_delay_Count  \\\n",
       "0  (Albuquerque, NM, Dallas/Fort Worth, TX)       569.0           6.843891   \n",
       "1               (Albany, NY, Charlotte, NC)       646.0           0.946154   \n",
       "2    (Anchorage, AK, Dallas/Fort Worth, TX)      3043.0           5.310345   \n",
       "3          (Anchorage, AK, Los Angeles, CA)      2345.0          26.517241   \n",
       "4              (Anchorage, AK, Phoenix, AZ)      2552.0           1.600000   \n",
       "\n",
       "          merge_col UNIQUE_CARRIER_y          airline_name_y airport_routes_y  \\\n",
       "0  (AA, (ABQ, DFW))               AA  American Airlines Inc.       (ABQ, DFW)   \n",
       "1  (AA, (ALB, CLT))               AA  American Airlines Inc.       (ALB, CLT)   \n",
       "2  (AA, (ANC, DFW))               AA  American Airlines Inc.       (ANC, DFW)   \n",
       "3  (AA, (ANC, LAX))               AA  American Airlines Inc.       (ANC, LAX)   \n",
       "4  (AA, (ANC, PHX))               AA  American Airlines Inc.       (ANC, PHX)   \n",
       "\n",
       "                              city_routes_y  DISTANCE_y  FLIGHTS_Count  \\\n",
       "0  (Albuquerque, NM, Dallas/Fort Worth, TX)       569.0          442.0   \n",
       "1               (Albany, NY, Charlotte, NC)       646.0          260.0   \n",
       "2    (Anchorage, AK, Dallas/Fort Worth, TX)      3043.0           29.0   \n",
       "3          (Anchorage, AK, Los Angeles, CA)      2345.0           29.0   \n",
       "4              (Anchorage, AK, Phoenix, AZ)      2552.0           90.0   \n",
       "\n",
       "  UNIQUE_CARRIER            airline_name airport_routes  \\\n",
       "0             AA  American Airlines Inc.     (ABQ, DFW)   \n",
       "1             AA  American Airlines Inc.     (ALB, CLT)   \n",
       "2             AA  American Airlines Inc.     (ANC, DFW)   \n",
       "3             AA  American Airlines Inc.     (ANC, LAX)   \n",
       "4             AA  American Airlines Inc.     (ANC, PHX)   \n",
       "\n",
       "                                city_routes  DISTANCE    var_delays  \n",
       "0  (Albuquerque, NM, Dallas/Fort Worth, TX)     569.0   2874.268092  \n",
       "1               (Albany, NY, Charlotte, NC)     646.0     26.290526  \n",
       "2    (Anchorage, AK, Dallas/Fort Worth, TX)    3043.0    157.078818  \n",
       "3          (Anchorage, AK, Los Angeles, CA)    2345.0  12432.758621  \n",
       "4              (Anchorage, AK, Phoenix, AZ)    2552.0     60.130337  "
      ]
     },
     "execution_count": 75,
     "metadata": {},
     "output_type": "execute_result"
    }
   ],
   "source": [
    "counts_and_delays = pd.merge(route_delays, airline_routes_sum, on='merge_col', how='inner')\n",
    "counts_and_delays = pd.merge(counts_and_delays, route_delay_var, on='merge_col', how='inner' )\n",
    "counts_and_delays.head()"
   ]
  },
  {
   "cell_type": "code",
   "execution_count": 76,
   "metadata": {
    "collapsed": false
   },
   "outputs": [],
   "source": [
    "#list(enumerate(counts_and_delays.columns))"
   ]
  },
  {
   "cell_type": "code",
   "execution_count": 77,
   "metadata": {
    "collapsed": false
   },
   "outputs": [],
   "source": [
    "counts_and_delays.drop(counts_and_delays.columns[[6,7,8,9,10,11,13,14,15,16,17]], axis=1, inplace=True)"
   ]
  },
  {
   "cell_type": "code",
   "execution_count": 78,
   "metadata": {
    "collapsed": false
   },
   "outputs": [
    {
     "data": {
      "text/html": [
       "<div>\n",
       "<table border=\"1\" class=\"dataframe\">\n",
       "  <thead>\n",
       "    <tr style=\"text-align: right;\">\n",
       "      <th></th>\n",
       "      <th>UNIQUE_CARRIER_x</th>\n",
       "      <th>airline_name_x</th>\n",
       "      <th>airport_routes_x</th>\n",
       "      <th>city_routes_x</th>\n",
       "      <th>DISTANCE_x</th>\n",
       "      <th>total_delay_Count</th>\n",
       "      <th>FLIGHTS_Count</th>\n",
       "      <th>var_delays</th>\n",
       "    </tr>\n",
       "  </thead>\n",
       "  <tbody>\n",
       "    <tr>\n",
       "      <th>0</th>\n",
       "      <td>AA</td>\n",
       "      <td>American Airlines Inc.</td>\n",
       "      <td>(ABQ, DFW)</td>\n",
       "      <td>(Albuquerque, NM, Dallas/Fort Worth, TX)</td>\n",
       "      <td>569.0</td>\n",
       "      <td>6.843891</td>\n",
       "      <td>442.0</td>\n",
       "      <td>2874.268092</td>\n",
       "    </tr>\n",
       "    <tr>\n",
       "      <th>1</th>\n",
       "      <td>AA</td>\n",
       "      <td>American Airlines Inc.</td>\n",
       "      <td>(ALB, CLT)</td>\n",
       "      <td>(Albany, NY, Charlotte, NC)</td>\n",
       "      <td>646.0</td>\n",
       "      <td>0.946154</td>\n",
       "      <td>260.0</td>\n",
       "      <td>26.290526</td>\n",
       "    </tr>\n",
       "  </tbody>\n",
       "</table>\n",
       "</div>"
      ],
      "text/plain": [
       "  UNIQUE_CARRIER_x          airline_name_x airport_routes_x  \\\n",
       "0               AA  American Airlines Inc.       (ABQ, DFW)   \n",
       "1               AA  American Airlines Inc.       (ALB, CLT)   \n",
       "\n",
       "                              city_routes_x  DISTANCE_x  total_delay_Count  \\\n",
       "0  (Albuquerque, NM, Dallas/Fort Worth, TX)       569.0           6.843891   \n",
       "1               (Albany, NY, Charlotte, NC)       646.0           0.946154   \n",
       "\n",
       "   FLIGHTS_Count   var_delays  \n",
       "0          442.0  2874.268092  \n",
       "1          260.0    26.290526  "
      ]
     },
     "execution_count": 78,
     "metadata": {},
     "output_type": "execute_result"
    }
   ],
   "source": [
    "counts_and_delays.head(2)"
   ]
  },
  {
   "cell_type": "code",
   "execution_count": 79,
   "metadata": {
    "collapsed": false
   },
   "outputs": [],
   "source": [
    "counts_and_delays.columns = ['UNIQUE_CARRIER', 'airline_name', 'airport_routes', 'city_coutes', 'distance',\n",
    "                            'average_delay_minutes', 'flight_counts', 'delay_var_minutes']"
   ]
  },
  {
   "cell_type": "code",
   "execution_count": 80,
   "metadata": {
    "collapsed": false
   },
   "outputs": [
    {
     "data": {
      "text/html": [
       "<div>\n",
       "<table border=\"1\" class=\"dataframe\">\n",
       "  <thead>\n",
       "    <tr style=\"text-align: right;\">\n",
       "      <th></th>\n",
       "      <th>UNIQUE_CARRIER</th>\n",
       "      <th>airline_name</th>\n",
       "      <th>airport_routes</th>\n",
       "      <th>city_coutes</th>\n",
       "      <th>distance</th>\n",
       "      <th>average_delay_minutes</th>\n",
       "      <th>flight_counts</th>\n",
       "      <th>delay_var_minutes</th>\n",
       "    </tr>\n",
       "  </thead>\n",
       "  <tbody>\n",
       "    <tr>\n",
       "      <th>0</th>\n",
       "      <td>AA</td>\n",
       "      <td>American Airlines Inc.</td>\n",
       "      <td>(ABQ, DFW)</td>\n",
       "      <td>(Albuquerque, NM, Dallas/Fort Worth, TX)</td>\n",
       "      <td>569.0</td>\n",
       "      <td>6.843891</td>\n",
       "      <td>442.0</td>\n",
       "      <td>2874.268092</td>\n",
       "    </tr>\n",
       "    <tr>\n",
       "      <th>1</th>\n",
       "      <td>AA</td>\n",
       "      <td>American Airlines Inc.</td>\n",
       "      <td>(ALB, CLT)</td>\n",
       "      <td>(Albany, NY, Charlotte, NC)</td>\n",
       "      <td>646.0</td>\n",
       "      <td>0.946154</td>\n",
       "      <td>260.0</td>\n",
       "      <td>26.290526</td>\n",
       "    </tr>\n",
       "  </tbody>\n",
       "</table>\n",
       "</div>"
      ],
      "text/plain": [
       "  UNIQUE_CARRIER            airline_name airport_routes  \\\n",
       "0             AA  American Airlines Inc.     (ABQ, DFW)   \n",
       "1             AA  American Airlines Inc.     (ALB, CLT)   \n",
       "\n",
       "                                city_coutes  distance  average_delay_minutes  \\\n",
       "0  (Albuquerque, NM, Dallas/Fort Worth, TX)     569.0               6.843891   \n",
       "1               (Albany, NY, Charlotte, NC)     646.0               0.946154   \n",
       "\n",
       "   flight_counts  delay_var_minutes  \n",
       "0          442.0        2874.268092  \n",
       "1          260.0          26.290526  "
      ]
     },
     "execution_count": 80,
     "metadata": {},
     "output_type": "execute_result"
    }
   ],
   "source": [
    "counts_and_delays.head(2)"
   ]
  },
  {
   "cell_type": "code",
   "execution_count": 81,
   "metadata": {
    "collapsed": false
   },
   "outputs": [
    {
     "data": {
      "text/plain": [
       "7319"
      ]
     },
     "execution_count": 81,
     "metadata": {},
     "output_type": "execute_result"
    }
   ],
   "source": [
    "len(counts_and_delays)"
   ]
  },
  {
   "cell_type": "markdown",
   "metadata": {},
   "source": [
    "## Analysis of Airlines"
   ]
  },
  {
   "cell_type": "code",
   "execution_count": 87,
   "metadata": {
    "collapsed": true
   },
   "outputs": [],
   "source": [
    "airline_details = pd.DataFrame({'UNIQUE_CARRIER':tot_flights.index,'num_flights':tot_flights, 'weather_delay':weather_del_tot,\n",
    "                               'carrier_delay':carrier_del_tot,'tot_arr_del':arr_delay_totals,\n",
    "                                'avg_arr_del':arr_delay_averages, 'tot_dep_del':dep_delay_totals,\n",
    "                               'avg_dep_del':dep_delay_averages, 'cancellations':tot_canc, 'arr_delay_var':arr_delay_var,\n",
    "                               'dep_delay_var':dep_delay_var})"
   ]
  },
  {
   "cell_type": "code",
   "execution_count": 88,
   "metadata": {
    "collapsed": false
   },
   "outputs": [],
   "source": [
    "airline_details['weather_plus_carrier'] = airline_details['weather_delay'].add(airline_details['carrier_delay'])"
   ]
  },
  {
   "cell_type": "code",
   "execution_count": 89,
   "metadata": {
    "collapsed": false
   },
   "outputs": [],
   "source": [
    "airline_details['carrier_delay%'] = (airline_details['carrier_delay']/airline_details['weather_plus_carrier'])*100"
   ]
  },
  {
   "cell_type": "code",
   "execution_count": 90,
   "metadata": {
    "collapsed": false
   },
   "outputs": [],
   "source": [
    "airline_details['cancellation%'] = (airline_details['cancellations']/airline_details['num_flights'])*100"
   ]
  },
  {
   "cell_type": "code",
   "execution_count": 91,
   "metadata": {
    "collapsed": false
   },
   "outputs": [
    {
     "data": {
      "text/html": [
       "<div>\n",
       "<table border=\"1\" class=\"dataframe\">\n",
       "  <thead>\n",
       "    <tr style=\"text-align: right;\">\n",
       "      <th></th>\n",
       "      <th>UNIQUE_CARRIER</th>\n",
       "      <th>arr_delay_var</th>\n",
       "      <th>avg_arr_del</th>\n",
       "      <th>avg_dep_del</th>\n",
       "      <th>cancellations</th>\n",
       "      <th>carrier_delay</th>\n",
       "      <th>dep_delay_var</th>\n",
       "      <th>num_flights</th>\n",
       "      <th>tot_arr_del</th>\n",
       "      <th>tot_dep_del</th>\n",
       "      <th>weather_delay</th>\n",
       "      <th>weather_plus_carrier</th>\n",
       "      <th>carrier_delay%</th>\n",
       "      <th>cancellation%</th>\n",
       "      <th>airline_name</th>\n",
       "    </tr>\n",
       "  </thead>\n",
       "  <tbody>\n",
       "    <tr>\n",
       "      <th>0</th>\n",
       "      <td>AA</td>\n",
       "      <td>2226.048309</td>\n",
       "      <td>6.609803</td>\n",
       "      <td>9.751077</td>\n",
       "      <td>1984.0</td>\n",
       "      <td>986109.0</td>\n",
       "      <td>2000.034712</td>\n",
       "      <td>233185.0</td>\n",
       "      <td>1541307.0</td>\n",
       "      <td>2273805.0</td>\n",
       "      <td>186134.0</td>\n",
       "      <td>1172243.0</td>\n",
       "      <td>84.121552</td>\n",
       "      <td>0.850827</td>\n",
       "      <td>American Airlines Inc.</td>\n",
       "    </tr>\n",
       "    <tr>\n",
       "      <th>1</th>\n",
       "      <td>AS</td>\n",
       "      <td>646.124408</td>\n",
       "      <td>-2.549315</td>\n",
       "      <td>-0.489591</td>\n",
       "      <td>84.0</td>\n",
       "      <td>68531.0</td>\n",
       "      <td>528.447948</td>\n",
       "      <td>45777.0</td>\n",
       "      <td>-116700.0</td>\n",
       "      <td>-22412.0</td>\n",
       "      <td>4556.0</td>\n",
       "      <td>73087.0</td>\n",
       "      <td>93.766333</td>\n",
       "      <td>0.183498</td>\n",
       "      <td>Alaska Airlines Inc.</td>\n",
       "    </tr>\n",
       "    <tr>\n",
       "      <th>2</th>\n",
       "      <td>B6</td>\n",
       "      <td>1653.720452</td>\n",
       "      <td>5.447876</td>\n",
       "      <td>10.819438</td>\n",
       "      <td>462.0</td>\n",
       "      <td>288932.0</td>\n",
       "      <td>1430.230632</td>\n",
       "      <td>71272.0</td>\n",
       "      <td>388281.0</td>\n",
       "      <td>771123.0</td>\n",
       "      <td>24299.0</td>\n",
       "      <td>313231.0</td>\n",
       "      <td>92.242466</td>\n",
       "      <td>0.648221</td>\n",
       "      <td>JetBlue Airways</td>\n",
       "    </tr>\n",
       "    <tr>\n",
       "      <th>3</th>\n",
       "      <td>DL</td>\n",
       "      <td>1487.085589</td>\n",
       "      <td>-1.289094</td>\n",
       "      <td>6.813357</td>\n",
       "      <td>105.0</td>\n",
       "      <td>772859.0</td>\n",
       "      <td>1350.288485</td>\n",
       "      <td>238680.0</td>\n",
       "      <td>-307681.0</td>\n",
       "      <td>1626212.0</td>\n",
       "      <td>100369.0</td>\n",
       "      <td>873228.0</td>\n",
       "      <td>88.505980</td>\n",
       "      <td>0.043992</td>\n",
       "      <td>Delta Air Lines Inc.</td>\n",
       "    </tr>\n",
       "    <tr>\n",
       "      <th>4</th>\n",
       "      <td>EV</td>\n",
       "      <td>2107.403354</td>\n",
       "      <td>3.526183</td>\n",
       "      <td>7.277043</td>\n",
       "      <td>2329.0</td>\n",
       "      <td>560544.0</td>\n",
       "      <td>1940.452945</td>\n",
       "      <td>125042.0</td>\n",
       "      <td>440921.0</td>\n",
       "      <td>909936.0</td>\n",
       "      <td>29119.0</td>\n",
       "      <td>589663.0</td>\n",
       "      <td>95.061756</td>\n",
       "      <td>1.862574</td>\n",
       "      <td>ExpressJet Airlines Inc.</td>\n",
       "    </tr>\n",
       "    <tr>\n",
       "      <th>5</th>\n",
       "      <td>F9</td>\n",
       "      <td>2044.176599</td>\n",
       "      <td>3.916983</td>\n",
       "      <td>9.265852</td>\n",
       "      <td>56.0</td>\n",
       "      <td>64992.0</td>\n",
       "      <td>1853.431933</td>\n",
       "      <td>23152.0</td>\n",
       "      <td>90686.0</td>\n",
       "      <td>214523.0</td>\n",
       "      <td>5287.0</td>\n",
       "      <td>70279.0</td>\n",
       "      <td>92.477127</td>\n",
       "      <td>0.241880</td>\n",
       "      <td>Frontier Airlines Inc.</td>\n",
       "    </tr>\n",
       "    <tr>\n",
       "      <th>6</th>\n",
       "      <td>HA</td>\n",
       "      <td>616.541980</td>\n",
       "      <td>-0.738274</td>\n",
       "      <td>-0.529894</td>\n",
       "      <td>34.0</td>\n",
       "      <td>35265.0</td>\n",
       "      <td>588.280149</td>\n",
       "      <td>19402.0</td>\n",
       "      <td>-14324.0</td>\n",
       "      <td>-10281.0</td>\n",
       "      <td>1663.0</td>\n",
       "      <td>36928.0</td>\n",
       "      <td>95.496642</td>\n",
       "      <td>0.175240</td>\n",
       "      <td>Hawaiian Airlines Inc.</td>\n",
       "    </tr>\n",
       "    <tr>\n",
       "      <th>7</th>\n",
       "      <td>NK</td>\n",
       "      <td>1457.811671</td>\n",
       "      <td>8.070904</td>\n",
       "      <td>11.116148</td>\n",
       "      <td>627.0</td>\n",
       "      <td>105002.0</td>\n",
       "      <td>1301.093227</td>\n",
       "      <td>34878.0</td>\n",
       "      <td>281497.0</td>\n",
       "      <td>387709.0</td>\n",
       "      <td>12207.0</td>\n",
       "      <td>117209.0</td>\n",
       "      <td>89.585271</td>\n",
       "      <td>1.797695</td>\n",
       "      <td>Spirit Air Lines</td>\n",
       "    </tr>\n",
       "    <tr>\n",
       "      <th>8</th>\n",
       "      <td>OO</td>\n",
       "      <td>1607.163452</td>\n",
       "      <td>1.829588</td>\n",
       "      <td>5.330606</td>\n",
       "      <td>1421.0</td>\n",
       "      <td>488989.0</td>\n",
       "      <td>1524.130021</td>\n",
       "      <td>154220.0</td>\n",
       "      <td>282159.0</td>\n",
       "      <td>822086.0</td>\n",
       "      <td>56559.0</td>\n",
       "      <td>545548.0</td>\n",
       "      <td>89.632626</td>\n",
       "      <td>0.921411</td>\n",
       "      <td>SkyWest Airlines Inc.</td>\n",
       "    </tr>\n",
       "    <tr>\n",
       "      <th>9</th>\n",
       "      <td>UA</td>\n",
       "      <td>1880.124699</td>\n",
       "      <td>0.809385</td>\n",
       "      <td>10.728570</td>\n",
       "      <td>1254.0</td>\n",
       "      <td>443655.0</td>\n",
       "      <td>1702.187891</td>\n",
       "      <td>135619.0</td>\n",
       "      <td>109768.0</td>\n",
       "      <td>1454998.0</td>\n",
       "      <td>75110.0</td>\n",
       "      <td>518765.0</td>\n",
       "      <td>85.521383</td>\n",
       "      <td>0.924649</td>\n",
       "      <td>United Air Lines Inc.</td>\n",
       "    </tr>\n",
       "    <tr>\n",
       "      <th>10</th>\n",
       "      <td>VX</td>\n",
       "      <td>1205.591200</td>\n",
       "      <td>7.559334</td>\n",
       "      <td>10.976852</td>\n",
       "      <td>156.0</td>\n",
       "      <td>48308.0</td>\n",
       "      <td>966.628162</td>\n",
       "      <td>17410.0</td>\n",
       "      <td>131608.0</td>\n",
       "      <td>191107.0</td>\n",
       "      <td>10864.0</td>\n",
       "      <td>59172.0</td>\n",
       "      <td>81.639965</td>\n",
       "      <td>0.896037</td>\n",
       "      <td>Virgin America</td>\n",
       "    </tr>\n",
       "    <tr>\n",
       "      <th>11</th>\n",
       "      <td>WN</td>\n",
       "      <td>1032.929413</td>\n",
       "      <td>6.063696</td>\n",
       "      <td>10.379690</td>\n",
       "      <td>3088.0</td>\n",
       "      <td>902652.0</td>\n",
       "      <td>905.628605</td>\n",
       "      <td>329988.0</td>\n",
       "      <td>2000947.0</td>\n",
       "      <td>3425173.0</td>\n",
       "      <td>161308.0</td>\n",
       "      <td>1063960.0</td>\n",
       "      <td>84.838904</td>\n",
       "      <td>0.935792</td>\n",
       "      <td>Southwest Airlines Co.</td>\n",
       "    </tr>\n",
       "  </tbody>\n",
       "</table>\n",
       "</div>"
      ],
      "text/plain": [
       "   UNIQUE_CARRIER  arr_delay_var  avg_arr_del  avg_dep_del  cancellations  \\\n",
       "0              AA    2226.048309     6.609803     9.751077         1984.0   \n",
       "1              AS     646.124408    -2.549315    -0.489591           84.0   \n",
       "2              B6    1653.720452     5.447876    10.819438          462.0   \n",
       "3              DL    1487.085589    -1.289094     6.813357          105.0   \n",
       "4              EV    2107.403354     3.526183     7.277043         2329.0   \n",
       "5              F9    2044.176599     3.916983     9.265852           56.0   \n",
       "6              HA     616.541980    -0.738274    -0.529894           34.0   \n",
       "7              NK    1457.811671     8.070904    11.116148          627.0   \n",
       "8              OO    1607.163452     1.829588     5.330606         1421.0   \n",
       "9              UA    1880.124699     0.809385    10.728570         1254.0   \n",
       "10             VX    1205.591200     7.559334    10.976852          156.0   \n",
       "11             WN    1032.929413     6.063696    10.379690         3088.0   \n",
       "\n",
       "    carrier_delay  dep_delay_var  num_flights  tot_arr_del  tot_dep_del  \\\n",
       "0        986109.0    2000.034712     233185.0    1541307.0    2273805.0   \n",
       "1         68531.0     528.447948      45777.0    -116700.0     -22412.0   \n",
       "2        288932.0    1430.230632      71272.0     388281.0     771123.0   \n",
       "3        772859.0    1350.288485     238680.0    -307681.0    1626212.0   \n",
       "4        560544.0    1940.452945     125042.0     440921.0     909936.0   \n",
       "5         64992.0    1853.431933      23152.0      90686.0     214523.0   \n",
       "6         35265.0     588.280149      19402.0     -14324.0     -10281.0   \n",
       "7        105002.0    1301.093227      34878.0     281497.0     387709.0   \n",
       "8        488989.0    1524.130021     154220.0     282159.0     822086.0   \n",
       "9        443655.0    1702.187891     135619.0     109768.0    1454998.0   \n",
       "10        48308.0     966.628162      17410.0     131608.0     191107.0   \n",
       "11       902652.0     905.628605     329988.0    2000947.0    3425173.0   \n",
       "\n",
       "    weather_delay  weather_plus_carrier  carrier_delay%  cancellation%  \\\n",
       "0        186134.0             1172243.0       84.121552       0.850827   \n",
       "1          4556.0               73087.0       93.766333       0.183498   \n",
       "2         24299.0              313231.0       92.242466       0.648221   \n",
       "3        100369.0              873228.0       88.505980       0.043992   \n",
       "4         29119.0              589663.0       95.061756       1.862574   \n",
       "5          5287.0               70279.0       92.477127       0.241880   \n",
       "6          1663.0               36928.0       95.496642       0.175240   \n",
       "7         12207.0              117209.0       89.585271       1.797695   \n",
       "8         56559.0              545548.0       89.632626       0.921411   \n",
       "9         75110.0              518765.0       85.521383       0.924649   \n",
       "10        10864.0               59172.0       81.639965       0.896037   \n",
       "11       161308.0             1063960.0       84.838904       0.935792   \n",
       "\n",
       "                airline_name  \n",
       "0     American Airlines Inc.  \n",
       "1       Alaska Airlines Inc.  \n",
       "2            JetBlue Airways  \n",
       "3       Delta Air Lines Inc.  \n",
       "4   ExpressJet Airlines Inc.  \n",
       "5     Frontier Airlines Inc.  \n",
       "6     Hawaiian Airlines Inc.  \n",
       "7           Spirit Air Lines  \n",
       "8      SkyWest Airlines Inc.  \n",
       "9      United Air Lines Inc.  \n",
       "10            Virgin America  \n",
       "11    Southwest Airlines Co.  "
      ]
     },
     "execution_count": 91,
     "metadata": {},
     "output_type": "execute_result"
    }
   ],
   "source": [
    "airline_details = pd.merge(airline_details, airline_lookup, on='UNIQUE_CARRIER')\n",
    "airline_details"
   ]
  },
  {
   "cell_type": "code",
   "execution_count": 250,
   "metadata": {
    "collapsed": false
   },
   "outputs": [
    {
     "data": {
      "text/plain": [
       "<matplotlib.axes._subplots.AxesSubplot at 0x11ea00278>"
      ]
     },
     "execution_count": 250,
     "metadata": {},
     "output_type": "execute_result"
    },
    {
     "data": {
      "image/png": "[encoded data removed]",
      "text/plain": [
       "<matplotlib.figure.Figure at 0x11a31c0f0>"
      ]
     },
     "metadata": {},
     "output_type": "display_data"
    }
   ],
   "source": [
    "# df.ix[5].plot.bar(); plt.axhline(0, color='k')\n",
    "airline_details.ix[:,1].plot.bar()"
   ]
  },
  {
   "cell_type": "code",
   "execution_count": 251,
   "metadata": {
    "collapsed": false
   },
   "outputs": [
    {
     "data": {
      "text/plain": [
       "<matplotlib.axes._subplots.AxesSubplot at 0x127ebe978>"
      ]
     },
     "execution_count": 251,
     "metadata": {},
     "output_type": "execute_result"
    },
    {
     "data": {
      "image/png": "[encoded data removed]",
      "text/plain": [
       "<matplotlib.figure.Figure at 0x127ecacf8>"
      ]
     },
     "metadata": {},
     "output_type": "display_data"
    }
   ],
   "source": [
    "airline_details.ix[:,6].plot.bar()"
   ]
  },
  {
   "cell_type": "code",
   "execution_count": 92,
   "metadata": {
    "collapsed": false
   },
   "outputs": [
    {
     "data": {
      "text/plain": [
       "('ABQ', 'DFW')"
      ]
     },
     "execution_count": 92,
     "metadata": {},
     "output_type": "execute_result"
    }
   ],
   "source": [
    "type(route_delays.iloc[0,2])\n",
    "route_delays.iloc[0,2]"
   ]
  },
  {
   "cell_type": "code",
   "execution_count": 93,
   "metadata": {
    "collapsed": false
   },
   "outputs": [
    {
     "data": {
      "text/html": [
       "<div>\n",
       "<table border=\"1\" class=\"dataframe\">\n",
       "  <thead>\n",
       "    <tr style=\"text-align: right;\">\n",
       "      <th></th>\n",
       "      <th>UNIQUE_CARRIER</th>\n",
       "      <th>airline_name</th>\n",
       "      <th>airport_routes</th>\n",
       "      <th>city_coutes</th>\n",
       "      <th>distance</th>\n",
       "      <th>average_delay_minutes</th>\n",
       "      <th>flight_counts</th>\n",
       "      <th>delay_var_minutes</th>\n",
       "    </tr>\n",
       "  </thead>\n",
       "  <tbody>\n",
       "    <tr>\n",
       "      <th>293</th>\n",
       "      <td>AA</td>\n",
       "      <td>American Airlines Inc.</td>\n",
       "      <td>(JFK, ORD)</td>\n",
       "      <td>(New York, NY, Chicago, IL)</td>\n",
       "      <td>740.0</td>\n",
       "      <td>8.748387</td>\n",
       "      <td>155.0</td>\n",
       "      <td>821.371345</td>\n",
       "    </tr>\n",
       "    <tr>\n",
       "      <th>1173</th>\n",
       "      <td>B6</td>\n",
       "      <td>JetBlue Airways</td>\n",
       "      <td>(JFK, ORD)</td>\n",
       "      <td>(New York, NY, Chicago, IL)</td>\n",
       "      <td>740.0</td>\n",
       "      <td>6.442953</td>\n",
       "      <td>298.0</td>\n",
       "      <td>715.224007</td>\n",
       "    </tr>\n",
       "    <tr>\n",
       "      <th>1759</th>\n",
       "      <td>DL</td>\n",
       "      <td>Delta Air Lines Inc.</td>\n",
       "      <td>(JFK, ORD)</td>\n",
       "      <td>(New York, NY, Chicago, IL)</td>\n",
       "      <td>740.0</td>\n",
       "      <td>0.000000</td>\n",
       "      <td>1.0</td>\n",
       "      <td>NaN</td>\n",
       "    </tr>\n",
       "  </tbody>\n",
       "</table>\n",
       "</div>"
      ],
      "text/plain": [
       "     UNIQUE_CARRIER            airline_name airport_routes  \\\n",
       "293              AA  American Airlines Inc.     (JFK, ORD)   \n",
       "1173             B6         JetBlue Airways     (JFK, ORD)   \n",
       "1759             DL    Delta Air Lines Inc.     (JFK, ORD)   \n",
       "\n",
       "                      city_coutes  distance  average_delay_minutes  \\\n",
       "293   (New York, NY, Chicago, IL)     740.0               8.748387   \n",
       "1173  (New York, NY, Chicago, IL)     740.0               6.442953   \n",
       "1759  (New York, NY, Chicago, IL)     740.0               0.000000   \n",
       "\n",
       "      flight_counts  delay_var_minutes  \n",
       "293           155.0         821.371345  \n",
       "1173          298.0         715.224007  \n",
       "1759            1.0                NaN  "
      ]
     },
     "execution_count": 93,
     "metadata": {},
     "output_type": "execute_result"
    }
   ],
   "source": [
    "counts_and_delays.loc[counts_and_delays['airport_routes'] == ('JFK', 'ORD')]"
   ]
  },
  {
   "cell_type": "code",
   "execution_count": 94,
   "metadata": {
    "collapsed": false
   },
   "outputs": [
    {
     "data": {
      "text/plain": [
       "4273"
      ]
     },
     "execution_count": 94,
     "metadata": {},
     "output_type": "execute_result"
    }
   ],
   "source": [
    "len(np.unique(counts_and_delays['airport_routes']))"
   ]
  },
  {
   "cell_type": "code",
   "execution_count": 95,
   "metadata": {
    "collapsed": false
   },
   "outputs": [
    {
     "data": {
      "text/html": [
       "<div>\n",
       "<table border=\"1\" class=\"dataframe\">\n",
       "  <thead>\n",
       "    <tr style=\"text-align: right;\">\n",
       "      <th></th>\n",
       "      <th>UNIQUE_CARRIER</th>\n",
       "      <th>arr_delay_var</th>\n",
       "      <th>avg_arr_del</th>\n",
       "      <th>avg_dep_del</th>\n",
       "      <th>cancellations</th>\n",
       "      <th>carrier_delay</th>\n",
       "      <th>dep_delay_var</th>\n",
       "      <th>num_flights</th>\n",
       "      <th>tot_arr_del</th>\n",
       "      <th>tot_dep_del</th>\n",
       "      <th>weather_delay</th>\n",
       "      <th>weather_plus_carrier</th>\n",
       "      <th>carrier_delay%</th>\n",
       "      <th>cancellation%</th>\n",
       "      <th>airline_name</th>\n",
       "    </tr>\n",
       "  </thead>\n",
       "  <tbody>\n",
       "    <tr>\n",
       "      <th>0</th>\n",
       "      <td>AA</td>\n",
       "      <td>2226.048309</td>\n",
       "      <td>6.609803</td>\n",
       "      <td>9.751077</td>\n",
       "      <td>1984.0</td>\n",
       "      <td>986109.0</td>\n",
       "      <td>2000.034712</td>\n",
       "      <td>233185.0</td>\n",
       "      <td>1541307.0</td>\n",
       "      <td>2273805.0</td>\n",
       "      <td>186134.0</td>\n",
       "      <td>1172243.0</td>\n",
       "      <td>84.121552</td>\n",
       "      <td>0.850827</td>\n",
       "      <td>American Airlines Inc.</td>\n",
       "    </tr>\n",
       "    <tr>\n",
       "      <th>1</th>\n",
       "      <td>AS</td>\n",
       "      <td>646.124408</td>\n",
       "      <td>-2.549315</td>\n",
       "      <td>-0.489591</td>\n",
       "      <td>84.0</td>\n",
       "      <td>68531.0</td>\n",
       "      <td>528.447948</td>\n",
       "      <td>45777.0</td>\n",
       "      <td>-116700.0</td>\n",
       "      <td>-22412.0</td>\n",
       "      <td>4556.0</td>\n",
       "      <td>73087.0</td>\n",
       "      <td>93.766333</td>\n",
       "      <td>0.183498</td>\n",
       "      <td>Alaska Airlines Inc.</td>\n",
       "    </tr>\n",
       "  </tbody>\n",
       "</table>\n",
       "</div>"
      ],
      "text/plain": [
       "  UNIQUE_CARRIER  arr_delay_var  avg_arr_del  avg_dep_del  cancellations  \\\n",
       "0             AA    2226.048309     6.609803     9.751077         1984.0   \n",
       "1             AS     646.124408    -2.549315    -0.489591           84.0   \n",
       "\n",
       "   carrier_delay  dep_delay_var  num_flights  tot_arr_del  tot_dep_del  \\\n",
       "0       986109.0    2000.034712     233185.0    1541307.0    2273805.0   \n",
       "1        68531.0     528.447948      45777.0    -116700.0     -22412.0   \n",
       "\n",
       "   weather_delay  weather_plus_carrier  carrier_delay%  cancellation%  \\\n",
       "0       186134.0             1172243.0       84.121552       0.850827   \n",
       "1         4556.0               73087.0       93.766333       0.183498   \n",
       "\n",
       "             airline_name  \n",
       "0  American Airlines Inc.  \n",
       "1    Alaska Airlines Inc.  "
      ]
     },
     "execution_count": 95,
     "metadata": {},
     "output_type": "execute_result"
    }
   ],
   "source": [
    "airline_details.head(2)"
   ]
  },
  {
   "cell_type": "code",
   "execution_count": 96,
   "metadata": {
    "collapsed": false
   },
   "outputs": [],
   "source": [
    "airline_details_merge = airline_details[['UNIQUE_CARRIER', 'arr_delay_var', 'carrier_delay%', 'cancellation%']]"
   ]
  },
  {
   "cell_type": "code",
   "execution_count": 97,
   "metadata": {
    "collapsed": false
   },
   "outputs": [],
   "source": [
    "export_df = pd.merge(airline_details_merge, counts_and_delays, on='UNIQUE_CARRIER')"
   ]
  },
  {
   "cell_type": "code",
   "execution_count": 173,
   "metadata": {
    "collapsed": false
   },
   "outputs": [
    {
     "data": {
      "text/html": [
       "<div>\n",
       "<table border=\"1\" class=\"dataframe\">\n",
       "  <thead>\n",
       "    <tr style=\"text-align: right;\">\n",
       "      <th></th>\n",
       "      <th>UNIQUE_CARRIER</th>\n",
       "      <th>arr_delay_var</th>\n",
       "      <th>carrier_delay%</th>\n",
       "      <th>cancellation%</th>\n",
       "      <th>airline_name</th>\n",
       "      <th>airport_routes</th>\n",
       "      <th>city_coutes</th>\n",
       "      <th>distance</th>\n",
       "      <th>average_delay_minutes</th>\n",
       "      <th>flight_counts</th>\n",
       "      <th>delay_var_minutes</th>\n",
       "    </tr>\n",
       "  </thead>\n",
       "  <tbody>\n",
       "    <tr>\n",
       "      <th>0</th>\n",
       "      <td>AA</td>\n",
       "      <td>2226.048309</td>\n",
       "      <td>84.121552</td>\n",
       "      <td>0.850827</td>\n",
       "      <td>American Airlines Inc.</td>\n",
       "      <td>(ABQ, DFW)</td>\n",
       "      <td>(Albuquerque, NM, Dallas/Fort Worth, TX)</td>\n",
       "      <td>569.0</td>\n",
       "      <td>6.843891</td>\n",
       "      <td>442.0</td>\n",
       "      <td>2874.268092</td>\n",
       "    </tr>\n",
       "    <tr>\n",
       "      <th>1</th>\n",
       "      <td>AA</td>\n",
       "      <td>2226.048309</td>\n",
       "      <td>84.121552</td>\n",
       "      <td>0.850827</td>\n",
       "      <td>American Airlines Inc.</td>\n",
       "      <td>(ALB, CLT)</td>\n",
       "      <td>(Albany, NY, Charlotte, NC)</td>\n",
       "      <td>646.0</td>\n",
       "      <td>0.946154</td>\n",
       "      <td>260.0</td>\n",
       "      <td>26.290526</td>\n",
       "    </tr>\n",
       "    <tr>\n",
       "      <th>2</th>\n",
       "      <td>AA</td>\n",
       "      <td>2226.048309</td>\n",
       "      <td>84.121552</td>\n",
       "      <td>0.850827</td>\n",
       "      <td>American Airlines Inc.</td>\n",
       "      <td>(ANC, DFW)</td>\n",
       "      <td>(Anchorage, AK, Dallas/Fort Worth, TX)</td>\n",
       "      <td>3043.0</td>\n",
       "      <td>5.310345</td>\n",
       "      <td>29.0</td>\n",
       "      <td>157.078818</td>\n",
       "    </tr>\n",
       "    <tr>\n",
       "      <th>3</th>\n",
       "      <td>AA</td>\n",
       "      <td>2226.048309</td>\n",
       "      <td>84.121552</td>\n",
       "      <td>0.850827</td>\n",
       "      <td>American Airlines Inc.</td>\n",
       "      <td>(ANC, LAX)</td>\n",
       "      <td>(Anchorage, AK, Los Angeles, CA)</td>\n",
       "      <td>2345.0</td>\n",
       "      <td>26.517241</td>\n",
       "      <td>29.0</td>\n",
       "      <td>12432.758621</td>\n",
       "    </tr>\n",
       "    <tr>\n",
       "      <th>4</th>\n",
       "      <td>AA</td>\n",
       "      <td>2226.048309</td>\n",
       "      <td>84.121552</td>\n",
       "      <td>0.850827</td>\n",
       "      <td>American Airlines Inc.</td>\n",
       "      <td>(ANC, PHX)</td>\n",
       "      <td>(Anchorage, AK, Phoenix, AZ)</td>\n",
       "      <td>2552.0</td>\n",
       "      <td>1.600000</td>\n",
       "      <td>90.0</td>\n",
       "      <td>60.130337</td>\n",
       "    </tr>\n",
       "  </tbody>\n",
       "</table>\n",
       "</div>"
      ],
      "text/plain": [
       "  UNIQUE_CARRIER  arr_delay_var  carrier_delay%  cancellation%  \\\n",
       "0             AA    2226.048309       84.121552       0.850827   \n",
       "1             AA    2226.048309       84.121552       0.850827   \n",
       "2             AA    2226.048309       84.121552       0.850827   \n",
       "3             AA    2226.048309       84.121552       0.850827   \n",
       "4             AA    2226.048309       84.121552       0.850827   \n",
       "\n",
       "             airline_name airport_routes  \\\n",
       "0  American Airlines Inc.     (ABQ, DFW)   \n",
       "1  American Airlines Inc.     (ALB, CLT)   \n",
       "2  American Airlines Inc.     (ANC, DFW)   \n",
       "3  American Airlines Inc.     (ANC, LAX)   \n",
       "4  American Airlines Inc.     (ANC, PHX)   \n",
       "\n",
       "                                city_coutes  distance  average_delay_minutes  \\\n",
       "0  (Albuquerque, NM, Dallas/Fort Worth, TX)     569.0               6.843891   \n",
       "1               (Albany, NY, Charlotte, NC)     646.0               0.946154   \n",
       "2    (Anchorage, AK, Dallas/Fort Worth, TX)    3043.0               5.310345   \n",
       "3          (Anchorage, AK, Los Angeles, CA)    2345.0              26.517241   \n",
       "4              (Anchorage, AK, Phoenix, AZ)    2552.0               1.600000   \n",
       "\n",
       "   flight_counts  delay_var_minutes  \n",
       "0          442.0        2874.268092  \n",
       "1          260.0          26.290526  \n",
       "2           29.0         157.078818  \n",
       "3           29.0       12432.758621  \n",
       "4           90.0          60.130337  "
      ]
     },
     "execution_count": 173,
     "metadata": {},
     "output_type": "execute_result"
    }
   ],
   "source": [
    "export_df.head()"
   ]
  },
  {
   "cell_type": "code",
   "execution_count": 99,
   "metadata": {
    "collapsed": false
   },
   "outputs": [],
   "source": [
    "export_df.to_csv('routes_delays.csv')"
   ]
  }
 ],
 "metadata": {
  "kernelspec": {
   "display_name": "Python 3",
   "language": "python",
   "name": "python3"
  },
  "language_info": {
   "codemirror_mode": {
    "name": "ipython",
    "version": 3
   },
   "file_extension": ".py",
   "mimetype": "text/x-python",
   "name": "python",
   "nbconvert_exporter": "python",
   "pygments_lexer": "ipython3",
   "version": "3.5.1"
  }
 },
 "nbformat": 4,
 "nbformat_minor": 0
}
