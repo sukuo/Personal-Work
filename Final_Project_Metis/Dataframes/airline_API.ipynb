{
 "cells": [
  {
   "cell_type": "code",
   "execution_count": 7,
   "metadata": {
    "collapsed": false
   },
   "outputs": [],
   "source": [
    "import requests\n",
    "import skyscanner"
   ]
  },
  {
   "cell_type": "code",
   "execution_count": 2,
   "metadata": {
    "collapsed": true
   },
   "outputs": [],
   "source": [
    "# #out_date must be in yyyy-mm-dd format\n",
    "# params = {'apiKey':\"me385962234195749346916339826160\", 'country': \"USA\", 'currency':'USD',\n",
    "#           'locale':'eng', 'originplace':'JFK' , 'destinationplace':'LAX',\n",
    "#           'outbounddate': 2016-12-20}\n",
    "\n",
    "# url = requests.get('http://partners.api.skyscanner.net/apiservices/pricing/v1.0', params=params)"
   ]
  },
  {
   "cell_type": "code",
   "execution_count": 5,
   "metadata": {
    "collapsed": false
   },
   "outputs": [],
   "source": [
    "skyscanner?"
   ]
  },
  {
   "cell_type": "code",
   "execution_count": 6,
   "metadata": {
    "collapsed": false
   },
   "outputs": [
    {
     "ename": "AttributeError",
     "evalue": "module 'skyscanner' has no attribute 'Flights'",
     "output_type": "error",
     "traceback": [
      "\u001b[0;31m---------------------------------------------------------------------------\u001b[0m",
      "\u001b[0;31mAttributeError\u001b[0m                            Traceback (most recent call last)",
      "\u001b[0;32m<ipython-input-6-dcb7a8757b3c>\u001b[0m in \u001b[0;36m<module>\u001b[0;34m()\u001b[0m\n\u001b[0;32m----> 1\u001b[0;31m \u001b[0mflights_service\u001b[0m \u001b[0;34m=\u001b[0m \u001b[0mskyscanner\u001b[0m\u001b[0;34m.\u001b[0m\u001b[0mFlights\u001b[0m\u001b[0;34m(\u001b[0m\u001b[0mme385962234195749346916339826160\u001b[0m\u001b[0;34m)\u001b[0m\u001b[0;34m\u001b[0m\u001b[0m\n\u001b[0m",
      "\u001b[0;31mAttributeError\u001b[0m: module 'skyscanner' has no attribute 'Flights'"
     ]
    }
   ],
   "source": [
    "flights_service = skyscanner.Flights(me385962234195749346916339826160)"
   ]
  },
  {
   "cell_type": "code",
   "execution_count": 8,
   "metadata": {
    "collapsed": true
   },
   "outputs": [],
   "source": []
  },
  {
   "cell_type": "code",
   "execution_count": null,
   "metadata": {
    "collapsed": true
   },
   "outputs": [],
   "source": []
  }
 ],
 "metadata": {
  "kernelspec": {
   "display_name": "Python 3",
   "language": "python",
   "name": "python3"
  },
  "language_info": {
   "codemirror_mode": {
    "name": "ipython",
    "version": 3
   },
   "file_extension": ".py",
   "mimetype": "text/x-python",
   "name": "python",
   "nbconvert_exporter": "python",
   "pygments_lexer": "ipython3",
   "version": "3.5.1"
  }
 },
 "nbformat": 4,
 "nbformat_minor": 0
}
