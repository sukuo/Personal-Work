{
 "cells": [
  {
   "cell_type": "markdown",
   "metadata": {},
   "source": [
    "## Import CSV's to create Pandas Dataframes"
   ]
  },
  {
   "cell_type": "code",
   "execution_count": 3,
   "metadata": {
    "collapsed": true
   },
   "outputs": [],
   "source": [
    "import csv\n",
    "import requests\n",
    "import pandas as pd\n",
    "from io import StringIO\n",
    "import zipfile\n",
    "import requests\n",
    "import numpy as np\n",
    "import seaborn as sns\n",
    "import matplotlib.pyplot as plt\n",
    "%matplotlib inline\n",
    "from collections import Counter"
   ]
  },
  {
   "cell_type": "code",
   "execution_count": 4,
   "metadata": {
    "collapsed": false
   },
   "outputs": [],
   "source": [
    "url = 'https://raw.githubusercontent.com/quankiquanki/skytrax-reviews-dataset/master/data/airline.csv'\n",
    "response = requests.get(url)\n",
    "df_airlines = pd.read_csv(StringIO(response.text))"
   ]
  },
  {
   "cell_type": "code",
   "execution_count": 5,
   "metadata": {
    "collapsed": true
   },
   "outputs": [],
   "source": [
    "df_airlines.to_csv('airline_reviews.csv')"
   ]
  },
  {
   "cell_type": "code",
   "execution_count": 6,
   "metadata": {
    "collapsed": true
   },
   "outputs": [],
   "source": [
    "url1 = 'https://raw.githubusercontent.com/quankiquanki/skytrax-reviews-dataset/master/data/airport.csv'\n",
    "response1 = requests.get(url1)\n",
    "df_airports = pd.read_csv(StringIO(response1.text))"
   ]
  },
  {
   "cell_type": "code",
   "execution_count": 7,
   "metadata": {
    "collapsed": true
   },
   "outputs": [],
   "source": [
    "df_airports.to_csv('airport_reviews.csv')"
   ]
  },
  {
   "cell_type": "markdown",
   "metadata": {},
   "source": [
    "### Take a look at CSV contents"
   ]
  },
  {
   "cell_type": "code",
   "execution_count": 7,
   "metadata": {
    "collapsed": false
   },
   "outputs": [
    {
     "data": {
      "text/plain": [
       "Index(['FL_DATE', 'UNIQUE_CARRIER', 'AIRLINE_ID', 'CARRIER', 'FL_NUM',\n",
       "       'ORIGIN_AIRPORT_ID', 'ORIGIN_AIRPORT_SEQ_ID', 'ORIGIN_CITY_MARKET_ID',\n",
       "       'ORIGIN', 'ORIGIN_CITY_NAME', 'ORIGIN_STATE_ABR', 'ORIGIN_STATE_NM',\n",
       "       'ORIGIN_WAC', 'DEST_AIRPORT_ID', 'DEST_AIRPORT_SEQ_ID',\n",
       "       'DEST_CITY_MARKET_ID', 'DEST', 'DEST_CITY_NAME', 'DEST_STATE_ABR',\n",
       "       'DEST_STATE_FIPS', 'DEST_STATE_NM', 'DEST_WAC', 'DEP_TIME', 'DEP_DELAY',\n",
       "       'ARR_TIME', 'ARR_DELAY', 'ARR_DELAY_NEW', 'CANCELLED',\n",
       "       'CANCELLATION_CODE', 'DIVERTED', 'ACTUAL_ELAPSED_TIME', 'DISTANCE',\n",
       "       'CARRIER_DELAY', 'WEATHER_DELAY', 'Unnamed: 34'],\n",
       "      dtype='object')"
      ]
     },
     "execution_count": 7,
     "metadata": {},
     "output_type": "execute_result"
    }
   ],
   "source": [
    "flight_df.columns"
   ]
  },
  {
   "cell_type": "code",
   "execution_count": 6,
   "metadata": {
    "collapsed": false
   },
   "outputs": [
    {
     "data": {
      "text/plain": [
       "Index(['airline_name', 'link', 'title', 'author', 'author_country', 'date',\n",
       "       'content', 'aircraft', 'type_traveller', 'cabin_flown', 'route',\n",
       "       'overall_rating', 'seat_comfort_rating', 'cabin_staff_rating',\n",
       "       'food_beverages_rating', 'inflight_entertainment_rating',\n",
       "       'ground_service_rating', 'wifi_connectivity_rating',\n",
       "       'value_money_rating', 'recommended'],\n",
       "      dtype='object')"
      ]
     },
     "execution_count": 6,
     "metadata": {},
     "output_type": "execute_result"
    }
   ],
   "source": [
    "df_airlines.columns"
   ]
  },
  {
   "cell_type": "code",
   "execution_count": 7,
   "metadata": {
    "collapsed": false
   },
   "outputs": [
    {
     "data": {
      "text/plain": [
       "Index(['airport_name', 'link', 'title', 'author', 'author_country', 'date',\n",
       "       'content', 'experience_airport', 'date_visit', 'type_traveller',\n",
       "       'overall_rating', 'queuing_rating', 'terminal_cleanliness_rating',\n",
       "       'terminal_seating_rating', 'terminal_signs_rating',\n",
       "       'food_beverages_rating', 'airport_shopping_rating',\n",
       "       'wifi_connectivity_rating', 'airport_staff_rating', 'recommended'],\n",
       "      dtype='object')"
      ]
     },
     "execution_count": 7,
     "metadata": {},
     "output_type": "execute_result"
    }
   ],
   "source": [
    "df_airports.columns"
   ]
  },
  {
   "cell_type": "code",
   "execution_count": 9,
   "metadata": {
    "collapsed": false
   },
   "outputs": [
    {
     "data": {
      "text/plain": [
       "<matplotlib.axes._subplots.AxesSubplot at 0x12e594470>"
      ]
     },
     "execution_count": 9,
     "metadata": {},
     "output_type": "execute_result"
    },
    {
     "data": {
      "image/png": "[encoded data removed]",
      "text/plain": [
       "<matplotlib.figure.Figure at 0x12e58bb70>"
      ]
     },
     "metadata": {},
     "output_type": "display_data"
    }
   ],
   "source": [
    "df_airports['overall_rating'].dropna().hist()"
   ]
  },
  {
   "cell_type": "code",
   "execution_count": 1,
   "metadata": {
    "collapsed": false
   },
   "outputs": [],
   "source": [
    "#dict(Counter(df_airlines['author_country']))"
   ]
  },
  {
   "cell_type": "code",
   "execution_count": 14,
   "metadata": {
    "collapsed": false
   },
   "outputs": [
    {
     "data": {
      "text/plain": [
       "UNIQUE_CARRIER\n",
       "AA    2720.0\n",
       "AS     139.0\n",
       "B6     897.0\n",
       "DL     974.0\n",
       "EV    1427.0\n",
       "F9      77.0\n",
       "HA       4.0\n",
       "NK     308.0\n",
       "OO     984.0\n",
       "UA    1336.0\n",
       "VX     159.0\n",
       "WN    2640.0\n",
       "Name: CANCELLED, dtype: float64"
      ]
     },
     "execution_count": 14,
     "metadata": {},
     "output_type": "execute_result"
    }
   ],
   "source": [
    "flight_df.groupby(['UNIQUE_CARRIER'])['CANCELLED'].sum()"
   ]
  },
  {
   "cell_type": "code",
   "execution_count": 111,
   "metadata": {
    "collapsed": false
   },
   "outputs": [
    {
     "data": {
      "text/html": [
       "<div>\n",
       "<table border=\"1\" class=\"dataframe\">\n",
       "  <thead>\n",
       "    <tr style=\"text-align: right;\">\n",
       "      <th></th>\n",
       "      <th>FL_DATE</th>\n",
       "      <th>UNIQUE_CARRIER</th>\n",
       "      <th>AIRLINE_ID</th>\n",
       "      <th>CARRIER</th>\n",
       "      <th>FL_NUM</th>\n",
       "      <th>ORIGIN_AIRPORT_ID</th>\n",
       "      <th>ORIGIN_AIRPORT_SEQ_ID</th>\n",
       "      <th>ORIGIN_CITY_MARKET_ID</th>\n",
       "      <th>ORIGIN</th>\n",
       "      <th>ORIGIN_CITY_NAME</th>\n",
       "      <th>...</th>\n",
       "      <th>ARR_DELAY_NEW</th>\n",
       "      <th>CANCELLED</th>\n",
       "      <th>CANCELLATION_CODE</th>\n",
       "      <th>DIVERTED</th>\n",
       "      <th>ACTUAL_ELAPSED_TIME</th>\n",
       "      <th>DISTANCE</th>\n",
       "      <th>CARRIER_DELAY</th>\n",
       "      <th>WEATHER_DELAY</th>\n",
       "      <th>Unnamed: 34</th>\n",
       "      <th>FL_YR</th>\n",
       "    </tr>\n",
       "  </thead>\n",
       "  <tbody>\n",
       "    <tr>\n",
       "      <th>0</th>\n",
       "      <td>2016-01-01</td>\n",
       "      <td>AA</td>\n",
       "      <td>19805</td>\n",
       "      <td>AA</td>\n",
       "      <td>43</td>\n",
       "      <td>11433</td>\n",
       "      <td>1143302</td>\n",
       "      <td>31295</td>\n",
       "      <td>DTW</td>\n",
       "      <td>Detroit, MI</td>\n",
       "      <td>...</td>\n",
       "      <td>32.0</td>\n",
       "      <td>0.0</td>\n",
       "      <td>NaN</td>\n",
       "      <td>0.0</td>\n",
       "      <td>197.0</td>\n",
       "      <td>986.0</td>\n",
       "      <td>26.0</td>\n",
       "      <td>0.0</td>\n",
       "      <td>NaN</td>\n",
       "      <td>2016</td>\n",
       "    </tr>\n",
       "    <tr>\n",
       "      <th>1</th>\n",
       "      <td>2016-01-01</td>\n",
       "      <td>AA</td>\n",
       "      <td>19805</td>\n",
       "      <td>AA</td>\n",
       "      <td>44</td>\n",
       "      <td>14747</td>\n",
       "      <td>1474703</td>\n",
       "      <td>30559</td>\n",
       "      <td>SEA</td>\n",
       "      <td>Seattle, WA</td>\n",
       "      <td>...</td>\n",
       "      <td>8.0</td>\n",
       "      <td>0.0</td>\n",
       "      <td>NaN</td>\n",
       "      <td>0.0</td>\n",
       "      <td>329.0</td>\n",
       "      <td>2422.0</td>\n",
       "      <td>NaN</td>\n",
       "      <td>NaN</td>\n",
       "      <td>NaN</td>\n",
       "      <td>2016</td>\n",
       "    </tr>\n",
       "    <tr>\n",
       "      <th>2</th>\n",
       "      <td>2016-01-01</td>\n",
       "      <td>AA</td>\n",
       "      <td>19805</td>\n",
       "      <td>AA</td>\n",
       "      <td>45</td>\n",
       "      <td>12478</td>\n",
       "      <td>1247803</td>\n",
       "      <td>31703</td>\n",
       "      <td>JFK</td>\n",
       "      <td>New York, NY</td>\n",
       "      <td>...</td>\n",
       "      <td>0.0</td>\n",
       "      <td>0.0</td>\n",
       "      <td>NaN</td>\n",
       "      <td>0.0</td>\n",
       "      <td>366.0</td>\n",
       "      <td>2422.0</td>\n",
       "      <td>NaN</td>\n",
       "      <td>NaN</td>\n",
       "      <td>NaN</td>\n",
       "      <td>2016</td>\n",
       "    </tr>\n",
       "    <tr>\n",
       "      <th>3</th>\n",
       "      <td>2016-01-01</td>\n",
       "      <td>AA</td>\n",
       "      <td>19805</td>\n",
       "      <td>AA</td>\n",
       "      <td>46</td>\n",
       "      <td>14831</td>\n",
       "      <td>1483103</td>\n",
       "      <td>32457</td>\n",
       "      <td>SJC</td>\n",
       "      <td>San Jose, CA</td>\n",
       "      <td>...</td>\n",
       "      <td>0.0</td>\n",
       "      <td>0.0</td>\n",
       "      <td>NaN</td>\n",
       "      <td>0.0</td>\n",
       "      <td>246.0</td>\n",
       "      <td>1829.0</td>\n",
       "      <td>NaN</td>\n",
       "      <td>NaN</td>\n",
       "      <td>NaN</td>\n",
       "      <td>2016</td>\n",
       "    </tr>\n",
       "    <tr>\n",
       "      <th>4</th>\n",
       "      <td>2016-01-01</td>\n",
       "      <td>AA</td>\n",
       "      <td>19805</td>\n",
       "      <td>AA</td>\n",
       "      <td>47</td>\n",
       "      <td>13930</td>\n",
       "      <td>1393004</td>\n",
       "      <td>30977</td>\n",
       "      <td>ORD</td>\n",
       "      <td>Chicago, IL</td>\n",
       "      <td>...</td>\n",
       "      <td>0.0</td>\n",
       "      <td>0.0</td>\n",
       "      <td>NaN</td>\n",
       "      <td>0.0</td>\n",
       "      <td>261.0</td>\n",
       "      <td>1829.0</td>\n",
       "      <td>NaN</td>\n",
       "      <td>NaN</td>\n",
       "      <td>NaN</td>\n",
       "      <td>2016</td>\n",
       "    </tr>\n",
       "  </tbody>\n",
       "</table>\n",
       "<p>5 rows × 36 columns</p>\n",
       "</div>"
      ],
      "text/plain": [
       "      FL_DATE UNIQUE_CARRIER  AIRLINE_ID CARRIER  FL_NUM  ORIGIN_AIRPORT_ID  \\\n",
       "0  2016-01-01             AA       19805      AA      43              11433   \n",
       "1  2016-01-01             AA       19805      AA      44              14747   \n",
       "2  2016-01-01             AA       19805      AA      45              12478   \n",
       "3  2016-01-01             AA       19805      AA      46              14831   \n",
       "4  2016-01-01             AA       19805      AA      47              13930   \n",
       "\n",
       "   ORIGIN_AIRPORT_SEQ_ID  ORIGIN_CITY_MARKET_ID ORIGIN ORIGIN_CITY_NAME  \\\n",
       "0                1143302                  31295    DTW      Detroit, MI   \n",
       "1                1474703                  30559    SEA      Seattle, WA   \n",
       "2                1247803                  31703    JFK     New York, NY   \n",
       "3                1483103                  32457    SJC     San Jose, CA   \n",
       "4                1393004                  30977    ORD      Chicago, IL   \n",
       "\n",
       "   ...   ARR_DELAY_NEW CANCELLED  CANCELLATION_CODE  DIVERTED  \\\n",
       "0  ...            32.0       0.0                NaN       0.0   \n",
       "1  ...             8.0       0.0                NaN       0.0   \n",
       "2  ...             0.0       0.0                NaN       0.0   \n",
       "3  ...             0.0       0.0                NaN       0.0   \n",
       "4  ...             0.0       0.0                NaN       0.0   \n",
       "\n",
       "   ACTUAL_ELAPSED_TIME  DISTANCE CARRIER_DELAY WEATHER_DELAY Unnamed: 34  \\\n",
       "0                197.0     986.0          26.0           0.0         NaN   \n",
       "1                329.0    2422.0           NaN           NaN         NaN   \n",
       "2                366.0    2422.0           NaN           NaN         NaN   \n",
       "3                246.0    1829.0           NaN           NaN         NaN   \n",
       "4                261.0    1829.0           NaN           NaN         NaN   \n",
       "\n",
       "   FL_YR  \n",
       "0   2016  \n",
       "1   2016  \n",
       "2   2016  \n",
       "3   2016  \n",
       "4   2016  \n",
       "\n",
       "[5 rows x 36 columns]"
      ]
     },
     "execution_count": 111,
     "metadata": {},
     "output_type": "execute_result"
    }
   ],
   "source": [
    "flight_df.head()"
   ]
  },
  {
   "cell_type": "code",
   "execution_count": 105,
   "metadata": {
    "collapsed": false
   },
   "outputs": [],
   "source": [
    "flight_df['FL_YR'] = flight_df['FL_DATE'].apply(lambda x: x[:4])"
   ]
  },
  {
   "cell_type": "code",
   "execution_count": 38,
   "metadata": {
    "collapsed": false
   },
   "outputs": [
    {
     "data": {
      "text/plain": [
       "0.0    434162\n",
       "1.0     11665\n",
       "Name: CANCELLED, dtype: int64"
      ]
     },
     "execution_count": 38,
     "metadata": {},
     "output_type": "execute_result"
    }
   ],
   "source": [
    "flight_df['CANCELLED'].value_counts()"
   ]
  },
  {
   "cell_type": "code",
   "execution_count": 20,
   "metadata": {
    "collapsed": false
   },
   "outputs": [],
   "source": [
    "flight_df['origin_dest'] = list(zip(flight_df.UNIQUE_CARRIER, flight_df.ORIGIN_CITY_NAME, flight_df.DEST_CITY_NAME))"
   ]
  },
  {
   "cell_type": "code",
   "execution_count": 27,
   "metadata": {
    "collapsed": false
   },
   "outputs": [
    {
     "data": {
      "text/html": [
       "<div>\n",
       "<table border=\"1\" class=\"dataframe\">\n",
       "  <thead>\n",
       "    <tr style=\"text-align: right;\">\n",
       "      <th></th>\n",
       "      <th>FL_DATE</th>\n",
       "      <th>UNIQUE_CARRIER</th>\n",
       "      <th>AIRLINE_ID</th>\n",
       "      <th>CARRIER</th>\n",
       "      <th>FL_NUM</th>\n",
       "      <th>ORIGIN_AIRPORT_ID</th>\n",
       "      <th>ORIGIN_AIRPORT_SEQ_ID</th>\n",
       "      <th>ORIGIN_CITY_MARKET_ID</th>\n",
       "      <th>ORIGIN</th>\n",
       "      <th>ORIGIN_CITY_NAME</th>\n",
       "      <th>...</th>\n",
       "      <th>ARR_DELAY_NEW</th>\n",
       "      <th>CANCELLED</th>\n",
       "      <th>CANCELLATION_CODE</th>\n",
       "      <th>DIVERTED</th>\n",
       "      <th>ACTUAL_ELAPSED_TIME</th>\n",
       "      <th>DISTANCE</th>\n",
       "      <th>CARRIER_DELAY</th>\n",
       "      <th>WEATHER_DELAY</th>\n",
       "      <th>Unnamed: 34</th>\n",
       "      <th>origin_dest</th>\n",
       "    </tr>\n",
       "  </thead>\n",
       "  <tbody>\n",
       "    <tr>\n",
       "      <th>0</th>\n",
       "      <td>2016-01-01</td>\n",
       "      <td>AA</td>\n",
       "      <td>19805</td>\n",
       "      <td>AA</td>\n",
       "      <td>43</td>\n",
       "      <td>11433</td>\n",
       "      <td>1143302</td>\n",
       "      <td>31295</td>\n",
       "      <td>DTW</td>\n",
       "      <td>Detroit, MI</td>\n",
       "      <td>...</td>\n",
       "      <td>32.0</td>\n",
       "      <td>0.0</td>\n",
       "      <td>NaN</td>\n",
       "      <td>0.0</td>\n",
       "      <td>197.0</td>\n",
       "      <td>986.0</td>\n",
       "      <td>26.0</td>\n",
       "      <td>0.0</td>\n",
       "      <td>NaN</td>\n",
       "      <td>(AA, Detroit, MI, Dallas/Fort Worth, TX)</td>\n",
       "    </tr>\n",
       "    <tr>\n",
       "      <th>1</th>\n",
       "      <td>2016-01-01</td>\n",
       "      <td>AA</td>\n",
       "      <td>19805</td>\n",
       "      <td>AA</td>\n",
       "      <td>44</td>\n",
       "      <td>14747</td>\n",
       "      <td>1474703</td>\n",
       "      <td>30559</td>\n",
       "      <td>SEA</td>\n",
       "      <td>Seattle, WA</td>\n",
       "      <td>...</td>\n",
       "      <td>8.0</td>\n",
       "      <td>0.0</td>\n",
       "      <td>NaN</td>\n",
       "      <td>0.0</td>\n",
       "      <td>329.0</td>\n",
       "      <td>2422.0</td>\n",
       "      <td>NaN</td>\n",
       "      <td>NaN</td>\n",
       "      <td>NaN</td>\n",
       "      <td>(AA, Seattle, WA, New York, NY)</td>\n",
       "    </tr>\n",
       "    <tr>\n",
       "      <th>2</th>\n",
       "      <td>2016-01-01</td>\n",
       "      <td>AA</td>\n",
       "      <td>19805</td>\n",
       "      <td>AA</td>\n",
       "      <td>45</td>\n",
       "      <td>12478</td>\n",
       "      <td>1247803</td>\n",
       "      <td>31703</td>\n",
       "      <td>JFK</td>\n",
       "      <td>New York, NY</td>\n",
       "      <td>...</td>\n",
       "      <td>0.0</td>\n",
       "      <td>0.0</td>\n",
       "      <td>NaN</td>\n",
       "      <td>0.0</td>\n",
       "      <td>366.0</td>\n",
       "      <td>2422.0</td>\n",
       "      <td>NaN</td>\n",
       "      <td>NaN</td>\n",
       "      <td>NaN</td>\n",
       "      <td>(AA, New York, NY, Seattle, WA)</td>\n",
       "    </tr>\n",
       "    <tr>\n",
       "      <th>3</th>\n",
       "      <td>2016-01-01</td>\n",
       "      <td>AA</td>\n",
       "      <td>19805</td>\n",
       "      <td>AA</td>\n",
       "      <td>46</td>\n",
       "      <td>14831</td>\n",
       "      <td>1483103</td>\n",
       "      <td>32457</td>\n",
       "      <td>SJC</td>\n",
       "      <td>San Jose, CA</td>\n",
       "      <td>...</td>\n",
       "      <td>0.0</td>\n",
       "      <td>0.0</td>\n",
       "      <td>NaN</td>\n",
       "      <td>0.0</td>\n",
       "      <td>246.0</td>\n",
       "      <td>1829.0</td>\n",
       "      <td>NaN</td>\n",
       "      <td>NaN</td>\n",
       "      <td>NaN</td>\n",
       "      <td>(AA, San Jose, CA, Chicago, IL)</td>\n",
       "    </tr>\n",
       "    <tr>\n",
       "      <th>4</th>\n",
       "      <td>2016-01-01</td>\n",
       "      <td>AA</td>\n",
       "      <td>19805</td>\n",
       "      <td>AA</td>\n",
       "      <td>47</td>\n",
       "      <td>13930</td>\n",
       "      <td>1393004</td>\n",
       "      <td>30977</td>\n",
       "      <td>ORD</td>\n",
       "      <td>Chicago, IL</td>\n",
       "      <td>...</td>\n",
       "      <td>0.0</td>\n",
       "      <td>0.0</td>\n",
       "      <td>NaN</td>\n",
       "      <td>0.0</td>\n",
       "      <td>261.0</td>\n",
       "      <td>1829.0</td>\n",
       "      <td>NaN</td>\n",
       "      <td>NaN</td>\n",
       "      <td>NaN</td>\n",
       "      <td>(AA, Chicago, IL, San Jose, CA)</td>\n",
       "    </tr>\n",
       "  </tbody>\n",
       "</table>\n",
       "<p>5 rows × 36 columns</p>\n",
       "</div>"
      ],
      "text/plain": [
       "      FL_DATE UNIQUE_CARRIER  AIRLINE_ID CARRIER  FL_NUM  ORIGIN_AIRPORT_ID  \\\n",
       "0  2016-01-01             AA       19805      AA      43              11433   \n",
       "1  2016-01-01             AA       19805      AA      44              14747   \n",
       "2  2016-01-01             AA       19805      AA      45              12478   \n",
       "3  2016-01-01             AA       19805      AA      46              14831   \n",
       "4  2016-01-01             AA       19805      AA      47              13930   \n",
       "\n",
       "   ORIGIN_AIRPORT_SEQ_ID  ORIGIN_CITY_MARKET_ID ORIGIN ORIGIN_CITY_NAME  \\\n",
       "0                1143302                  31295    DTW      Detroit, MI   \n",
       "1                1474703                  30559    SEA      Seattle, WA   \n",
       "2                1247803                  31703    JFK     New York, NY   \n",
       "3                1483103                  32457    SJC     San Jose, CA   \n",
       "4                1393004                  30977    ORD      Chicago, IL   \n",
       "\n",
       "                     ...                    ARR_DELAY_NEW CANCELLED  \\\n",
       "0                    ...                             32.0       0.0   \n",
       "1                    ...                              8.0       0.0   \n",
       "2                    ...                              0.0       0.0   \n",
       "3                    ...                              0.0       0.0   \n",
       "4                    ...                              0.0       0.0   \n",
       "\n",
       "   CANCELLATION_CODE  DIVERTED  ACTUAL_ELAPSED_TIME  DISTANCE CARRIER_DELAY  \\\n",
       "0                NaN       0.0                197.0     986.0          26.0   \n",
       "1                NaN       0.0                329.0    2422.0           NaN   \n",
       "2                NaN       0.0                366.0    2422.0           NaN   \n",
       "3                NaN       0.0                246.0    1829.0           NaN   \n",
       "4                NaN       0.0                261.0    1829.0           NaN   \n",
       "\n",
       "  WEATHER_DELAY Unnamed: 34                               origin_dest  \n",
       "0           0.0         NaN  (AA, Detroit, MI, Dallas/Fort Worth, TX)  \n",
       "1           NaN         NaN           (AA, Seattle, WA, New York, NY)  \n",
       "2           NaN         NaN           (AA, New York, NY, Seattle, WA)  \n",
       "3           NaN         NaN           (AA, San Jose, CA, Chicago, IL)  \n",
       "4           NaN         NaN           (AA, Chicago, IL, San Jose, CA)  \n",
       "\n",
       "[5 rows x 36 columns]"
      ]
     },
     "execution_count": 27,
     "metadata": {},
     "output_type": "execute_result"
    }
   ],
   "source": [
    "flight_df.head()"
   ]
  },
  {
   "cell_type": "code",
   "execution_count": 31,
   "metadata": {
    "collapsed": false
   },
   "outputs": [
    {
     "data": {
      "text/plain": [
       "\"Outbound flight FRA/PRN A319. 2 hours 10 min flight. I thought drinks/snacks for sale but sandwich soft drinks were served complimentary. Inbound flights SKP/LJU/FRA CRJ900. each 1 hour 30 min flight. Skyshop menu was in a seat pocket and drinks/snacks were for sale. All flight crews were friendly. Security check at the Ljubljana airport for transit passengers was chaos however it's possible to go to a gate within 30min.\""
      ]
     },
     "execution_count": 31,
     "metadata": {},
     "output_type": "execute_result"
    }
   ],
   "source": [
    "df_airlines.iloc[0, 6]"
   ]
  },
  {
   "cell_type": "code",
   "execution_count": 32,
   "metadata": {
    "collapsed": false
   },
   "outputs": [
    {
     "data": {
      "text/plain": [
       "41396"
      ]
     },
     "execution_count": 32,
     "metadata": {},
     "output_type": "execute_result"
    }
   ],
   "source": [
    "len(df_airlines)"
   ]
  },
  {
   "cell_type": "code",
   "execution_count": 33,
   "metadata": {
    "collapsed": false
   },
   "outputs": [
    {
     "data": {
      "text/plain": [
       "17721"
      ]
     },
     "execution_count": 33,
     "metadata": {},
     "output_type": "execute_result"
    }
   ],
   "source": [
    "len(df_airports)"
   ]
  },
  {
   "cell_type": "code",
   "execution_count": 45,
   "metadata": {
    "collapsed": false
   },
   "outputs": [
    {
     "data": {
      "text/plain": [
       "445827"
      ]
     },
     "execution_count": 45,
     "metadata": {},
     "output_type": "execute_result"
    }
   ],
   "source": [
    "len(flight_df)"
   ]
  }
 ],
 "metadata": {
  "kernelspec": {
   "display_name": "Python 3",
   "language": "python",
   "name": "python3"
  },
  "language_info": {
   "codemirror_mode": {
    "name": "ipython",
    "version": 3
   },
   "file_extension": ".py",
   "mimetype": "text/x-python",
   "name": "python",
   "nbconvert_exporter": "python",
   "pygments_lexer": "ipython3",
   "version": "3.5.1"
  }
 },
 "nbformat": 4,
 "nbformat_minor": 0
}
