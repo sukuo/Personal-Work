{
 "cells": [
  {
   "cell_type": "code",
   "execution_count": 3,
   "metadata": {
    "collapsed": true
   },
   "outputs": [],
   "source": [
    "import csv\n",
    "import requests\n",
    "import pandas as pd\n",
    "from io import StringIO\n",
    "import zipfile\n",
    "import requests\n",
    "import numpy as np\n",
    "import seaborn as sns\n",
    "import matplotlib.pyplot as plt\n",
    "%matplotlib inline\n",
    "from collections import Counter"
   ]
  },
  {
   "cell_type": "code",
   "execution_count": 8,
   "metadata": {
    "collapsed": false
   },
   "outputs": [],
   "source": [
    "url = 'https://raw.githubusercontent.com/quankiquanki/skytrax-reviews-dataset/master/data/airline.csv'\n",
    "response = requests.get(url)\n",
    "df_airlines = pd.read_csv(StringIO(response.text))"
   ]
  },
  {
   "cell_type": "code",
   "execution_count": 43,
   "metadata": {
    "collapsed": true
   },
   "outputs": [],
   "source": [
    "df_airlines.to_csv('airline_reviews.csv')"
   ]
  },
  {
   "cell_type": "code",
   "execution_count": 9,
   "metadata": {
    "collapsed": true
   },
   "outputs": [],
   "source": [
    "url1 = 'https://raw.githubusercontent.com/quankiquanki/skytrax-reviews-dataset/master/data/airport.csv'\n",
    "response1 = requests.get(url1)\n",
    "df_airports = pd.read_csv(StringIO(response1.text))"
   ]
  },
  {
   "cell_type": "code",
   "execution_count": 44,
   "metadata": {
    "collapsed": true
   },
   "outputs": [],
   "source": [
    "df_airports.to_csv('airport_reviews.csv')"
   ]
  },
  {
   "cell_type": "code",
   "execution_count": 6,
   "metadata": {
    "collapsed": false
   },
   "outputs": [],
   "source": [
    "flight_df = pd.read_csv('915401251_T_ONTIME.csv')"
   ]
  },
  {
   "cell_type": "code",
   "execution_count": 7,
   "metadata": {
    "collapsed": false
   },
   "outputs": [
    {
     "data": {
      "text/plain": [
       "Index(['FL_DATE', 'UNIQUE_CARRIER', 'AIRLINE_ID', 'CARRIER', 'FL_NUM',\n",
       "       'ORIGIN_AIRPORT_ID', 'ORIGIN_AIRPORT_SEQ_ID', 'ORIGIN_CITY_MARKET_ID',\n",
       "       'ORIGIN', 'ORIGIN_CITY_NAME', 'ORIGIN_STATE_ABR', 'ORIGIN_STATE_NM',\n",
       "       'ORIGIN_WAC', 'DEST_AIRPORT_ID', 'DEST_AIRPORT_SEQ_ID',\n",
       "       'DEST_CITY_MARKET_ID', 'DEST', 'DEST_CITY_NAME', 'DEST_STATE_ABR',\n",
       "       'DEST_STATE_FIPS', 'DEST_STATE_NM', 'DEST_WAC', 'DEP_TIME', 'DEP_DELAY',\n",
       "       'ARR_TIME', 'ARR_DELAY', 'ARR_DELAY_NEW', 'CANCELLED',\n",
       "       'CANCELLATION_CODE', 'DIVERTED', 'ACTUAL_ELAPSED_TIME', 'DISTANCE',\n",
       "       'CARRIER_DELAY', 'WEATHER_DELAY', 'Unnamed: 34'],\n",
       "      dtype='object')"
      ]
     },
     "execution_count": 7,
     "metadata": {},
     "output_type": "execute_result"
    }
   ],
   "source": [
    "flight_df.columns"
   ]
  },
  {
   "cell_type": "code",
   "execution_count": 6,
   "metadata": {
    "collapsed": false
   },
   "outputs": [
    {
     "data": {
      "text/plain": [
       "Index(['airline_name', 'link', 'title', 'author', 'author_country', 'date',\n",
       "       'content', 'aircraft', 'type_traveller', 'cabin_flown', 'route',\n",
       "       'overall_rating', 'seat_comfort_rating', 'cabin_staff_rating',\n",
       "       'food_beverages_rating', 'inflight_entertainment_rating',\n",
       "       'ground_service_rating', 'wifi_connectivity_rating',\n",
       "       'value_money_rating', 'recommended'],\n",
       "      dtype='object')"
      ]
     },
     "execution_count": 6,
     "metadata": {},
     "output_type": "execute_result"
    }
   ],
   "source": [
    "df_airlines.columns"
   ]
  },
  {
   "cell_type": "code",
   "execution_count": 7,
   "metadata": {
    "collapsed": false
   },
   "outputs": [
    {
     "data": {
      "text/plain": [
       "Index(['airport_name', 'link', 'title', 'author', 'author_country', 'date',\n",
       "       'content', 'experience_airport', 'date_visit', 'type_traveller',\n",
       "       'overall_rating', 'queuing_rating', 'terminal_cleanliness_rating',\n",
       "       'terminal_seating_rating', 'terminal_signs_rating',\n",
       "       'food_beverages_rating', 'airport_shopping_rating',\n",
       "       'wifi_connectivity_rating', 'airport_staff_rating', 'recommended'],\n",
       "      dtype='object')"
      ]
     },
     "execution_count": 7,
     "metadata": {},
     "output_type": "execute_result"
    }
   ],
   "source": [
    "df_airports.columns"
   ]
  },
  {
   "cell_type": "code",
   "execution_count": 42,
   "metadata": {
    "collapsed": false
   },
   "outputs": [
    {
     "data": {
      "text/plain": [
       "0.0       67071\n",
       "7.0         104\n",
       "6.0         101\n",
       "8.0          98\n",
       "9.0          94\n",
       "1.0          93\n",
       "11.0         90\n",
       "2.0          89\n",
       "16.0         87\n",
       "12.0         86\n",
       "4.0          86\n",
       "20.0         83\n",
       "17.0         83\n",
       "3.0          82\n",
       "13.0         81\n",
       "15.0         81\n",
       "14.0         76\n",
       "19.0         75\n",
       "10.0         75\n",
       "5.0          72\n",
       "18.0         65\n",
       "26.0         60\n",
       "22.0         59\n",
       "23.0         56\n",
       "21.0         55\n",
       "25.0         54\n",
       "24.0         52\n",
       "28.0         45\n",
       "30.0         45\n",
       "27.0         44\n",
       "          ...  \n",
       "183.0         1\n",
       "182.0         1\n",
       "179.0         1\n",
       "169.0         1\n",
       "1043.0        1\n",
       "236.0         1\n",
       "242.0         1\n",
       "353.0         1\n",
       "291.0         1\n",
       "338.0         1\n",
       "333.0         1\n",
       "326.0         1\n",
       "325.0         1\n",
       "318.0         1\n",
       "311.0         1\n",
       "307.0         1\n",
       "304.0         1\n",
       "299.0         1\n",
       "278.0         1\n",
       "246.0         1\n",
       "273.0         1\n",
       "272.0         1\n",
       "271.0         1\n",
       "268.0         1\n",
       "260.0         1\n",
       "259.0         1\n",
       "256.0         1\n",
       "251.0         1\n",
       "248.0         1\n",
       "156.0         1\n",
       "Name: WEATHER_DELAY, dtype: int64"
      ]
     },
     "execution_count": 42,
     "metadata": {},
     "output_type": "execute_result"
    }
   ],
   "source": [
    "flight_df['WEATHER_DELAY'].value_counts()"
   ]
  },
  {
   "cell_type": "code",
   "execution_count": 9,
   "metadata": {
    "collapsed": false
   },
   "outputs": [
    {
     "data": {
      "text/plain": [
       "<matplotlib.axes._subplots.AxesSubplot at 0x12e594470>"
      ]
     },
     "execution_count": 9,
     "metadata": {},
     "output_type": "execute_result"
    },
    {
     "data": {
      "image/png": "[encoded data removed]",
      "text/plain": [
       "<matplotlib.figure.Figure at 0x12e58bb70>"
      ]
     },
     "metadata": {},
     "output_type": "display_data"
    }
   ],
   "source": [
    "df_airports['overall_rating'].dropna().hist()"
   ]
  },
  {
   "cell_type": "code",
   "execution_count": 10,
   "metadata": {
    "collapsed": false
   },
   "outputs": [],
   "source": [
    "#df_airlines['author_country'].dropna().hist()"
   ]
  },
  {
   "cell_type": "code",
   "execution_count": 11,
   "metadata": {
    "collapsed": false
   },
   "outputs": [
    {
     "data": {
      "text/plain": [
       "{nan: 1591,\n",
       " 'Lebanon': 15,\n",
       " 'Mali': 1,\n",
       " 'Nepal': 17,\n",
       " 'Zambia': 7,\n",
       " 'Taiwan': 55,\n",
       " 'Belgium': 352,\n",
       " 'Slovakia': 40,\n",
       " 'Netherlands': 547,\n",
       " 'Fiji': 7,\n",
       " 'El Salvador': 4,\n",
       " 'Azerbaijan': 3,\n",
       " 'Botswana': 4,\n",
       " 'Gibraltar': 2,\n",
       " 'Bolivia': 2,\n",
       " 'Maldives': 4,\n",
       " 'Honduras': 5,\n",
       " 'Portugal': 121,\n",
       " 'Gambia': 1,\n",
       " 'Papua New Guinea': 1,\n",
       " 'Monaco': 4,\n",
       " 'Tanzania': 9,\n",
       " 'Seychelles': 2,\n",
       " 'Palestinian Territories': 12,\n",
       " 'Vietnam': 87,\n",
       " 'Montenegro': 1,\n",
       " 'Romania': 56,\n",
       " 'Albania': 3,\n",
       " 'Mauritania': 1,\n",
       " 'Aruba': 5,\n",
       " 'Andorra': 2,\n",
       " 'Bangladesh': 25,\n",
       " 'Iceland': 15,\n",
       " 'Bhutan': 11,\n",
       " 'Congo': 1,\n",
       " 'Austria': 235,\n",
       " 'Ethiopia': 6,\n",
       " 'Thailand': 426,\n",
       " 'Macedonia': 3,\n",
       " 'Grenada': 1,\n",
       " 'Iraq': 1,\n",
       " 'South Korea': 88,\n",
       " 'Oman': 24,\n",
       " 'Uruguay': 3,\n",
       " 'Moldova': 10,\n",
       " 'Jamaica': 2,\n",
       " 'Guatemala': 5,\n",
       " 'Morocco': 9,\n",
       " 'Philippines': 179,\n",
       " 'Ecuador': 12,\n",
       " 'Democratic Republic of the Congo': 1,\n",
       " 'Bahrain': 23,\n",
       " 'United States': 8507,\n",
       " 'Kenya': 63,\n",
       " 'Poland': 163,\n",
       " 'Uganda': 10,\n",
       " 'Sri Lanka': 32,\n",
       " 'Hong Kong': 368,\n",
       " 'Panama': 8,\n",
       " 'Armenia': 2,\n",
       " 'East Timor': 1,\n",
       " 'Paraguay': 3,\n",
       " 'Djibouti': 1,\n",
       " 'Guam': 2,\n",
       " 'Tunisia': 2,\n",
       " 'Bulgaria': 21,\n",
       " 'Switzerland': 454,\n",
       " 'Venezuela': 11,\n",
       " 'Senegal': 1,\n",
       " 'Nicaragua': 1,\n",
       " 'Nigeria': 8,\n",
       " 'Australia': 5062,\n",
       " 'Haiti': 1,\n",
       " 'Cyprus': 41,\n",
       " 'India': 543,\n",
       " 'Peru': 10,\n",
       " 'Ukraine': 52,\n",
       " 'Trinidad & Tobago': 25,\n",
       " 'Myanmar': 10,\n",
       " 'British Virgin Islands': 4,\n",
       " 'Mauritius': 15,\n",
       " 'Greece': 191,\n",
       " 'Mozambique': 1,\n",
       " 'Luxembourg': 43,\n",
       " 'Pakistan': 42,\n",
       " 'Liechtenstein': 1,\n",
       " 'Egypt': 55,\n",
       " 'Estonia': 25,\n",
       " 'Finland': 155,\n",
       " 'Ghana': 8,\n",
       " 'Georgia': 1,\n",
       " 'Japan': 181,\n",
       " 'Malaysia': 406,\n",
       " 'Dominica': 1,\n",
       " 'Macau': 15,\n",
       " 'France': 517,\n",
       " 'Bahamas': 6,\n",
       " 'Latvia': 11,\n",
       " 'Lesotho': 1,\n",
       " 'Qatar': 66,\n",
       " 'Angola': 8,\n",
       " 'Kuwait': 35,\n",
       " 'Iran': 9,\n",
       " 'China': 293,\n",
       " 'Benin': 1,\n",
       " 'Turkey': 81,\n",
       " 'Cuba': 1,\n",
       " 'Russian Federation': 98,\n",
       " 'Cambodia': 15,\n",
       " 'Ireland': 376,\n",
       " 'Germany': 1117,\n",
       " 'Bermuda': 8,\n",
       " 'Colombia': 54,\n",
       " 'Rwanda': 3,\n",
       " 'Barbados': 7,\n",
       " 'Vanuatu': 3,\n",
       " 'Uzbekistan': 2,\n",
       " 'Croatia': 29,\n",
       " 'Canada': 3303,\n",
       " 'Slovenia': 24,\n",
       " 'Hungary': 39,\n",
       " 'United Arab Emirates': 351,\n",
       " 'Italy': 355,\n",
       " 'United Kingdom': 9969,\n",
       " 'New Caledonia': 6,\n",
       " 'South Sudan': 1,\n",
       " 'Brazil': 252,\n",
       " 'Kazakhstan': 60,\n",
       " 'Norway': 150,\n",
       " 'Spain': 334,\n",
       " 'Chile': 37,\n",
       " 'Sweden': 288,\n",
       " 'Indonesia': 378,\n",
       " 'Singapore': 661,\n",
       " 'South Africa': 286,\n",
       " 'Saudi Arabia': 123,\n",
       " 'Malta': 25,\n",
       " 'Czech Republic': 90,\n",
       " 'Malawi': 4,\n",
       " 'Wallis & Futuna Islands': 2,\n",
       " 'Namibia': 11,\n",
       " 'Israel': 153,\n",
       " 'Denmark': 280,\n",
       " 'Argentina': 51,\n",
       " 'Mexico': 68,\n",
       " 'Puerto Rico': 7,\n",
       " 'Cameroon': 1,\n",
       " 'Jordan': 27,\n",
       " 'Cayman Islands': 3,\n",
       " 'New Zealand': 638,\n",
       " 'Costa Rica': 19,\n",
       " 'Belarus': 4,\n",
       " 'Brunei': 5,\n",
       " 'Dominican Republic': 10,\n",
       " 'Zimbabwe': 3,\n",
       " 'Laos': 5,\n",
       " 'Lithuania': 16,\n",
       " 'Serbia': 26,\n",
       " 'Afghanistan': 3}"
      ]
     },
     "execution_count": 11,
     "metadata": {},
     "output_type": "execute_result"
    }
   ],
   "source": [
    "dict(Counter(df_airlines['author_country']))"
   ]
  },
  {
   "cell_type": "code",
   "execution_count": 14,
   "metadata": {
    "collapsed": false
   },
   "outputs": [
    {
     "data": {
      "text/plain": [
       "UNIQUE_CARRIER\n",
       "AA    2720.0\n",
       "AS     139.0\n",
       "B6     897.0\n",
       "DL     974.0\n",
       "EV    1427.0\n",
       "F9      77.0\n",
       "HA       4.0\n",
       "NK     308.0\n",
       "OO     984.0\n",
       "UA    1336.0\n",
       "VX     159.0\n",
       "WN    2640.0\n",
       "Name: CANCELLED, dtype: float64"
      ]
     },
     "execution_count": 14,
     "metadata": {},
     "output_type": "execute_result"
    }
   ],
   "source": [
    "flight_df.groupby(['UNIQUE_CARRIER'])['CANCELLED'].sum()"
   ]
  },
  {
   "cell_type": "code",
   "execution_count": null,
   "metadata": {
    "collapsed": true
   },
   "outputs": [],
   "source": []
  },
  {
   "cell_type": "code",
   "execution_count": 111,
   "metadata": {
    "collapsed": false
   },
   "outputs": [
    {
     "data": {
      "text/html": [
       "<div>\n",
       "<table border=\"1\" class=\"dataframe\">\n",
       "  <thead>\n",
       "    <tr style=\"text-align: right;\">\n",
       "      <th></th>\n",
       "      <th>FL_DATE</th>\n",
       "      <th>UNIQUE_CARRIER</th>\n",
       "      <th>AIRLINE_ID</th>\n",
       "      <th>CARRIER</th>\n",
       "      <th>FL_NUM</th>\n",
       "      <th>ORIGIN_AIRPORT_ID</th>\n",
       "      <th>ORIGIN_AIRPORT_SEQ_ID</th>\n",
       "      <th>ORIGIN_CITY_MARKET_ID</th>\n",
       "      <th>ORIGIN</th>\n",
       "      <th>ORIGIN_CITY_NAME</th>\n",
       "      <th>...</th>\n",
       "      <th>ARR_DELAY_NEW</th>\n",
       "      <th>CANCELLED</th>\n",
       "      <th>CANCELLATION_CODE</th>\n",
       "      <th>DIVERTED</th>\n",
       "      <th>ACTUAL_ELAPSED_TIME</th>\n",
       "      <th>DISTANCE</th>\n",
       "      <th>CARRIER_DELAY</th>\n",
       "      <th>WEATHER_DELAY</th>\n",
       "      <th>Unnamed: 34</th>\n",
       "      <th>FL_YR</th>\n",
       "    </tr>\n",
       "  </thead>\n",
       "  <tbody>\n",
       "    <tr>\n",
       "      <th>0</th>\n",
       "      <td>2016-01-01</td>\n",
       "      <td>AA</td>\n",
       "      <td>19805</td>\n",
       "      <td>AA</td>\n",
       "      <td>43</td>\n",
       "      <td>11433</td>\n",
       "      <td>1143302</td>\n",
       "      <td>31295</td>\n",
       "      <td>DTW</td>\n",
       "      <td>Detroit, MI</td>\n",
       "      <td>...</td>\n",
       "      <td>32.0</td>\n",
       "      <td>0.0</td>\n",
       "      <td>NaN</td>\n",
       "      <td>0.0</td>\n",
       "      <td>197.0</td>\n",
       "      <td>986.0</td>\n",
       "      <td>26.0</td>\n",
       "      <td>0.0</td>\n",
       "      <td>NaN</td>\n",
       "      <td>2016</td>\n",
       "    </tr>\n",
       "    <tr>\n",
       "      <th>1</th>\n",
       "      <td>2016-01-01</td>\n",
       "      <td>AA</td>\n",
       "      <td>19805</td>\n",
       "      <td>AA</td>\n",
       "      <td>44</td>\n",
       "      <td>14747</td>\n",
       "      <td>1474703</td>\n",
       "      <td>30559</td>\n",
       "      <td>SEA</td>\n",
       "      <td>Seattle, WA</td>\n",
       "      <td>...</td>\n",
       "      <td>8.0</td>\n",
       "      <td>0.0</td>\n",
       "      <td>NaN</td>\n",
       "      <td>0.0</td>\n",
       "      <td>329.0</td>\n",
       "      <td>2422.0</td>\n",
       "      <td>NaN</td>\n",
       "      <td>NaN</td>\n",
       "      <td>NaN</td>\n",
       "      <td>2016</td>\n",
       "    </tr>\n",
       "    <tr>\n",
       "      <th>2</th>\n",
       "      <td>2016-01-01</td>\n",
       "      <td>AA</td>\n",
       "      <td>19805</td>\n",
       "      <td>AA</td>\n",
       "      <td>45</td>\n",
       "      <td>12478</td>\n",
       "      <td>1247803</td>\n",
       "      <td>31703</td>\n",
       "      <td>JFK</td>\n",
       "      <td>New York, NY</td>\n",
       "      <td>...</td>\n",
       "      <td>0.0</td>\n",
       "      <td>0.0</td>\n",
       "      <td>NaN</td>\n",
       "      <td>0.0</td>\n",
       "      <td>366.0</td>\n",
       "      <td>2422.0</td>\n",
       "      <td>NaN</td>\n",
       "      <td>NaN</td>\n",
       "      <td>NaN</td>\n",
       "      <td>2016</td>\n",
       "    </tr>\n",
       "    <tr>\n",
       "      <th>3</th>\n",
       "      <td>2016-01-01</td>\n",
       "      <td>AA</td>\n",
       "      <td>19805</td>\n",
       "      <td>AA</td>\n",
       "      <td>46</td>\n",
       "      <td>14831</td>\n",
       "      <td>1483103</td>\n",
       "      <td>32457</td>\n",
       "      <td>SJC</td>\n",
       "      <td>San Jose, CA</td>\n",
       "      <td>...</td>\n",
       "      <td>0.0</td>\n",
       "      <td>0.0</td>\n",
       "      <td>NaN</td>\n",
       "      <td>0.0</td>\n",
       "      <td>246.0</td>\n",
       "      <td>1829.0</td>\n",
       "      <td>NaN</td>\n",
       "      <td>NaN</td>\n",
       "      <td>NaN</td>\n",
       "      <td>2016</td>\n",
       "    </tr>\n",
       "    <tr>\n",
       "      <th>4</th>\n",
       "      <td>2016-01-01</td>\n",
       "      <td>AA</td>\n",
       "      <td>19805</td>\n",
       "      <td>AA</td>\n",
       "      <td>47</td>\n",
       "      <td>13930</td>\n",
       "      <td>1393004</td>\n",
       "      <td>30977</td>\n",
       "      <td>ORD</td>\n",
       "      <td>Chicago, IL</td>\n",
       "      <td>...</td>\n",
       "      <td>0.0</td>\n",
       "      <td>0.0</td>\n",
       "      <td>NaN</td>\n",
       "      <td>0.0</td>\n",
       "      <td>261.0</td>\n",
       "      <td>1829.0</td>\n",
       "      <td>NaN</td>\n",
       "      <td>NaN</td>\n",
       "      <td>NaN</td>\n",
       "      <td>2016</td>\n",
       "    </tr>\n",
       "  </tbody>\n",
       "</table>\n",
       "<p>5 rows × 36 columns</p>\n",
       "</div>"
      ],
      "text/plain": [
       "      FL_DATE UNIQUE_CARRIER  AIRLINE_ID CARRIER  FL_NUM  ORIGIN_AIRPORT_ID  \\\n",
       "0  2016-01-01             AA       19805      AA      43              11433   \n",
       "1  2016-01-01             AA       19805      AA      44              14747   \n",
       "2  2016-01-01             AA       19805      AA      45              12478   \n",
       "3  2016-01-01             AA       19805      AA      46              14831   \n",
       "4  2016-01-01             AA       19805      AA      47              13930   \n",
       "\n",
       "   ORIGIN_AIRPORT_SEQ_ID  ORIGIN_CITY_MARKET_ID ORIGIN ORIGIN_CITY_NAME  \\\n",
       "0                1143302                  31295    DTW      Detroit, MI   \n",
       "1                1474703                  30559    SEA      Seattle, WA   \n",
       "2                1247803                  31703    JFK     New York, NY   \n",
       "3                1483103                  32457    SJC     San Jose, CA   \n",
       "4                1393004                  30977    ORD      Chicago, IL   \n",
       "\n",
       "   ...   ARR_DELAY_NEW CANCELLED  CANCELLATION_CODE  DIVERTED  \\\n",
       "0  ...            32.0       0.0                NaN       0.0   \n",
       "1  ...             8.0       0.0                NaN       0.0   \n",
       "2  ...             0.0       0.0                NaN       0.0   \n",
       "3  ...             0.0       0.0                NaN       0.0   \n",
       "4  ...             0.0       0.0                NaN       0.0   \n",
       "\n",
       "   ACTUAL_ELAPSED_TIME  DISTANCE CARRIER_DELAY WEATHER_DELAY Unnamed: 34  \\\n",
       "0                197.0     986.0          26.0           0.0         NaN   \n",
       "1                329.0    2422.0           NaN           NaN         NaN   \n",
       "2                366.0    2422.0           NaN           NaN         NaN   \n",
       "3                246.0    1829.0           NaN           NaN         NaN   \n",
       "4                261.0    1829.0           NaN           NaN         NaN   \n",
       "\n",
       "   FL_YR  \n",
       "0   2016  \n",
       "1   2016  \n",
       "2   2016  \n",
       "3   2016  \n",
       "4   2016  \n",
       "\n",
       "[5 rows x 36 columns]"
      ]
     },
     "execution_count": 111,
     "metadata": {},
     "output_type": "execute_result"
    }
   ],
   "source": [
    "flight_df.head()"
   ]
  },
  {
   "cell_type": "code",
   "execution_count": 105,
   "metadata": {
    "collapsed": false
   },
   "outputs": [],
   "source": [
    "flight_df['FL_YR'] = flight_df['FL_DATE'].apply(lambda x: x[:4])"
   ]
  },
  {
   "cell_type": "code",
   "execution_count": 38,
   "metadata": {
    "collapsed": false
   },
   "outputs": [
    {
     "data": {
      "text/plain": [
       "0.0    434162\n",
       "1.0     11665\n",
       "Name: CANCELLED, dtype: int64"
      ]
     },
     "execution_count": 38,
     "metadata": {},
     "output_type": "execute_result"
    }
   ],
   "source": [
    "flight_df['CANCELLED'].value_counts()"
   ]
  },
  {
   "cell_type": "code",
   "execution_count": null,
   "metadata": {
    "collapsed": false
   },
   "outputs": [],
   "source": []
  },
  {
   "cell_type": "code",
   "execution_count": 20,
   "metadata": {
    "collapsed": false
   },
   "outputs": [],
   "source": [
    "flight_df['origin_dest'] = list(zip(flight_df.UNIQUE_CARRIER, flight_df.ORIGIN_CITY_NAME, flight_df.DEST_CITY_NAME))"
   ]
  },
  {
   "cell_type": "code",
   "execution_count": 21,
   "metadata": {
    "collapsed": false
   },
   "outputs": [
    {
     "data": {
      "text/plain": [
       "0                (AA, Detroit, MI, Dallas/Fort Worth, TX)\n",
       "1                         (AA, Seattle, WA, New York, NY)\n",
       "2                         (AA, New York, NY, Seattle, WA)\n",
       "3                         (AA, San Jose, CA, Chicago, IL)\n",
       "4                         (AA, Chicago, IL, San Jose, CA)\n",
       "5                (AA, Phoenix, AZ, Dallas/Fort Worth, TX)\n",
       "6                   (AA, Los Angeles, CA, Washington, DC)\n",
       "7                            (AA, Chicago, IL, Tampa, FL)\n",
       "8                          (AA, Orlando, FL, Chicago, IL)\n",
       "9                             (AA, Denver, CO, Miami, FL)\n",
       "10                            (AA, Miami, FL, Denver, CO)\n",
       "11                        (AA, Kona, HI, Los Angeles, CA)\n",
       "12                        (AA, Los Angeles, CA, Kona, HI)\n",
       "13                 (AA, Dallas/Fort Worth, TX, Miami, FL)\n",
       "14                 (AA, Miami, FL, Dallas/Fort Worth, TX)\n",
       "15                           (AA, Houston, TX, Miami, FL)\n",
       "16                           (AA, Miami, FL, Houston, TX)\n",
       "17                          (AA, Miami, FL, New York, NY)\n",
       "18                          (AA, New York, NY, Miami, FL)\n",
       "19                       (AA, Los Angeles, CA, Miami, FL)\n",
       "20                       (AA, Miami, FL, Los Angeles, CA)\n",
       "21             (AA, Las Vegas, NV, Dallas/Fort Worth, TX)\n",
       "22             (AA, Dallas/Fort Worth, TX, Las Vegas, NV)\n",
       "23                   (AA, Los Angeles, CA, Las Vegas, NV)\n",
       "24                   (AA, Las Vegas, NV, Los Angeles, CA)\n",
       "25                        (AA, New York, NY, Orlando, FL)\n",
       "26                        (AA, Orlando, FL, New York, NY)\n",
       "27        (AA, Salt Lake City, UT, Dallas/Fort Worth, TX)\n",
       "28        (AA, Dallas/Fort Worth, TX, Salt Lake City, UT)\n",
       "29                (AA, Tucson, AZ, Dallas/Fort Worth, TX)\n",
       "                               ...                       \n",
       "445797                (WN, Tampa, FL, Raleigh/Durham, NC)\n",
       "445798                (WN, Tampa, FL, Raleigh/Durham, NC)\n",
       "445799                     (WN, Tampa, FL, Rochester, NY)\n",
       "445800                   (WN, Tampa, FL, San Antonio, TX)\n",
       "445801                    (WN, Tampa, FL, Louisville, KY)\n",
       "445802                      (WN, Tampa, FL, San Juan, PR)\n",
       "445803                     (WN, Tampa, FL, St. Louis, MO)\n",
       "445804                     (WN, Tampa, FL, St. Louis, MO)\n",
       "445805                        (WN, Tulsa, OK, Dallas, TX)\n",
       "445806                        (WN, Tulsa, OK, Dallas, TX)\n",
       "445807                        (WN, Tulsa, OK, Denver, CO)\n",
       "445808                        (WN, Tulsa, OK, Denver, CO)\n",
       "445809                       (WN, Tulsa, OK, Houston, TX)\n",
       "445810                       (WN, Tulsa, OK, Houston, TX)\n",
       "445811                       (WN, Tulsa, OK, Houston, TX)\n",
       "445812                     (WN, Tulsa, OK, Las Vegas, NV)\n",
       "445813                       (WN, Tulsa, OK, Chicago, IL)\n",
       "445814                       (WN, Tulsa, OK, Phoenix, AZ)\n",
       "445815                       (WN, Tulsa, OK, Phoenix, AZ)\n",
       "445816                     (WN, Tulsa, OK, St. Louis, MO)\n",
       "445817                       (WN, Tucson, AZ, Denver, CO)\n",
       "445818                       (WN, Tucson, AZ, Denver, CO)\n",
       "445819                    (WN, Tucson, AZ, Las Vegas, NV)\n",
       "445820                    (WN, Tucson, AZ, Las Vegas, NV)\n",
       "445821                    (WN, Tucson, AZ, Las Vegas, NV)\n",
       "445822                  (WN, Tucson, AZ, Los Angeles, CA)\n",
       "445823                  (WN, Tucson, AZ, Los Angeles, CA)\n",
       "445824                      (WN, Tucson, AZ, Chicago, IL)\n",
       "445825                    (WN, Tucson, AZ, San Diego, CA)\n",
       "445826                    (WN, Tucson, AZ, San Diego, CA)\n",
       "Name: origin_dest, dtype: object"
      ]
     },
     "execution_count": 21,
     "metadata": {},
     "output_type": "execute_result"
    }
   ],
   "source": [
    "flight_df['origin_dest']"
   ]
  },
  {
   "cell_type": "code",
   "execution_count": 36,
   "metadata": {
    "collapsed": false
   },
   "outputs": [],
   "source": [
    "#flight_df['CARRIER_DELAY'].value_counts()"
   ]
  },
  {
   "cell_type": "code",
   "execution_count": 35,
   "metadata": {
    "collapsed": false
   },
   "outputs": [],
   "source": [
    "#df_airlines['airline_name'].value_counts()"
   ]
  },
  {
   "cell_type": "code",
   "execution_count": 27,
   "metadata": {
    "collapsed": false
   },
   "outputs": [
    {
     "data": {
      "text/html": [
       "<div>\n",
       "<table border=\"1\" class=\"dataframe\">\n",
       "  <thead>\n",
       "    <tr style=\"text-align: right;\">\n",
       "      <th></th>\n",
       "      <th>FL_DATE</th>\n",
       "      <th>UNIQUE_CARRIER</th>\n",
       "      <th>AIRLINE_ID</th>\n",
       "      <th>CARRIER</th>\n",
       "      <th>FL_NUM</th>\n",
       "      <th>ORIGIN_AIRPORT_ID</th>\n",
       "      <th>ORIGIN_AIRPORT_SEQ_ID</th>\n",
       "      <th>ORIGIN_CITY_MARKET_ID</th>\n",
       "      <th>ORIGIN</th>\n",
       "      <th>ORIGIN_CITY_NAME</th>\n",
       "      <th>...</th>\n",
       "      <th>ARR_DELAY_NEW</th>\n",
       "      <th>CANCELLED</th>\n",
       "      <th>CANCELLATION_CODE</th>\n",
       "      <th>DIVERTED</th>\n",
       "      <th>ACTUAL_ELAPSED_TIME</th>\n",
       "      <th>DISTANCE</th>\n",
       "      <th>CARRIER_DELAY</th>\n",
       "      <th>WEATHER_DELAY</th>\n",
       "      <th>Unnamed: 34</th>\n",
       "      <th>origin_dest</th>\n",
       "    </tr>\n",
       "  </thead>\n",
       "  <tbody>\n",
       "    <tr>\n",
       "      <th>0</th>\n",
       "      <td>2016-01-01</td>\n",
       "      <td>AA</td>\n",
       "      <td>19805</td>\n",
       "      <td>AA</td>\n",
       "      <td>43</td>\n",
       "      <td>11433</td>\n",
       "      <td>1143302</td>\n",
       "      <td>31295</td>\n",
       "      <td>DTW</td>\n",
       "      <td>Detroit, MI</td>\n",
       "      <td>...</td>\n",
       "      <td>32.0</td>\n",
       "      <td>0.0</td>\n",
       "      <td>NaN</td>\n",
       "      <td>0.0</td>\n",
       "      <td>197.0</td>\n",
       "      <td>986.0</td>\n",
       "      <td>26.0</td>\n",
       "      <td>0.0</td>\n",
       "      <td>NaN</td>\n",
       "      <td>(AA, Detroit, MI, Dallas/Fort Worth, TX)</td>\n",
       "    </tr>\n",
       "    <tr>\n",
       "      <th>1</th>\n",
       "      <td>2016-01-01</td>\n",
       "      <td>AA</td>\n",
       "      <td>19805</td>\n",
       "      <td>AA</td>\n",
       "      <td>44</td>\n",
       "      <td>14747</td>\n",
       "      <td>1474703</td>\n",
       "      <td>30559</td>\n",
       "      <td>SEA</td>\n",
       "      <td>Seattle, WA</td>\n",
       "      <td>...</td>\n",
       "      <td>8.0</td>\n",
       "      <td>0.0</td>\n",
       "      <td>NaN</td>\n",
       "      <td>0.0</td>\n",
       "      <td>329.0</td>\n",
       "      <td>2422.0</td>\n",
       "      <td>NaN</td>\n",
       "      <td>NaN</td>\n",
       "      <td>NaN</td>\n",
       "      <td>(AA, Seattle, WA, New York, NY)</td>\n",
       "    </tr>\n",
       "    <tr>\n",
       "      <th>2</th>\n",
       "      <td>2016-01-01</td>\n",
       "      <td>AA</td>\n",
       "      <td>19805</td>\n",
       "      <td>AA</td>\n",
       "      <td>45</td>\n",
       "      <td>12478</td>\n",
       "      <td>1247803</td>\n",
       "      <td>31703</td>\n",
       "      <td>JFK</td>\n",
       "      <td>New York, NY</td>\n",
       "      <td>...</td>\n",
       "      <td>0.0</td>\n",
       "      <td>0.0</td>\n",
       "      <td>NaN</td>\n",
       "      <td>0.0</td>\n",
       "      <td>366.0</td>\n",
       "      <td>2422.0</td>\n",
       "      <td>NaN</td>\n",
       "      <td>NaN</td>\n",
       "      <td>NaN</td>\n",
       "      <td>(AA, New York, NY, Seattle, WA)</td>\n",
       "    </tr>\n",
       "    <tr>\n",
       "      <th>3</th>\n",
       "      <td>2016-01-01</td>\n",
       "      <td>AA</td>\n",
       "      <td>19805</td>\n",
       "      <td>AA</td>\n",
       "      <td>46</td>\n",
       "      <td>14831</td>\n",
       "      <td>1483103</td>\n",
       "      <td>32457</td>\n",
       "      <td>SJC</td>\n",
       "      <td>San Jose, CA</td>\n",
       "      <td>...</td>\n",
       "      <td>0.0</td>\n",
       "      <td>0.0</td>\n",
       "      <td>NaN</td>\n",
       "      <td>0.0</td>\n",
       "      <td>246.0</td>\n",
       "      <td>1829.0</td>\n",
       "      <td>NaN</td>\n",
       "      <td>NaN</td>\n",
       "      <td>NaN</td>\n",
       "      <td>(AA, San Jose, CA, Chicago, IL)</td>\n",
       "    </tr>\n",
       "    <tr>\n",
       "      <th>4</th>\n",
       "      <td>2016-01-01</td>\n",
       "      <td>AA</td>\n",
       "      <td>19805</td>\n",
       "      <td>AA</td>\n",
       "      <td>47</td>\n",
       "      <td>13930</td>\n",
       "      <td>1393004</td>\n",
       "      <td>30977</td>\n",
       "      <td>ORD</td>\n",
       "      <td>Chicago, IL</td>\n",
       "      <td>...</td>\n",
       "      <td>0.0</td>\n",
       "      <td>0.0</td>\n",
       "      <td>NaN</td>\n",
       "      <td>0.0</td>\n",
       "      <td>261.0</td>\n",
       "      <td>1829.0</td>\n",
       "      <td>NaN</td>\n",
       "      <td>NaN</td>\n",
       "      <td>NaN</td>\n",
       "      <td>(AA, Chicago, IL, San Jose, CA)</td>\n",
       "    </tr>\n",
       "  </tbody>\n",
       "</table>\n",
       "<p>5 rows × 36 columns</p>\n",
       "</div>"
      ],
      "text/plain": [
       "      FL_DATE UNIQUE_CARRIER  AIRLINE_ID CARRIER  FL_NUM  ORIGIN_AIRPORT_ID  \\\n",
       "0  2016-01-01             AA       19805      AA      43              11433   \n",
       "1  2016-01-01             AA       19805      AA      44              14747   \n",
       "2  2016-01-01             AA       19805      AA      45              12478   \n",
       "3  2016-01-01             AA       19805      AA      46              14831   \n",
       "4  2016-01-01             AA       19805      AA      47              13930   \n",
       "\n",
       "   ORIGIN_AIRPORT_SEQ_ID  ORIGIN_CITY_MARKET_ID ORIGIN ORIGIN_CITY_NAME  \\\n",
       "0                1143302                  31295    DTW      Detroit, MI   \n",
       "1                1474703                  30559    SEA      Seattle, WA   \n",
       "2                1247803                  31703    JFK     New York, NY   \n",
       "3                1483103                  32457    SJC     San Jose, CA   \n",
       "4                1393004                  30977    ORD      Chicago, IL   \n",
       "\n",
       "                     ...                    ARR_DELAY_NEW CANCELLED  \\\n",
       "0                    ...                             32.0       0.0   \n",
       "1                    ...                              8.0       0.0   \n",
       "2                    ...                              0.0       0.0   \n",
       "3                    ...                              0.0       0.0   \n",
       "4                    ...                              0.0       0.0   \n",
       "\n",
       "   CANCELLATION_CODE  DIVERTED  ACTUAL_ELAPSED_TIME  DISTANCE CARRIER_DELAY  \\\n",
       "0                NaN       0.0                197.0     986.0          26.0   \n",
       "1                NaN       0.0                329.0    2422.0           NaN   \n",
       "2                NaN       0.0                366.0    2422.0           NaN   \n",
       "3                NaN       0.0                246.0    1829.0           NaN   \n",
       "4                NaN       0.0                261.0    1829.0           NaN   \n",
       "\n",
       "  WEATHER_DELAY Unnamed: 34                               origin_dest  \n",
       "0           0.0         NaN  (AA, Detroit, MI, Dallas/Fort Worth, TX)  \n",
       "1           NaN         NaN           (AA, Seattle, WA, New York, NY)  \n",
       "2           NaN         NaN           (AA, New York, NY, Seattle, WA)  \n",
       "3           NaN         NaN           (AA, San Jose, CA, Chicago, IL)  \n",
       "4           NaN         NaN           (AA, Chicago, IL, San Jose, CA)  \n",
       "\n",
       "[5 rows x 36 columns]"
      ]
     },
     "execution_count": 27,
     "metadata": {},
     "output_type": "execute_result"
    }
   ],
   "source": [
    "flight_df.head()"
   ]
  },
  {
   "cell_type": "code",
   "execution_count": 28,
   "metadata": {
    "collapsed": false
   },
   "outputs": [
    {
     "data": {
      "text/plain": [
       "Index(['FL_DATE', 'UNIQUE_CARRIER', 'AIRLINE_ID', 'CARRIER', 'FL_NUM',\n",
       "       'ORIGIN_AIRPORT_ID', 'ORIGIN_AIRPORT_SEQ_ID', 'ORIGIN_CITY_MARKET_ID',\n",
       "       'ORIGIN', 'ORIGIN_CITY_NAME', 'ORIGIN_STATE_ABR', 'ORIGIN_STATE_NM',\n",
       "       'ORIGIN_WAC', 'DEST_AIRPORT_ID', 'DEST_AIRPORT_SEQ_ID',\n",
       "       'DEST_CITY_MARKET_ID', 'DEST', 'DEST_CITY_NAME', 'DEST_STATE_ABR',\n",
       "       'DEST_STATE_FIPS', 'DEST_STATE_NM', 'DEST_WAC', 'DEP_TIME', 'DEP_DELAY',\n",
       "       'ARR_TIME', 'ARR_DELAY', 'ARR_DELAY_NEW', 'CANCELLED',\n",
       "       'CANCELLATION_CODE', 'DIVERTED', 'ACTUAL_ELAPSED_TIME', 'DISTANCE',\n",
       "       'CARRIER_DELAY', 'WEATHER_DELAY', 'Unnamed: 34', 'origin_dest'],\n",
       "      dtype='object')"
      ]
     },
     "execution_count": 28,
     "metadata": {},
     "output_type": "execute_result"
    }
   ],
   "source": [
    "flight_df.columns"
   ]
  },
  {
   "cell_type": "code",
   "execution_count": 34,
   "metadata": {
    "collapsed": false
   },
   "outputs": [],
   "source": [
    "#flight_df['FL_DATE'].value_counts()"
   ]
  },
  {
   "cell_type": "code",
   "execution_count": 31,
   "metadata": {
    "collapsed": false
   },
   "outputs": [
    {
     "data": {
      "text/plain": [
       "\"Outbound flight FRA/PRN A319. 2 hours 10 min flight. I thought drinks/snacks for sale but sandwich soft drinks were served complimentary. Inbound flights SKP/LJU/FRA CRJ900. each 1 hour 30 min flight. Skyshop menu was in a seat pocket and drinks/snacks were for sale. All flight crews were friendly. Security check at the Ljubljana airport for transit passengers was chaos however it's possible to go to a gate within 30min.\""
      ]
     },
     "execution_count": 31,
     "metadata": {},
     "output_type": "execute_result"
    }
   ],
   "source": [
    "df_airlines.iloc[0, 6]"
   ]
  },
  {
   "cell_type": "code",
   "execution_count": 32,
   "metadata": {
    "collapsed": false
   },
   "outputs": [
    {
     "data": {
      "text/plain": [
       "41396"
      ]
     },
     "execution_count": 32,
     "metadata": {},
     "output_type": "execute_result"
    }
   ],
   "source": [
    "len(df_airlines)"
   ]
  },
  {
   "cell_type": "code",
   "execution_count": 33,
   "metadata": {
    "collapsed": false
   },
   "outputs": [
    {
     "data": {
      "text/plain": [
       "17721"
      ]
     },
     "execution_count": 33,
     "metadata": {},
     "output_type": "execute_result"
    }
   ],
   "source": [
    "len(df_airports)"
   ]
  },
  {
   "cell_type": "code",
   "execution_count": 45,
   "metadata": {
    "collapsed": false
   },
   "outputs": [
    {
     "data": {
      "text/plain": [
       "445827"
      ]
     },
     "execution_count": 45,
     "metadata": {},
     "output_type": "execute_result"
    }
   ],
   "source": [
    "len(flight_df)"
   ]
  },
  {
   "cell_type": "code",
   "execution_count": null,
   "metadata": {
    "collapsed": true
   },
   "outputs": [],
   "source": []
  }
 ],
 "metadata": {
  "kernelspec": {
   "display_name": "Python 3",
   "language": "python",
   "name": "python3"
  },
  "language_info": {
   "codemirror_mode": {
    "name": "ipython",
    "version": 3
   },
   "file_extension": ".py",
   "mimetype": "text/x-python",
   "name": "python",
   "nbconvert_exporter": "python",
   "pygments_lexer": "ipython3",
   "version": "3.5.2"
  }
 },
 "nbformat": 4,
 "nbformat_minor": 0
}
