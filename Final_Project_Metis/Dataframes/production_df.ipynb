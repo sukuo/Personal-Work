{
 "cells": [
  {
   "cell_type": "code",
   "execution_count": 1,
   "metadata": {
    "collapsed": true
   },
   "outputs": [],
   "source": [
    "import numpy as np\n",
    "import pandas as pd"
   ]
  },
  {
   "cell_type": "code",
   "execution_count": 2,
   "metadata": {
    "collapsed": false
   },
   "outputs": [],
   "source": [
    "routes_delays = pd.read_csv('routes_delays.csv')\n",
    "ratings = pd.read_csv('ratings_df.csv')"
   ]
  },
  {
   "cell_type": "code",
   "execution_count": 3,
   "metadata": {
    "collapsed": false
   },
   "outputs": [
    {
     "data": {
      "text/plain": [
       "7319"
      ]
     },
     "execution_count": 3,
     "metadata": {},
     "output_type": "execute_result"
    }
   ],
   "source": [
    "routes_delays.head(2)\n",
    "len(routes_delays)"
   ]
  },
  {
   "cell_type": "code",
   "execution_count": 4,
   "metadata": {
    "collapsed": false
   },
   "outputs": [
    {
     "data": {
      "text/plain": [
       "Index(['Unnamed: 0', 'UNIQUE_CARRIER', 'arr_delay_var', 'carrier_delay%',\n",
       "       'cancellation%', 'airline_name', 'airport_routes', 'city_coutes',\n",
       "       'distance', 'average_delay_minutes', 'flight_counts',\n",
       "       'delay_var_minutes'],\n",
       "      dtype='object')"
      ]
     },
     "execution_count": 4,
     "metadata": {},
     "output_type": "execute_result"
    }
   ],
   "source": [
    "routes_delays.columns"
   ]
  },
  {
   "cell_type": "code",
   "execution_count": 5,
   "metadata": {
    "collapsed": false
   },
   "outputs": [
    {
     "data": {
      "text/plain": [
       "11"
      ]
     },
     "execution_count": 5,
     "metadata": {},
     "output_type": "execute_result"
    }
   ],
   "source": [
    "ratings.head(2)\n",
    "len(ratings)"
   ]
  },
  {
   "cell_type": "code",
   "execution_count": 6,
   "metadata": {
    "collapsed": false
   },
   "outputs": [],
   "source": [
    "ratings.replace(np.nan, 'NR', inplace=True)"
   ]
  },
  {
   "cell_type": "code",
   "execution_count": 7,
   "metadata": {
    "collapsed": true
   },
   "outputs": [],
   "source": [
    "merged_df = pd.merge(routes_delays, ratings, on='UNIQUE_CARRIER')"
   ]
  },
  {
   "cell_type": "code",
   "execution_count": 8,
   "metadata": {
    "collapsed": false
   },
   "outputs": [],
   "source": [
    "#merged_df.head()"
   ]
  },
  {
   "cell_type": "code",
   "execution_count": 9,
   "metadata": {
    "collapsed": false
   },
   "outputs": [],
   "source": [
    "tmp = pd.Series(np.unique(merged_df['UNIQUE_CARRIER']))"
   ]
  },
  {
   "cell_type": "code",
   "execution_count": 65,
   "metadata": {
    "collapsed": false
   },
   "outputs": [],
   "source": [
    "tmp_dict = {'AA':'long haul, missed connecting, lie flat seats',\n",
    "           'AS':' friendly, attentive, good service, good food',\n",
    "           'B6':'snacks/drinks,legroom, free wifi, direct tv, helpful',\n",
    "           'DL':'excellent service, missed connection, avoid delta',\n",
    "           'F9':'low cost, staff friendly, pay extra, bags charge',\n",
    "           'HA':'seats uncomfortable, friendly attendants, entertainment',\n",
    "           'NK':'hidden fees, baggage fees, pay extra, worst airline,',\n",
    "           'OO':'highly recommended, efficient check, friendly crew',\n",
    "           'UA':'missed connecting flight, flight entertainment, friendly staff',\n",
    "           'VX':'staff friendly, good quality, food/drinks, entertainment, leather seats',\n",
    "           'WN':'low cost, non stop, crew/staff friendly, early bird, bags fly free'}\n",
    "\n",
    "tmp_img = {'AA':'http://crushed.com/wp-content/uploads/2014/04/american_airlines.png',\n",
    "           'AS':'https://www.nbp.org/nbp/images/business/logo-alaska-airlines.jpg',\n",
    "           'B6':'http://www.jetblue.com/img/sofly/firstfin.gif',\n",
    "           'DL':'https://s-media-cache-ak0.pinimg.com/736x/b4/dc/c8/b4dcc8de9a51e157ab177375e74e43b7.jpg',\n",
    "           'F9':'http://cf.juggle-images.com/matte/white/280x280/frontier-airlines-2-logo-primary.jpg',\n",
    "           'HA':'http://themolokainews.com/wp-content/uploads/2014/08/hawaiian-logo-304.jpg',\n",
    "           'NK':'http://sharing.abc15.com/sharewfts/photo/2010/06/23/spirit_airlines_logo_20100623103407_320_240.JPG',\n",
    "           'OO':'http://www.miniindy.org/assets/Uploads/TeamLogos/skywestLogo.png',\n",
    "           'UA':'http://vertassets.blob.core.windows.net/image/c9736e07/c9736e07-f283-4a9c-b981-a1a80024c665/mm89155logo.jpg',\n",
    "           'VX':'https://www.virginamerica.com/images/vx-icon-152.png',\n",
    "           'WN':'http://www.carryitclearly.com/images/southwest-logo.jpg'}"
   ]
  },
  {
   "cell_type": "code",
   "execution_count": 11,
   "metadata": {
    "collapsed": false
   },
   "outputs": [],
   "source": [
    "#list(enumerate(merged_df.columns))"
   ]
  },
  {
   "cell_type": "code",
   "execution_count": 12,
   "metadata": {
    "collapsed": false
   },
   "outputs": [],
   "source": [
    "merged_df.drop('Unnamed: 0_x', axis=1, inplace=True)\n",
    "merged_df.drop('Unnamed: 0_y', axis=1, inplace=True)"
   ]
  },
  {
   "cell_type": "code",
   "execution_count": 13,
   "metadata": {
    "collapsed": false
   },
   "outputs": [
    {
     "data": {
      "text/plain": [
       "Index(['UNIQUE_CARRIER', 'arr_delay_var', 'carrier_delay%', 'cancellation%',\n",
       "       'airline_name_x', 'airport_routes', 'city_coutes', 'distance',\n",
       "       'average_delay_minutes', 'flight_counts', 'delay_var_minutes',\n",
       "       'airline_name_y', 'cabin', 'entertainment', 'food_bev', 'ground',\n",
       "       'money_value', 'overall', 'recommended', 'review_sentiment', 'wifi'],\n",
       "      dtype='object')"
      ]
     },
     "execution_count": 13,
     "metadata": {},
     "output_type": "execute_result"
    }
   ],
   "source": [
    "merged_df.columns"
   ]
  },
  {
   "cell_type": "code",
   "execution_count": 14,
   "metadata": {
    "collapsed": false
   },
   "outputs": [
    {
     "data": {
      "text/html": [
       "<div>\n",
       "<table border=\"1\" class=\"dataframe\">\n",
       "  <thead>\n",
       "    <tr style=\"text-align: right;\">\n",
       "      <th></th>\n",
       "      <th>UNIQUE_CARRIER</th>\n",
       "      <th>arr_delay_var</th>\n",
       "      <th>carrier_delay%</th>\n",
       "      <th>cancellation%</th>\n",
       "      <th>airline_name_x</th>\n",
       "      <th>airport_routes</th>\n",
       "      <th>city_coutes</th>\n",
       "      <th>distance</th>\n",
       "      <th>average_delay_minutes</th>\n",
       "      <th>flight_counts</th>\n",
       "      <th>...</th>\n",
       "      <th>airline_name_y</th>\n",
       "      <th>cabin</th>\n",
       "      <th>entertainment</th>\n",
       "      <th>food_bev</th>\n",
       "      <th>ground</th>\n",
       "      <th>money_value</th>\n",
       "      <th>overall</th>\n",
       "      <th>recommended</th>\n",
       "      <th>review_sentiment</th>\n",
       "      <th>wifi</th>\n",
       "    </tr>\n",
       "  </thead>\n",
       "  <tbody>\n",
       "    <tr>\n",
       "      <th>0</th>\n",
       "      <td>AA</td>\n",
       "      <td>2226.048309</td>\n",
       "      <td>84.121552</td>\n",
       "      <td>0.850827</td>\n",
       "      <td>American Airlines Inc.</td>\n",
       "      <td>('ABQ', 'DFW')</td>\n",
       "      <td>('Albuquerque, NM', 'Dallas/Fort Worth, TX')</td>\n",
       "      <td>569.0</td>\n",
       "      <td>6.843891</td>\n",
       "      <td>442.0</td>\n",
       "      <td>...</td>\n",
       "      <td>american-airlines</td>\n",
       "      <td>2.5</td>\n",
       "      <td>2.0</td>\n",
       "      <td>2.3</td>\n",
       "      <td>1.9</td>\n",
       "      <td>2.4</td>\n",
       "      <td>3.7</td>\n",
       "      <td>0.3</td>\n",
       "      <td>-0.0</td>\n",
       "      <td>1.9</td>\n",
       "    </tr>\n",
       "    <tr>\n",
       "      <th>1</th>\n",
       "      <td>AA</td>\n",
       "      <td>2226.048309</td>\n",
       "      <td>84.121552</td>\n",
       "      <td>0.850827</td>\n",
       "      <td>American Airlines Inc.</td>\n",
       "      <td>('ALB', 'CLT')</td>\n",
       "      <td>('Albany, NY', 'Charlotte, NC')</td>\n",
       "      <td>646.0</td>\n",
       "      <td>0.946154</td>\n",
       "      <td>260.0</td>\n",
       "      <td>...</td>\n",
       "      <td>american-airlines</td>\n",
       "      <td>2.5</td>\n",
       "      <td>2.0</td>\n",
       "      <td>2.3</td>\n",
       "      <td>1.9</td>\n",
       "      <td>2.4</td>\n",
       "      <td>3.7</td>\n",
       "      <td>0.3</td>\n",
       "      <td>-0.0</td>\n",
       "      <td>1.9</td>\n",
       "    </tr>\n",
       "  </tbody>\n",
       "</table>\n",
       "<p>2 rows × 21 columns</p>\n",
       "</div>"
      ],
      "text/plain": [
       "  UNIQUE_CARRIER  arr_delay_var  carrier_delay%  cancellation%  \\\n",
       "0             AA    2226.048309       84.121552       0.850827   \n",
       "1             AA    2226.048309       84.121552       0.850827   \n",
       "\n",
       "           airline_name_x  airport_routes  \\\n",
       "0  American Airlines Inc.  ('ABQ', 'DFW')   \n",
       "1  American Airlines Inc.  ('ALB', 'CLT')   \n",
       "\n",
       "                                    city_coutes  distance  \\\n",
       "0  ('Albuquerque, NM', 'Dallas/Fort Worth, TX')     569.0   \n",
       "1               ('Albany, NY', 'Charlotte, NC')     646.0   \n",
       "\n",
       "   average_delay_minutes  flight_counts  ...      airline_name_y cabin  \\\n",
       "0               6.843891          442.0  ...   american-airlines   2.5   \n",
       "1               0.946154          260.0  ...   american-airlines   2.5   \n",
       "\n",
       "   entertainment  food_bev  ground  money_value  overall  recommended  \\\n",
       "0            2.0       2.3     1.9          2.4      3.7          0.3   \n",
       "1            2.0       2.3     1.9          2.4      3.7          0.3   \n",
       "\n",
       "   review_sentiment  wifi  \n",
       "0              -0.0   1.9  \n",
       "1              -0.0   1.9  \n",
       "\n",
       "[2 rows x 21 columns]"
      ]
     },
     "execution_count": 14,
     "metadata": {},
     "output_type": "execute_result"
    }
   ],
   "source": [
    "merged_df.head(2)"
   ]
  },
  {
   "cell_type": "code",
   "execution_count": 46,
   "metadata": {
    "collapsed": true
   },
   "outputs": [],
   "source": [
    "def topic(x):\n",
    "    for k, v in tmp_dict.items():\n",
    "        if k == x:\n",
    "            return v\n",
    "    return np.nan"
   ]
  },
  {
   "cell_type": "code",
   "execution_count": 68,
   "metadata": {
    "collapsed": true
   },
   "outputs": [],
   "source": [
    "merged_df['Topics Extract'] = merged_df['UNIQUE_CARRIER'].apply(topic)"
   ]
  },
  {
   "cell_type": "code",
   "execution_count": 69,
   "metadata": {
    "collapsed": true
   },
   "outputs": [],
   "source": [
    "merged_df['url'] = merged_df['UNIQUE_CARRIER'].apply(lambda x: tmp_img[x] if x in tmp_img.keys() else np.nan)"
   ]
  },
  {
   "cell_type": "code",
   "execution_count": 82,
   "metadata": {
    "collapsed": true
   },
   "outputs": [],
   "source": [
    "merged_df['url'] = merged_df['url'].apply(lambda x: \"<img src=\" + x + '\"style=width: 80%; height: 80%/\">')"
   ]
  },
  {
   "cell_type": "markdown",
   "metadata": {},
   "source": [
    "<img src=\"image.jpg\" style=\"width: 50%; height: 50%\"/>​"
   ]
  },
  {
   "cell_type": "code",
   "execution_count": 83,
   "metadata": {
    "collapsed": false
   },
   "outputs": [
    {
     "data": {
      "text/plain": [
       "'<img src=http://crushed.com/wp-content/uploads/2014/04/american_airlines.png\"style=width: 80%; height: 80%/\">'"
      ]
     },
     "execution_count": 83,
     "metadata": {},
     "output_type": "execute_result"
    }
   ],
   "source": [
    "merged_df['url'][0]"
   ]
  },
  {
   "cell_type": "code",
   "execution_count": 84,
   "metadata": {
    "collapsed": false
   },
   "outputs": [],
   "source": [
    "production_df = merged_df[['airline_name_x', 'airport_routes', 'city_coutes', 'distance', 'average_delay_minutes', \n",
    "                           'delay_var_minutes', 'overall', 'cabin', 'entertainment','wifi', 'food_bev', \n",
    "                           'money_value', 'Topics Extract', 'url']]\n",
    "\n",
    "production_df.columns = ['Airline Name', 'Airports', 'Cities', 'Distance', 'Average Delay (min)', \n",
    "                        'Variance of Delays (min)', 'Overall', 'Cabin', 'Entertainment', 'Wifi', \n",
    "                         'Food/Beverage', 'Bang for Buck', 'Topics Extract', 'url']"
   ]
  },
  {
   "cell_type": "code",
   "execution_count": 85,
   "metadata": {
    "collapsed": false
   },
   "outputs": [
    {
     "data": {
      "text/html": [
       "<div>\n",
       "<table border=\"1\" class=\"dataframe\">\n",
       "  <thead>\n",
       "    <tr style=\"text-align: right;\">\n",
       "      <th></th>\n",
       "      <th>Airline Name</th>\n",
       "      <th>Airports</th>\n",
       "      <th>Cities</th>\n",
       "      <th>Distance</th>\n",
       "      <th>Average Delay (min)</th>\n",
       "      <th>Variance of Delays (min)</th>\n",
       "      <th>Overall</th>\n",
       "      <th>Cabin</th>\n",
       "      <th>Entertainment</th>\n",
       "      <th>Wifi</th>\n",
       "      <th>Food/Beverage</th>\n",
       "      <th>Bang for Buck</th>\n",
       "      <th>Topics Extract</th>\n",
       "      <th>url</th>\n",
       "    </tr>\n",
       "  </thead>\n",
       "  <tbody>\n",
       "    <tr>\n",
       "      <th>0</th>\n",
       "      <td>American Airlines Inc.</td>\n",
       "      <td>('ABQ', 'DFW')</td>\n",
       "      <td>('Albuquerque, NM', 'Dallas/Fort Worth, TX')</td>\n",
       "      <td>569.0</td>\n",
       "      <td>6.843891</td>\n",
       "      <td>2874.268092</td>\n",
       "      <td>3.7</td>\n",
       "      <td>2.5</td>\n",
       "      <td>2.0</td>\n",
       "      <td>1.9</td>\n",
       "      <td>2.3</td>\n",
       "      <td>2.4</td>\n",
       "      <td>long haul, missed connecting, lie flat seats</td>\n",
       "      <td>&lt;img src=http://crushed.com/wp-content/uploads...</td>\n",
       "    </tr>\n",
       "    <tr>\n",
       "      <th>1</th>\n",
       "      <td>American Airlines Inc.</td>\n",
       "      <td>('ALB', 'CLT')</td>\n",
       "      <td>('Albany, NY', 'Charlotte, NC')</td>\n",
       "      <td>646.0</td>\n",
       "      <td>0.946154</td>\n",
       "      <td>26.290526</td>\n",
       "      <td>3.7</td>\n",
       "      <td>2.5</td>\n",
       "      <td>2.0</td>\n",
       "      <td>1.9</td>\n",
       "      <td>2.3</td>\n",
       "      <td>2.4</td>\n",
       "      <td>long haul, missed connecting, lie flat seats</td>\n",
       "      <td>&lt;img src=http://crushed.com/wp-content/uploads...</td>\n",
       "    </tr>\n",
       "  </tbody>\n",
       "</table>\n",
       "</div>"
      ],
      "text/plain": [
       "             Airline Name        Airports  \\\n",
       "0  American Airlines Inc.  ('ABQ', 'DFW')   \n",
       "1  American Airlines Inc.  ('ALB', 'CLT')   \n",
       "\n",
       "                                         Cities  Distance  \\\n",
       "0  ('Albuquerque, NM', 'Dallas/Fort Worth, TX')     569.0   \n",
       "1               ('Albany, NY', 'Charlotte, NC')     646.0   \n",
       "\n",
       "   Average Delay (min)  Variance of Delays (min)  Overall  Cabin  \\\n",
       "0             6.843891               2874.268092      3.7    2.5   \n",
       "1             0.946154                 26.290526      3.7    2.5   \n",
       "\n",
       "   Entertainment Wifi  Food/Beverage  Bang for Buck  \\\n",
       "0            2.0  1.9            2.3            2.4   \n",
       "1            2.0  1.9            2.3            2.4   \n",
       "\n",
       "                                 Topics Extract  \\\n",
       "0  long haul, missed connecting, lie flat seats   \n",
       "1  long haul, missed connecting, lie flat seats   \n",
       "\n",
       "                                                 url  \n",
       "0  <img src=http://crushed.com/wp-content/uploads...  \n",
       "1  <img src=http://crushed.com/wp-content/uploads...  "
      ]
     },
     "execution_count": 85,
     "metadata": {},
     "output_type": "execute_result"
    }
   ],
   "source": [
    "production_df.head(2)"
   ]
  },
  {
   "cell_type": "code",
   "execution_count": 86,
   "metadata": {
    "collapsed": false
   },
   "outputs": [
    {
     "name": "stderr",
     "output_type": "stream",
     "text": [
      "/Users/sunkuo/anaconda/lib/python3.5/site-packages/ipykernel/__main__.py:1: SettingWithCopyWarning: \n",
      "A value is trying to be set on a copy of a slice from a DataFrame.\n",
      "Try using .loc[row_indexer,col_indexer] = value instead\n",
      "\n",
      "See the caveats in the documentation: http://pandas.pydata.org/pandas-docs/stable/indexing.html#indexing-view-versus-copy\n",
      "  if __name__ == '__main__':\n"
     ]
    }
   ],
   "source": [
    "production_df['for_html'] = production_df.ix[:, ('url', 'Topics Extract')].apply(tuple, axis=1)"
   ]
  },
  {
   "cell_type": "code",
   "execution_count": 87,
   "metadata": {
    "collapsed": false
   },
   "outputs": [
    {
     "name": "stderr",
     "output_type": "stream",
     "text": [
      "/Users/sunkuo/anaconda/lib/python3.5/site-packages/ipykernel/__main__.py:1: SettingWithCopyWarning: \n",
      "A value is trying to be set on a copy of a slice from a DataFrame.\n",
      "Try using .loc[row_indexer,col_indexer] = value instead\n",
      "\n",
      "See the caveats in the documentation: http://pandas.pydata.org/pandas-docs/stable/indexing.html#indexing-view-versus-copy\n",
      "  if __name__ == '__main__':\n",
      "/Users/sunkuo/anaconda/lib/python3.5/site-packages/pandas/core/indexing.py:461: SettingWithCopyWarning: \n",
      "A value is trying to be set on a copy of a slice from a DataFrame.\n",
      "Try using .loc[row_indexer,col_indexer] = value instead\n",
      "\n",
      "See the caveats in the documentation: http://pandas.pydata.org/pandas-docs/stable/indexing.html#indexing-view-versus-copy\n",
      "  self.obj[item] = s\n"
     ]
    }
   ],
   "source": [
    "production_df['Distance'] = production_df.ix[:,'Distance'].apply(lambda x: int(x))\n",
    "for i in range(4,6):\n",
    "    production_df.ix[:,i] = production_df.ix[:,i].apply(lambda x: round(x,1))\n"
   ]
  },
  {
   "cell_type": "code",
   "execution_count": 92,
   "metadata": {
    "collapsed": false
   },
   "outputs": [
    {
     "data": {
      "text/html": [
       "<div>\n",
       "<table border=\"1\" class=\"dataframe\">\n",
       "  <thead>\n",
       "    <tr style=\"text-align: right;\">\n",
       "      <th></th>\n",
       "      <th>Airline Name</th>\n",
       "      <th>Airports</th>\n",
       "      <th>Cities</th>\n",
       "      <th>Distance</th>\n",
       "      <th>Average Delay (min)</th>\n",
       "      <th>Variance of Delays (min)</th>\n",
       "      <th>Overall</th>\n",
       "      <th>Cabin</th>\n",
       "      <th>Entertainment</th>\n",
       "      <th>Wifi</th>\n",
       "      <th>Food/Beverage</th>\n",
       "      <th>Bang for Buck</th>\n",
       "      <th>Topics Extract</th>\n",
       "      <th>url</th>\n",
       "      <th>for_html</th>\n",
       "    </tr>\n",
       "  </thead>\n",
       "  <tbody>\n",
       "    <tr>\n",
       "      <th>293</th>\n",
       "      <td>American Airlines Inc.</td>\n",
       "      <td>('JFK', 'ORD')</td>\n",
       "      <td>('New York, NY', 'Chicago, IL')</td>\n",
       "      <td>740</td>\n",
       "      <td>8.7</td>\n",
       "      <td>821.4</td>\n",
       "      <td>3.7</td>\n",
       "      <td>2.5</td>\n",
       "      <td>2.0</td>\n",
       "      <td>1.9</td>\n",
       "      <td>2.3</td>\n",
       "      <td>2.4</td>\n",
       "      <td>long haul, missed connecting, lie flat seats</td>\n",
       "      <td>&lt;img src=http://crushed.com/wp-content/uploads...</td>\n",
       "      <td>(&lt;img src=http://crushed.com/wp-content/upload...</td>\n",
       "    </tr>\n",
       "    <tr>\n",
       "      <th>1173</th>\n",
       "      <td>JetBlue Airways</td>\n",
       "      <td>('JFK', 'ORD')</td>\n",
       "      <td>('New York, NY', 'Chicago, IL')</td>\n",
       "      <td>740</td>\n",
       "      <td>6.4</td>\n",
       "      <td>715.2</td>\n",
       "      <td>7.2</td>\n",
       "      <td>3.5</td>\n",
       "      <td>3.4</td>\n",
       "      <td>4.1</td>\n",
       "      <td>3.2</td>\n",
       "      <td>3.5</td>\n",
       "      <td>snacks/drinks,legroom, free wifi, direct tv, h...</td>\n",
       "      <td>&lt;img src=http://www.jetblue.com/img/sofly/firs...</td>\n",
       "      <td>(&lt;img src=http://www.jetblue.com/img/sofly/fir...</td>\n",
       "    </tr>\n",
       "    <tr>\n",
       "      <th>1759</th>\n",
       "      <td>Delta Air Lines Inc.</td>\n",
       "      <td>('JFK', 'ORD')</td>\n",
       "      <td>('New York, NY', 'Chicago, IL')</td>\n",
       "      <td>740</td>\n",
       "      <td>0.0</td>\n",
       "      <td>NaN</td>\n",
       "      <td>6.2</td>\n",
       "      <td>3.4</td>\n",
       "      <td>2.7</td>\n",
       "      <td>2.8</td>\n",
       "      <td>2.9</td>\n",
       "      <td>3.0</td>\n",
       "      <td>excellent service, missed connection, avoid delta</td>\n",
       "      <td>&lt;img src=https://s-media-cache-ak0.pinimg.com/...</td>\n",
       "      <td>(&lt;img src=https://s-media-cache-ak0.pinimg.com...</td>\n",
       "    </tr>\n",
       "  </tbody>\n",
       "</table>\n",
       "</div>"
      ],
      "text/plain": [
       "                Airline Name        Airports                           Cities  \\\n",
       "293   American Airlines Inc.  ('JFK', 'ORD')  ('New York, NY', 'Chicago, IL')   \n",
       "1173         JetBlue Airways  ('JFK', 'ORD')  ('New York, NY', 'Chicago, IL')   \n",
       "1759    Delta Air Lines Inc.  ('JFK', 'ORD')  ('New York, NY', 'Chicago, IL')   \n",
       "\n",
       "      Distance  Average Delay (min)  Variance of Delays (min)  Overall  Cabin  \\\n",
       "293        740                  8.7                     821.4      3.7    2.5   \n",
       "1173       740                  6.4                     715.2      7.2    3.5   \n",
       "1759       740                  0.0                       NaN      6.2    3.4   \n",
       "\n",
       "      Entertainment Wifi  Food/Beverage  Bang for Buck  \\\n",
       "293             2.0  1.9            2.3            2.4   \n",
       "1173            3.4  4.1            3.2            3.5   \n",
       "1759            2.7  2.8            2.9            3.0   \n",
       "\n",
       "                                         Topics Extract  \\\n",
       "293        long haul, missed connecting, lie flat seats   \n",
       "1173  snacks/drinks,legroom, free wifi, direct tv, h...   \n",
       "1759  excellent service, missed connection, avoid delta   \n",
       "\n",
       "                                                    url  \\\n",
       "293   <img src=http://crushed.com/wp-content/uploads...   \n",
       "1173  <img src=http://www.jetblue.com/img/sofly/firs...   \n",
       "1759  <img src=https://s-media-cache-ak0.pinimg.com/...   \n",
       "\n",
       "                                               for_html  \n",
       "293   (<img src=http://crushed.com/wp-content/upload...  \n",
       "1173  (<img src=http://www.jetblue.com/img/sofly/fir...  \n",
       "1759  (<img src=https://s-media-cache-ak0.pinimg.com...  "
      ]
     },
     "execution_count": 92,
     "metadata": {},
     "output_type": "execute_result"
    }
   ],
   "source": [
    "production_df.loc[production_df['Airports'] == str(('JFK','ORD'))]"
   ]
  },
  {
   "cell_type": "code",
   "execution_count": 93,
   "metadata": {
    "collapsed": false
   },
   "outputs": [
    {
     "data": {
      "text/plain": [
       "('<img src=http://crushed.com/wp-content/uploads/2014/04/american_airlines.png\"style=width: 80%; height: 80%/\">',\n",
       " 'long haul, missed connecting, lie flat seats')"
      ]
     },
     "execution_count": 93,
     "metadata": {},
     "output_type": "execute_result"
    }
   ],
   "source": [
    "production_df.ix[0, 'for_html']"
   ]
  },
  {
   "cell_type": "code",
   "execution_count": 56,
   "metadata": {
    "collapsed": false
   },
   "outputs": [
    {
     "data": {
      "text/html": [
       "<div>\n",
       "<table border=\"1\" class=\"dataframe\">\n",
       "  <thead>\n",
       "    <tr style=\"text-align: right;\">\n",
       "      <th></th>\n",
       "      <th>Airline Name</th>\n",
       "      <th>Average Delay (min)</th>\n",
       "      <th>Variance of Delays (min)</th>\n",
       "      <th>Overall</th>\n",
       "      <th>Cabin</th>\n",
       "      <th>Entertainment</th>\n",
       "      <th>Wifi</th>\n",
       "      <th>Food/Beverage</th>\n",
       "      <th>Bang for Buck</th>\n",
       "      <th>Topics Extract</th>\n",
       "    </tr>\n",
       "  </thead>\n",
       "  <tbody>\n",
       "    <tr>\n",
       "      <th>0</th>\n",
       "      <td>Virgin America</td>\n",
       "      <td>4.4</td>\n",
       "      <td>635.5</td>\n",
       "      <td>7.3</td>\n",
       "      <td>3.5</td>\n",
       "      <td>3.6</td>\n",
       "      <td>2.5</td>\n",
       "      <td>2.9</td>\n",
       "      <td>3.6</td>\n",
       "      <td>staff friendly, good quality, food/drinks, ent...</td>\n",
       "    </tr>\n",
       "    <tr>\n",
       "      <th>1</th>\n",
       "      <td>American Airlines Inc.</td>\n",
       "      <td>4.6</td>\n",
       "      <td>469.2</td>\n",
       "      <td>3.7</td>\n",
       "      <td>2.5</td>\n",
       "      <td>2.0</td>\n",
       "      <td>1.9</td>\n",
       "      <td>2.3</td>\n",
       "      <td>2.4</td>\n",
       "      <td>long haul, missed connecting, lie flat seats</td>\n",
       "    </tr>\n",
       "    <tr>\n",
       "      <th>2</th>\n",
       "      <td>Frontier Airlines Inc.</td>\n",
       "      <td>1.9</td>\n",
       "      <td>49.6</td>\n",
       "      <td>4.1</td>\n",
       "      <td>2.3</td>\n",
       "      <td>1.4</td>\n",
       "      <td>1</td>\n",
       "      <td>1.3</td>\n",
       "      <td>2.2</td>\n",
       "      <td>low cost, staff friendly, pay extra, bags charge</td>\n",
       "    </tr>\n",
       "    <tr>\n",
       "      <th>3</th>\n",
       "      <td>United Air Lines Inc.</td>\n",
       "      <td>3.9</td>\n",
       "      <td>352.0</td>\n",
       "      <td>3.4</td>\n",
       "      <td>2.4</td>\n",
       "      <td>2.1</td>\n",
       "      <td>1.9</td>\n",
       "      <td>2.0</td>\n",
       "      <td>2.2</td>\n",
       "      <td>missed connecting flight, flight entertainment...</td>\n",
       "    </tr>\n",
       "    <tr>\n",
       "      <th>4</th>\n",
       "      <td>Spirit Air Lines</td>\n",
       "      <td>1.1</td>\n",
       "      <td>24.6</td>\n",
       "      <td>2.9</td>\n",
       "      <td>2.1</td>\n",
       "      <td>1.2</td>\n",
       "      <td>1</td>\n",
       "      <td>1.4</td>\n",
       "      <td>2.0</td>\n",
       "      <td>hidden fees, baggage fees, pay extra, worst ai...</td>\n",
       "    </tr>\n",
       "  </tbody>\n",
       "</table>\n",
       "</div>"
      ],
      "text/plain": [
       "             Airline Name  Average Delay (min)  Variance of Delays (min)  \\\n",
       "0          Virgin America                  4.4                     635.5   \n",
       "1  American Airlines Inc.                  4.6                     469.2   \n",
       "2  Frontier Airlines Inc.                  1.9                      49.6   \n",
       "3   United Air Lines Inc.                  3.9                     352.0   \n",
       "4        Spirit Air Lines                  1.1                      24.6   \n",
       "\n",
       "   Overall  Cabin  Entertainment Wifi  Food/Beverage  Bang for Buck  \\\n",
       "0      7.3    3.5            3.6  2.5            2.9            3.6   \n",
       "1      3.7    2.5            2.0  1.9            2.3            2.4   \n",
       "2      4.1    2.3            1.4    1            1.3            2.2   \n",
       "3      3.4    2.4            2.1  1.9            2.0            2.2   \n",
       "4      2.9    2.1            1.2    1            1.4            2.0   \n",
       "\n",
       "                                      Topics Extract  \n",
       "0  staff friendly, good quality, food/drinks, ent...  \n",
       "1       long haul, missed connecting, lie flat seats  \n",
       "2   low cost, staff friendly, pay extra, bags charge  \n",
       "3  missed connecting flight, flight entertainment...  \n",
       "4  hidden fees, baggage fees, pay extra, worst ai...  "
      ]
     },
     "execution_count": 56,
     "metadata": {},
     "output_type": "execute_result"
    }
   ],
   "source": [
    "production_df.loc[production_df['Airports'] == str(('LAX','ORD'))].ix[:, (0,4,5,6,7,8,9,10,11,12)]\\\n",
    ".sort_values('Bang for Buck', ascending=False).reset_index().drop('index', axis=1)"
   ]
  },
  {
   "cell_type": "code",
   "execution_count": 80,
   "metadata": {
    "collapsed": false
   },
   "outputs": [],
   "source": [
    "def get_airlines(org, dest, sortby):\n",
    "    assert len(org), len(dest) == 3\n",
    "    org, dest = org.upper(), dest.upper()\n",
    "    if sortby == 'Average Delay (min)' or sortby == 'Variance of Delays (min)':\n",
    "        return production_df.loc[production_df['Airports'] == str((str(org),str(dest)))].ix[:, (0,4,5,6,7,8,9,10,11,12)].sort_values(str(sortby), ascending=True).reset_index().drop('index', axis=1)\n",
    "    else:\n",
    "        return production_df.loc[production_df['Airports'] == str((str(org),str(dest)))].ix[:, (0,4,5,6,7,8,9,10,11,12)].sort_values(str(sortby), ascending=False).reset_index().drop('index', axis=1)\n",
    "    \n",
    "def origin_city(org, dest):\n",
    "    org, dest = org.upper(), dest.upper()\n",
    "    return eval(production_df.loc[production_df['Airports'] == str((str(org),str(dest)))].iloc[0,2])[0]\n",
    "\n",
    "def destination_city(org, dest):\n",
    "    org, dest = org.upper(), dest.upper()\n",
    "    return eval(production_df.loc[production_df['Airports'] == str((str(org),str(dest)))].iloc[0,2])[1]\n",
    "\n",
    "def distance_btw_cities(org, dest):\n",
    "    org, dest = org.upper(), dest.upper()\n",
    "    return production_df.loc[production_df['Airports'] == str((str(org),str(dest)))].iloc[0,3]\n",
    "\n",
    "def display_dist(org, dest):\n",
    "    return 'Distance from ' + str(origin_city(org, dest)) + ' to ' + str(destination_city(org, dest)) + ' is ' + str(distance_btw_cities(org, dest)) + ' miles.' \n",
    "\n",
    "def display_topics(org, dest, sortby):\n",
    "    df = production_df.loc[production_df['Airports'] == str(('JFK','ORD'))]\\\n",
    "            .ix[:, (0,4,5,6,7,8,9,10,11,12)].sort_values(str(sortby), ascending=False).reset_index().drop('index', axis=1)\n",
    "    for i in range(len(df)):\n",
    "        print(df.ix[i, 'Airline Name']+': '+df.ix[i, 'Topics Extract'])\n",
    "        \n",
    "def for_extract(org, dest, sortby):\n",
    "    org, dest = org.upper(), dest.upper()\n",
    "    return production_df.ix[production_df['Airports'] == str((str(org), str(dest)))].ix[:,14].tolist()"
   ]
  },
  {
   "cell_type": "code",
   "execution_count": 94,
   "metadata": {
    "collapsed": false
   },
   "outputs": [
    {
     "data": {
      "text/plain": [
       "[('<img src=http://crushed.com/wp-content/uploads/2014/04/american_airlines.png\"style=width: 80%; height: 80%/\">',\n",
       "  'long haul, missed connecting, lie flat seats'),\n",
       " ('<img src=http://www.jetblue.com/img/sofly/firstfin.gif\"style=width: 80%; height: 80%/\">',\n",
       "  'snacks/drinks,legroom, free wifi, direct tv, helpful'),\n",
       " ('<img src=https://s-media-cache-ak0.pinimg.com/736x/b4/dc/c8/b4dcc8de9a51e157ab177375e74e43b7.jpg\"style=width: 80%; height: 80%/\">',\n",
       "  'excellent service, missed connection, avoid delta'),\n",
       " ('<img src=https://www.virginamerica.com/images/vx-icon-152.png\"style=width: 80%; height: 80%/\">',\n",
       "  'staff friendly, good quality, food/drinks, entertainment, leather seats')]"
      ]
     },
     "execution_count": 94,
     "metadata": {},
     "output_type": "execute_result"
    }
   ],
   "source": [
    "for_extract('jfk', 'lax', 'Overall')"
   ]
  },
  {
   "cell_type": "code",
   "execution_count": 30,
   "metadata": {
    "collapsed": false
   },
   "outputs": [
    {
     "data": {
      "text/plain": [
       "'Los Angeles, CA'"
      ]
     },
     "execution_count": 30,
     "metadata": {},
     "output_type": "execute_result"
    }
   ],
   "source": [
    "origin_city('lAX', 'EWr')"
   ]
  },
  {
   "cell_type": "code",
   "execution_count": 31,
   "metadata": {
    "collapsed": false
   },
   "outputs": [
    {
     "data": {
      "text/plain": [
       "'Newark, NJ'"
      ]
     },
     "execution_count": 31,
     "metadata": {},
     "output_type": "execute_result"
    }
   ],
   "source": [
    "destination_city('Lax', 'ewR')"
   ]
  },
  {
   "cell_type": "code",
   "execution_count": 32,
   "metadata": {
    "collapsed": false
   },
   "outputs": [
    {
     "data": {
      "text/html": [
       "<div>\n",
       "<table border=\"1\" class=\"dataframe\">\n",
       "  <thead>\n",
       "    <tr style=\"text-align: right;\">\n",
       "      <th></th>\n",
       "      <th>Airline Name</th>\n",
       "      <th>Average Delay (min)</th>\n",
       "      <th>Variance of Delays (min)</th>\n",
       "      <th>Overall</th>\n",
       "      <th>Cabin</th>\n",
       "      <th>Entertainment</th>\n",
       "      <th>Wifi</th>\n",
       "      <th>Food/Beverage</th>\n",
       "      <th>Bang for Buck</th>\n",
       "      <th>Topics Extract</th>\n",
       "    </tr>\n",
       "  </thead>\n",
       "  <tbody>\n",
       "    <tr>\n",
       "      <th>0</th>\n",
       "      <td>Virgin America</td>\n",
       "      <td>2.3</td>\n",
       "      <td>156.2</td>\n",
       "      <td>7.3</td>\n",
       "      <td>3.5</td>\n",
       "      <td>3.6</td>\n",
       "      <td>2.5</td>\n",
       "      <td>2.9</td>\n",
       "      <td>3.6</td>\n",
       "      <td>staff friendly, good quality, food/drinks, ent...</td>\n",
       "    </tr>\n",
       "    <tr>\n",
       "      <th>1</th>\n",
       "      <td>Southwest Airlines Co.</td>\n",
       "      <td>4.2</td>\n",
       "      <td>398.9</td>\n",
       "      <td>6.8</td>\n",
       "      <td>3.5</td>\n",
       "      <td>2.5</td>\n",
       "      <td>2.6</td>\n",
       "      <td>2.8</td>\n",
       "      <td>3.4</td>\n",
       "      <td>low cost, non stop, crew/staff friendly, early...</td>\n",
       "    </tr>\n",
       "    <tr>\n",
       "      <th>2</th>\n",
       "      <td>Delta Air Lines Inc.</td>\n",
       "      <td>4.4</td>\n",
       "      <td>795.5</td>\n",
       "      <td>6.2</td>\n",
       "      <td>3.4</td>\n",
       "      <td>2.7</td>\n",
       "      <td>2.8</td>\n",
       "      <td>2.9</td>\n",
       "      <td>3.0</td>\n",
       "      <td>excellent service, excellent service, avoid delta</td>\n",
       "    </tr>\n",
       "    <tr>\n",
       "      <th>3</th>\n",
       "      <td>SkyWest Airlines Inc.</td>\n",
       "      <td>3.1</td>\n",
       "      <td>499.6</td>\n",
       "      <td>7.2</td>\n",
       "      <td>3.2</td>\n",
       "      <td>0.8</td>\n",
       "      <td>NR</td>\n",
       "      <td>0.8</td>\n",
       "      <td>2.6</td>\n",
       "      <td>highly recommended, efficient check, friendly ...</td>\n",
       "    </tr>\n",
       "    <tr>\n",
       "      <th>4</th>\n",
       "      <td>American Airlines Inc.</td>\n",
       "      <td>5.6</td>\n",
       "      <td>556.4</td>\n",
       "      <td>3.7</td>\n",
       "      <td>2.5</td>\n",
       "      <td>2.0</td>\n",
       "      <td>1.9</td>\n",
       "      <td>2.3</td>\n",
       "      <td>2.4</td>\n",
       "      <td>long haul, missed connecting, lie flat seats</td>\n",
       "    </tr>\n",
       "    <tr>\n",
       "      <th>5</th>\n",
       "      <td>United Air Lines Inc.</td>\n",
       "      <td>3.2</td>\n",
       "      <td>898.5</td>\n",
       "      <td>3.4</td>\n",
       "      <td>2.4</td>\n",
       "      <td>2.1</td>\n",
       "      <td>1.9</td>\n",
       "      <td>2.0</td>\n",
       "      <td>2.2</td>\n",
       "      <td>missed connecting flight, flight entertainment...</td>\n",
       "    </tr>\n",
       "  </tbody>\n",
       "</table>\n",
       "</div>"
      ],
      "text/plain": [
       "             Airline Name  Average Delay (min)  Variance of Delays (min)  \\\n",
       "0          Virgin America                  2.3                     156.2   \n",
       "1  Southwest Airlines Co.                  4.2                     398.9   \n",
       "2    Delta Air Lines Inc.                  4.4                     795.5   \n",
       "3   SkyWest Airlines Inc.                  3.1                     499.6   \n",
       "4  American Airlines Inc.                  5.6                     556.4   \n",
       "5   United Air Lines Inc.                  3.2                     898.5   \n",
       "\n",
       "   Overall  Cabin  Entertainment Wifi  Food/Beverage  Bang for Buck  \\\n",
       "0      7.3    3.5            3.6  2.5            2.9            3.6   \n",
       "1      6.8    3.5            2.5  2.6            2.8            3.4   \n",
       "2      6.2    3.4            2.7  2.8            2.9            3.0   \n",
       "3      7.2    3.2            0.8   NR            0.8            2.6   \n",
       "4      3.7    2.5            2.0  1.9            2.3            2.4   \n",
       "5      3.4    2.4            2.1  1.9            2.0            2.2   \n",
       "\n",
       "                                      Topics Extract  \n",
       "0  staff friendly, good quality, food/drinks, ent...  \n",
       "1  low cost, non stop, crew/staff friendly, early...  \n",
       "2  excellent service, excellent service, avoid delta  \n",
       "3  highly recommended, efficient check, friendly ...  \n",
       "4       long haul, missed connecting, lie flat seats  \n",
       "5  missed connecting flight, flight entertainment...  "
      ]
     },
     "execution_count": 32,
     "metadata": {},
     "output_type": "execute_result"
    }
   ],
   "source": [
    "get_airlines('lax', 'sfo', 'Cabin')"
   ]
  },
  {
   "cell_type": "code",
   "execution_count": 33,
   "metadata": {
    "collapsed": false
   },
   "outputs": [
    {
     "data": {
      "text/plain": [
       "719"
      ]
     },
     "execution_count": 33,
     "metadata": {},
     "output_type": "execute_result"
    }
   ],
   "source": [
    "distance_btw_cities('ewr', 'oRd')"
   ]
  },
  {
   "cell_type": "code",
   "execution_count": 34,
   "metadata": {
    "collapsed": false
   },
   "outputs": [],
   "source": [
    "production_df.to_csv('prod_df.csv')"
   ]
  },
  {
   "cell_type": "code",
   "execution_count": 35,
   "metadata": {
    "collapsed": false
   },
   "outputs": [
    {
     "data": {
      "text/html": [
       "<div>\n",
       "<table border=\"1\" class=\"dataframe\">\n",
       "  <thead>\n",
       "    <tr style=\"text-align: right;\">\n",
       "      <th></th>\n",
       "      <th>Airline Name</th>\n",
       "      <th>Airports</th>\n",
       "      <th>Cities</th>\n",
       "      <th>Distance</th>\n",
       "      <th>Average Delay (min)</th>\n",
       "      <th>Variance of Delays (min)</th>\n",
       "      <th>Overall</th>\n",
       "      <th>Cabin</th>\n",
       "      <th>Entertainment</th>\n",
       "      <th>Wifi</th>\n",
       "      <th>Food/Beverage</th>\n",
       "      <th>Bang for Buck</th>\n",
       "      <th>Topics Extract</th>\n",
       "      <th>url</th>\n",
       "      <th>for_html</th>\n",
       "    </tr>\n",
       "  </thead>\n",
       "  <tbody>\n",
       "    <tr>\n",
       "      <th>0</th>\n",
       "      <td>American Airlines Inc.</td>\n",
       "      <td>('ABQ', 'DFW')</td>\n",
       "      <td>('Albuquerque, NM', 'Dallas/Fort Worth, TX')</td>\n",
       "      <td>569</td>\n",
       "      <td>6.8</td>\n",
       "      <td>2874.3</td>\n",
       "      <td>3.7</td>\n",
       "      <td>2.5</td>\n",
       "      <td>2.0</td>\n",
       "      <td>1.9</td>\n",
       "      <td>2.3</td>\n",
       "      <td>2.4</td>\n",
       "      <td>long haul, missed connecting, lie flat seats</td>\n",
       "      <td>&lt;img src=http://crushed.com/wp-content/uploads...</td>\n",
       "      <td>(&lt;img src=http://crushed.com/wp-content/upload...</td>\n",
       "    </tr>\n",
       "    <tr>\n",
       "      <th>1</th>\n",
       "      <td>American Airlines Inc.</td>\n",
       "      <td>('ALB', 'CLT')</td>\n",
       "      <td>('Albany, NY', 'Charlotte, NC')</td>\n",
       "      <td>646</td>\n",
       "      <td>0.9</td>\n",
       "      <td>26.3</td>\n",
       "      <td>3.7</td>\n",
       "      <td>2.5</td>\n",
       "      <td>2.0</td>\n",
       "      <td>1.9</td>\n",
       "      <td>2.3</td>\n",
       "      <td>2.4</td>\n",
       "      <td>long haul, missed connecting, lie flat seats</td>\n",
       "      <td>&lt;img src=http://crushed.com/wp-content/uploads...</td>\n",
       "      <td>(&lt;img src=http://crushed.com/wp-content/upload...</td>\n",
       "    </tr>\n",
       "  </tbody>\n",
       "</table>\n",
       "</div>"
      ],
      "text/plain": [
       "             Airline Name        Airports  \\\n",
       "0  American Airlines Inc.  ('ABQ', 'DFW')   \n",
       "1  American Airlines Inc.  ('ALB', 'CLT')   \n",
       "\n",
       "                                         Cities  Distance  \\\n",
       "0  ('Albuquerque, NM', 'Dallas/Fort Worth, TX')       569   \n",
       "1               ('Albany, NY', 'Charlotte, NC')       646   \n",
       "\n",
       "   Average Delay (min)  Variance of Delays (min)  Overall  Cabin  \\\n",
       "0                  6.8                    2874.3      3.7    2.5   \n",
       "1                  0.9                      26.3      3.7    2.5   \n",
       "\n",
       "   Entertainment Wifi  Food/Beverage  Bang for Buck  \\\n",
       "0            2.0  1.9            2.3            2.4   \n",
       "1            2.0  1.9            2.3            2.4   \n",
       "\n",
       "                                 Topics Extract  \\\n",
       "0  long haul, missed connecting, lie flat seats   \n",
       "1  long haul, missed connecting, lie flat seats   \n",
       "\n",
       "                                                 url  \\\n",
       "0  <img src=http://crushed.com/wp-content/uploads...   \n",
       "1  <img src=http://crushed.com/wp-content/uploads...   \n",
       "\n",
       "                                            for_html  \n",
       "0  (<img src=http://crushed.com/wp-content/upload...  \n",
       "1  (<img src=http://crushed.com/wp-content/upload...  "
      ]
     },
     "execution_count": 35,
     "metadata": {},
     "output_type": "execute_result"
    }
   ],
   "source": [
    "production_df.head(2)"
   ]
  },
  {
   "cell_type": "code",
   "execution_count": 180,
   "metadata": {
    "collapsed": true
   },
   "outputs": [],
   "source": [
    "def get_html(org, dest, sortby):\n",
    "    assert len(org), len(dest) == 3\n",
    "    org, dest = org.upper(), dest.upper()\n",
    "    return production_df.loc[production_df['Airports'] == str((str(org),str(dest)))]\\\n",
    "    .ix[:, (0,4,5,6,7,8,9,10,11,12)].sort_values(str(sortby), ascending=False).to_html()\n"
   ]
  },
  {
   "cell_type": "code",
   "execution_count": 181,
   "metadata": {
    "collapsed": false
   },
   "outputs": [
    {
     "data": {
      "text/html": [
       "<div>\n",
       "<table border=\"1\" class=\"dataframe\">\n",
       "  <thead>\n",
       "    <tr style=\"text-align: right;\">\n",
       "      <th></th>\n",
       "      <th>Airline Name</th>\n",
       "      <th>Average Delay (min)</th>\n",
       "      <th>Variance of Delays (min)</th>\n",
       "      <th>Overall</th>\n",
       "      <th>Cabin</th>\n",
       "      <th>Entertainment</th>\n",
       "      <th>Wifi</th>\n",
       "      <th>Food/Beverage</th>\n",
       "      <th>Bang for Buck</th>\n",
       "      <th>Topics Extract</th>\n",
       "    </tr>\n",
       "  </thead>\n",
       "  <tbody>\n",
       "    <tr>\n",
       "      <th>0</th>\n",
       "      <td>American Airlines Inc.</td>\n",
       "      <td>5.8</td>\n",
       "      <td>1072.1</td>\n",
       "      <td>3.7</td>\n",
       "      <td>2.5</td>\n",
       "      <td>2.0</td>\n",
       "      <td>1.9</td>\n",
       "      <td>2.3</td>\n",
       "      <td>2.4</td>\n",
       "      <td>flight cancelled, long haul, flight delayed, m...</td>\n",
       "    </tr>\n",
       "    <tr>\n",
       "      <th>1</th>\n",
       "      <td>United Air Lines Inc.</td>\n",
       "      <td>5.1</td>\n",
       "      <td>754.4</td>\n",
       "      <td>3.4</td>\n",
       "      <td>2.4</td>\n",
       "      <td>2.1</td>\n",
       "      <td>1.9</td>\n",
       "      <td>2.0</td>\n",
       "      <td>2.2</td>\n",
       "      <td>flight delayed, missed connecting flight, canc...</td>\n",
       "    </tr>\n",
       "  </tbody>\n",
       "</table>\n",
       "</div>"
      ],
      "text/plain": [
       "             Airline Name  Average Delay (min)  Variance of Delays (min)  \\\n",
       "0  American Airlines Inc.                  5.8                    1072.1   \n",
       "1   United Air Lines Inc.                  5.1                     754.4   \n",
       "\n",
       "   Overall  Cabin  Entertainment Wifi  Food/Beverage  Bang for Buck  \\\n",
       "0      3.7    2.5            2.0  1.9            2.3            2.4   \n",
       "1      3.4    2.4            2.1  1.9            2.0            2.2   \n",
       "\n",
       "                                      Topics Extract  \n",
       "0  flight cancelled, long haul, flight delayed, m...  \n",
       "1  flight delayed, missed connecting flight, canc...  "
      ]
     },
     "execution_count": 181,
     "metadata": {},
     "output_type": "execute_result"
    }
   ],
   "source": [
    "get_airlines('ewr', 'ord', 'Overall')"
   ]
  },
  {
   "cell_type": "code",
   "execution_count": 182,
   "metadata": {
    "collapsed": true
   },
   "outputs": [],
   "source": [
    "def display_topics(org, dest, sortby):\n",
    "    df = production_df.loc[production_df['Airports'] == str(('JFK','ORD'))]\\\n",
    "            .ix[:, (1,5,6,7,8,9,10,11,12,13)].sort_values(str(sortby), ascending=False).reset_index().drop('index', axis=1)\n",
    "    for i in range(len(df)):\n",
    "        print(df.ix[i, 'Airline Name']+': '+df.ix[i, 'Topics Extract'])"
   ]
  },
  {
   "cell_type": "code",
   "execution_count": 192,
   "metadata": {
    "collapsed": false
   },
   "outputs": [],
   "source": [
    "def display_topics(org, dest, sortby):\n",
    "    df = production_df.loc[production_df['Airports'] == str(('JFK','ORD'))]\\\n",
    "            .ix[:, (0,4,5,6,7,8,9,10,11,12)].sort_values(str(sortby), ascending=False).reset_index().drop('index', axis=1)\n",
    "    for i in range(len(df)):\n",
    "        return str(df.ix[i, 'Airline Name']+': '+df.ix[i, 'Topics Extract'])"
   ]
  },
  {
   "cell_type": "code",
   "execution_count": 193,
   "metadata": {
    "collapsed": false
   },
   "outputs": [
    {
     "data": {
      "text/plain": [
       "'JetBlue Airways: snacks, drinks, plenty legroom, free wifi, cancelled, delayed flight, customer service, direct tv, seats comfortable, great, helpful'"
      ]
     },
     "execution_count": 193,
     "metadata": {},
     "output_type": "execute_result"
    }
   ],
   "source": [
    "display_topics('jfk', 'ord', 'Cabin')"
   ]
  },
  {
   "cell_type": "code",
   "execution_count": 119,
   "metadata": {
    "collapsed": true
   },
   "outputs": [],
   "source": [
    "def display_topics1(org, dest, sortby):\n",
    "    org, dest = org.upper(), dest.upper()\n",
    "    df = production_df.loc[production_df['Airports'] == str((str(org),str(dest)))].ix[:, (0,4,5,6,7,8,9,10,11,12)].sort_values(str(sortby), ascending=False).reset_index\\\n",
    "().drop('index', axis=1)\n",
    "    airlines = df['Airline Name'].tolist()\n",
    "    topics = df['Topics Extract'].tolist()\n",
    "    return list(zip(airlines, topics))\n",
    "#     return extract"
   ]
  },
  {
   "cell_type": "code",
   "execution_count": 106,
   "metadata": {
    "collapsed": false
   },
   "outputs": [],
   "source": [
    "df = production_df.loc[production_df['Airports'] == str(('JFK','ORD'))].ix[:, (0,4,5,6,7,8,9,10,11,12)].sort_values('Overall', ascending=False).reset_index\\\n",
    "().drop('index', axis=1)"
   ]
  },
  {
   "cell_type": "code",
   "execution_count": 200,
   "metadata": {
    "collapsed": false
   },
   "outputs": [
    {
     "data": {
      "text/html": [
       "<div>\n",
       "<table border=\"1\" class=\"dataframe\">\n",
       "  <thead>\n",
       "    <tr style=\"text-align: right;\">\n",
       "      <th></th>\n",
       "      <th>Airline Name</th>\n",
       "      <th>Average Delay (min)</th>\n",
       "      <th>Variance of Delays (min)</th>\n",
       "      <th>Overall</th>\n",
       "      <th>Cabin</th>\n",
       "      <th>Entertainment</th>\n",
       "      <th>Wifi</th>\n",
       "      <th>Food/Beverage</th>\n",
       "      <th>Bang for Buck</th>\n",
       "      <th>Topics Extract</th>\n",
       "    </tr>\n",
       "  </thead>\n",
       "  <tbody>\n",
       "    <tr>\n",
       "      <th>0</th>\n",
       "      <td>Spirit Air Lines</td>\n",
       "      <td>0.6</td>\n",
       "      <td>14.5</td>\n",
       "      <td>2.9</td>\n",
       "      <td>2.1</td>\n",
       "      <td>1.2</td>\n",
       "      <td>1</td>\n",
       "      <td>1.4</td>\n",
       "      <td>2.0</td>\n",
       "      <td>hidden fees, baggage fees, pay extra, delayed,...</td>\n",
       "    </tr>\n",
       "    <tr>\n",
       "      <th>1</th>\n",
       "      <td>SkyWest Airlines Inc.</td>\n",
       "      <td>0.5</td>\n",
       "      <td>29.1</td>\n",
       "      <td>7.2</td>\n",
       "      <td>3.2</td>\n",
       "      <td>0.8</td>\n",
       "      <td>NR</td>\n",
       "      <td>0.8</td>\n",
       "      <td>2.6</td>\n",
       "      <td>efficient, highly recommended, efficient check...</td>\n",
       "    </tr>\n",
       "    <tr>\n",
       "      <th>2</th>\n",
       "      <td>United Air Lines Inc.</td>\n",
       "      <td>1.4</td>\n",
       "      <td>90.7</td>\n",
       "      <td>3.4</td>\n",
       "      <td>2.4</td>\n",
       "      <td>2.1</td>\n",
       "      <td>1.9</td>\n",
       "      <td>2.0</td>\n",
       "      <td>2.2</td>\n",
       "      <td>flight delayed, missed connecting flight, canc...</td>\n",
       "    </tr>\n",
       "    <tr>\n",
       "      <th>3</th>\n",
       "      <td>American Airlines Inc.</td>\n",
       "      <td>2.1</td>\n",
       "      <td>228.0</td>\n",
       "      <td>3.7</td>\n",
       "      <td>2.5</td>\n",
       "      <td>2.0</td>\n",
       "      <td>1.9</td>\n",
       "      <td>2.3</td>\n",
       "      <td>2.4</td>\n",
       "      <td>flight cancelled, long haul, flight delayed, m...</td>\n",
       "    </tr>\n",
       "  </tbody>\n",
       "</table>\n",
       "</div>"
      ],
      "text/plain": [
       "             Airline Name  Average Delay (min)  Variance of Delays (min)  \\\n",
       "0        Spirit Air Lines                  0.6                      14.5   \n",
       "1   SkyWest Airlines Inc.                  0.5                      29.1   \n",
       "2   United Air Lines Inc.                  1.4                      90.7   \n",
       "3  American Airlines Inc.                  2.1                     228.0   \n",
       "\n",
       "   Overall  Cabin  Entertainment Wifi  Food/Beverage  Bang for Buck  \\\n",
       "0      2.9    2.1            1.2    1            1.4            2.0   \n",
       "1      7.2    3.2            0.8   NR            0.8            2.6   \n",
       "2      3.4    2.4            2.1  1.9            2.0            2.2   \n",
       "3      3.7    2.5            2.0  1.9            2.3            2.4   \n",
       "\n",
       "                                      Topics Extract  \n",
       "0  hidden fees, baggage fees, pay extra, delayed,...  \n",
       "1  efficient, highly recommended, efficient check...  \n",
       "2  flight delayed, missed connecting flight, canc...  \n",
       "3  flight cancelled, long haul, flight delayed, m...  "
      ]
     },
     "execution_count": 200,
     "metadata": {},
     "output_type": "execute_result"
    }
   ],
   "source": [
    "get_airlines('LGA', 'ORD', 'Variance of Delays (min)')"
   ]
  },
  {
   "cell_type": "code",
   "execution_count": 75,
   "metadata": {
    "collapsed": false
   },
   "outputs": [],
   "source": [
    "merged_df['url'] = merged_df['UNIQUE_CARRIER'].apply(lambda x: tmp_img[x] if x in tmp_img.keys() else np.nan)"
   ]
  },
  {
   "cell_type": "code",
   "execution_count": 76,
   "metadata": {
    "collapsed": false
   },
   "outputs": [],
   "source": [
    "json_df = merged_df[['airline_name_x', 'Topics Extract', 'url']]"
   ]
  },
  {
   "cell_type": "code",
   "execution_count": 77,
   "metadata": {
    "collapsed": false
   },
   "outputs": [],
   "source": [
    "json_df = json_df.drop_duplicates().reset_index().drop('index', axis=1)"
   ]
  },
  {
   "cell_type": "code",
   "execution_count": 78,
   "metadata": {
    "collapsed": false
   },
   "outputs": [
    {
     "data": {
      "text/html": [
       "<div>\n",
       "<table border=\"1\" class=\"dataframe\">\n",
       "  <thead>\n",
       "    <tr style=\"text-align: right;\">\n",
       "      <th></th>\n",
       "      <th>Airline Name</th>\n",
       "      <th>Airports</th>\n",
       "      <th>Cities</th>\n",
       "      <th>Distance</th>\n",
       "      <th>Average Delay (min)</th>\n",
       "      <th>Variance of Delays (min)</th>\n",
       "      <th>Overall</th>\n",
       "      <th>Cabin</th>\n",
       "      <th>Entertainment</th>\n",
       "      <th>Wifi</th>\n",
       "      <th>Food/Beverage</th>\n",
       "      <th>Bang for Buck</th>\n",
       "      <th>Topics Extract</th>\n",
       "      <th>url</th>\n",
       "    </tr>\n",
       "  </thead>\n",
       "  <tbody>\n",
       "    <tr>\n",
       "      <th>0</th>\n",
       "      <td>American Airlines Inc.</td>\n",
       "      <td>('ABQ', 'DFW')</td>\n",
       "      <td>('Albuquerque, NM', 'Dallas/Fort Worth, TX')</td>\n",
       "      <td>569.0</td>\n",
       "      <td>6.843891</td>\n",
       "      <td>2874.268092</td>\n",
       "      <td>3.7</td>\n",
       "      <td>2.5</td>\n",
       "      <td>2.0</td>\n",
       "      <td>1.9</td>\n",
       "      <td>2.3</td>\n",
       "      <td>2.4</td>\n",
       "      <td>long haul, missed connecting, lie flat seats</td>\n",
       "      <td>&lt;img src=http://crushed.com/wp-content/uploads...</td>\n",
       "    </tr>\n",
       "    <tr>\n",
       "      <th>1</th>\n",
       "      <td>American Airlines Inc.</td>\n",
       "      <td>('ALB', 'CLT')</td>\n",
       "      <td>('Albany, NY', 'Charlotte, NC')</td>\n",
       "      <td>646.0</td>\n",
       "      <td>0.946154</td>\n",
       "      <td>26.290526</td>\n",
       "      <td>3.7</td>\n",
       "      <td>2.5</td>\n",
       "      <td>2.0</td>\n",
       "      <td>1.9</td>\n",
       "      <td>2.3</td>\n",
       "      <td>2.4</td>\n",
       "      <td>long haul, missed connecting, lie flat seats</td>\n",
       "      <td>&lt;img src=http://crushed.com/wp-content/uploads...</td>\n",
       "    </tr>\n",
       "    <tr>\n",
       "      <th>2</th>\n",
       "      <td>American Airlines Inc.</td>\n",
       "      <td>('ANC', 'DFW')</td>\n",
       "      <td>('Anchorage, AK', 'Dallas/Fort Worth, TX')</td>\n",
       "      <td>3043.0</td>\n",
       "      <td>5.310345</td>\n",
       "      <td>157.078818</td>\n",
       "      <td>3.7</td>\n",
       "      <td>2.5</td>\n",
       "      <td>2.0</td>\n",
       "      <td>1.9</td>\n",
       "      <td>2.3</td>\n",
       "      <td>2.4</td>\n",
       "      <td>long haul, missed connecting, lie flat seats</td>\n",
       "      <td>&lt;img src=http://crushed.com/wp-content/uploads...</td>\n",
       "    </tr>\n",
       "    <tr>\n",
       "      <th>3</th>\n",
       "      <td>American Airlines Inc.</td>\n",
       "      <td>('ANC', 'LAX')</td>\n",
       "      <td>('Anchorage, AK', 'Los Angeles, CA')</td>\n",
       "      <td>2345.0</td>\n",
       "      <td>26.517241</td>\n",
       "      <td>12432.758621</td>\n",
       "      <td>3.7</td>\n",
       "      <td>2.5</td>\n",
       "      <td>2.0</td>\n",
       "      <td>1.9</td>\n",
       "      <td>2.3</td>\n",
       "      <td>2.4</td>\n",
       "      <td>long haul, missed connecting, lie flat seats</td>\n",
       "      <td>&lt;img src=http://crushed.com/wp-content/uploads...</td>\n",
       "    </tr>\n",
       "    <tr>\n",
       "      <th>4</th>\n",
       "      <td>American Airlines Inc.</td>\n",
       "      <td>('ANC', 'PHX')</td>\n",
       "      <td>('Anchorage, AK', 'Phoenix, AZ')</td>\n",
       "      <td>2552.0</td>\n",
       "      <td>1.600000</td>\n",
       "      <td>60.130337</td>\n",
       "      <td>3.7</td>\n",
       "      <td>2.5</td>\n",
       "      <td>2.0</td>\n",
       "      <td>1.9</td>\n",
       "      <td>2.3</td>\n",
       "      <td>2.4</td>\n",
       "      <td>long haul, missed connecting, lie flat seats</td>\n",
       "      <td>&lt;img src=http://crushed.com/wp-content/uploads...</td>\n",
       "    </tr>\n",
       "  </tbody>\n",
       "</table>\n",
       "</div>"
      ],
      "text/plain": [
       "             Airline Name        Airports  \\\n",
       "0  American Airlines Inc.  ('ABQ', 'DFW')   \n",
       "1  American Airlines Inc.  ('ALB', 'CLT')   \n",
       "2  American Airlines Inc.  ('ANC', 'DFW')   \n",
       "3  American Airlines Inc.  ('ANC', 'LAX')   \n",
       "4  American Airlines Inc.  ('ANC', 'PHX')   \n",
       "\n",
       "                                         Cities  Distance  \\\n",
       "0  ('Albuquerque, NM', 'Dallas/Fort Worth, TX')     569.0   \n",
       "1               ('Albany, NY', 'Charlotte, NC')     646.0   \n",
       "2    ('Anchorage, AK', 'Dallas/Fort Worth, TX')    3043.0   \n",
       "3          ('Anchorage, AK', 'Los Angeles, CA')    2345.0   \n",
       "4              ('Anchorage, AK', 'Phoenix, AZ')    2552.0   \n",
       "\n",
       "   Average Delay (min)  Variance of Delays (min)  Overall  Cabin  \\\n",
       "0             6.843891               2874.268092      3.7    2.5   \n",
       "1             0.946154                 26.290526      3.7    2.5   \n",
       "2             5.310345                157.078818      3.7    2.5   \n",
       "3            26.517241              12432.758621      3.7    2.5   \n",
       "4             1.600000                 60.130337      3.7    2.5   \n",
       "\n",
       "   Entertainment Wifi  Food/Beverage  Bang for Buck  \\\n",
       "0            2.0  1.9            2.3            2.4   \n",
       "1            2.0  1.9            2.3            2.4   \n",
       "2            2.0  1.9            2.3            2.4   \n",
       "3            2.0  1.9            2.3            2.4   \n",
       "4            2.0  1.9            2.3            2.4   \n",
       "\n",
       "                                 Topics Extract  \\\n",
       "0  long haul, missed connecting, lie flat seats   \n",
       "1  long haul, missed connecting, lie flat seats   \n",
       "2  long haul, missed connecting, lie flat seats   \n",
       "3  long haul, missed connecting, lie flat seats   \n",
       "4  long haul, missed connecting, lie flat seats   \n",
       "\n",
       "                                                 url  \n",
       "0  <img src=http://crushed.com/wp-content/uploads...  \n",
       "1  <img src=http://crushed.com/wp-content/uploads...  \n",
       "2  <img src=http://crushed.com/wp-content/uploads...  \n",
       "3  <img src=http://crushed.com/wp-content/uploads...  \n",
       "4  <img src=http://crushed.com/wp-content/uploads...  "
      ]
     },
     "execution_count": 78,
     "metadata": {},
     "output_type": "execute_result"
    }
   ],
   "source": [
    "production_df.head()"
   ]
  },
  {
   "cell_type": "code",
   "execution_count": null,
   "metadata": {
    "collapsed": true
   },
   "outputs": [],
   "source": [
    "production_df.ix[0, '']"
   ]
  },
  {
   "cell_type": "code",
   "execution_count": 98,
   "metadata": {
    "collapsed": true
   },
   "outputs": [],
   "source": [
    "production_df.to_csv('prod_df_v5.csv')"
   ]
  },
  {
   "cell_type": "code",
   "execution_count": 59,
   "metadata": {
    "collapsed": false
   },
   "outputs": [
    {
     "data": {
      "text/plain": [
       "('<img src=http://crushed.com/wp-content/uploads/2014/04/american_airlines.png>',\n",
       " 'long haul, missed connecting, lie flat seats')"
      ]
     },
     "execution_count": 59,
     "metadata": {},
     "output_type": "execute_result"
    }
   ],
   "source": [
    "production_df.ix[0, 'for_html']"
   ]
  },
  {
   "cell_type": "code",
   "execution_count": 60,
   "metadata": {
    "collapsed": false
   },
   "outputs": [
    {
     "data": {
      "text/plain": [
       "('<img src=http://crushed.com/wp-content/uploads/2014/04/american_airlines.png>',\n",
       " 'long haul, missed connecting, lie flat seats')"
      ]
     },
     "execution_count": 60,
     "metadata": {},
     "output_type": "execute_result"
    }
   ],
   "source": [
    "production_df.ix[1, 'for_html']"
   ]
  },
  {
   "cell_type": "code",
   "execution_count": 95,
   "metadata": {
    "collapsed": false
   },
   "outputs": [],
   "source": [
    "g = for_extract('jfk', 'sea', 'Overall')"
   ]
  },
  {
   "cell_type": "code",
   "execution_count": 96,
   "metadata": {
    "collapsed": false
   },
   "outputs": [
    {
     "data": {
      "text/plain": [
       "('<img src=http://crushed.com/wp-content/uploads/2014/04/american_airlines.png\"style=width: 80%; height: 80%/\">',\n",
       " 'long haul, missed connecting, lie flat seats')"
      ]
     },
     "execution_count": 96,
     "metadata": {},
     "output_type": "execute_result"
    }
   ],
   "source": [
    "g[0]"
   ]
  },
  {
   "cell_type": "code",
   "execution_count": 99,
   "metadata": {
    "collapsed": false
   },
   "outputs": [
    {
     "data": {
      "text/html": [
       "<div>\n",
       "<table border=\"1\" class=\"dataframe\">\n",
       "  <thead>\n",
       "    <tr style=\"text-align: right;\">\n",
       "      <th></th>\n",
       "      <th>Airline Name</th>\n",
       "      <th>Airports</th>\n",
       "      <th>Cities</th>\n",
       "      <th>Distance</th>\n",
       "      <th>Average Delay (min)</th>\n",
       "      <th>Variance of Delays (min)</th>\n",
       "      <th>Overall</th>\n",
       "      <th>Cabin</th>\n",
       "      <th>Entertainment</th>\n",
       "      <th>Wifi</th>\n",
       "      <th>Food/Beverage</th>\n",
       "      <th>Bang for Buck</th>\n",
       "      <th>Topics Extract</th>\n",
       "      <th>url</th>\n",
       "      <th>for_html</th>\n",
       "    </tr>\n",
       "  </thead>\n",
       "  <tbody>\n",
       "    <tr>\n",
       "      <th>0</th>\n",
       "      <td>American Airlines Inc.</td>\n",
       "      <td>('ABQ', 'DFW')</td>\n",
       "      <td>('Albuquerque, NM', 'Dallas/Fort Worth, TX')</td>\n",
       "      <td>569</td>\n",
       "      <td>6.8</td>\n",
       "      <td>2874.3</td>\n",
       "      <td>3.7</td>\n",
       "      <td>2.5</td>\n",
       "      <td>2.0</td>\n",
       "      <td>1.9</td>\n",
       "      <td>2.3</td>\n",
       "      <td>2.4</td>\n",
       "      <td>long haul, missed connecting, lie flat seats</td>\n",
       "      <td>&lt;img src=http://crushed.com/wp-content/uploads...</td>\n",
       "      <td>(&lt;img src=http://crushed.com/wp-content/upload...</td>\n",
       "    </tr>\n",
       "    <tr>\n",
       "      <th>1</th>\n",
       "      <td>American Airlines Inc.</td>\n",
       "      <td>('ALB', 'CLT')</td>\n",
       "      <td>('Albany, NY', 'Charlotte, NC')</td>\n",
       "      <td>646</td>\n",
       "      <td>0.9</td>\n",
       "      <td>26.3</td>\n",
       "      <td>3.7</td>\n",
       "      <td>2.5</td>\n",
       "      <td>2.0</td>\n",
       "      <td>1.9</td>\n",
       "      <td>2.3</td>\n",
       "      <td>2.4</td>\n",
       "      <td>long haul, missed connecting, lie flat seats</td>\n",
       "      <td>&lt;img src=http://crushed.com/wp-content/uploads...</td>\n",
       "      <td>(&lt;img src=http://crushed.com/wp-content/upload...</td>\n",
       "    </tr>\n",
       "    <tr>\n",
       "      <th>2</th>\n",
       "      <td>American Airlines Inc.</td>\n",
       "      <td>('ANC', 'DFW')</td>\n",
       "      <td>('Anchorage, AK', 'Dallas/Fort Worth, TX')</td>\n",
       "      <td>3043</td>\n",
       "      <td>5.3</td>\n",
       "      <td>157.1</td>\n",
       "      <td>3.7</td>\n",
       "      <td>2.5</td>\n",
       "      <td>2.0</td>\n",
       "      <td>1.9</td>\n",
       "      <td>2.3</td>\n",
       "      <td>2.4</td>\n",
       "      <td>long haul, missed connecting, lie flat seats</td>\n",
       "      <td>&lt;img src=http://crushed.com/wp-content/uploads...</td>\n",
       "      <td>(&lt;img src=http://crushed.com/wp-content/upload...</td>\n",
       "    </tr>\n",
       "    <tr>\n",
       "      <th>3</th>\n",
       "      <td>American Airlines Inc.</td>\n",
       "      <td>('ANC', 'LAX')</td>\n",
       "      <td>('Anchorage, AK', 'Los Angeles, CA')</td>\n",
       "      <td>2345</td>\n",
       "      <td>26.5</td>\n",
       "      <td>12432.8</td>\n",
       "      <td>3.7</td>\n",
       "      <td>2.5</td>\n",
       "      <td>2.0</td>\n",
       "      <td>1.9</td>\n",
       "      <td>2.3</td>\n",
       "      <td>2.4</td>\n",
       "      <td>long haul, missed connecting, lie flat seats</td>\n",
       "      <td>&lt;img src=http://crushed.com/wp-content/uploads...</td>\n",
       "      <td>(&lt;img src=http://crushed.com/wp-content/upload...</td>\n",
       "    </tr>\n",
       "    <tr>\n",
       "      <th>4</th>\n",
       "      <td>American Airlines Inc.</td>\n",
       "      <td>('ANC', 'PHX')</td>\n",
       "      <td>('Anchorage, AK', 'Phoenix, AZ')</td>\n",
       "      <td>2552</td>\n",
       "      <td>1.6</td>\n",
       "      <td>60.1</td>\n",
       "      <td>3.7</td>\n",
       "      <td>2.5</td>\n",
       "      <td>2.0</td>\n",
       "      <td>1.9</td>\n",
       "      <td>2.3</td>\n",
       "      <td>2.4</td>\n",
       "      <td>long haul, missed connecting, lie flat seats</td>\n",
       "      <td>&lt;img src=http://crushed.com/wp-content/uploads...</td>\n",
       "      <td>(&lt;img src=http://crushed.com/wp-content/upload...</td>\n",
       "    </tr>\n",
       "  </tbody>\n",
       "</table>\n",
       "</div>"
      ],
      "text/plain": [
       "             Airline Name        Airports  \\\n",
       "0  American Airlines Inc.  ('ABQ', 'DFW')   \n",
       "1  American Airlines Inc.  ('ALB', 'CLT')   \n",
       "2  American Airlines Inc.  ('ANC', 'DFW')   \n",
       "3  American Airlines Inc.  ('ANC', 'LAX')   \n",
       "4  American Airlines Inc.  ('ANC', 'PHX')   \n",
       "\n",
       "                                         Cities  Distance  \\\n",
       "0  ('Albuquerque, NM', 'Dallas/Fort Worth, TX')       569   \n",
       "1               ('Albany, NY', 'Charlotte, NC')       646   \n",
       "2    ('Anchorage, AK', 'Dallas/Fort Worth, TX')      3043   \n",
       "3          ('Anchorage, AK', 'Los Angeles, CA')      2345   \n",
       "4              ('Anchorage, AK', 'Phoenix, AZ')      2552   \n",
       "\n",
       "   Average Delay (min)  Variance of Delays (min)  Overall  Cabin  \\\n",
       "0                  6.8                    2874.3      3.7    2.5   \n",
       "1                  0.9                      26.3      3.7    2.5   \n",
       "2                  5.3                     157.1      3.7    2.5   \n",
       "3                 26.5                   12432.8      3.7    2.5   \n",
       "4                  1.6                      60.1      3.7    2.5   \n",
       "\n",
       "   Entertainment Wifi  Food/Beverage  Bang for Buck  \\\n",
       "0            2.0  1.9            2.3            2.4   \n",
       "1            2.0  1.9            2.3            2.4   \n",
       "2            2.0  1.9            2.3            2.4   \n",
       "3            2.0  1.9            2.3            2.4   \n",
       "4            2.0  1.9            2.3            2.4   \n",
       "\n",
       "                                 Topics Extract  \\\n",
       "0  long haul, missed connecting, lie flat seats   \n",
       "1  long haul, missed connecting, lie flat seats   \n",
       "2  long haul, missed connecting, lie flat seats   \n",
       "3  long haul, missed connecting, lie flat seats   \n",
       "4  long haul, missed connecting, lie flat seats   \n",
       "\n",
       "                                                 url  \\\n",
       "0  <img src=http://crushed.com/wp-content/uploads...   \n",
       "1  <img src=http://crushed.com/wp-content/uploads...   \n",
       "2  <img src=http://crushed.com/wp-content/uploads...   \n",
       "3  <img src=http://crushed.com/wp-content/uploads...   \n",
       "4  <img src=http://crushed.com/wp-content/uploads...   \n",
       "\n",
       "                                            for_html  \n",
       "0  (<img src=http://crushed.com/wp-content/upload...  \n",
       "1  (<img src=http://crushed.com/wp-content/upload...  \n",
       "2  (<img src=http://crushed.com/wp-content/upload...  \n",
       "3  (<img src=http://crushed.com/wp-content/upload...  \n",
       "4  (<img src=http://crushed.com/wp-content/upload...  "
      ]
     },
     "execution_count": 99,
     "metadata": {},
     "output_type": "execute_result"
    }
   ],
   "source": [
    "production_df.head()"
   ]
  },
  {
   "cell_type": "code",
   "execution_count": null,
   "metadata": {
    "collapsed": true
   },
   "outputs": [],
   "source": []
  }
 ],
 "metadata": {
  "kernelspec": {
   "display_name": "Python 3",
   "language": "python",
   "name": "python3"
  },
  "language_info": {
   "codemirror_mode": {
    "name": "ipython",
    "version": 3
   },
   "file_extension": ".py",
   "mimetype": "text/x-python",
   "name": "python",
   "nbconvert_exporter": "python",
   "pygments_lexer": "ipython3",
   "version": "3.5.1"
  }
 },
 "nbformat": 4,
 "nbformat_minor": 0
}
