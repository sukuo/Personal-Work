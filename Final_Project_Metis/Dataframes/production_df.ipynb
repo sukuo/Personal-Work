{
 "cells": [
  {
   "cell_type": "markdown",
   "metadata": {},
   "source": [
    "##  Create Dataframe for frontend application"
   ]
  },
  {
   "cell_type": "code",
   "execution_count": 1,
   "metadata": {
    "collapsed": true
   },
   "outputs": [],
   "source": [
    "import numpy as np\n",
    "import pandas as pd"
   ]
  },
  {
   "cell_type": "code",
   "execution_count": 2,
   "metadata": {
    "collapsed": false
   },
   "outputs": [],
   "source": [
    "routes_delays = pd.read_csv('routes_delays.csv')\n",
    "ratings = pd.read_csv('ratings_df.csv')"
   ]
  },
  {
   "cell_type": "code",
   "execution_count": 4,
   "metadata": {
    "collapsed": false
   },
   "outputs": [
    {
     "data": {
      "text/plain": [
       "Index(['Unnamed: 0', 'UNIQUE_CARRIER', 'arr_delay_var', 'carrier_delay%',\n",
       "       'cancellation%', 'airline_name', 'airport_routes', 'city_coutes',\n",
       "       'distance', 'average_delay_minutes', 'flight_counts',\n",
       "       'delay_var_minutes'],\n",
       "      dtype='object')"
      ]
     },
     "execution_count": 4,
     "metadata": {},
     "output_type": "execute_result"
    }
   ],
   "source": [
    "routes_delays.columns"
   ]
  },
  {
   "cell_type": "code",
   "execution_count": 6,
   "metadata": {
    "collapsed": false
   },
   "outputs": [],
   "source": [
    "ratings.replace(np.nan, 'NR', inplace=True)"
   ]
  },
  {
   "cell_type": "code",
   "execution_count": 7,
   "metadata": {
    "collapsed": true
   },
   "outputs": [],
   "source": [
    "merged_df = pd.merge(routes_delays, ratings, on='UNIQUE_CARRIER')"
   ]
  },
  {
   "cell_type": "code",
   "execution_count": 9,
   "metadata": {
    "collapsed": false
   },
   "outputs": [],
   "source": [
    "tmp = pd.Series(np.unique(merged_df['UNIQUE_CARRIER']))"
   ]
  },
  {
   "cell_type": "markdown",
   "metadata": {},
   "source": [
    " ## Dictionary of  LDA extracted topics of airline reviews and html's of airline logo images"
   ]
  },
  {
   "cell_type": "code",
   "execution_count": 65,
   "metadata": {
    "collapsed": false
   },
   "outputs": [],
   "source": [
    "tmp_dict = {'AA':'long haul, missed connecting, lie flat seats',\n",
    "           'AS':' friendly, attentive, good service, good food',\n",
    "           'B6':'snacks/drinks,legroom, free wifi, direct tv, helpful',\n",
    "           'DL':'excellent service, missed connection, avoid delta',\n",
    "           'F9':'low cost, staff friendly, pay extra, bags charge',\n",
    "           'HA':'seats uncomfortable, friendly attendants, entertainment',\n",
    "           'NK':'hidden fees, baggage fees, pay extra, worst airline,',\n",
    "           'OO':'highly recommended, efficient check, friendly crew',\n",
    "           'UA':'missed connecting flight, flight entertainment, friendly staff',\n",
    "           'VX':'staff friendly, good quality, food/drinks, entertainment, leather seats',\n",
    "           'WN':'low cost, non stop, crew/staff friendly, early bird, bags fly free'}\n",
    "\n",
    "tmp_img = {'AA':'http://crushed.com/wp-content/uploads/2014/04/american_airlines.png',\n",
    "           'AS':'https://www.nbp.org/nbp/images/business/logo-alaska-airlines.jpg',\n",
    "           'B6':'http://www.jetblue.com/img/sofly/firstfin.gif',\n",
    "           'DL':'https://s-media-cache-ak0.pinimg.com/736x/b4/dc/c8/b4dcc8de9a51e157ab177375e74e43b7.jpg',\n",
    "           'F9':'http://cf.juggle-images.com/matte/white/280x280/frontier-airlines-2-logo-primary.jpg',\n",
    "           'HA':'http://themolokainews.com/wp-content/uploads/2014/08/hawaiian-logo-304.jpg',\n",
    "           'NK':'http://sharing.abc15.com/sharewfts/photo/2010/06/23/spirit_airlines_logo_20100623103407_320_240.JPG',\n",
    "           'OO':'http://www.miniindy.org/assets/Uploads/TeamLogos/skywestLogo.png',\n",
    "           'UA':'http://vertassets.blob.core.windows.net/image/c9736e07/c9736e07-f283-4a9c-b981-a1a80024c665/mm89155logo.jpg',\n",
    "           'VX':'https://www.virginamerica.com/images/vx-icon-152.png',\n",
    "           'WN':'http://www.carryitclearly.com/images/southwest-logo.jpg'}"
   ]
  },
  {
   "cell_type": "code",
   "execution_count": 11,
   "metadata": {
    "collapsed": false
   },
   "outputs": [],
   "source": [
    "#list(enumerate(merged_df.columns))"
   ]
  },
  {
   "cell_type": "code",
   "execution_count": 12,
   "metadata": {
    "collapsed": false
   },
   "outputs": [],
   "source": [
    "merged_df.drop('Unnamed: 0_x', axis=1, inplace=True)\n",
    "merged_df.drop('Unnamed: 0_y', axis=1, inplace=True)"
   ]
  },
  {
   "cell_type": "code",
   "execution_count": 13,
   "metadata": {
    "collapsed": false
   },
   "outputs": [
    {
     "data": {
      "text/plain": [
       "Index(['UNIQUE_CARRIER', 'arr_delay_var', 'carrier_delay%', 'cancellation%',\n",
       "       'airline_name_x', 'airport_routes', 'city_coutes', 'distance',\n",
       "       'average_delay_minutes', 'flight_counts', 'delay_var_minutes',\n",
       "       'airline_name_y', 'cabin', 'entertainment', 'food_bev', 'ground',\n",
       "       'money_value', 'overall', 'recommended', 'review_sentiment', 'wifi'],\n",
       "      dtype='object')"
      ]
     },
     "execution_count": 13,
     "metadata": {},
     "output_type": "execute_result"
    }
   ],
   "source": [
    "merged_df.columns"
   ]
  },
  {
   "cell_type": "code",
   "execution_count": 14,
   "metadata": {
    "collapsed": false
   },
   "outputs": [
    {
     "data": {
      "text/html": [
       "<div>\n",
       "<table border=\"1\" class=\"dataframe\">\n",
       "  <thead>\n",
       "    <tr style=\"text-align: right;\">\n",
       "      <th></th>\n",
       "      <th>UNIQUE_CARRIER</th>\n",
       "      <th>arr_delay_var</th>\n",
       "      <th>carrier_delay%</th>\n",
       "      <th>cancellation%</th>\n",
       "      <th>airline_name_x</th>\n",
       "      <th>airport_routes</th>\n",
       "      <th>city_coutes</th>\n",
       "      <th>distance</th>\n",
       "      <th>average_delay_minutes</th>\n",
       "      <th>flight_counts</th>\n",
       "      <th>...</th>\n",
       "      <th>airline_name_y</th>\n",
       "      <th>cabin</th>\n",
       "      <th>entertainment</th>\n",
       "      <th>food_bev</th>\n",
       "      <th>ground</th>\n",
       "      <th>money_value</th>\n",
       "      <th>overall</th>\n",
       "      <th>recommended</th>\n",
       "      <th>review_sentiment</th>\n",
       "      <th>wifi</th>\n",
       "    </tr>\n",
       "  </thead>\n",
       "  <tbody>\n",
       "    <tr>\n",
       "      <th>0</th>\n",
       "      <td>AA</td>\n",
       "      <td>2226.048309</td>\n",
       "      <td>84.121552</td>\n",
       "      <td>0.850827</td>\n",
       "      <td>American Airlines Inc.</td>\n",
       "      <td>('ABQ', 'DFW')</td>\n",
       "      <td>('Albuquerque, NM', 'Dallas/Fort Worth, TX')</td>\n",
       "      <td>569.0</td>\n",
       "      <td>6.843891</td>\n",
       "      <td>442.0</td>\n",
       "      <td>...</td>\n",
       "      <td>american-airlines</td>\n",
       "      <td>2.5</td>\n",
       "      <td>2.0</td>\n",
       "      <td>2.3</td>\n",
       "      <td>1.9</td>\n",
       "      <td>2.4</td>\n",
       "      <td>3.7</td>\n",
       "      <td>0.3</td>\n",
       "      <td>-0.0</td>\n",
       "      <td>1.9</td>\n",
       "    </tr>\n",
       "    <tr>\n",
       "      <th>1</th>\n",
       "      <td>AA</td>\n",
       "      <td>2226.048309</td>\n",
       "      <td>84.121552</td>\n",
       "      <td>0.850827</td>\n",
       "      <td>American Airlines Inc.</td>\n",
       "      <td>('ALB', 'CLT')</td>\n",
       "      <td>('Albany, NY', 'Charlotte, NC')</td>\n",
       "      <td>646.0</td>\n",
       "      <td>0.946154</td>\n",
       "      <td>260.0</td>\n",
       "      <td>...</td>\n",
       "      <td>american-airlines</td>\n",
       "      <td>2.5</td>\n",
       "      <td>2.0</td>\n",
       "      <td>2.3</td>\n",
       "      <td>1.9</td>\n",
       "      <td>2.4</td>\n",
       "      <td>3.7</td>\n",
       "      <td>0.3</td>\n",
       "      <td>-0.0</td>\n",
       "      <td>1.9</td>\n",
       "    </tr>\n",
       "  </tbody>\n",
       "</table>\n",
       "<p>2 rows × 21 columns</p>\n",
       "</div>"
      ],
      "text/plain": [
       "  UNIQUE_CARRIER  arr_delay_var  carrier_delay%  cancellation%  \\\n",
       "0             AA    2226.048309       84.121552       0.850827   \n",
       "1             AA    2226.048309       84.121552       0.850827   \n",
       "\n",
       "           airline_name_x  airport_routes  \\\n",
       "0  American Airlines Inc.  ('ABQ', 'DFW')   \n",
       "1  American Airlines Inc.  ('ALB', 'CLT')   \n",
       "\n",
       "                                    city_coutes  distance  \\\n",
       "0  ('Albuquerque, NM', 'Dallas/Fort Worth, TX')     569.0   \n",
       "1               ('Albany, NY', 'Charlotte, NC')     646.0   \n",
       "\n",
       "   average_delay_minutes  flight_counts  ...      airline_name_y cabin  \\\n",
       "0               6.843891          442.0  ...   american-airlines   2.5   \n",
       "1               0.946154          260.0  ...   american-airlines   2.5   \n",
       "\n",
       "   entertainment  food_bev  ground  money_value  overall  recommended  \\\n",
       "0            2.0       2.3     1.9          2.4      3.7          0.3   \n",
       "1            2.0       2.3     1.9          2.4      3.7          0.3   \n",
       "\n",
       "   review_sentiment  wifi  \n",
       "0              -0.0   1.9  \n",
       "1              -0.0   1.9  \n",
       "\n",
       "[2 rows x 21 columns]"
      ]
     },
     "execution_count": 14,
     "metadata": {},
     "output_type": "execute_result"
    }
   ],
   "source": [
    "merged_df.head(2)"
   ]
  },
  {
   "cell_type": "code",
   "execution_count": 46,
   "metadata": {
    "collapsed": true
   },
   "outputs": [],
   "source": [
    "def topic(x):\n",
    "    for k, v in tmp_dict.items():\n",
    "        if k == x:\n",
    "            return v\n",
    "    return np.nan"
   ]
  },
  {
   "cell_type": "code",
   "execution_count": 68,
   "metadata": {
    "collapsed": true
   },
   "outputs": [],
   "source": [
    "merged_df['Topics Extract'] = merged_df['UNIQUE_CARRIER'].apply(topic)\n",
    "merged_df['url'] = merged_df['UNIQUE_CARRIER'].apply(lambda x: tmp_img[x] if x in tmp_img.keys() else np.nan)\n",
    "merged_df['url'] = merged_df['url'].apply(lambda x: \"<img src=\" + x + '\"style=width: 80%; height: 80%/\">')"
   ]
  },
  {
   "cell_type": "code",
   "execution_count": 84,
   "metadata": {
    "collapsed": false
   },
   "outputs": [],
   "source": [
    "production_df = merged_df[['airline_name_x', 'airport_routes', 'city_coutes', 'distance', 'average_delay_minutes', \n",
    "                           'delay_var_minutes', 'overall', 'cabin', 'entertainment','wifi', 'food_bev', \n",
    "                           'money_value', 'Topics Extract', 'url']]\n",
    "\n",
    "production_df.columns = ['Airline Name', 'Airports', 'Cities', 'Distance', 'Average Delay (min)', \n",
    "                        'Variance of Delays (min)', 'Overall', 'Cabin', 'Entertainment', 'Wifi', \n",
    "                         'Food/Beverage', 'Bang for Buck', 'Topics Extract', 'url']\n",
    "\n",
    "production_df['for_html'] = production_df.ix[:, ('url', 'Topics Extract')].apply(tuple, axis=1)\n",
    "\n",
    "production_df['Distance'] = production_df.ix[:,'Distance'].apply(lambda x: int(x))\n",
    "for i in range(4,6):\n",
    "    production_df.ix[:,i] = production_df.ix[:,i].apply(lambda x: round(x,1))"
   ]
  },
  {
   "cell_type": "code",
   "execution_count": 85,
   "metadata": {
    "collapsed": false
   },
   "outputs": [
    {
     "data": {
      "text/html": [
       "<div>\n",
       "<table border=\"1\" class=\"dataframe\">\n",
       "  <thead>\n",
       "    <tr style=\"text-align: right;\">\n",
       "      <th></th>\n",
       "      <th>Airline Name</th>\n",
       "      <th>Airports</th>\n",
       "      <th>Cities</th>\n",
       "      <th>Distance</th>\n",
       "      <th>Average Delay (min)</th>\n",
       "      <th>Variance of Delays (min)</th>\n",
       "      <th>Overall</th>\n",
       "      <th>Cabin</th>\n",
       "      <th>Entertainment</th>\n",
       "      <th>Wifi</th>\n",
       "      <th>Food/Beverage</th>\n",
       "      <th>Bang for Buck</th>\n",
       "      <th>Topics Extract</th>\n",
       "      <th>url</th>\n",
       "    </tr>\n",
       "  </thead>\n",
       "  <tbody>\n",
       "    <tr>\n",
       "      <th>0</th>\n",
       "      <td>American Airlines Inc.</td>\n",
       "      <td>('ABQ', 'DFW')</td>\n",
       "      <td>('Albuquerque, NM', 'Dallas/Fort Worth, TX')</td>\n",
       "      <td>569.0</td>\n",
       "      <td>6.843891</td>\n",
       "      <td>2874.268092</td>\n",
       "      <td>3.7</td>\n",
       "      <td>2.5</td>\n",
       "      <td>2.0</td>\n",
       "      <td>1.9</td>\n",
       "      <td>2.3</td>\n",
       "      <td>2.4</td>\n",
       "      <td>long haul, missed connecting, lie flat seats</td>\n",
       "      <td>&lt;img src=http://crushed.com/wp-content/uploads...</td>\n",
       "    </tr>\n",
       "    <tr>\n",
       "      <th>1</th>\n",
       "      <td>American Airlines Inc.</td>\n",
       "      <td>('ALB', 'CLT')</td>\n",
       "      <td>('Albany, NY', 'Charlotte, NC')</td>\n",
       "      <td>646.0</td>\n",
       "      <td>0.946154</td>\n",
       "      <td>26.290526</td>\n",
       "      <td>3.7</td>\n",
       "      <td>2.5</td>\n",
       "      <td>2.0</td>\n",
       "      <td>1.9</td>\n",
       "      <td>2.3</td>\n",
       "      <td>2.4</td>\n",
       "      <td>long haul, missed connecting, lie flat seats</td>\n",
       "      <td>&lt;img src=http://crushed.com/wp-content/uploads...</td>\n",
       "    </tr>\n",
       "  </tbody>\n",
       "</table>\n",
       "</div>"
      ],
      "text/plain": [
       "             Airline Name        Airports  \\\n",
       "0  American Airlines Inc.  ('ABQ', 'DFW')   \n",
       "1  American Airlines Inc.  ('ALB', 'CLT')   \n",
       "\n",
       "                                         Cities  Distance  \\\n",
       "0  ('Albuquerque, NM', 'Dallas/Fort Worth, TX')     569.0   \n",
       "1               ('Albany, NY', 'Charlotte, NC')     646.0   \n",
       "\n",
       "   Average Delay (min)  Variance of Delays (min)  Overall  Cabin  \\\n",
       "0             6.843891               2874.268092      3.7    2.5   \n",
       "1             0.946154                 26.290526      3.7    2.5   \n",
       "\n",
       "   Entertainment Wifi  Food/Beverage  Bang for Buck  \\\n",
       "0            2.0  1.9            2.3            2.4   \n",
       "1            2.0  1.9            2.3            2.4   \n",
       "\n",
       "                                 Topics Extract  \\\n",
       "0  long haul, missed connecting, lie flat seats   \n",
       "1  long haul, missed connecting, lie flat seats   \n",
       "\n",
       "                                                 url  \n",
       "0  <img src=http://crushed.com/wp-content/uploads...  \n",
       "1  <img src=http://crushed.com/wp-content/uploads...  "
      ]
     },
     "execution_count": 85,
     "metadata": {},
     "output_type": "execute_result"
    }
   ],
   "source": [
    "production_df.head(2)"
   ]
  },
  {
   "cell_type": "markdown",
   "metadata": {},
   "source": [
    "## Functions for backend of application"
   ]
  },
  {
   "cell_type": "code",
   "execution_count": 80,
   "metadata": {
    "collapsed": false
   },
   "outputs": [],
   "source": [
    "def get_airlines(org, dest, sortby):\n",
    "    '''function used to display dataframe containing airlines serving a given route'''\n",
    "    assert len(org), len(dest) == 3\n",
    "    org, dest = org.upper(), dest.upper()\n",
    "    if sortby == 'Average Delay (min)' or sortby == 'Variance of Delays (min)':\n",
    "        return production_df.loc[production_df['Airports'] == str((str(org),str(dest)))].ix[:, (0,4,5,6,7,8,9,10,11,12)].sort_values(str(sortby), ascending=True).reset_index().drop('index', axis=1)\n",
    "    else:\n",
    "        return production_df.loc[production_df['Airports'] == str((str(org),str(dest)))].ix[:, (0,4,5,6,7,8,9,10,11,12)].sort_values(str(sortby), ascending=False).reset_index().drop('index', axis=1)\n",
    "    \n",
    "def origin_city(org, dest):\n",
    "    '''function returns the city of origin'''\n",
    "    org, dest = org.upper(), dest.upper()\n",
    "    return eval(production_df.loc[production_df['Airports'] == str((str(org),str(dest)))].iloc[0,2])[0]\n",
    "\n",
    "def destination_city(org, dest):\n",
    "    '''function returns the city of destination'''\n",
    "    org, dest = org.upper(), dest.upper()\n",
    "    return eval(production_df.loc[production_df['Airports'] == str((str(org),str(dest)))].iloc[0,2])[1]\n",
    "\n",
    "def distance_btw_cities(org, dest):\n",
    "    '''function returns the distance in miles between origin and destination cities'''\n",
    "    org, dest = org.upper(), dest.upper()\n",
    "    return production_df.loc[production_df['Airports'] == str((str(org),str(dest)))].iloc[0,3]\n",
    "\n",
    "def display_dist(org, dest):\n",
    "    '''function returns origin, destination city names and distance between'''\n",
    "    return 'Distance from ' + str(origin_city(org, dest)) + ' to ' + str(destination_city(org, dest)) + ' is ' + str(distance_btw_cities(org, dest)) + ' miles.' \n",
    "\n",
    "# def display_topics(org, dest, sortby):\n",
    "#     df = production_df.loc[production_df['Airports'] == str(('JFK','ORD'))]\\\n",
    "#             .ix[:, (0,4,5,6,7,8,9,10,11,12)].sort_values(str(sortby), ascending=False).reset_index().drop('index', axis=1)\n",
    "#     for i in range(len(df)):\n",
    "#         print(df.ix[i, 'Airline Name']+': '+df.ix[i, 'Topics Extract'])\n",
    "        \n",
    "# def for_extract(org, dest, sortby):\n",
    "#     org, dest = org.upper(), dest.upper()\n",
    "#     return production_df.ix[production_df['Airports'] == str((str(org), str(dest)))].ix[:,14].tolist()\n",
    "\n",
    "def for_extract_img(org, dest, sortby):\n",
    "    '''create list of image html for selected airlines'''\n",
    "    org, dest = org.upper(), dest.upper()\n",
    "    if sortby == 'Average Delay (min)' or sortby == 'Variance of Delays (min)':\n",
    "        return production_df.ix[production_df['Airports'] == str((str(org), str(dest)))].sort_values(str(sortby), ascending=True).ix[:,14].tolist()\n",
    "    else:\n",
    "        return production_df.ix[production_df['Airports'] == str((str(org), str(dest)))].sort_values(str(sortby), ascending=False).ix[:,14].tolist()\n",
    "\n",
    "def for_extract_text(org, dest, sortby):\n",
    "    '''create list of topics modeled from LDA for selected airlines'''\n",
    "    org, dest = org.upper(), dest.upper()\n",
    "    if sortby == 'Average Delay (min)' or sortby == 'Variance of Delays (min)':\n",
    "        return production_df.ix[production_df['Airports'] == str((str(org), str(dest)))].sort_values(str(sortby), ascending=True).ix[:,13].tolist()\n",
    "    else:\n",
    "        return production_df.ix[production_df['Airports'] == str((str(org), str(dest)))].sort_values(str(sortby), ascending=False).ix[:,13].tolist()\n",
    "\n",
    "def html_dict(imgList, extractsList):\n",
    "    '''create list of dictionaries containing image html and LDA extracted text'''\n",
    "    dictList = []\n",
    "    for i, img in enumerate(imgList):\n",
    "        tempDict = { 'img': img, 'text':extractsList[i] }\n",
    "        dictList.append(tempDict)\n",
    "    return dictList"
   ]
  },
  {
   "cell_type": "code",
   "execution_count": 181,
   "metadata": {
    "collapsed": false
   },
   "outputs": [
    {
     "data": {
      "text/html": [
       "<div>\n",
       "<table border=\"1\" class=\"dataframe\">\n",
       "  <thead>\n",
       "    <tr style=\"text-align: right;\">\n",
       "      <th></th>\n",
       "      <th>Airline Name</th>\n",
       "      <th>Average Delay (min)</th>\n",
       "      <th>Variance of Delays (min)</th>\n",
       "      <th>Overall</th>\n",
       "      <th>Cabin</th>\n",
       "      <th>Entertainment</th>\n",
       "      <th>Wifi</th>\n",
       "      <th>Food/Beverage</th>\n",
       "      <th>Bang for Buck</th>\n",
       "      <th>Topics Extract</th>\n",
       "    </tr>\n",
       "  </thead>\n",
       "  <tbody>\n",
       "    <tr>\n",
       "      <th>0</th>\n",
       "      <td>American Airlines Inc.</td>\n",
       "      <td>5.8</td>\n",
       "      <td>1072.1</td>\n",
       "      <td>3.7</td>\n",
       "      <td>2.5</td>\n",
       "      <td>2.0</td>\n",
       "      <td>1.9</td>\n",
       "      <td>2.3</td>\n",
       "      <td>2.4</td>\n",
       "      <td>flight cancelled, long haul, flight delayed, m...</td>\n",
       "    </tr>\n",
       "    <tr>\n",
       "      <th>1</th>\n",
       "      <td>United Air Lines Inc.</td>\n",
       "      <td>5.1</td>\n",
       "      <td>754.4</td>\n",
       "      <td>3.4</td>\n",
       "      <td>2.4</td>\n",
       "      <td>2.1</td>\n",
       "      <td>1.9</td>\n",
       "      <td>2.0</td>\n",
       "      <td>2.2</td>\n",
       "      <td>flight delayed, missed connecting flight, canc...</td>\n",
       "    </tr>\n",
       "  </tbody>\n",
       "</table>\n",
       "</div>"
      ],
      "text/plain": [
       "             Airline Name  Average Delay (min)  Variance of Delays (min)  \\\n",
       "0  American Airlines Inc.                  5.8                    1072.1   \n",
       "1   United Air Lines Inc.                  5.1                     754.4   \n",
       "\n",
       "   Overall  Cabin  Entertainment Wifi  Food/Beverage  Bang for Buck  \\\n",
       "0      3.7    2.5            2.0  1.9            2.3            2.4   \n",
       "1      3.4    2.4            2.1  1.9            2.0            2.2   \n",
       "\n",
       "                                      Topics Extract  \n",
       "0  flight cancelled, long haul, flight delayed, m...  \n",
       "1  flight delayed, missed connecting flight, canc...  "
      ]
     },
     "execution_count": 181,
     "metadata": {},
     "output_type": "execute_result"
    }
   ],
   "source": [
    "# Testing the function\n",
    "get_airlines('ewr', 'ord', 'Overall')"
   ]
  },
  {
   "cell_type": "code",
   "execution_count": 193,
   "metadata": {
    "collapsed": false
   },
   "outputs": [
    {
     "data": {
      "text/plain": [
       "'JetBlue Airways: snacks, drinks, plenty legroom, free wifi, cancelled, delayed flight, customer service, direct tv, seats comfortable, great, helpful'"
      ]
     },
     "execution_count": 193,
     "metadata": {},
     "output_type": "execute_result"
    }
   ],
   "source": [
    "#Testing display topics function\n",
    "display_topics('jfk', 'ord', 'Cabin')"
   ]
  },
  {
   "cell_type": "code",
   "execution_count": 200,
   "metadata": {
    "collapsed": false
   },
   "outputs": [
    {
     "data": {
      "text/html": [
       "<div>\n",
       "<table border=\"1\" class=\"dataframe\">\n",
       "  <thead>\n",
       "    <tr style=\"text-align: right;\">\n",
       "      <th></th>\n",
       "      <th>Airline Name</th>\n",
       "      <th>Average Delay (min)</th>\n",
       "      <th>Variance of Delays (min)</th>\n",
       "      <th>Overall</th>\n",
       "      <th>Cabin</th>\n",
       "      <th>Entertainment</th>\n",
       "      <th>Wifi</th>\n",
       "      <th>Food/Beverage</th>\n",
       "      <th>Bang for Buck</th>\n",
       "      <th>Topics Extract</th>\n",
       "    </tr>\n",
       "  </thead>\n",
       "  <tbody>\n",
       "    <tr>\n",
       "      <th>0</th>\n",
       "      <td>Spirit Air Lines</td>\n",
       "      <td>0.6</td>\n",
       "      <td>14.5</td>\n",
       "      <td>2.9</td>\n",
       "      <td>2.1</td>\n",
       "      <td>1.2</td>\n",
       "      <td>1</td>\n",
       "      <td>1.4</td>\n",
       "      <td>2.0</td>\n",
       "      <td>hidden fees, baggage fees, pay extra, delayed,...</td>\n",
       "    </tr>\n",
       "    <tr>\n",
       "      <th>1</th>\n",
       "      <td>SkyWest Airlines Inc.</td>\n",
       "      <td>0.5</td>\n",
       "      <td>29.1</td>\n",
       "      <td>7.2</td>\n",
       "      <td>3.2</td>\n",
       "      <td>0.8</td>\n",
       "      <td>NR</td>\n",
       "      <td>0.8</td>\n",
       "      <td>2.6</td>\n",
       "      <td>efficient, highly recommended, efficient check...</td>\n",
       "    </tr>\n",
       "    <tr>\n",
       "      <th>2</th>\n",
       "      <td>United Air Lines Inc.</td>\n",
       "      <td>1.4</td>\n",
       "      <td>90.7</td>\n",
       "      <td>3.4</td>\n",
       "      <td>2.4</td>\n",
       "      <td>2.1</td>\n",
       "      <td>1.9</td>\n",
       "      <td>2.0</td>\n",
       "      <td>2.2</td>\n",
       "      <td>flight delayed, missed connecting flight, canc...</td>\n",
       "    </tr>\n",
       "    <tr>\n",
       "      <th>3</th>\n",
       "      <td>American Airlines Inc.</td>\n",
       "      <td>2.1</td>\n",
       "      <td>228.0</td>\n",
       "      <td>3.7</td>\n",
       "      <td>2.5</td>\n",
       "      <td>2.0</td>\n",
       "      <td>1.9</td>\n",
       "      <td>2.3</td>\n",
       "      <td>2.4</td>\n",
       "      <td>flight cancelled, long haul, flight delayed, m...</td>\n",
       "    </tr>\n",
       "  </tbody>\n",
       "</table>\n",
       "</div>"
      ],
      "text/plain": [
       "             Airline Name  Average Delay (min)  Variance of Delays (min)  \\\n",
       "0        Spirit Air Lines                  0.6                      14.5   \n",
       "1   SkyWest Airlines Inc.                  0.5                      29.1   \n",
       "2   United Air Lines Inc.                  1.4                      90.7   \n",
       "3  American Airlines Inc.                  2.1                     228.0   \n",
       "\n",
       "   Overall  Cabin  Entertainment Wifi  Food/Beverage  Bang for Buck  \\\n",
       "0      2.9    2.1            1.2    1            1.4            2.0   \n",
       "1      7.2    3.2            0.8   NR            0.8            2.6   \n",
       "2      3.4    2.4            2.1  1.9            2.0            2.2   \n",
       "3      3.7    2.5            2.0  1.9            2.3            2.4   \n",
       "\n",
       "                                      Topics Extract  \n",
       "0  hidden fees, baggage fees, pay extra, delayed,...  \n",
       "1  efficient, highly recommended, efficient check...  \n",
       "2  flight delayed, missed connecting flight, canc...  \n",
       "3  flight cancelled, long haul, flight delayed, m...  "
      ]
     },
     "execution_count": 200,
     "metadata": {},
     "output_type": "execute_result"
    }
   ],
   "source": [
    "#Testing get airlines function\n",
    "get_airlines('LGA', 'ORD', 'Variance of Delays (min)')"
   ]
  },
  {
   "cell_type": "code",
   "execution_count": 98,
   "metadata": {
    "collapsed": true
   },
   "outputs": [],
   "source": [
    "production_df.to_csv('prod_df_v5.csv')"
   ]
  }
 ],
 "metadata": {
  "kernelspec": {
   "display_name": "Python 3",
   "language": "python",
   "name": "python3"
  },
  "language_info": {
   "codemirror_mode": {
    "name": "ipython",
    "version": 3
   },
   "file_extension": ".py",
   "mimetype": "text/x-python",
   "name": "python",
   "nbconvert_exporter": "python",
   "pygments_lexer": "ipython3",
   "version": "3.5.1"
  }
 },
 "nbformat": 4,
 "nbformat_minor": 0
}
