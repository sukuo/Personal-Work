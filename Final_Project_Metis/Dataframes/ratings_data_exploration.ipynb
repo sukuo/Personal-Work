{
 "cells": [
  {
   "cell_type": "markdown",
   "metadata": {},
   "source": [
    "## Import and summarize ratings data"
   ]
  },
  {
   "cell_type": "code",
   "execution_count": 1,
   "metadata": {
    "collapsed": false
   },
   "outputs": [],
   "source": [
    "import pandas as pd\n",
    "from collections import Counter\n",
    "import numpy as np\n",
    "from matplotlib import pyplot as plt\n",
    "from nltk.sentiment.vader import SentimentIntensityAnalyzer\n",
    "from sklearn.feature_extraction.text import CountVectorizer\n",
    "from sklearn.decomposition import LatentDirichletAllocation\n",
    "from sklearn.cluster import KMeans\n",
    "from sklearn.decomposition import PCA\n",
    "from sklearn.decomposition import TruncatedSVD\n",
    "import re\n",
    "%matplotlib inline"
   ]
  },
  {
   "cell_type": "code",
   "execution_count": 3,
   "metadata": {
    "collapsed": false
   },
   "outputs": [],
   "source": [
    "airlines = pd.read_csv('airline_reviews.csv')\n",
    "airports = pd.read_csv('airport_reviews.csv')\n",
    "carrier_lookup = pd.read_csv('L_UNIQUE_CARRIERS.csv')"
   ]
  },
  {
   "cell_type": "code",
   "execution_count": 4,
   "metadata": {
    "collapsed": false,
    "scrolled": true
   },
   "outputs": [
    {
     "data": {
      "text/plain": [
       "Index(['Unnamed: 0', 'airline_name', 'link', 'title', 'author',\n",
       "       'author_country', 'date', 'content', 'aircraft', 'type_traveller',\n",
       "       'cabin_flown', 'route', 'overall_rating', 'seat_comfort_rating',\n",
       "       'cabin_staff_rating', 'food_beverages_rating',\n",
       "       'inflight_entertainment_rating', 'ground_service_rating',\n",
       "       'wifi_connectivity_rating', 'value_money_rating', 'recommended'],\n",
       "      dtype='object')"
      ]
     },
     "execution_count": 4,
     "metadata": {},
     "output_type": "execute_result"
    }
   ],
   "source": [
    "airlines.columns"
   ]
  },
  {
   "cell_type": "code",
   "execution_count": 5,
   "metadata": {
    "collapsed": false
   },
   "outputs": [],
   "source": [
    "carrier_lookup.columns = ['UNIQUE_CARRIER', 'airline']"
   ]
  },
  {
   "cell_type": "code",
   "execution_count": 5,
   "metadata": {
    "collapsed": false
   },
   "outputs": [
    {
     "data": {
      "text/html": [
       "<div>\n",
       "<table border=\"1\" class=\"dataframe\">\n",
       "  <thead>\n",
       "    <tr style=\"text-align: right;\">\n",
       "      <th></th>\n",
       "      <th>Unnamed: 0</th>\n",
       "      <th>airline_name</th>\n",
       "      <th>link</th>\n",
       "      <th>title</th>\n",
       "      <th>author</th>\n",
       "      <th>author_country</th>\n",
       "      <th>date</th>\n",
       "      <th>content</th>\n",
       "      <th>aircraft</th>\n",
       "      <th>type_traveller</th>\n",
       "      <th>...</th>\n",
       "      <th>route</th>\n",
       "      <th>overall_rating</th>\n",
       "      <th>seat_comfort_rating</th>\n",
       "      <th>cabin_staff_rating</th>\n",
       "      <th>food_beverages_rating</th>\n",
       "      <th>inflight_entertainment_rating</th>\n",
       "      <th>ground_service_rating</th>\n",
       "      <th>wifi_connectivity_rating</th>\n",
       "      <th>value_money_rating</th>\n",
       "      <th>recommended</th>\n",
       "    </tr>\n",
       "  </thead>\n",
       "  <tbody>\n",
       "    <tr>\n",
       "      <th>0</th>\n",
       "      <td>0</td>\n",
       "      <td>adria-airways</td>\n",
       "      <td>/airline-reviews/adria-airways</td>\n",
       "      <td>Adria Airways customer review</td>\n",
       "      <td>D Ito</td>\n",
       "      <td>Germany</td>\n",
       "      <td>2015-04-10</td>\n",
       "      <td>Outbound flight FRA/PRN A319. 2 hours 10 min f...</td>\n",
       "      <td>NaN</td>\n",
       "      <td>NaN</td>\n",
       "      <td>...</td>\n",
       "      <td>NaN</td>\n",
       "      <td>7.0</td>\n",
       "      <td>4.0</td>\n",
       "      <td>4.0</td>\n",
       "      <td>4.0</td>\n",
       "      <td>0.0</td>\n",
       "      <td>NaN</td>\n",
       "      <td>NaN</td>\n",
       "      <td>4.0</td>\n",
       "      <td>1</td>\n",
       "    </tr>\n",
       "    <tr>\n",
       "      <th>1</th>\n",
       "      <td>1</td>\n",
       "      <td>adria-airways</td>\n",
       "      <td>/airline-reviews/adria-airways</td>\n",
       "      <td>Adria Airways customer review</td>\n",
       "      <td>Ron Kuhlmann</td>\n",
       "      <td>United States</td>\n",
       "      <td>2015-01-05</td>\n",
       "      <td>Two short hops ZRH-LJU and LJU-VIE. Very fast ...</td>\n",
       "      <td>NaN</td>\n",
       "      <td>NaN</td>\n",
       "      <td>...</td>\n",
       "      <td>NaN</td>\n",
       "      <td>10.0</td>\n",
       "      <td>4.0</td>\n",
       "      <td>5.0</td>\n",
       "      <td>4.0</td>\n",
       "      <td>1.0</td>\n",
       "      <td>NaN</td>\n",
       "      <td>NaN</td>\n",
       "      <td>5.0</td>\n",
       "      <td>1</td>\n",
       "    </tr>\n",
       "  </tbody>\n",
       "</table>\n",
       "<p>2 rows × 21 columns</p>\n",
       "</div>"
      ],
      "text/plain": [
       "   Unnamed: 0   airline_name                            link  \\\n",
       "0           0  adria-airways  /airline-reviews/adria-airways   \n",
       "1           1  adria-airways  /airline-reviews/adria-airways   \n",
       "\n",
       "                           title        author author_country        date  \\\n",
       "0  Adria Airways customer review         D Ito        Germany  2015-04-10   \n",
       "1  Adria Airways customer review  Ron Kuhlmann  United States  2015-01-05   \n",
       "\n",
       "                                             content aircraft type_traveller  \\\n",
       "0  Outbound flight FRA/PRN A319. 2 hours 10 min f...      NaN            NaN   \n",
       "1  Two short hops ZRH-LJU and LJU-VIE. Very fast ...      NaN            NaN   \n",
       "\n",
       "      ...      route overall_rating  seat_comfort_rating  cabin_staff_rating  \\\n",
       "0     ...        NaN            7.0                  4.0                 4.0   \n",
       "1     ...        NaN           10.0                  4.0                 5.0   \n",
       "\n",
       "   food_beverages_rating  inflight_entertainment_rating  \\\n",
       "0                    4.0                            0.0   \n",
       "1                    4.0                            1.0   \n",
       "\n",
       "   ground_service_rating  wifi_connectivity_rating  value_money_rating  \\\n",
       "0                    NaN                       NaN                 4.0   \n",
       "1                    NaN                       NaN                 5.0   \n",
       "\n",
       "   recommended  \n",
       "0            1  \n",
       "1            1  \n",
       "\n",
       "[2 rows x 21 columns]"
      ]
     },
     "execution_count": 5,
     "metadata": {},
     "output_type": "execute_result"
    }
   ],
   "source": [
    "airlines.head(2)"
   ]
  },
  {
   "cell_type": "markdown",
   "metadata": {},
   "source": [
    "## Make dataframes merge-able"
   ]
  },
  {
   "cell_type": "code",
   "execution_count": 8,
   "metadata": {
    "collapsed": true
   },
   "outputs": [],
   "source": [
    "airline_dict = {'AA':'american-airlines', 'AS':'alaska-airlines', 'B6':'jetblue-airways', 'DL':'delta-air-lines',\n",
    "               'F9':'frontier-airlines', 'HA':'hawaiian-airlines', 'NK':'spirit-airlines', 'OO':'skywest-airlines',\n",
    "               'UA':'united-airlines', 'VX':'virgin-america', 'WN':'southwest-airlines'}"
   ]
  },
  {
   "cell_type": "code",
   "execution_count": 9,
   "metadata": {
    "collapsed": false
   },
   "outputs": [],
   "source": [
    "airline_names = []\n",
    "for k, v in airline_dict.items():\n",
    "    airline_names.append(v)"
   ]
  },
  {
   "cell_type": "code",
   "execution_count": 10,
   "metadata": {
    "collapsed": true
   },
   "outputs": [],
   "source": [
    "def airline_key(x):\n",
    "    for k, v in airline_dict.items():\n",
    "        if x == v:\n",
    "            return k\n",
    "    return None\n",
    "\n",
    "sid = SentimentIntensityAnalyzer()"
   ]
  },
  {
   "cell_type": "code",
   "execution_count": 11,
   "metadata": {
    "collapsed": false
   },
   "outputs": [
    {
     "name": "stderr",
     "output_type": "stream",
     "text": [
      "/Users/sunkuo/anaconda/lib/python3.5/site-packages/ipykernel/__main__.py:2: SettingWithCopyWarning: \n",
      "A value is trying to be set on a copy of a slice from a DataFrame.\n",
      "Try using .loc[row_indexer,col_indexer] = value instead\n",
      "\n",
      "See the caveats in the documentation: http://pandas.pydata.org/pandas-docs/stable/indexing.html#indexing-view-versus-copy\n",
      "  from ipykernel import kernelapp as app\n"
     ]
    }
   ],
   "source": [
    "big_12 = airlines.loc[airlines['airline_name'].isin(airline_names)]\n",
    "big_12['UNIQUE_CARRIER'] = big_12['airline_name'].apply(airline_key)"
   ]
  },
  {
   "cell_type": "code",
   "execution_count": 12,
   "metadata": {
    "collapsed": false
   },
   "outputs": [
    {
     "name": "stderr",
     "output_type": "stream",
     "text": [
      "/Users/sunkuo/anaconda/lib/python3.5/site-packages/ipykernel/__main__.py:1: SettingWithCopyWarning: \n",
      "A value is trying to be set on a copy of a slice from a DataFrame.\n",
      "Try using .loc[row_indexer,col_indexer] = value instead\n",
      "\n",
      "See the caveats in the documentation: http://pandas.pydata.org/pandas-docs/stable/indexing.html#indexing-view-versus-copy\n",
      "  if __name__ == '__main__':\n"
     ]
    }
   ],
   "source": [
    "big_12['content'] = big_12.loc[:,('content')].apply(lambda x: x.lower()).apply(lambda x: re.sub('[^A-Za-z]+', ' ', x))"
   ]
  },
  {
   "cell_type": "code",
   "execution_count": 13,
   "metadata": {
    "collapsed": false
   },
   "outputs": [
    {
     "data": {
      "text/plain": [
       "spirit-airlines       990\n",
       "united-airlines       840\n",
       "american-airlines     612\n",
       "delta-air-lines       466\n",
       "frontier-airlines     417\n",
       "southwest-airlines    379\n",
       "jetblue-airways       237\n",
       "alaska-airlines       236\n",
       "hawaiian-airlines     234\n",
       "virgin-america        225\n",
       "skywest-airlines       35\n",
       "Name: airline_name, dtype: int64"
      ]
     },
     "execution_count": 13,
     "metadata": {},
     "output_type": "execute_result"
    }
   ],
   "source": [
    "big_12['airline_name'].value_counts()"
   ]
  },
  {
   "cell_type": "code",
   "execution_count": 8,
   "metadata": {
    "collapsed": false
   },
   "outputs": [],
   "source": [
    "#big_12[big_12['airline_name']=='delta-air-lines']"
   ]
  },
  {
   "cell_type": "markdown",
   "metadata": {},
   "source": [
    "## LDA Topic Modelling"
   ]
  },
  {
   "cell_type": "code",
   "execution_count": 14,
   "metadata": {
    "collapsed": false
   },
   "outputs": [],
   "source": [
    "spirit = big_12.loc[big_12['airline_name']=='spirit-airlines','content']\n",
    "united = big_12.loc[big_12['airline_name']=='united-airlines','content']\n",
    "american = big_12.loc[big_12['airline_name']=='american-airlines','content']\n",
    "delta = big_12.loc[big_12['airline_name']=='delta-air-lines','content']\n",
    "frontier = big_12.loc[big_12['airline_name']=='frontier-airlines','content']\n",
    "southwest = big_12.loc[big_12['airline_name']=='southwest-airlines','content']\n",
    "jetblue = big_12.loc[big_12['airline_name']=='jetblue-airways','content']\n",
    "alaska = big_12.loc[big_12['airline_name']=='alaska-airlines','content']\n",
    "hawaiian = big_12.loc[big_12['airline_name']=='hawaiian-airlines','content']\n",
    "virgin = big_12.loc[big_12['airline_name']=='virgin-america','content']\n",
    "skywest = big_12.loc[big_12['airline_name']=='skywest-airlines','content']"
   ]
  },
  {
   "cell_type": "code",
   "execution_count": 15,
   "metadata": {
    "collapsed": true
   },
   "outputs": [],
   "source": [
    "def print_top_words(model, feature_names, n_top_words):\n",
    "    for topic_idx, topic in enumerate(model.components_):\n",
    "        print(\"Topic {0}:\".format(topic_idx))\n",
    "        print(\" \".join([feature_names[i]\n",
    "            for i in topic.argsort()[:-n_top_words:-1]]))\n",
    "    print()"
   ]
  },
  {
   "cell_type": "code",
   "execution_count": 16,
   "metadata": {
    "collapsed": true
   },
   "outputs": [],
   "source": [
    "n_samples = 120\n",
    "n_features = 120\n",
    "n_topics = 4\n",
    "n_top_words = 20"
   ]
  },
  {
   "cell_type": "code",
   "execution_count": 17,
   "metadata": {
    "collapsed": true
   },
   "outputs": [],
   "source": [
    "tf_vectorizer = CountVectorizer(max_df=0.70, min_df=2, max_features=n_features,\n",
    "                                stop_words='english', ngram_range=(2,3))\n",
    "\n",
    "#tf = tf_vectorizer.fit_transform(data_samples)\n",
    "#virgin_tf = tf_vectorizer.fit_transform(virgin)"
   ]
  },
  {
   "cell_type": "code",
   "execution_count": 170,
   "metadata": {
    "collapsed": false
   },
   "outputs": [],
   "source": [
    "#spirit_tf = tf_vectorizer.fit_transform(spirit)\n",
    "#united_tf = tf_vectorizer.fit_transform(united)\n",
    "#american_tf = tf_vectorizer.fit_transform(american)\n",
    "#delta_tf = tf_vectorizer.fit_transform(delta)\n",
    "#frontier_tf = tf_vectorizer.fit_transform(frontier)\n",
    "#southwest_tf = tf_vectorizer.fit_transform(southwest)\n",
    "#jetblue_tf = tf_vectorizer.fit_transform(jetblue)\n",
    "#alaska_tf = tf_vectorizer.fit_transform(alaska)\n",
    "#hawaiian_tf = tf_vectorizer.fit_transform(hawaiian)\n",
    "#virgin_tf = tf_vectorizer.fit_transform(virgin)\n",
    "skywest_tf = tf_vectorizer.fit_transform(skywest)"
   ]
  },
  {
   "cell_type": "code",
   "execution_count": 171,
   "metadata": {
    "collapsed": false
   },
   "outputs": [
    {
     "data": {
      "text/plain": [
       "120"
      ]
     },
     "execution_count": 171,
     "metadata": {},
     "output_type": "execute_result"
    }
   ],
   "source": [
    "len(tf_feature_names)"
   ]
  },
  {
   "cell_type": "code",
   "execution_count": 172,
   "metadata": {
    "collapsed": true
   },
   "outputs": [],
   "source": [
    "lda = LatentDirichletAllocation(n_topics=n_topics, max_iter=80,\n",
    "                                learning_method='online', learning_offset=50.,\n",
    "                                random_state=1111)"
   ]
  },
  {
   "cell_type": "code",
   "execution_count": 173,
   "metadata": {
    "collapsed": false
   },
   "outputs": [
    {
     "data": {
      "text/plain": [
       "LatentDirichletAllocation(batch_size=128, doc_topic_prior=None,\n",
       "             evaluate_every=-1, learning_decay=0.7,\n",
       "             learning_method='online', learning_offset=50.0,\n",
       "             max_doc_update_iter=100, max_iter=80, mean_change_tol=0.001,\n",
       "             n_jobs=1, n_topics=4, perp_tol=0.1, random_state=1111,\n",
       "             topic_word_prior=None, total_samples=1000000.0, verbose=0)"
      ]
     },
     "execution_count": 173,
     "metadata": {},
     "output_type": "execute_result"
    }
   ],
   "source": [
    "lda.fit(skywest_tf)"
   ]
  },
  {
   "cell_type": "code",
   "execution_count": 174,
   "metadata": {
    "collapsed": false
   },
   "outputs": [
    {
     "data": {
      "text/plain": [
       "55"
      ]
     },
     "execution_count": 174,
     "metadata": {},
     "output_type": "execute_result"
    }
   ],
   "source": [
    "tf_feature_names = tf_vectorizer.get_feature_names()\n",
    "len(tf_feature_names)"
   ]
  },
  {
   "cell_type": "code",
   "execution_count": 175,
   "metadata": {
    "collapsed": false
   },
   "outputs": [
    {
     "name": "stdout",
     "output_type": "stream",
     "text": [
      "Topic 0:\n",
      "delta connection skywest delta connection skywest delta cabin staff quick efficient planes flight crew good highly recommend good flight quick efficient check recommend skywest nearly hrs ground staff flight crew boarding pass flight check efficient check ahead schedule min flight\n",
      "Topic 1:\n",
      "cabin crew friendly crew efficient friendly seat pitch morning flight crew good breakfast served tea coffee drink beer flight attendant ground staff flight check exit row efficient check ahead schedule excellent service quick efficient quick efficient check planes flight\n",
      "Topic 2:\n",
      "cabin crew boarding pass crew polite easy going small snack fly skywest arrived early flight time flights flight skywest does flown skywest flight comfortable recommend flying water served flight attendant western australia nearly hrs airline fly exit row\n",
      "Topic 3:\n",
      "flight attendants leg room comfortable flight min flight operated skywest check great baggage allowance time flight flight took western australia say worst skywest airline perth albany recommend flying airline fly highly recommend recommend skywest flights flight skywest does\n",
      "\n"
     ]
    }
   ],
   "source": [
    "print_top_words(lda, tf_feature_names,n_top_words)"
   ]
  },
  {
   "cell_type": "markdown",
   "metadata": {},
   "source": [
    "## Apply Sentiment Analysis"
   ]
  },
  {
   "cell_type": "code",
   "execution_count": 27,
   "metadata": {
    "collapsed": false
   },
   "outputs": [
    {
     "name": "stderr",
     "output_type": "stream",
     "text": [
      "/Users/sunkuo/anaconda/lib/python3.5/site-packages/ipykernel/__main__.py:1: SettingWithCopyWarning: \n",
      "A value is trying to be set on a copy of a slice from a DataFrame.\n",
      "Try using .loc[row_indexer,col_indexer] = value instead\n",
      "\n",
      "See the caveats in the documentation: http://pandas.pydata.org/pandas-docs/stable/indexing.html#indexing-view-versus-copy\n",
      "  if __name__ == '__main__':\n"
     ]
    }
   ],
   "source": [
    "big_12['vader_sentiment'] = big_12['content'].apply(lambda x: sid.polarity_scores(x))"
   ]
  },
  {
   "cell_type": "code",
   "execution_count": 28,
   "metadata": {
    "collapsed": false
   },
   "outputs": [
    {
     "name": "stderr",
     "output_type": "stream",
     "text": [
      "/Users/sunkuo/anaconda/lib/python3.5/site-packages/ipykernel/__main__.py:1: SettingWithCopyWarning: \n",
      "A value is trying to be set on a copy of a slice from a DataFrame.\n",
      "Try using .loc[row_indexer,col_indexer] = value instead\n",
      "\n",
      "See the caveats in the documentation: http://pandas.pydata.org/pandas-docs/stable/indexing.html#indexing-view-versus-copy\n",
      "  if __name__ == '__main__':\n"
     ]
    }
   ],
   "source": [
    "big_12['compound_sentiment'] = big_12.loc[:,'vader_sentiment'].apply(lambda x: x['compound'])"
   ]
  },
  {
   "cell_type": "code",
   "execution_count": 61,
   "metadata": {
    "collapsed": false
   },
   "outputs": [],
   "source": [
    "#plt.hist(hist)"
   ]
  },
  {
   "cell_type": "code",
   "execution_count": 29,
   "metadata": {
    "collapsed": false
   },
   "outputs": [
    {
     "data": {
      "text/html": [
       "<div>\n",
       "<table border=\"1\" class=\"dataframe\">\n",
       "  <thead>\n",
       "    <tr style=\"text-align: right;\">\n",
       "      <th></th>\n",
       "      <th>Unnamed: 0</th>\n",
       "      <th>airline_name</th>\n",
       "      <th>link</th>\n",
       "      <th>title</th>\n",
       "      <th>author</th>\n",
       "      <th>author_country</th>\n",
       "      <th>date</th>\n",
       "      <th>content</th>\n",
       "      <th>aircraft</th>\n",
       "      <th>type_traveller</th>\n",
       "      <th>...</th>\n",
       "      <th>cabin_staff_rating</th>\n",
       "      <th>food_beverages_rating</th>\n",
       "      <th>inflight_entertainment_rating</th>\n",
       "      <th>ground_service_rating</th>\n",
       "      <th>wifi_connectivity_rating</th>\n",
       "      <th>value_money_rating</th>\n",
       "      <th>recommended</th>\n",
       "      <th>UNIQUE_CARRIER</th>\n",
       "      <th>vader_sentiment</th>\n",
       "      <th>compound_sentiment</th>\n",
       "    </tr>\n",
       "  </thead>\n",
       "  <tbody>\n",
       "    <tr>\n",
       "      <th>5793</th>\n",
       "      <td>5793</td>\n",
       "      <td>alaska-airlines</td>\n",
       "      <td>/airline-reviews/alaska-airlines</td>\n",
       "      <td>Alaska Airlines customer review</td>\n",
       "      <td>Katy Montanez</td>\n",
       "      <td>United States</td>\n",
       "      <td>2015-07-26</td>\n",
       "      <td>checked into alaska airlines at the santa rosa...</td>\n",
       "      <td>NaN</td>\n",
       "      <td>Business</td>\n",
       "      <td>...</td>\n",
       "      <td>1.0</td>\n",
       "      <td>1.0</td>\n",
       "      <td>NaN</td>\n",
       "      <td>1.0</td>\n",
       "      <td>1.0</td>\n",
       "      <td>1.0</td>\n",
       "      <td>0</td>\n",
       "      <td>AS</td>\n",
       "      <td>{'compound': -0.8692, 'pos': 0.072, 'neg': 0.1...</td>\n",
       "      <td>-0.8692</td>\n",
       "    </tr>\n",
       "  </tbody>\n",
       "</table>\n",
       "<p>1 rows × 24 columns</p>\n",
       "</div>"
      ],
      "text/plain": [
       "      Unnamed: 0     airline_name                              link  \\\n",
       "5793        5793  alaska-airlines  /airline-reviews/alaska-airlines   \n",
       "\n",
       "                                title         author author_country  \\\n",
       "5793  Alaska Airlines customer review  Katy Montanez  United States   \n",
       "\n",
       "            date                                            content aircraft  \\\n",
       "5793  2015-07-26  checked into alaska airlines at the santa rosa...      NaN   \n",
       "\n",
       "     type_traveller         ...         cabin_staff_rating  \\\n",
       "5793       Business         ...                        1.0   \n",
       "\n",
       "     food_beverages_rating  inflight_entertainment_rating  \\\n",
       "5793                   1.0                            NaN   \n",
       "\n",
       "      ground_service_rating  wifi_connectivity_rating  value_money_rating  \\\n",
       "5793                    1.0                       1.0                 1.0   \n",
       "\n",
       "      recommended  UNIQUE_CARRIER  \\\n",
       "5793            0              AS   \n",
       "\n",
       "                                        vader_sentiment  compound_sentiment  \n",
       "5793  {'compound': -0.8692, 'pos': 0.072, 'neg': 0.1...             -0.8692  \n",
       "\n",
       "[1 rows x 24 columns]"
      ]
     },
     "execution_count": 29,
     "metadata": {},
     "output_type": "execute_result"
    }
   ],
   "source": [
    "big_12.head(1)"
   ]
  },
  {
   "cell_type": "markdown",
   "metadata": {},
   "source": [
    "## NLP, Clustering, Dimension Reduction and LDA on Reviews"
   ]
  },
  {
   "cell_type": "code",
   "execution_count": 557,
   "metadata": {
    "collapsed": false
   },
   "outputs": [],
   "source": [
    "vectorizer = CountVectorizer(stop_words='english')\n",
    "X = vectorizer.fit_transform(big_12.content) "
   ]
  },
  {
   "cell_type": "code",
   "execution_count": 558,
   "metadata": {
    "collapsed": false
   },
   "outputs": [
    {
     "data": {
      "text/plain": [
       "(4671, 11335)"
      ]
     },
     "execution_count": 558,
     "metadata": {},
     "output_type": "execute_result"
    }
   ],
   "source": [
    "X.shape"
   ]
  },
  {
   "cell_type": "code",
   "execution_count": 559,
   "metadata": {
    "collapsed": true
   },
   "outputs": [],
   "source": [
    "pca = PCA(n_components=40)\n",
    "pca_x = pca.fit_transform(X.toarray())"
   ]
  },
  {
   "cell_type": "code",
   "execution_count": 560,
   "metadata": {
    "collapsed": false
   },
   "outputs": [],
   "source": [
    "tsvd = TruncatedSVD(n_components=40, random_state=1125)\n",
    "tsvd_x = tsvd.fit_transform(X.toarray())"
   ]
  },
  {
   "cell_type": "code",
   "execution_count": 561,
   "metadata": {
    "collapsed": false
   },
   "outputs": [
    {
     "data": {
      "text/plain": [
       "3778"
      ]
     },
     "execution_count": 561,
     "metadata": {},
     "output_type": "execute_result"
    }
   ],
   "source": [
    "int(X.shape[1]/3)"
   ]
  },
  {
   "cell_type": "code",
   "execution_count": 562,
   "metadata": {
    "collapsed": false
   },
   "outputs": [
    {
     "data": {
      "text/plain": [
       "11335"
      ]
     },
     "execution_count": 562,
     "metadata": {},
     "output_type": "execute_result"
    }
   ],
   "source": [
    "X.shape[1]"
   ]
  },
  {
   "cell_type": "code",
   "execution_count": null,
   "metadata": {
    "collapsed": false
   },
   "outputs": [],
   "source": [
    "n_inertia = []\n",
    "\n",
    "for i in range(1,14):\n",
    "    km = KMeans(n_clusters = i, init = 'k-means++', n_init=30)\n",
    "    kmeans_pca_array = km.fit_transform(pca_x)\n",
    "    pca_clusters_array = km.predict(pca_x)\n",
    "    inertia = km.inertia_\n",
    "    n_inertia.append(inertia)"
   ]
  },
  {
   "cell_type": "code",
   "execution_count": 39,
   "metadata": {
    "collapsed": false
   },
   "outputs": [
    {
     "data": {
      "text/plain": [
       "[<matplotlib.lines.Line2D at 0x11ef4d550>]"
      ]
     },
     "execution_count": 39,
     "metadata": {},
     "output_type": "execute_result"
    },
    {
     "data": {
      "image/png": "[encoded data removed]",
      "text/plain": [
       "<matplotlib.figure.Figure at 0x11e9abb70>"
      ]
     },
     "metadata": {},
     "output_type": "display_data"
    }
   ],
   "source": [
    "#Analyze Inertia curve for PCA transformed matrix\n",
    "plt.plot(range(1,14),n_inertia)"
   ]
  },
  {
   "cell_type": "code",
   "execution_count": 35,
   "metadata": {
    "collapsed": true
   },
   "outputs": [],
   "source": [
    "tsvd_inertia = []\n",
    "\n",
    "for i in range(1,14):\n",
    "    km = KMeans(n_clusters = i, init = 'k-means++', n_init=35)\n",
    "    kmeans_tsvd_array = km.fit_transform(tsvd_x)\n",
    "    tsvd_clusters_array = km.predict(tsvd_x)\n",
    "    inertia = km.inertia_\n",
    "    tsvd_inertia.append(inertia)"
   ]
  },
  {
   "cell_type": "code",
   "execution_count": 36,
   "metadata": {
    "collapsed": false
   },
   "outputs": [
    {
     "data": {
      "text/plain": [
       "[<matplotlib.lines.Line2D at 0x11eb8ba90>]"
      ]
     },
     "execution_count": 36,
     "metadata": {},
     "output_type": "execute_result"
    },
    {
     "data": {
      "image/png": "[encoded data removed]",
      "text/plain": [
       "<matplotlib.figure.Figure at 0x11e23a8d0>"
      ]
     },
     "metadata": {},
     "output_type": "display_data"
    }
   ],
   "source": [
    "#Analyze Inertia curve for Truncated SVD transformed matrix\n",
    "plt.plot(range(1,14),tsvd_inertia)"
   ]
  },
  {
   "cell_type": "code",
   "execution_count": 30,
   "metadata": {
    "collapsed": false
   },
   "outputs": [
    {
     "data": {
      "text/plain": [
       "Index(['Unnamed: 0', 'airline_name', 'link', 'title', 'author',\n",
       "       'author_country', 'date', 'content', 'aircraft', 'type_traveller',\n",
       "       'cabin_flown', 'route', 'overall_rating', 'seat_comfort_rating',\n",
       "       'cabin_staff_rating', 'food_beverages_rating',\n",
       "       'inflight_entertainment_rating', 'ground_service_rating',\n",
       "       'wifi_connectivity_rating', 'value_money_rating', 'recommended',\n",
       "       'UNIQUE_CARRIER', 'vader_sentiment', 'compound_sentiment'],\n",
       "      dtype='object')"
      ]
     },
     "execution_count": 30,
     "metadata": {},
     "output_type": "execute_result"
    }
   ],
   "source": [
    "big_12.columns"
   ]
  },
  {
   "cell_type": "code",
   "execution_count": 31,
   "metadata": {
    "collapsed": true
   },
   "outputs": [],
   "source": [
    "rated_on = ['overall_rating', 'seat_comfort_rating',\n",
    "       'cabin_staff_rating', 'food_beverages_rating',\n",
    "       'inflight_entertainment_rating', 'ground_service_rating',\n",
    "       'wifi_connectivity_rating', 'value_money_rating', 'recommended',\n",
    "        'vader_sentiment', 'compound_sentiment']"
   ]
  },
  {
   "cell_type": "code",
   "execution_count": 39,
   "metadata": {
    "collapsed": false
   },
   "outputs": [],
   "source": [
    "traveller_carrier = big_12.groupby(['type_traveller', 'airline_name'])['overall_rating'].mean()\n",
    "traveller_overall = big_12.groupby(['type_traveller'])['overall_rating'].mean()\n",
    "carrier_overall = big_12.groupby(['airline_name'])['overall_rating'].mean()\n",
    "vader = big_12.groupby(['airline_name'])['compound_sentiment'].mean()\n",
    "recommended_overall = big_12.groupby(['airline_name'])['recommended'].mean()\n",
    "cabin = big_12.groupby(['airline_name'])['cabin_staff_rating'].mean()\n",
    "entertainment = big_12.groupby(['airline_name'])['inflight_entertainment_rating'].mean()\n",
    "food_bev = big_12.groupby(['airline_name'])['food_beverages_rating'].mean()\n",
    "ground = big_12.groupby(['airline_name'])['ground_service_rating'].mean()\n",
    "wifi = big_12.groupby(['airline_name'])['wifi_connectivity_rating'].mean()\n",
    "value = big_12.groupby(['airline_name'])['value_money_rating'].mean()"
   ]
  },
  {
   "cell_type": "code",
   "execution_count": 7,
   "metadata": {
    "collapsed": false
   },
   "outputs": [],
   "source": [
    "#traveller_carrier"
   ]
  },
  {
   "cell_type": "code",
   "execution_count": 41,
   "metadata": {
    "collapsed": false
   },
   "outputs": [
    {
     "data": {
      "text/html": [
       "<div>\n",
       "<table border=\"1\" class=\"dataframe\">\n",
       "  <thead>\n",
       "    <tr style=\"text-align: right;\">\n",
       "      <th></th>\n",
       "      <th>Unnamed: 0</th>\n",
       "      <th>airline_name</th>\n",
       "      <th>link</th>\n",
       "      <th>title</th>\n",
       "      <th>author</th>\n",
       "      <th>author_country</th>\n",
       "      <th>date</th>\n",
       "      <th>content</th>\n",
       "      <th>aircraft</th>\n",
       "      <th>type_traveller</th>\n",
       "      <th>...</th>\n",
       "      <th>cabin_staff_rating</th>\n",
       "      <th>food_beverages_rating</th>\n",
       "      <th>inflight_entertainment_rating</th>\n",
       "      <th>ground_service_rating</th>\n",
       "      <th>wifi_connectivity_rating</th>\n",
       "      <th>value_money_rating</th>\n",
       "      <th>recommended</th>\n",
       "      <th>UNIQUE_CARRIER</th>\n",
       "      <th>vader_sentiment</th>\n",
       "      <th>compound_sentiment</th>\n",
       "    </tr>\n",
       "  </thead>\n",
       "  <tbody>\n",
       "    <tr>\n",
       "      <th>39192</th>\n",
       "      <td>39192</td>\n",
       "      <td>virgin-america</td>\n",
       "      <td>/airline-reviews/virgin-america</td>\n",
       "      <td>Virgin America customer review</td>\n",
       "      <td>Streb Lovell</td>\n",
       "      <td>Taiwan</td>\n",
       "      <td>2015-07-12</td>\n",
       "      <td>first time with this airline one way from lax ...</td>\n",
       "      <td>NaN</td>\n",
       "      <td>Solo Leisure</td>\n",
       "      <td>...</td>\n",
       "      <td>5.0</td>\n",
       "      <td>4.0</td>\n",
       "      <td>4.0</td>\n",
       "      <td>5.0</td>\n",
       "      <td>4.0</td>\n",
       "      <td>4.0</td>\n",
       "      <td>1</td>\n",
       "      <td>VX</td>\n",
       "      <td>{'compound': 0.9524, 'pos': 0.335, 'neg': 0.0,...</td>\n",
       "      <td>0.9524</td>\n",
       "    </tr>\n",
       "    <tr>\n",
       "      <th>39197</th>\n",
       "      <td>39197</td>\n",
       "      <td>virgin-america</td>\n",
       "      <td>/airline-reviews/virgin-america</td>\n",
       "      <td>Virgin America customer review</td>\n",
       "      <td>Mylinda Barrick</td>\n",
       "      <td>United States</td>\n",
       "      <td>2015-06-13</td>\n",
       "      <td>i had a wonderful experience flying with virgi...</td>\n",
       "      <td>NaN</td>\n",
       "      <td>Solo Leisure</td>\n",
       "      <td>...</td>\n",
       "      <td>5.0</td>\n",
       "      <td>5.0</td>\n",
       "      <td>5.0</td>\n",
       "      <td>NaN</td>\n",
       "      <td>NaN</td>\n",
       "      <td>5.0</td>\n",
       "      <td>1</td>\n",
       "      <td>VX</td>\n",
       "      <td>{'compound': 0.9606, 'pos': 0.338, 'neg': 0.0,...</td>\n",
       "      <td>0.9606</td>\n",
       "    </tr>\n",
       "  </tbody>\n",
       "</table>\n",
       "<p>2 rows × 24 columns</p>\n",
       "</div>"
      ],
      "text/plain": [
       "       Unnamed: 0    airline_name                             link  \\\n",
       "39192       39192  virgin-america  /airline-reviews/virgin-america   \n",
       "39197       39197  virgin-america  /airline-reviews/virgin-america   \n",
       "\n",
       "                                title           author author_country  \\\n",
       "39192  Virgin America customer review     Streb Lovell         Taiwan   \n",
       "39197  Virgin America customer review  Mylinda Barrick  United States   \n",
       "\n",
       "             date                                            content aircraft  \\\n",
       "39192  2015-07-12  first time with this airline one way from lax ...      NaN   \n",
       "39197  2015-06-13  i had a wonderful experience flying with virgi...      NaN   \n",
       "\n",
       "      type_traveller         ...         cabin_staff_rating  \\\n",
       "39192   Solo Leisure         ...                        5.0   \n",
       "39197   Solo Leisure         ...                        5.0   \n",
       "\n",
       "      food_beverages_rating  inflight_entertainment_rating  \\\n",
       "39192                   4.0                            4.0   \n",
       "39197                   5.0                            5.0   \n",
       "\n",
       "       ground_service_rating  wifi_connectivity_rating  value_money_rating  \\\n",
       "39192                    5.0                       4.0                 4.0   \n",
       "39197                    NaN                       NaN                 5.0   \n",
       "\n",
       "       recommended  UNIQUE_CARRIER  \\\n",
       "39192            1              VX   \n",
       "39197            1              VX   \n",
       "\n",
       "                                         vader_sentiment  compound_sentiment  \n",
       "39192  {'compound': 0.9524, 'pos': 0.335, 'neg': 0.0,...              0.9524  \n",
       "39197  {'compound': 0.9606, 'pos': 0.338, 'neg': 0.0,...              0.9606  \n",
       "\n",
       "[2 rows x 24 columns]"
      ]
     },
     "execution_count": 41,
     "metadata": {},
     "output_type": "execute_result"
    }
   ],
   "source": [
    "leisure = big_12[big_12['type_traveller'] == 'Solo Leisure']\n",
    "leisure.head()\n",
    "leisure[leisure['airline_name'] == 'virgin-america']"
   ]
  },
  {
   "cell_type": "markdown",
   "metadata": {},
   "source": [
    "## Create Dataframe with ratings for each carrier"
   ]
  },
  {
   "cell_type": "code",
   "execution_count": null,
   "metadata": {
    "collapsed": true
   },
   "outputs": [],
   "source": [
    "array1 = [big_12.groupby(['airline_name'])[i] for i in rated_on]"
   ]
  },
  {
   "cell_type": "code",
   "execution_count": 36,
   "metadata": {
    "collapsed": false
   },
   "outputs": [],
   "source": [
    "ratings_df = pd.DataFrame({'overall':carrier_overall,'recommended':recommended_overall,'cabin':cabin,\n",
    "                         'entertainment':entertainment,'food_bev':food_bev,'ground':ground,'wifi':wifi,'money_value':value,\n",
    "                          'review_sentiment':vader})\n",
    "ratings_df.reset_index(level=0, inplace=True)"
   ]
  },
  {
   "cell_type": "code",
   "execution_count": 37,
   "metadata": {
    "collapsed": true
   },
   "outputs": [],
   "source": [
    "ratings_df['UNIQUE_CARRIER'] = ratings_df['airline_name'].apply(airline_key)"
   ]
  },
  {
   "cell_type": "code",
   "execution_count": 82,
   "metadata": {
    "collapsed": false
   },
   "outputs": [
    {
     "data": {
      "text/html": [
       "<div>\n",
       "<table border=\"1\" class=\"dataframe\">\n",
       "  <thead>\n",
       "    <tr style=\"text-align: right;\">\n",
       "      <th></th>\n",
       "      <th>airline_name</th>\n",
       "      <th>cabin</th>\n",
       "      <th>entertainment</th>\n",
       "      <th>food_bev</th>\n",
       "      <th>ground</th>\n",
       "      <th>money_value</th>\n",
       "      <th>overall</th>\n",
       "      <th>recommended</th>\n",
       "      <th>review_sentiment</th>\n",
       "      <th>wifi</th>\n",
       "      <th>UNIQUE_CARRIER</th>\n",
       "    </tr>\n",
       "  </thead>\n",
       "  <tbody>\n",
       "    <tr>\n",
       "      <th>0</th>\n",
       "      <td>alaska-airlines</td>\n",
       "      <td>3.7</td>\n",
       "      <td>1.7</td>\n",
       "      <td>2.9</td>\n",
       "      <td>4.2</td>\n",
       "      <td>3.2</td>\n",
       "      <td>6.9</td>\n",
       "      <td>0.6</td>\n",
       "      <td>0.4</td>\n",
       "      <td>3.7</td>\n",
       "      <td>AS</td>\n",
       "    </tr>\n",
       "    <tr>\n",
       "      <th>1</th>\n",
       "      <td>american-airlines</td>\n",
       "      <td>2.5</td>\n",
       "      <td>2.0</td>\n",
       "      <td>2.3</td>\n",
       "      <td>1.9</td>\n",
       "      <td>2.4</td>\n",
       "      <td>3.7</td>\n",
       "      <td>0.3</td>\n",
       "      <td>-0.0</td>\n",
       "      <td>1.9</td>\n",
       "      <td>AA</td>\n",
       "    </tr>\n",
       "  </tbody>\n",
       "</table>\n",
       "</div>"
      ],
      "text/plain": [
       "        airline_name  cabin  entertainment  food_bev  ground  money_value  \\\n",
       "0    alaska-airlines    3.7            1.7       2.9     4.2          3.2   \n",
       "1  american-airlines    2.5            2.0       2.3     1.9          2.4   \n",
       "\n",
       "   overall  recommended  review_sentiment  wifi UNIQUE_CARRIER  \n",
       "0      6.9          0.6               0.4   3.7             AS  \n",
       "1      3.7          0.3              -0.0   1.9             AA  "
      ]
     },
     "execution_count": 82,
     "metadata": {},
     "output_type": "execute_result"
    }
   ],
   "source": [
    "ratings_df.head(2)"
   ]
  },
  {
   "cell_type": "code",
   "execution_count": 45,
   "metadata": {
    "collapsed": false
   },
   "outputs": [],
   "source": [
    "#Round Ratings to tenth position\n",
    "\n",
    "rate_columns = ratings_df.columns[1:10].tolist()\n",
    "\n",
    "for i in rate_columns:\n",
    "    ratings_df[i] = ratings_df[i].apply(lambda x:round(x,1))"
   ]
  },
  {
   "cell_type": "code",
   "execution_count": 81,
   "metadata": {
    "collapsed": false
   },
   "outputs": [
    {
     "data": {
      "text/html": [
       "<div>\n",
       "<table border=\"1\" class=\"dataframe\">\n",
       "  <thead>\n",
       "    <tr style=\"text-align: right;\">\n",
       "      <th></th>\n",
       "      <th>airline_name</th>\n",
       "      <th>cabin</th>\n",
       "      <th>entertainment</th>\n",
       "      <th>food_bev</th>\n",
       "      <th>ground</th>\n",
       "      <th>money_value</th>\n",
       "      <th>overall</th>\n",
       "      <th>recommended</th>\n",
       "      <th>review_sentiment</th>\n",
       "      <th>wifi</th>\n",
       "      <th>UNIQUE_CARRIER</th>\n",
       "    </tr>\n",
       "  </thead>\n",
       "  <tbody>\n",
       "    <tr>\n",
       "      <th>10</th>\n",
       "      <td>virgin-america</td>\n",
       "      <td>3.5</td>\n",
       "      <td>3.6</td>\n",
       "      <td>2.9</td>\n",
       "      <td>3.5</td>\n",
       "      <td>3.6</td>\n",
       "      <td>7.3</td>\n",
       "      <td>0.7</td>\n",
       "      <td>0.5</td>\n",
       "      <td>2.5</td>\n",
       "      <td>VX</td>\n",
       "    </tr>\n",
       "    <tr>\n",
       "      <th>5</th>\n",
       "      <td>jetblue-airways</td>\n",
       "      <td>3.5</td>\n",
       "      <td>3.4</td>\n",
       "      <td>3.2</td>\n",
       "      <td>3.3</td>\n",
       "      <td>3.5</td>\n",
       "      <td>7.2</td>\n",
       "      <td>0.6</td>\n",
       "      <td>0.4</td>\n",
       "      <td>4.1</td>\n",
       "      <td>B6</td>\n",
       "    </tr>\n",
       "    <tr>\n",
       "      <th>6</th>\n",
       "      <td>skywest-airlines</td>\n",
       "      <td>3.2</td>\n",
       "      <td>0.8</td>\n",
       "      <td>0.8</td>\n",
       "      <td>5.0</td>\n",
       "      <td>2.6</td>\n",
       "      <td>7.2</td>\n",
       "      <td>0.5</td>\n",
       "      <td>0.6</td>\n",
       "      <td>NaN</td>\n",
       "      <td>OO</td>\n",
       "    </tr>\n",
       "    <tr>\n",
       "      <th>0</th>\n",
       "      <td>alaska-airlines</td>\n",
       "      <td>3.7</td>\n",
       "      <td>1.7</td>\n",
       "      <td>2.9</td>\n",
       "      <td>4.2</td>\n",
       "      <td>3.2</td>\n",
       "      <td>6.9</td>\n",
       "      <td>0.6</td>\n",
       "      <td>0.4</td>\n",
       "      <td>3.7</td>\n",
       "      <td>AS</td>\n",
       "    </tr>\n",
       "    <tr>\n",
       "      <th>7</th>\n",
       "      <td>southwest-airlines</td>\n",
       "      <td>3.5</td>\n",
       "      <td>2.5</td>\n",
       "      <td>2.8</td>\n",
       "      <td>2.9</td>\n",
       "      <td>3.4</td>\n",
       "      <td>6.8</td>\n",
       "      <td>0.6</td>\n",
       "      <td>0.3</td>\n",
       "      <td>2.6</td>\n",
       "      <td>WN</td>\n",
       "    </tr>\n",
       "    <tr>\n",
       "      <th>2</th>\n",
       "      <td>delta-air-lines</td>\n",
       "      <td>3.4</td>\n",
       "      <td>2.7</td>\n",
       "      <td>2.9</td>\n",
       "      <td>3.1</td>\n",
       "      <td>3.0</td>\n",
       "      <td>6.2</td>\n",
       "      <td>0.5</td>\n",
       "      <td>0.3</td>\n",
       "      <td>2.8</td>\n",
       "      <td>DL</td>\n",
       "    </tr>\n",
       "    <tr>\n",
       "      <th>4</th>\n",
       "      <td>hawaiian-airlines</td>\n",
       "      <td>3.6</td>\n",
       "      <td>2.4</td>\n",
       "      <td>3.0</td>\n",
       "      <td>3.1</td>\n",
       "      <td>2.9</td>\n",
       "      <td>6.1</td>\n",
       "      <td>0.6</td>\n",
       "      <td>0.3</td>\n",
       "      <td>1.7</td>\n",
       "      <td>HA</td>\n",
       "    </tr>\n",
       "    <tr>\n",
       "      <th>3</th>\n",
       "      <td>frontier-airlines</td>\n",
       "      <td>2.3</td>\n",
       "      <td>1.4</td>\n",
       "      <td>1.3</td>\n",
       "      <td>1.5</td>\n",
       "      <td>2.2</td>\n",
       "      <td>4.1</td>\n",
       "      <td>0.2</td>\n",
       "      <td>-0.1</td>\n",
       "      <td>1.0</td>\n",
       "      <td>F9</td>\n",
       "    </tr>\n",
       "    <tr>\n",
       "      <th>1</th>\n",
       "      <td>american-airlines</td>\n",
       "      <td>2.5</td>\n",
       "      <td>2.0</td>\n",
       "      <td>2.3</td>\n",
       "      <td>1.9</td>\n",
       "      <td>2.4</td>\n",
       "      <td>3.7</td>\n",
       "      <td>0.3</td>\n",
       "      <td>-0.0</td>\n",
       "      <td>1.9</td>\n",
       "      <td>AA</td>\n",
       "    </tr>\n",
       "    <tr>\n",
       "      <th>9</th>\n",
       "      <td>united-airlines</td>\n",
       "      <td>2.4</td>\n",
       "      <td>2.1</td>\n",
       "      <td>2.0</td>\n",
       "      <td>1.8</td>\n",
       "      <td>2.2</td>\n",
       "      <td>3.4</td>\n",
       "      <td>0.2</td>\n",
       "      <td>0.1</td>\n",
       "      <td>1.9</td>\n",
       "      <td>UA</td>\n",
       "    </tr>\n",
       "    <tr>\n",
       "      <th>8</th>\n",
       "      <td>spirit-airlines</td>\n",
       "      <td>2.1</td>\n",
       "      <td>1.2</td>\n",
       "      <td>1.4</td>\n",
       "      <td>1.5</td>\n",
       "      <td>2.0</td>\n",
       "      <td>2.9</td>\n",
       "      <td>0.2</td>\n",
       "      <td>-0.1</td>\n",
       "      <td>1.0</td>\n",
       "      <td>NK</td>\n",
       "    </tr>\n",
       "  </tbody>\n",
       "</table>\n",
       "</div>"
      ],
      "text/plain": [
       "          airline_name  cabin  entertainment  food_bev  ground  money_value  \\\n",
       "10      virgin-america    3.5            3.6       2.9     3.5          3.6   \n",
       "5      jetblue-airways    3.5            3.4       3.2     3.3          3.5   \n",
       "6     skywest-airlines    3.2            0.8       0.8     5.0          2.6   \n",
       "0      alaska-airlines    3.7            1.7       2.9     4.2          3.2   \n",
       "7   southwest-airlines    3.5            2.5       2.8     2.9          3.4   \n",
       "2      delta-air-lines    3.4            2.7       2.9     3.1          3.0   \n",
       "4    hawaiian-airlines    3.6            2.4       3.0     3.1          2.9   \n",
       "3    frontier-airlines    2.3            1.4       1.3     1.5          2.2   \n",
       "1    american-airlines    2.5            2.0       2.3     1.9          2.4   \n",
       "9      united-airlines    2.4            2.1       2.0     1.8          2.2   \n",
       "8      spirit-airlines    2.1            1.2       1.4     1.5          2.0   \n",
       "\n",
       "    overall  recommended  review_sentiment  wifi UNIQUE_CARRIER  \n",
       "10      7.3          0.7               0.5   2.5             VX  \n",
       "5       7.2          0.6               0.4   4.1             B6  \n",
       "6       7.2          0.5               0.6   NaN             OO  \n",
       "0       6.9          0.6               0.4   3.7             AS  \n",
       "7       6.8          0.6               0.3   2.6             WN  \n",
       "2       6.2          0.5               0.3   2.8             DL  \n",
       "4       6.1          0.6               0.3   1.7             HA  \n",
       "3       4.1          0.2              -0.1   1.0             F9  \n",
       "1       3.7          0.3              -0.0   1.9             AA  \n",
       "9       3.4          0.2               0.1   1.9             UA  \n",
       "8       2.9          0.2              -0.1   1.0             NK  "
      ]
     },
     "execution_count": 81,
     "metadata": {},
     "output_type": "execute_result"
    }
   ],
   "source": [
    "ratings_df.sort_values('overall', ascending=False)"
   ]
  },
  {
   "cell_type": "code",
   "execution_count": 54,
   "metadata": {
    "collapsed": true
   },
   "outputs": [],
   "source": [
    "ratings_df.to_csv('ratings_df.csv')"
   ]
  }
 ],
 "metadata": {
  "kernelspec": {
   "display_name": "Python 3",
   "language": "python",
   "name": "python3"
  },
  "language_info": {
   "codemirror_mode": {
    "name": "ipython",
    "version": 3
   },
   "file_extension": ".py",
   "mimetype": "text/x-python",
   "name": "python",
   "nbconvert_exporter": "python",
   "pygments_lexer": "ipython3",
   "version": "3.5.1"
  }
 },
 "nbformat": 4,
 "nbformat_minor": 0
}
