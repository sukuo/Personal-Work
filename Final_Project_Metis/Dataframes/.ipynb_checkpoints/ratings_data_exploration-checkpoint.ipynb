{
 "cells": [
  {
   "cell_type": "code",
   "execution_count": 121,
   "metadata": {
    "collapsed": false
   },
   "outputs": [],
   "source": [
    "import pandas as pd\n",
    "from collections import Counter\n",
    "import numpy as np\n",
    "from matplotlib import pyplot as plt\n",
    "from nltk.sentiment.vader import SentimentIntensityAnalyzer\n",
    "from sklearn.feature_extraction.text import CountVectorizer\n",
    "from sklearn.cluster import KMeans\n",
    "from sklearn.decomposition import PCA\n",
    "import re\n",
    "%matplotlib inline"
   ]
  },
  {
   "cell_type": "code",
   "execution_count": 64,
   "metadata": {
    "collapsed": false
   },
   "outputs": [],
   "source": [
    "airlines = pd.read_csv('airline_reviews.csv')\n",
    "airports= pd.read_csv('airport_reviews.csv')\n",
    "carrier_lookup = pd.read_csv('L_UNIQUE_CARRIERS.csv')"
   ]
  },
  {
   "cell_type": "code",
   "execution_count": 4,
   "metadata": {
    "collapsed": false
   },
   "outputs": [
    {
     "data": {
      "text/plain": [
       "Index(['Unnamed: 0', 'airline_name', 'link', 'title', 'author',\n",
       "       'author_country', 'date', 'content', 'aircraft', 'type_traveller',\n",
       "       'cabin_flown', 'route', 'overall_rating', 'seat_comfort_rating',\n",
       "       'cabin_staff_rating', 'food_beverages_rating',\n",
       "       'inflight_entertainment_rating', 'ground_service_rating',\n",
       "       'wifi_connectivity_rating', 'value_money_rating', 'recommended'],\n",
       "      dtype='object')"
      ]
     },
     "execution_count": 4,
     "metadata": {},
     "output_type": "execute_result"
    }
   ],
   "source": [
    "airlines.columns"
   ]
  },
  {
   "cell_type": "code",
   "execution_count": 66,
   "metadata": {
    "collapsed": false
   },
   "outputs": [],
   "source": [
    "carrier_lookup.columns = ['UNIQUE_CARRIER', 'airline']"
   ]
  },
  {
   "cell_type": "code",
   "execution_count": 97,
   "metadata": {
    "collapsed": false
   },
   "outputs": [],
   "source": [
    "#airlines.head(2)"
   ]
  },
  {
   "cell_type": "code",
   "execution_count": 103,
   "metadata": {
    "collapsed": false
   },
   "outputs": [
    {
     "data": {
      "text/plain": [
       "1.0    7873\n",
       "4.0    5740\n",
       "3.0    5093\n",
       "0.0    4876\n",
       "5.0    4420\n",
       "2.0    3112\n",
       "Name: inflight_entertainment_rating, dtype: int64"
      ]
     },
     "execution_count": 103,
     "metadata": {},
     "output_type": "execute_result"
    }
   ],
   "source": [
    "airlines['inflight_entertainment_rating'].value_counts()"
   ]
  },
  {
   "cell_type": "code",
   "execution_count": 26,
   "metadata": {
    "collapsed": false
   },
   "outputs": [],
   "source": [
    "#airlines['airline_name'].value_counts()"
   ]
  },
  {
   "cell_type": "code",
   "execution_count": 11,
   "metadata": {
    "collapsed": false
   },
   "outputs": [],
   "source": [
    "airline_hist = dict(Counter(airlines['airline_name']))"
   ]
  },
  {
   "cell_type": "code",
   "execution_count": 77,
   "metadata": {
    "collapsed": false
   },
   "outputs": [],
   "source": [
    "#airline_hist"
   ]
  },
  {
   "cell_type": "markdown",
   "metadata": {},
   "source": [
    "## Make dataframes merge-able"
   ]
  },
  {
   "cell_type": "code",
   "execution_count": 25,
   "metadata": {
    "collapsed": true
   },
   "outputs": [],
   "source": [
    "airline_dict = {'AA':'american-airlines', 'AS':'alaska-airlines', 'B6':'jetblue-airways', 'DL':'delta-air-lines',\n",
    "               'F9':'frontier-airlines', 'HA':'hawaiian-airlines', 'NK':'spirit-airlines', 'OO':'skywest-airlines',\n",
    "               'UA':'united-airlines', 'VX':'virgin-america', 'WN':'southwest-airlines'}"
   ]
  },
  {
   "cell_type": "code",
   "execution_count": 38,
   "metadata": {
    "collapsed": false
   },
   "outputs": [],
   "source": [
    "airline_names = []\n",
    "for k, v in airline_dict.items():\n",
    "    airline_names.append(v)"
   ]
  },
  {
   "cell_type": "code",
   "execution_count": 79,
   "metadata": {
    "collapsed": true
   },
   "outputs": [],
   "source": [
    "def airline_key(x):\n",
    "    for k, v in airline_dict.items():\n",
    "        if x == v:\n",
    "            return k\n",
    "    return None\n",
    "\n",
    "sid = SentimentIntensityAnalyzer()"
   ]
  },
  {
   "cell_type": "code",
   "execution_count": 96,
   "metadata": {
    "collapsed": false
   },
   "outputs": [],
   "source": [
    "#big_12.head(2)"
   ]
  },
  {
   "cell_type": "code",
   "execution_count": 71,
   "metadata": {
    "collapsed": true
   },
   "outputs": [
    {
     "name": "stderr",
     "output_type": "stream",
     "text": [
      "/Users/sunkuo/anaconda/lib/python3.5/site-packages/ipykernel/__main__.py:4: SettingWithCopyWarning: \n",
      "A value is trying to be set on a copy of a slice from a DataFrame.\n",
      "Try using .loc[row_indexer,col_indexer] = value instead\n",
      "\n",
      "See the caveats in the documentation: http://pandas.pydata.org/pandas-docs/stable/indexing.html#indexing-view-versus-copy\n"
     ]
    }
   ],
   "source": [
    "big_12 = airlines.loc[airlines['airline_name'].isin(airline_names)]\n",
    "big_12['UNIQUE_CARRIER'] = big_12['airline_name'].apply(airline_key)"
   ]
  },
  {
   "cell_type": "markdown",
   "metadata": {},
   "source": [
    "## Apply Sentiment Analysis"
   ]
  },
  {
   "cell_type": "code",
   "execution_count": 84,
   "metadata": {
    "collapsed": false
   },
   "outputs": [],
   "source": [
    "#big_12['vader_sentiment'] = big_12['content'].apply(lambda x: sid.polarity_scores(x))"
   ]
  },
  {
   "cell_type": "code",
   "execution_count": 92,
   "metadata": {
    "collapsed": true
   },
   "outputs": [
    {
     "name": "stderr",
     "output_type": "stream",
     "text": [
      "/Users/sunkuo/anaconda/lib/python3.5/site-packages/ipykernel/__main__.py:1: SettingWithCopyWarning: \n",
      "A value is trying to be set on a copy of a slice from a DataFrame.\n",
      "Try using .loc[row_indexer,col_indexer] = value instead\n",
      "\n",
      "See the caveats in the documentation: http://pandas.pydata.org/pandas-docs/stable/indexing.html#indexing-view-versus-copy\n",
      "  if __name__ == '__main__':\n"
     ]
    }
   ],
   "source": [
    "big_12['compound_sentiment'] = big_12['vader_sentiment'].apply(lambda x: x['compound'])"
   ]
  },
  {
   "cell_type": "code",
   "execution_count": 95,
   "metadata": {
    "collapsed": false
   },
   "outputs": [],
   "source": [
    "# total = 0\n",
    "# hist = []\n",
    "\n",
    "# for k, v in airline_hist.items():\n",
    "#     if v >= 50:\n",
    "#         hist.append((k,v))\n",
    "\n",
    "# hist = sorted(hist, reverse = True)\n",
    "# counter = 0"
   ]
  },
  {
   "cell_type": "code",
   "execution_count": 61,
   "metadata": {
    "collapsed": false
   },
   "outputs": [],
   "source": [
    "#plt.hist(hist)"
   ]
  },
  {
   "cell_type": "code",
   "execution_count": 107,
   "metadata": {
    "collapsed": false
   },
   "outputs": [
    {
     "data": {
      "text/html": [
       "<div>\n",
       "<table border=\"1\" class=\"dataframe\">\n",
       "  <thead>\n",
       "    <tr style=\"text-align: right;\">\n",
       "      <th></th>\n",
       "      <th>Unnamed: 0</th>\n",
       "      <th>airline_name</th>\n",
       "      <th>link</th>\n",
       "      <th>title</th>\n",
       "      <th>author</th>\n",
       "      <th>author_country</th>\n",
       "      <th>date</th>\n",
       "      <th>content</th>\n",
       "      <th>aircraft</th>\n",
       "      <th>type_traveller</th>\n",
       "      <th>...</th>\n",
       "      <th>cabin_staff_rating</th>\n",
       "      <th>food_beverages_rating</th>\n",
       "      <th>inflight_entertainment_rating</th>\n",
       "      <th>ground_service_rating</th>\n",
       "      <th>wifi_connectivity_rating</th>\n",
       "      <th>value_money_rating</th>\n",
       "      <th>recommended</th>\n",
       "      <th>UNIQUE_CARRIER</th>\n",
       "      <th>vader_sentiment</th>\n",
       "      <th>compound_sentiment</th>\n",
       "    </tr>\n",
       "  </thead>\n",
       "  <tbody>\n",
       "    <tr>\n",
       "      <th>5793</th>\n",
       "      <td>5793</td>\n",
       "      <td>alaska-airlines</td>\n",
       "      <td>/airline-reviews/alaska-airlines</td>\n",
       "      <td>Alaska Airlines customer review</td>\n",
       "      <td>Katy Montanez</td>\n",
       "      <td>United States</td>\n",
       "      <td>2015-07-26</td>\n",
       "      <td>Checked into Alaska Airlines at the Santa Rosa...</td>\n",
       "      <td>NaN</td>\n",
       "      <td>Business</td>\n",
       "      <td>...</td>\n",
       "      <td>1.0</td>\n",
       "      <td>1.0</td>\n",
       "      <td>NaN</td>\n",
       "      <td>1.0</td>\n",
       "      <td>1.0</td>\n",
       "      <td>1.0</td>\n",
       "      <td>0</td>\n",
       "      <td>AS</td>\n",
       "      <td>{'neg': 0.115, 'compound': -0.9157, 'pos': 0.0...</td>\n",
       "      <td>-0.9157</td>\n",
       "    </tr>\n",
       "  </tbody>\n",
       "</table>\n",
       "<p>1 rows × 24 columns</p>\n",
       "</div>"
      ],
      "text/plain": [
       "      Unnamed: 0     airline_name                              link  \\\n",
       "5793        5793  alaska-airlines  /airline-reviews/alaska-airlines   \n",
       "\n",
       "                                title         author author_country  \\\n",
       "5793  Alaska Airlines customer review  Katy Montanez  United States   \n",
       "\n",
       "            date                                            content aircraft  \\\n",
       "5793  2015-07-26  Checked into Alaska Airlines at the Santa Rosa...      NaN   \n",
       "\n",
       "     type_traveller         ...         cabin_staff_rating  \\\n",
       "5793       Business         ...                        1.0   \n",
       "\n",
       "     food_beverages_rating  inflight_entertainment_rating  \\\n",
       "5793                   1.0                            NaN   \n",
       "\n",
       "      ground_service_rating  wifi_connectivity_rating  value_money_rating  \\\n",
       "5793                    1.0                       1.0                 1.0   \n",
       "\n",
       "      recommended  UNIQUE_CARRIER  \\\n",
       "5793            0              AS   \n",
       "\n",
       "                                        vader_sentiment  compound_sentiment  \n",
       "5793  {'neg': 0.115, 'compound': -0.9157, 'pos': 0.0...             -0.9157  \n",
       "\n",
       "[1 rows x 24 columns]"
      ]
     },
     "execution_count": 107,
     "metadata": {},
     "output_type": "execute_result"
    }
   ],
   "source": [
    "big_12.head(1)"
   ]
  },
  {
   "cell_type": "code",
   "execution_count": 126,
   "metadata": {
    "collapsed": false
   },
   "outputs": [
    {
     "name": "stderr",
     "output_type": "stream",
     "text": [
      "/Users/sunkuo/anaconda/lib/python3.5/site-packages/ipykernel/__main__.py:1: SettingWithCopyWarning: \n",
      "A value is trying to be set on a copy of a slice from a DataFrame.\n",
      "Try using .loc[row_indexer,col_indexer] = value instead\n",
      "\n",
      "See the caveats in the documentation: http://pandas.pydata.org/pandas-docs/stable/indexing.html#indexing-view-versus-copy\n",
      "  if __name__ == '__main__':\n"
     ]
    }
   ],
   "source": [
    "big_12['content'] = big_12.loc[:,('content')].apply(lambda x: x.lower()).apply(lambda x: re.sub('[^A-Za-z]+', ' ', x))"
   ]
  },
  {
   "cell_type": "code",
   "execution_count": 115,
   "metadata": {
    "collapsed": false
   },
   "outputs": [],
   "source": [
    "vectorizer = CountVectorizer(stop_words='english')\n",
    "X = vectorizer.fit_transform(big_12.content) "
   ]
  },
  {
   "cell_type": "code",
   "execution_count": 127,
   "metadata": {
    "collapsed": false
   },
   "outputs": [
    {
     "data": {
      "text/plain": [
       "(4671, 11335)"
      ]
     },
     "execution_count": 127,
     "metadata": {},
     "output_type": "execute_result"
    }
   ],
   "source": [
    "X.shape"
   ]
  },
  {
   "cell_type": "code",
   "execution_count": 131,
   "metadata": {
    "collapsed": true
   },
   "outputs": [],
   "source": [
    "pca = PCA(n_components=int(X.shape[1]/1.5))\n",
    "pca_x = pca.fit_transform(X.toarray())"
   ]
  },
  {
   "cell_type": "code",
   "execution_count": 135,
   "metadata": {
    "collapsed": false
   },
   "outputs": [],
   "source": [
    "n_inertia = []\n",
    "km = KMeans(n_clusters = i, init = 'k-means++', n_init=18)\n",
    "for i in range(1,14):\n",
    "    kmeans_pca_array = km.fit_transform(pca_x)\n",
    "    pca_clusters_array = km.predict(pca_x)\n",
    "    inertia = km.inertia_\n",
    "    n_inertia.append(inertia)"
   ]
  },
  {
   "cell_type": "code",
   "execution_count": 137,
   "metadata": {
    "collapsed": false
   },
   "outputs": [
    {
     "data": {
      "text/plain": [
       "[<matplotlib.lines.Line2D at 0x12eea1e48>]"
      ]
     },
     "execution_count": 137,
     "metadata": {},
     "output_type": "execute_result"
    },
    {
     "data": {
      "image/png": "[encoded data removed]",
      "text/plain": [
       "<matplotlib.figure.Figure at 0x12f1b0a20>"
      ]
     },
     "metadata": {},
     "output_type": "display_data"
    }
   ],
   "source": [
    "plt.plot(range(1,14),n_inertia)"
   ]
  },
  {
   "cell_type": "code",
   "execution_count": null,
   "metadata": {
    "collapsed": true
   },
   "outputs": [],
   "source": [
    "n_inertia = []\n",
    "km = KMeans(n_clusters = i, init = 'k-means++', n_init=20)\n",
    "for i in range(1,12):\n",
    "    kmeans_pca_array = km.fit_transform(pca_x)\n",
    "    pca_clusters_array = km.predict(pca_x)\n",
    "    inertia = km.inertia_\n",
    "    n_inertia.append(inertia)"
   ]
  }
 ],
 "metadata": {
  "kernelspec": {
   "display_name": "Python 3",
   "language": "python",
   "name": "python3"
  },
  "language_info": {
   "codemirror_mode": {
    "name": "ipython",
    "version": 3
   },
   "file_extension": ".py",
   "mimetype": "text/x-python",
   "name": "python",
   "nbconvert_exporter": "python",
   "pygments_lexer": "ipython3",
   "version": "3.5.1"
  }
 },
 "nbformat": 4,
 "nbformat_minor": 0
}
