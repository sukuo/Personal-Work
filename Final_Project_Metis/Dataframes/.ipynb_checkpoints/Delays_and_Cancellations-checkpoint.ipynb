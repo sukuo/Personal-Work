{
 "cells": [
  {
   "cell_type": "code",
   "execution_count": 1,
   "metadata": {
    "collapsed": true
   },
   "outputs": [],
   "source": [
    "import pandas as pd\n",
    "import numpy as np\n",
    "from collections import Counter\n",
    "import matplotlib.pyplot as plt\n",
    "%matplotlib inline"
   ]
  },
  {
   "cell_type": "code",
   "execution_count": 20,
   "metadata": {
    "collapsed": true
   },
   "outputs": [],
   "source": [
    "flight_df1 = pd.read_csv('1024041396_T_ONTIME.csv')"
   ]
  },
  {
   "cell_type": "code",
   "execution_count": 21,
   "metadata": {
    "collapsed": true
   },
   "outputs": [],
   "source": [
    "flight_df2 = pd.read_csv('1019340177_T_ONTIME.csv')"
   ]
  },
  {
   "cell_type": "code",
   "execution_count": 22,
   "metadata": {
    "collapsed": true
   },
   "outputs": [],
   "source": [
    "flight_df3 = pd.read_csv('1019340177_T_ONTIME 2.csv')"
   ]
  },
  {
   "cell_type": "code",
   "execution_count": 5,
   "metadata": {
    "collapsed": false
   },
   "outputs": [
    {
     "data": {
      "text/html": [
       "<div>\n",
       "<table border=\"1\" class=\"dataframe\">\n",
       "  <thead>\n",
       "    <tr style=\"text-align: right;\">\n",
       "      <th></th>\n",
       "      <th>FL_DATE</th>\n",
       "      <th>UNIQUE_CARRIER</th>\n",
       "      <th>AIRLINE_ID</th>\n",
       "      <th>ORIGIN_AIRPORT_ID</th>\n",
       "      <th>ORIGIN</th>\n",
       "      <th>ORIGIN_CITY_NAME</th>\n",
       "      <th>ORIGIN_STATE_ABR</th>\n",
       "      <th>DEST_AIRPORT_ID</th>\n",
       "      <th>DEST</th>\n",
       "      <th>DEST_CITY_NAME</th>\n",
       "      <th>...</th>\n",
       "      <th>DEP_DELAY_NEW</th>\n",
       "      <th>ARR_DELAY</th>\n",
       "      <th>ARR_DELAY_NEW</th>\n",
       "      <th>CANCELLED</th>\n",
       "      <th>ACTUAL_ELAPSED_TIME</th>\n",
       "      <th>FLIGHTS</th>\n",
       "      <th>DISTANCE</th>\n",
       "      <th>CARRIER_DELAY</th>\n",
       "      <th>WEATHER_DELAY</th>\n",
       "      <th>Unnamed: 21</th>\n",
       "    </tr>\n",
       "  </thead>\n",
       "  <tbody>\n",
       "    <tr>\n",
       "      <th>0</th>\n",
       "      <td>2016-06-01</td>\n",
       "      <td>AA</td>\n",
       "      <td>19805</td>\n",
       "      <td>12478</td>\n",
       "      <td>JFK</td>\n",
       "      <td>New York, NY</td>\n",
       "      <td>NY</td>\n",
       "      <td>12892</td>\n",
       "      <td>LAX</td>\n",
       "      <td>Los Angeles, CA</td>\n",
       "      <td>...</td>\n",
       "      <td>0.0</td>\n",
       "      <td>-33.0</td>\n",
       "      <td>0.0</td>\n",
       "      <td>0.0</td>\n",
       "      <td>347.0</td>\n",
       "      <td>1.0</td>\n",
       "      <td>2475.0</td>\n",
       "      <td>NaN</td>\n",
       "      <td>NaN</td>\n",
       "      <td>NaN</td>\n",
       "    </tr>\n",
       "    <tr>\n",
       "      <th>1</th>\n",
       "      <td>2016-06-01</td>\n",
       "      <td>AA</td>\n",
       "      <td>19805</td>\n",
       "      <td>12892</td>\n",
       "      <td>LAX</td>\n",
       "      <td>Los Angeles, CA</td>\n",
       "      <td>CA</td>\n",
       "      <td>12478</td>\n",
       "      <td>JFK</td>\n",
       "      <td>New York, NY</td>\n",
       "      <td>...</td>\n",
       "      <td>0.0</td>\n",
       "      <td>-5.0</td>\n",
       "      <td>0.0</td>\n",
       "      <td>0.0</td>\n",
       "      <td>335.0</td>\n",
       "      <td>1.0</td>\n",
       "      <td>2475.0</td>\n",
       "      <td>NaN</td>\n",
       "      <td>NaN</td>\n",
       "      <td>NaN</td>\n",
       "    </tr>\n",
       "  </tbody>\n",
       "</table>\n",
       "<p>2 rows × 22 columns</p>\n",
       "</div>"
      ],
      "text/plain": [
       "      FL_DATE UNIQUE_CARRIER  AIRLINE_ID  ORIGIN_AIRPORT_ID ORIGIN  \\\n",
       "0  2016-06-01             AA       19805              12478    JFK   \n",
       "1  2016-06-01             AA       19805              12892    LAX   \n",
       "\n",
       "  ORIGIN_CITY_NAME ORIGIN_STATE_ABR  DEST_AIRPORT_ID DEST   DEST_CITY_NAME  \\\n",
       "0     New York, NY               NY            12892  LAX  Los Angeles, CA   \n",
       "1  Los Angeles, CA               CA            12478  JFK     New York, NY   \n",
       "\n",
       "      ...      DEP_DELAY_NEW  ARR_DELAY  ARR_DELAY_NEW  CANCELLED  \\\n",
       "0     ...                0.0      -33.0            0.0        0.0   \n",
       "1     ...                0.0       -5.0            0.0        0.0   \n",
       "\n",
       "   ACTUAL_ELAPSED_TIME  FLIGHTS  DISTANCE  CARRIER_DELAY  WEATHER_DELAY  \\\n",
       "0                347.0      1.0    2475.0            NaN            NaN   \n",
       "1                335.0      1.0    2475.0            NaN            NaN   \n",
       "\n",
       "   Unnamed: 21  \n",
       "0          NaN  \n",
       "1          NaN  \n",
       "\n",
       "[2 rows x 22 columns]"
      ]
     },
     "execution_count": 5,
     "metadata": {},
     "output_type": "execute_result"
    }
   ],
   "source": [
    "flight_df1.head(2)"
   ]
  },
  {
   "cell_type": "code",
   "execution_count": 16,
   "metadata": {
    "collapsed": false
   },
   "outputs": [],
   "source": [
    "#flight_df2.columns"
   ]
  },
  {
   "cell_type": "code",
   "execution_count": 7,
   "metadata": {
    "collapsed": true
   },
   "outputs": [],
   "source": [
    "airline_lookup = pd.read_csv('L_UNIQUE_CARRIERS.csv')"
   ]
  },
  {
   "cell_type": "code",
   "execution_count": 17,
   "metadata": {
    "collapsed": false
   },
   "outputs": [
    {
     "data": {
      "text/plain": [
       "Index(['UNIQUE_CARRIER', 'airline_name'], dtype='object')"
      ]
     },
     "execution_count": 17,
     "metadata": {},
     "output_type": "execute_result"
    }
   ],
   "source": [
    "airline_lookup.columns = ['UNIQUE_CARRIER', 'airline_name']\n",
    "airline_lookup.columns"
   ]
  },
  {
   "cell_type": "code",
   "execution_count": 9,
   "metadata": {
    "collapsed": false,
    "scrolled": true
   },
   "outputs": [
    {
     "data": {
      "text/plain": [
       "Index(['FL_DATE', 'UNIQUE_CARRIER', 'AIRLINE_ID', 'ORIGIN_AIRPORT_ID',\n",
       "       'ORIGIN', 'ORIGIN_CITY_NAME', 'ORIGIN_STATE_ABR', 'DEST_AIRPORT_ID',\n",
       "       'DEST', 'DEST_CITY_NAME', 'DEST_STATE_ABR', 'DEP_DELAY',\n",
       "       'DEP_DELAY_NEW', 'ARR_DELAY', 'ARR_DELAY_NEW', 'CANCELLED',\n",
       "       'ACTUAL_ELAPSED_TIME', 'FLIGHTS', 'DISTANCE', 'CARRIER_DELAY',\n",
       "       'WEATHER_DELAY', 'Unnamed: 21'],\n",
       "      dtype='object')"
      ]
     },
     "execution_count": 9,
     "metadata": {},
     "output_type": "execute_result"
    }
   ],
   "source": [
    "flight_df1.columns"
   ]
  },
  {
   "cell_type": "code",
   "execution_count": 18,
   "metadata": {
    "collapsed": false
   },
   "outputs": [],
   "source": [
    "frames = [flight_df1, flight_df2, flight_df3]"
   ]
  },
  {
   "cell_type": "code",
   "execution_count": 23,
   "metadata": {
    "collapsed": false
   },
   "outputs": [
    {
     "name": "stdout",
     "output_type": "stream",
     "text": [
      "487637\n",
      "479358\n",
      "461630\n"
     ]
    }
   ],
   "source": [
    "print(len(flight_df1))\n",
    "print(len(flight_df2))\n",
    "print(len(flight_df3))\n"
   ]
  },
  {
   "cell_type": "code",
   "execution_count": 19,
   "metadata": {
    "collapsed": false
   },
   "outputs": [
    {
     "data": {
      "text/plain": [
       "1428625"
      ]
     },
     "execution_count": 19,
     "metadata": {},
     "output_type": "execute_result"
    }
   ],
   "source": [
    "flight_df1 = pd.concat(frames)\n",
    "len(flight_df1)"
   ]
  },
  {
   "cell_type": "code",
   "execution_count": 24,
   "metadata": {
    "collapsed": false
   },
   "outputs": [],
   "source": [
    "flight_df1 = pd.merge(airline_lookup, flight_df1, on='UNIQUE_CARRIER')"
   ]
  },
  {
   "cell_type": "code",
   "execution_count": 25,
   "metadata": {
    "collapsed": false
   },
   "outputs": [
    {
     "data": {
      "text/plain": [
       "Index(['UNIQUE_CARRIER', 'airline_name', 'FL_DATE', 'AIRLINE_ID',\n",
       "       'ORIGIN_AIRPORT_ID', 'ORIGIN', 'ORIGIN_CITY_NAME', 'ORIGIN_STATE_ABR',\n",
       "       'DEST_AIRPORT_ID', 'DEST', 'DEST_CITY_NAME', 'DEST_STATE_ABR',\n",
       "       'DEP_DELAY', 'DEP_DELAY_NEW', 'ARR_DELAY', 'ARR_DELAY_NEW', 'CANCELLED',\n",
       "       'ACTUAL_ELAPSED_TIME', 'FLIGHTS', 'DISTANCE', 'CARRIER_DELAY',\n",
       "       'WEATHER_DELAY', 'Unnamed: 21'],\n",
       "      dtype='object')"
      ]
     },
     "execution_count": 25,
     "metadata": {},
     "output_type": "execute_result"
    }
   ],
   "source": [
    "#sum(flight_df1['airline_name_y'].value_counts())\n",
    "flight_df1.columns"
   ]
  },
  {
   "cell_type": "code",
   "execution_count": 341,
   "metadata": {
    "collapsed": true
   },
   "outputs": [],
   "source": [
    "#df.drop('column_name', axis=1, inplace=True)\n",
    "flight_df1.drop('airline_name_y', axis=1, inplace=True)"
   ]
  },
  {
   "cell_type": "code",
   "execution_count": 26,
   "metadata": {
    "collapsed": false
   },
   "outputs": [],
   "source": [
    "flight_no_nan = flight_df1.replace(np.nan, 0)"
   ]
  },
  {
   "cell_type": "code",
   "execution_count": 27,
   "metadata": {
    "collapsed": false
   },
   "outputs": [
    {
     "data": {
      "text/html": [
       "<div>\n",
       "<table border=\"1\" class=\"dataframe\">\n",
       "  <thead>\n",
       "    <tr style=\"text-align: right;\">\n",
       "      <th></th>\n",
       "      <th>UNIQUE_CARRIER</th>\n",
       "      <th>airline_name</th>\n",
       "      <th>FL_DATE</th>\n",
       "      <th>AIRLINE_ID</th>\n",
       "      <th>ORIGIN_AIRPORT_ID</th>\n",
       "      <th>ORIGIN</th>\n",
       "      <th>ORIGIN_CITY_NAME</th>\n",
       "      <th>ORIGIN_STATE_ABR</th>\n",
       "      <th>DEST_AIRPORT_ID</th>\n",
       "      <th>DEST</th>\n",
       "      <th>...</th>\n",
       "      <th>DEP_DELAY_NEW</th>\n",
       "      <th>ARR_DELAY</th>\n",
       "      <th>ARR_DELAY_NEW</th>\n",
       "      <th>CANCELLED</th>\n",
       "      <th>ACTUAL_ELAPSED_TIME</th>\n",
       "      <th>FLIGHTS</th>\n",
       "      <th>DISTANCE</th>\n",
       "      <th>CARRIER_DELAY</th>\n",
       "      <th>WEATHER_DELAY</th>\n",
       "      <th>Unnamed: 21</th>\n",
       "    </tr>\n",
       "  </thead>\n",
       "  <tbody>\n",
       "    <tr>\n",
       "      <th>0</th>\n",
       "      <td>AA</td>\n",
       "      <td>American Airlines Inc.</td>\n",
       "      <td>2016-06-01</td>\n",
       "      <td>19805</td>\n",
       "      <td>12478</td>\n",
       "      <td>JFK</td>\n",
       "      <td>New York, NY</td>\n",
       "      <td>NY</td>\n",
       "      <td>12892</td>\n",
       "      <td>LAX</td>\n",
       "      <td>...</td>\n",
       "      <td>0.0</td>\n",
       "      <td>-33.0</td>\n",
       "      <td>0.0</td>\n",
       "      <td>0.0</td>\n",
       "      <td>347.0</td>\n",
       "      <td>1.0</td>\n",
       "      <td>2475.0</td>\n",
       "      <td>0.0</td>\n",
       "      <td>0.0</td>\n",
       "      <td>0.0</td>\n",
       "    </tr>\n",
       "    <tr>\n",
       "      <th>1</th>\n",
       "      <td>AA</td>\n",
       "      <td>American Airlines Inc.</td>\n",
       "      <td>2016-06-01</td>\n",
       "      <td>19805</td>\n",
       "      <td>12892</td>\n",
       "      <td>LAX</td>\n",
       "      <td>Los Angeles, CA</td>\n",
       "      <td>CA</td>\n",
       "      <td>12478</td>\n",
       "      <td>JFK</td>\n",
       "      <td>...</td>\n",
       "      <td>0.0</td>\n",
       "      <td>-5.0</td>\n",
       "      <td>0.0</td>\n",
       "      <td>0.0</td>\n",
       "      <td>335.0</td>\n",
       "      <td>1.0</td>\n",
       "      <td>2475.0</td>\n",
       "      <td>0.0</td>\n",
       "      <td>0.0</td>\n",
       "      <td>0.0</td>\n",
       "    </tr>\n",
       "    <tr>\n",
       "      <th>2</th>\n",
       "      <td>AA</td>\n",
       "      <td>American Airlines Inc.</td>\n",
       "      <td>2016-06-01</td>\n",
       "      <td>19805</td>\n",
       "      <td>12478</td>\n",
       "      <td>JFK</td>\n",
       "      <td>New York, NY</td>\n",
       "      <td>NY</td>\n",
       "      <td>12892</td>\n",
       "      <td>LAX</td>\n",
       "      <td>...</td>\n",
       "      <td>66.0</td>\n",
       "      <td>32.0</td>\n",
       "      <td>32.0</td>\n",
       "      <td>0.0</td>\n",
       "      <td>336.0</td>\n",
       "      <td>1.0</td>\n",
       "      <td>2475.0</td>\n",
       "      <td>32.0</td>\n",
       "      <td>0.0</td>\n",
       "      <td>0.0</td>\n",
       "    </tr>\n",
       "    <tr>\n",
       "      <th>3</th>\n",
       "      <td>AA</td>\n",
       "      <td>American Airlines Inc.</td>\n",
       "      <td>2016-06-01</td>\n",
       "      <td>19805</td>\n",
       "      <td>12892</td>\n",
       "      <td>LAX</td>\n",
       "      <td>Los Angeles, CA</td>\n",
       "      <td>CA</td>\n",
       "      <td>12478</td>\n",
       "      <td>JFK</td>\n",
       "      <td>...</td>\n",
       "      <td>0.0</td>\n",
       "      <td>-14.0</td>\n",
       "      <td>0.0</td>\n",
       "      <td>0.0</td>\n",
       "      <td>332.0</td>\n",
       "      <td>1.0</td>\n",
       "      <td>2475.0</td>\n",
       "      <td>0.0</td>\n",
       "      <td>0.0</td>\n",
       "      <td>0.0</td>\n",
       "    </tr>\n",
       "    <tr>\n",
       "      <th>4</th>\n",
       "      <td>AA</td>\n",
       "      <td>American Airlines Inc.</td>\n",
       "      <td>2016-06-01</td>\n",
       "      <td>19805</td>\n",
       "      <td>11298</td>\n",
       "      <td>DFW</td>\n",
       "      <td>Dallas/Fort Worth, TX</td>\n",
       "      <td>TX</td>\n",
       "      <td>12173</td>\n",
       "      <td>HNL</td>\n",
       "      <td>...</td>\n",
       "      <td>35.0</td>\n",
       "      <td>11.0</td>\n",
       "      <td>11.0</td>\n",
       "      <td>0.0</td>\n",
       "      <td>492.0</td>\n",
       "      <td>1.0</td>\n",
       "      <td>3784.0</td>\n",
       "      <td>0.0</td>\n",
       "      <td>0.0</td>\n",
       "      <td>0.0</td>\n",
       "    </tr>\n",
       "  </tbody>\n",
       "</table>\n",
       "<p>5 rows × 23 columns</p>\n",
       "</div>"
      ],
      "text/plain": [
       "  UNIQUE_CARRIER            airline_name     FL_DATE  AIRLINE_ID  \\\n",
       "0             AA  American Airlines Inc.  2016-06-01       19805   \n",
       "1             AA  American Airlines Inc.  2016-06-01       19805   \n",
       "2             AA  American Airlines Inc.  2016-06-01       19805   \n",
       "3             AA  American Airlines Inc.  2016-06-01       19805   \n",
       "4             AA  American Airlines Inc.  2016-06-01       19805   \n",
       "\n",
       "   ORIGIN_AIRPORT_ID ORIGIN       ORIGIN_CITY_NAME ORIGIN_STATE_ABR  \\\n",
       "0              12478    JFK           New York, NY               NY   \n",
       "1              12892    LAX        Los Angeles, CA               CA   \n",
       "2              12478    JFK           New York, NY               NY   \n",
       "3              12892    LAX        Los Angeles, CA               CA   \n",
       "4              11298    DFW  Dallas/Fort Worth, TX               TX   \n",
       "\n",
       "   DEST_AIRPORT_ID DEST     ...      DEP_DELAY_NEW ARR_DELAY  ARR_DELAY_NEW  \\\n",
       "0            12892  LAX     ...                0.0     -33.0            0.0   \n",
       "1            12478  JFK     ...                0.0      -5.0            0.0   \n",
       "2            12892  LAX     ...               66.0      32.0           32.0   \n",
       "3            12478  JFK     ...                0.0     -14.0            0.0   \n",
       "4            12173  HNL     ...               35.0      11.0           11.0   \n",
       "\n",
       "   CANCELLED  ACTUAL_ELAPSED_TIME  FLIGHTS  DISTANCE  CARRIER_DELAY  \\\n",
       "0        0.0                347.0      1.0    2475.0            0.0   \n",
       "1        0.0                335.0      1.0    2475.0            0.0   \n",
       "2        0.0                336.0      1.0    2475.0           32.0   \n",
       "3        0.0                332.0      1.0    2475.0            0.0   \n",
       "4        0.0                492.0      1.0    3784.0            0.0   \n",
       "\n",
       "   WEATHER_DELAY  Unnamed: 21  \n",
       "0            0.0          0.0  \n",
       "1            0.0          0.0  \n",
       "2            0.0          0.0  \n",
       "3            0.0          0.0  \n",
       "4            0.0          0.0  \n",
       "\n",
       "[5 rows x 23 columns]"
      ]
     },
     "execution_count": 27,
     "metadata": {},
     "output_type": "execute_result"
    }
   ],
   "source": [
    "flight_no_nan.head()"
   ]
  },
  {
   "cell_type": "code",
   "execution_count": 28,
   "metadata": {
    "collapsed": false
   },
   "outputs": [],
   "source": [
    "#tot_carrier_del =  sum(flight_no_nan['CARRIER_DELAY'])"
   ]
  },
  {
   "cell_type": "code",
   "execution_count": 29,
   "metadata": {
    "collapsed": false
   },
   "outputs": [],
   "source": [
    "#tot_weather_del = sum(flight_no_nan['WEATHER_DELAY'])"
   ]
  },
  {
   "cell_type": "code",
   "execution_count": 30,
   "metadata": {
    "collapsed": false
   },
   "outputs": [],
   "source": [
    "#tot_carrier_del+tot_weather_del"
   ]
  },
  {
   "cell_type": "code",
   "execution_count": 31,
   "metadata": {
    "collapsed": false
   },
   "outputs": [],
   "source": [
    "#new_arr_del = sum(flight_no_nan['ARR_DELAY_NEW'])"
   ]
  },
  {
   "cell_type": "code",
   "execution_count": 32,
   "metadata": {
    "collapsed": false
   },
   "outputs": [],
   "source": [
    "#new_dep_del = sum(flight_no_nan['DEP_DELAY_NEW']) #CHECK THE DEFINITION OF THIS FIELD"
   ]
  },
  {
   "cell_type": "code",
   "execution_count": 33,
   "metadata": {
    "collapsed": false
   },
   "outputs": [],
   "source": [
    "#new_arr_del+new_dep_del"
   ]
  },
  {
   "cell_type": "code",
   "execution_count": 34,
   "metadata": {
    "collapsed": false
   },
   "outputs": [
    {
     "data": {
      "text/plain": [
       "9090433.0"
      ]
     },
     "execution_count": 34,
     "metadata": {},
     "output_type": "execute_result"
    }
   ],
   "source": [
    "tot_del = flight_no_nan['ARR_DELAY'] + flight_no_nan['DEP_DELAY']\n",
    "sum(tot_del)"
   ]
  },
  {
   "cell_type": "code",
   "execution_count": 35,
   "metadata": {
    "collapsed": false
   },
   "outputs": [],
   "source": [
    "#departure delay minutes by airline\n",
    "dep_delay_totals = flight_no_nan.groupby(['UNIQUE_CARRIER'])['DEP_DELAY'].sum()\n",
    "dep_delay_averages= flight_no_nan.groupby(['UNIQUE_CARRIER'])['DEP_DELAY'].mean()\n",
    "dep_delay_var= flight_no_nan.groupby(['UNIQUE_CARRIER'])['DEP_DELAY'].var()\n",
    "# print(dep_delay_averages)\n",
    "# print(dep_delay_totals)"
   ]
  },
  {
   "cell_type": "code",
   "execution_count": 36,
   "metadata": {
    "collapsed": false
   },
   "outputs": [],
   "source": [
    "#arrival delays and averages\n",
    "arr_delay_totals = flight_no_nan.groupby(['UNIQUE_CARRIER'])['ARR_DELAY'].sum()\n",
    "arr_delay_averages = flight_no_nan.groupby(['UNIQUE_CARRIER'])['ARR_DELAY'].mean()\n",
    "arr_delay_var = flight_no_nan.groupby(['UNIQUE_CARRIER'])['ARR_DELAY'].var()\n",
    "# print(arr_delay_averages)\n",
    "# print(arr_delay_totals )"
   ]
  },
  {
   "cell_type": "code",
   "execution_count": 37,
   "metadata": {
    "collapsed": true
   },
   "outputs": [],
   "source": [
    "#total delay minutes by airline\n",
    "weather_del_tot = flight_no_nan.groupby(['UNIQUE_CARRIER'])['WEATHER_DELAY'].sum()\n",
    "carrier_del_tot = flight_no_nan.groupby(['UNIQUE_CARRIER'])['CARRIER_DELAY'].sum()"
   ]
  },
  {
   "cell_type": "code",
   "execution_count": 38,
   "metadata": {
    "collapsed": false
   },
   "outputs": [],
   "source": [
    "#total number of flights by airline\n",
    "tot_flights = flight_no_nan.groupby(['UNIQUE_CARRIER'])['FLIGHTS'].sum()"
   ]
  },
  {
   "cell_type": "code",
   "execution_count": 39,
   "metadata": {
    "collapsed": true
   },
   "outputs": [],
   "source": [
    "#total number of cancellations by airline\n",
    "tot_canc = flight_no_nan.groupby(['UNIQUE_CARRIER'])['CANCELLED'].sum()"
   ]
  },
  {
   "cell_type": "code",
   "execution_count": 40,
   "metadata": {
    "collapsed": false
   },
   "outputs": [
    {
     "data": {
      "text/plain": [
       "Index(['UNIQUE_CARRIER', 'airline_name', 'FL_DATE', 'AIRLINE_ID',\n",
       "       'ORIGIN_AIRPORT_ID', 'ORIGIN', 'ORIGIN_CITY_NAME', 'ORIGIN_STATE_ABR',\n",
       "       'DEST_AIRPORT_ID', 'DEST', 'DEST_CITY_NAME', 'DEST_STATE_ABR',\n",
       "       'DEP_DELAY', 'DEP_DELAY_NEW', 'ARR_DELAY', 'ARR_DELAY_NEW', 'CANCELLED',\n",
       "       'ACTUAL_ELAPSED_TIME', 'FLIGHTS', 'DISTANCE', 'CARRIER_DELAY',\n",
       "       'WEATHER_DELAY', 'Unnamed: 21'],\n",
       "      dtype='object')"
      ]
     },
     "execution_count": 40,
     "metadata": {},
     "output_type": "execute_result"
    }
   ],
   "source": [
    "flight_df1.columns"
   ]
  },
  {
   "cell_type": "markdown",
   "metadata": {},
   "source": [
    "## Analysis of Routes"
   ]
  },
  {
   "cell_type": "code",
   "execution_count": 41,
   "metadata": {
    "collapsed": false
   },
   "outputs": [],
   "source": [
    "origin_destination = flight_df1[['UNIQUE_CARRIER', 'airline_name', 'ORIGIN', 'ORIGIN_CITY_NAME', 'DEST',\n",
    "                                 'DEST_CITY_NAME', 'DISTANCE', 'WEATHER_DELAY', 'CARRIER_DELAY', 'FLIGHTS']]"
   ]
  },
  {
   "cell_type": "code",
   "execution_count": 42,
   "metadata": {
    "collapsed": false
   },
   "outputs": [
    {
     "name": "stderr",
     "output_type": "stream",
     "text": [
      "/Users/sunkuo/anaconda/lib/python3.5/site-packages/ipykernel/__main__.py:1: SettingWithCopyWarning: \n",
      "A value is trying to be set on a copy of a slice from a DataFrame.\n",
      "Try using .loc[row_indexer,col_indexer] = value instead\n",
      "\n",
      "See the caveats in the documentation: http://pandas.pydata.org/pandas-docs/stable/indexing.html#indexing-view-versus-copy\n",
      "  if __name__ == '__main__':\n"
     ]
    }
   ],
   "source": [
    "origin_destination['total_delay'] = origin_destination['WEATHER_DELAY'].radd(origin_destination['CARRIER_DELAY'])"
   ]
  },
  {
   "cell_type": "code",
   "execution_count": 44,
   "metadata": {
    "collapsed": false
   },
   "outputs": [],
   "source": [
    "# origin_destination.head()"
   ]
  },
  {
   "cell_type": "code",
   "execution_count": 45,
   "metadata": {
    "collapsed": false
   },
   "outputs": [
    {
     "name": "stderr",
     "output_type": "stream",
     "text": [
      "/Users/sunkuo/anaconda/lib/python3.5/site-packages/ipykernel/__main__.py:1: SettingWithCopyWarning: \n",
      "A value is trying to be set on a copy of a slice from a DataFrame\n",
      "\n",
      "See the caveats in the documentation: http://pandas.pydata.org/pandas-docs/stable/indexing.html#indexing-view-versus-copy\n",
      "  if __name__ == '__main__':\n"
     ]
    }
   ],
   "source": [
    "origin_destination.replace(np.nan, 0, inplace = True)"
   ]
  },
  {
   "cell_type": "code",
   "execution_count": 46,
   "metadata": {
    "collapsed": false
   },
   "outputs": [],
   "source": [
    "cancellations = flight_df1.groupby(['UNIQUE_CARRIER'])['CANCELLED'].sum()\n",
    "#cancellations"
   ]
  },
  {
   "cell_type": "code",
   "execution_count": 47,
   "metadata": {
    "collapsed": false
   },
   "outputs": [],
   "source": [
    "carrier_delay = flight_df1.groupby(['UNIQUE_CARRIER'])['CARRIER_DELAY'].sum()"
   ]
  },
  {
   "cell_type": "code",
   "execution_count": 48,
   "metadata": {
    "collapsed": false
   },
   "outputs": [],
   "source": [
    "weather_delay = flight_df1.groupby(['UNIQUE_CARRIER'])['WEATHER_DELAY'].sum()\n",
    "#weather_delay"
   ]
  },
  {
   "cell_type": "code",
   "execution_count": 49,
   "metadata": {
    "collapsed": false
   },
   "outputs": [
    {
     "name": "stderr",
     "output_type": "stream",
     "text": [
      "/Users/sunkuo/anaconda/lib/python3.5/site-packages/ipykernel/__main__.py:1: SettingWithCopyWarning: \n",
      "A value is trying to be set on a copy of a slice from a DataFrame.\n",
      "Try using .loc[row_indexer,col_indexer] = value instead\n",
      "\n",
      "See the caveats in the documentation: http://pandas.pydata.org/pandas-docs/stable/indexing.html#indexing-view-versus-copy\n",
      "  if __name__ == '__main__':\n",
      "/Users/sunkuo/anaconda/lib/python3.5/site-packages/ipykernel/__main__.py:2: SettingWithCopyWarning: \n",
      "A value is trying to be set on a copy of a slice from a DataFrame.\n",
      "Try using .loc[row_indexer,col_indexer] = value instead\n",
      "\n",
      "See the caveats in the documentation: http://pandas.pydata.org/pandas-docs/stable/indexing.html#indexing-view-versus-copy\n",
      "  from ipykernel import kernelapp as app\n"
     ]
    }
   ],
   "source": [
    "origin_destination['airport_routes'] = origin_destination[['ORIGIN', 'DEST']].apply(tuple, axis=1)\n",
    "origin_destination['city_routes'] = origin_destination[['ORIGIN_CITY_NAME', 'DEST_CITY_NAME']].apply(tuple, axis=1)"
   ]
  },
  {
   "cell_type": "code",
   "execution_count": 50,
   "metadata": {
    "collapsed": false
   },
   "outputs": [
    {
     "name": "stderr",
     "output_type": "stream",
     "text": [
      "/Users/sunkuo/anaconda/lib/python3.5/site-packages/ipykernel/__main__.py:1: SettingWithCopyWarning: \n",
      "A value is trying to be set on a copy of a slice from a DataFrame.\n",
      "Try using .loc[row_indexer,col_indexer] = value instead\n",
      "\n",
      "See the caveats in the documentation: http://pandas.pydata.org/pandas-docs/stable/indexing.html#indexing-view-versus-copy\n",
      "  if __name__ == '__main__':\n",
      "/Users/sunkuo/anaconda/lib/python3.5/site-packages/ipykernel/__main__.py:2: SettingWithCopyWarning: \n",
      "A value is trying to be set on a copy of a slice from a DataFrame.\n",
      "Try using .loc[row_indexer,col_indexer] = value instead\n",
      "\n",
      "See the caveats in the documentation: http://pandas.pydata.org/pandas-docs/stable/indexing.html#indexing-view-versus-copy\n",
      "  from ipykernel import kernelapp as app\n"
     ]
    }
   ],
   "source": [
    "origin_destination['airport_routes'] = origin_destination.loc[:,('ORIGIN', 'DEST')].apply(tuple, axis=1)\n",
    "origin_destination['city_routes'] = origin_destination.loc[:,('ORIGIN_CITY_NAME', 'DEST_CITY_NAME')].apply(tuple, axis=1)"
   ]
  },
  {
   "cell_type": "code",
   "execution_count": 198,
   "metadata": {
    "collapsed": true
   },
   "outputs": [
    {
     "name": "stderr",
     "output_type": "stream",
     "text": [
      "/Users/sunkuo/anaconda/lib/python3.5/site-packages/ipykernel/__main__.py:1: SettingWithCopyWarning: \n",
      "A value is trying to be set on a copy of a slice from a DataFrame.\n",
      "Try using .loc[row_indexer,col_indexer] = value instead\n",
      "\n",
      "See the caveats in the documentation: http://pandas.pydata.org/pandas-docs/stable/indexing.html#indexing-view-versus-copy\n",
      "  if __name__ == '__main__':\n"
     ]
    }
   ],
   "source": [
    "origin_destination['delayed?'] = origin_destination.loc[:,'total_delay'].apply(lambda x: 1 if x>0 else 0)"
   ]
  },
  {
   "cell_type": "code",
   "execution_count": 52,
   "metadata": {
    "collapsed": false
   },
   "outputs": [
    {
     "data": {
      "text/plain": [
       "487637"
      ]
     },
     "execution_count": 52,
     "metadata": {},
     "output_type": "execute_result"
    }
   ],
   "source": [
    "# origin_destination.head()\n",
    "len(origin_destination)"
   ]
  },
  {
   "cell_type": "code",
   "execution_count": 55,
   "metadata": {
    "collapsed": false
   },
   "outputs": [],
   "source": [
    "airline_routes_delays = origin_destination.groupby(['UNIQUE_CARRIER', 'airline_name', 'airport_routes', 'city_routes', \n",
    "                                                    'DISTANCE'])['total_delay'].mean()"
   ]
  },
  {
   "cell_type": "code",
   "execution_count": 56,
   "metadata": {
    "collapsed": false
   },
   "outputs": [],
   "source": [
    "airline_routes_sum = origin_destination.groupby(['UNIQUE_CARRIER', 'airline_name', 'airport_routes', 'city_routes', \n",
    "                                                    'DISTANCE'])['FLIGHTS'].sum()"
   ]
  },
  {
   "cell_type": "code",
   "execution_count": 57,
   "metadata": {
    "collapsed": true
   },
   "outputs": [],
   "source": [
    "route_delay_var = origin_destination.groupby(['UNIQUE_CARRIER', 'airline_name', 'airport_routes', 'city_routes', \n",
    "                                                    'DISTANCE'])['total_delay'].var()"
   ]
  },
  {
   "cell_type": "code",
   "execution_count": 58,
   "metadata": {
    "collapsed": false
   },
   "outputs": [
    {
     "data": {
      "text/html": [
       "<div>\n",
       "<table border=\"1\" class=\"dataframe\">\n",
       "  <thead>\n",
       "    <tr style=\"text-align: right;\">\n",
       "      <th></th>\n",
       "      <th>UNIQUE_CARRIER</th>\n",
       "      <th>airline_name</th>\n",
       "      <th>airport_routes</th>\n",
       "      <th>city_routes</th>\n",
       "      <th>DISTANCE</th>\n",
       "      <th>total_delay_Count</th>\n",
       "    </tr>\n",
       "  </thead>\n",
       "  <tbody>\n",
       "    <tr>\n",
       "      <th>0</th>\n",
       "      <td>AA</td>\n",
       "      <td>American Airlines Inc.</td>\n",
       "      <td>(ABQ, DFW)</td>\n",
       "      <td>(Albuquerque, NM, Dallas/Fort Worth, TX)</td>\n",
       "      <td>569.0</td>\n",
       "      <td>409.595498</td>\n",
       "    </tr>\n",
       "    <tr>\n",
       "      <th>1</th>\n",
       "      <td>AA</td>\n",
       "      <td>American Airlines Inc.</td>\n",
       "      <td>(ALB, CLT)</td>\n",
       "      <td>(Albany, NY, Charlotte, NC)</td>\n",
       "      <td>646.0</td>\n",
       "      <td>21.844186</td>\n",
       "    </tr>\n",
       "    <tr>\n",
       "      <th>2</th>\n",
       "      <td>AA</td>\n",
       "      <td>American Airlines Inc.</td>\n",
       "      <td>(ANC, DFW)</td>\n",
       "      <td>(Anchorage, AK, Dallas/Fort Worth, TX)</td>\n",
       "      <td>3043.0</td>\n",
       "      <td>157.078818</td>\n",
       "    </tr>\n",
       "    <tr>\n",
       "      <th>3</th>\n",
       "      <td>AA</td>\n",
       "      <td>American Airlines Inc.</td>\n",
       "      <td>(ANC, LAX)</td>\n",
       "      <td>(Anchorage, AK, Los Angeles, CA)</td>\n",
       "      <td>2345.0</td>\n",
       "      <td>12432.758621</td>\n",
       "    </tr>\n",
       "    <tr>\n",
       "      <th>4</th>\n",
       "      <td>AA</td>\n",
       "      <td>American Airlines Inc.</td>\n",
       "      <td>(ANC, PHX)</td>\n",
       "      <td>(Anchorage, AK, Phoenix, AZ)</td>\n",
       "      <td>2552.0</td>\n",
       "      <td>15.206897</td>\n",
       "    </tr>\n",
       "  </tbody>\n",
       "</table>\n",
       "</div>"
      ],
      "text/plain": [
       "  UNIQUE_CARRIER            airline_name airport_routes  \\\n",
       "0             AA  American Airlines Inc.     (ABQ, DFW)   \n",
       "1             AA  American Airlines Inc.     (ALB, CLT)   \n",
       "2             AA  American Airlines Inc.     (ANC, DFW)   \n",
       "3             AA  American Airlines Inc.     (ANC, LAX)   \n",
       "4             AA  American Airlines Inc.     (ANC, PHX)   \n",
       "\n",
       "                                city_routes  DISTANCE  total_delay_Count  \n",
       "0  (Albuquerque, NM, Dallas/Fort Worth, TX)     569.0         409.595498  \n",
       "1               (Albany, NY, Charlotte, NC)     646.0          21.844186  \n",
       "2    (Anchorage, AK, Dallas/Fort Worth, TX)    3043.0         157.078818  \n",
       "3          (Anchorage, AK, Los Angeles, CA)    2345.0       12432.758621  \n",
       "4              (Anchorage, AK, Phoenix, AZ)    2552.0          15.206897  "
      ]
     },
     "execution_count": 58,
     "metadata": {},
     "output_type": "execute_result"
    }
   ],
   "source": [
    "route_delay_var = pd.DataFrame(route_delay_var)\n",
    "route_delay_var = route_delay_var.add_suffix('_Count').reset_index() \n",
    "route_delay_var.head()"
   ]
  },
  {
   "cell_type": "code",
   "execution_count": 82,
   "metadata": {
    "collapsed": false
   },
   "outputs": [],
   "source": [
    "route_delay_var['merge_col'] = route_delay_var.loc[:, ('UNIQUE_CARRIER', 'airport_routes')].apply(tuple, axis=1)"
   ]
  },
  {
   "cell_type": "code",
   "execution_count": 85,
   "metadata": {
    "collapsed": false
   },
   "outputs": [
    {
     "data": {
      "text/html": [
       "<div>\n",
       "<table border=\"1\" class=\"dataframe\">\n",
       "  <thead>\n",
       "    <tr style=\"text-align: right;\">\n",
       "      <th></th>\n",
       "      <th>UNIQUE_CARRIER</th>\n",
       "      <th>airline_name</th>\n",
       "      <th>airport_routes</th>\n",
       "      <th>city_routes</th>\n",
       "      <th>DISTANCE</th>\n",
       "      <th>total_delay_Count</th>\n",
       "      <th>merge_col</th>\n",
       "    </tr>\n",
       "  </thead>\n",
       "  <tbody>\n",
       "    <tr>\n",
       "      <th>0</th>\n",
       "      <td>AA</td>\n",
       "      <td>American Airlines Inc.</td>\n",
       "      <td>(ABQ, DFW)</td>\n",
       "      <td>(Albuquerque, NM, Dallas/Fort Worth, TX)</td>\n",
       "      <td>569.0</td>\n",
       "      <td>409.595498</td>\n",
       "      <td>(AA, (ABQ, DFW))</td>\n",
       "    </tr>\n",
       "    <tr>\n",
       "      <th>1</th>\n",
       "      <td>AA</td>\n",
       "      <td>American Airlines Inc.</td>\n",
       "      <td>(ALB, CLT)</td>\n",
       "      <td>(Albany, NY, Charlotte, NC)</td>\n",
       "      <td>646.0</td>\n",
       "      <td>21.844186</td>\n",
       "      <td>(AA, (ALB, CLT))</td>\n",
       "    </tr>\n",
       "  </tbody>\n",
       "</table>\n",
       "</div>"
      ],
      "text/plain": [
       "  UNIQUE_CARRIER            airline_name airport_routes  \\\n",
       "0             AA  American Airlines Inc.     (ABQ, DFW)   \n",
       "1             AA  American Airlines Inc.     (ALB, CLT)   \n",
       "\n",
       "                                city_routes  DISTANCE  total_delay_Count  \\\n",
       "0  (Albuquerque, NM, Dallas/Fort Worth, TX)     569.0         409.595498   \n",
       "1               (Albany, NY, Charlotte, NC)     646.0          21.844186   \n",
       "\n",
       "          merge_col  \n",
       "0  (AA, (ABQ, DFW))  \n",
       "1  (AA, (ALB, CLT))  "
      ]
     },
     "execution_count": 85,
     "metadata": {},
     "output_type": "execute_result"
    }
   ],
   "source": [
    "route_delay_var.head(2)"
   ]
  },
  {
   "cell_type": "code",
   "execution_count": 59,
   "metadata": {
    "collapsed": false
   },
   "outputs": [],
   "source": [
    "airline_routes_sum = pd.DataFrame(airline_routes_sum)"
   ]
  },
  {
   "cell_type": "code",
   "execution_count": 60,
   "metadata": {
    "collapsed": false,
    "scrolled": true
   },
   "outputs": [
    {
     "data": {
      "text/html": [
       "<div>\n",
       "<table border=\"1\" class=\"dataframe\">\n",
       "  <thead>\n",
       "    <tr style=\"text-align: right;\">\n",
       "      <th></th>\n",
       "      <th>UNIQUE_CARRIER</th>\n",
       "      <th>airline_name</th>\n",
       "      <th>airport_routes</th>\n",
       "      <th>city_routes</th>\n",
       "      <th>DISTANCE</th>\n",
       "      <th>FLIGHTS_Count</th>\n",
       "    </tr>\n",
       "  </thead>\n",
       "  <tbody>\n",
       "    <tr>\n",
       "      <th>0</th>\n",
       "      <td>AA</td>\n",
       "      <td>American Airlines Inc.</td>\n",
       "      <td>(ABQ, DFW)</td>\n",
       "      <td>(Albuquerque, NM, Dallas/Fort Worth, TX)</td>\n",
       "      <td>569.0</td>\n",
       "      <td>145.0</td>\n",
       "    </tr>\n",
       "    <tr>\n",
       "      <th>1</th>\n",
       "      <td>AA</td>\n",
       "      <td>American Airlines Inc.</td>\n",
       "      <td>(ALB, CLT)</td>\n",
       "      <td>(Albany, NY, Charlotte, NC)</td>\n",
       "      <td>646.0</td>\n",
       "      <td>86.0</td>\n",
       "    </tr>\n",
       "    <tr>\n",
       "      <th>2</th>\n",
       "      <td>AA</td>\n",
       "      <td>American Airlines Inc.</td>\n",
       "      <td>(ANC, DFW)</td>\n",
       "      <td>(Anchorage, AK, Dallas/Fort Worth, TX)</td>\n",
       "      <td>3043.0</td>\n",
       "      <td>29.0</td>\n",
       "    </tr>\n",
       "    <tr>\n",
       "      <th>3</th>\n",
       "      <td>AA</td>\n",
       "      <td>American Airlines Inc.</td>\n",
       "      <td>(ANC, LAX)</td>\n",
       "      <td>(Anchorage, AK, Los Angeles, CA)</td>\n",
       "      <td>2345.0</td>\n",
       "      <td>29.0</td>\n",
       "    </tr>\n",
       "    <tr>\n",
       "      <th>4</th>\n",
       "      <td>AA</td>\n",
       "      <td>American Airlines Inc.</td>\n",
       "      <td>(ANC, PHX)</td>\n",
       "      <td>(Anchorage, AK, Phoenix, AZ)</td>\n",
       "      <td>2552.0</td>\n",
       "      <td>29.0</td>\n",
       "    </tr>\n",
       "  </tbody>\n",
       "</table>\n",
       "</div>"
      ],
      "text/plain": [
       "  UNIQUE_CARRIER            airline_name airport_routes  \\\n",
       "0             AA  American Airlines Inc.     (ABQ, DFW)   \n",
       "1             AA  American Airlines Inc.     (ALB, CLT)   \n",
       "2             AA  American Airlines Inc.     (ANC, DFW)   \n",
       "3             AA  American Airlines Inc.     (ANC, LAX)   \n",
       "4             AA  American Airlines Inc.     (ANC, PHX)   \n",
       "\n",
       "                                city_routes  DISTANCE  FLIGHTS_Count  \n",
       "0  (Albuquerque, NM, Dallas/Fort Worth, TX)     569.0          145.0  \n",
       "1               (Albany, NY, Charlotte, NC)     646.0           86.0  \n",
       "2    (Anchorage, AK, Dallas/Fort Worth, TX)    3043.0           29.0  \n",
       "3          (Anchorage, AK, Los Angeles, CA)    2345.0           29.0  \n",
       "4              (Anchorage, AK, Phoenix, AZ)    2552.0           29.0  "
      ]
     },
     "execution_count": 60,
     "metadata": {},
     "output_type": "execute_result"
    }
   ],
   "source": [
    "airline_routes_sum = airline_routes_sum.add_suffix('_Count').reset_index() \n",
    "airline_routes_sum.head()"
   ]
  },
  {
   "cell_type": "code",
   "execution_count": 62,
   "metadata": {
    "collapsed": false
   },
   "outputs": [
    {
     "data": {
      "text/html": [
       "<div>\n",
       "<table border=\"1\" class=\"dataframe\">\n",
       "  <thead>\n",
       "    <tr style=\"text-align: right;\">\n",
       "      <th></th>\n",
       "      <th>UNIQUE_CARRIER</th>\n",
       "      <th>airline_name</th>\n",
       "      <th>airport_routes</th>\n",
       "      <th>city_routes</th>\n",
       "      <th>DISTANCE</th>\n",
       "      <th>FLIGHTS_Count</th>\n",
       "      <th>merge_col</th>\n",
       "    </tr>\n",
       "  </thead>\n",
       "  <tbody>\n",
       "    <tr>\n",
       "      <th>0</th>\n",
       "      <td>AA</td>\n",
       "      <td>American Airlines Inc.</td>\n",
       "      <td>(ABQ, DFW)</td>\n",
       "      <td>(Albuquerque, NM, Dallas/Fort Worth, TX)</td>\n",
       "      <td>569.0</td>\n",
       "      <td>145.0</td>\n",
       "      <td>(AA, (ABQ, DFW))</td>\n",
       "    </tr>\n",
       "    <tr>\n",
       "      <th>1</th>\n",
       "      <td>AA</td>\n",
       "      <td>American Airlines Inc.</td>\n",
       "      <td>(ALB, CLT)</td>\n",
       "      <td>(Albany, NY, Charlotte, NC)</td>\n",
       "      <td>646.0</td>\n",
       "      <td>86.0</td>\n",
       "      <td>(AA, (ALB, CLT))</td>\n",
       "    </tr>\n",
       "    <tr>\n",
       "      <th>2</th>\n",
       "      <td>AA</td>\n",
       "      <td>American Airlines Inc.</td>\n",
       "      <td>(ANC, DFW)</td>\n",
       "      <td>(Anchorage, AK, Dallas/Fort Worth, TX)</td>\n",
       "      <td>3043.0</td>\n",
       "      <td>29.0</td>\n",
       "      <td>(AA, (ANC, DFW))</td>\n",
       "    </tr>\n",
       "    <tr>\n",
       "      <th>3</th>\n",
       "      <td>AA</td>\n",
       "      <td>American Airlines Inc.</td>\n",
       "      <td>(ANC, LAX)</td>\n",
       "      <td>(Anchorage, AK, Los Angeles, CA)</td>\n",
       "      <td>2345.0</td>\n",
       "      <td>29.0</td>\n",
       "      <td>(AA, (ANC, LAX))</td>\n",
       "    </tr>\n",
       "    <tr>\n",
       "      <th>4</th>\n",
       "      <td>AA</td>\n",
       "      <td>American Airlines Inc.</td>\n",
       "      <td>(ANC, PHX)</td>\n",
       "      <td>(Anchorage, AK, Phoenix, AZ)</td>\n",
       "      <td>2552.0</td>\n",
       "      <td>29.0</td>\n",
       "      <td>(AA, (ANC, PHX))</td>\n",
       "    </tr>\n",
       "  </tbody>\n",
       "</table>\n",
       "</div>"
      ],
      "text/plain": [
       "  UNIQUE_CARRIER            airline_name airport_routes  \\\n",
       "0             AA  American Airlines Inc.     (ABQ, DFW)   \n",
       "1             AA  American Airlines Inc.     (ALB, CLT)   \n",
       "2             AA  American Airlines Inc.     (ANC, DFW)   \n",
       "3             AA  American Airlines Inc.     (ANC, LAX)   \n",
       "4             AA  American Airlines Inc.     (ANC, PHX)   \n",
       "\n",
       "                                city_routes  DISTANCE  FLIGHTS_Count  \\\n",
       "0  (Albuquerque, NM, Dallas/Fort Worth, TX)     569.0          145.0   \n",
       "1               (Albany, NY, Charlotte, NC)     646.0           86.0   \n",
       "2    (Anchorage, AK, Dallas/Fort Worth, TX)    3043.0           29.0   \n",
       "3          (Anchorage, AK, Los Angeles, CA)    2345.0           29.0   \n",
       "4              (Anchorage, AK, Phoenix, AZ)    2552.0           29.0   \n",
       "\n",
       "          merge_col  \n",
       "0  (AA, (ABQ, DFW))  \n",
       "1  (AA, (ALB, CLT))  \n",
       "2  (AA, (ANC, DFW))  \n",
       "3  (AA, (ANC, LAX))  \n",
       "4  (AA, (ANC, PHX))  "
      ]
     },
     "execution_count": 62,
     "metadata": {},
     "output_type": "execute_result"
    }
   ],
   "source": [
    "airline_routes_sum['merge_col'] = airline_routes_sum.loc[:, ('UNIQUE_CARRIER', 'airport_routes')].apply(tuple, axis=1)\n",
    "airline_routes_sum.head()\n",
    "#df.drop('column_name', axis=1, inplace=True)\n",
    "#airline_routes_sum.drop('index', axis=1, inplace=True)"
   ]
  },
  {
   "cell_type": "code",
   "execution_count": 63,
   "metadata": {
    "collapsed": false
   },
   "outputs": [
    {
     "data": {
      "text/plain": [
       "Index(['UNIQUE_CARRIER', 'airline_name', 'airport_routes', 'city_routes',\n",
       "       'DISTANCE', 'FLIGHTS_Count', 'merge_col'],\n",
       "      dtype='object')"
      ]
     },
     "execution_count": 63,
     "metadata": {},
     "output_type": "execute_result"
    }
   ],
   "source": [
    "airline_routes_sum.columns"
   ]
  },
  {
   "cell_type": "code",
   "execution_count": 377,
   "metadata": {
    "collapsed": false
   },
   "outputs": [],
   "source": [
    "# airline_routes_sum.columns = ['UNIQUE_CARRIER', 'airline_name', 'airport_routes', 'city_routes', 'DISTANCE',\n",
    "#                               'FLIGHTS_Count', 'merge_col']"
   ]
  },
  {
   "cell_type": "code",
   "execution_count": 64,
   "metadata": {
    "collapsed": false
   },
   "outputs": [
    {
     "data": {
      "text/plain": [
       "Index(['UNIQUE_CARRIER', 'airline_name', 'ORIGIN', 'ORIGIN_CITY_NAME', 'DEST',\n",
       "       'DEST_CITY_NAME', 'DISTANCE', 'WEATHER_DELAY', 'CARRIER_DELAY',\n",
       "       'FLIGHTS', 'total_delay', 'airport_routes', 'city_routes'],\n",
       "      dtype='object')"
      ]
     },
     "execution_count": 64,
     "metadata": {},
     "output_type": "execute_result"
    }
   ],
   "source": [
    "origin_destination.columns"
   ]
  },
  {
   "cell_type": "code",
   "execution_count": 74,
   "metadata": {
    "collapsed": false
   },
   "outputs": [],
   "source": [
    "route_delays = pd.DataFrame(origin_destination.groupby(['UNIQUE_CARRIER', 'airline_name', 'airport_routes', 'city_routes', \n",
    "                                            'DISTANCE'])['total_delay'].mean())"
   ]
  },
  {
   "cell_type": "code",
   "execution_count": 75,
   "metadata": {
    "collapsed": false
   },
   "outputs": [
    {
     "data": {
      "text/html": [
       "<div>\n",
       "<table border=\"1\" class=\"dataframe\">\n",
       "  <thead>\n",
       "    <tr style=\"text-align: right;\">\n",
       "      <th></th>\n",
       "      <th>UNIQUE_CARRIER</th>\n",
       "      <th>airline_name</th>\n",
       "      <th>airport_routes</th>\n",
       "      <th>city_routes</th>\n",
       "      <th>DISTANCE</th>\n",
       "      <th>total_delay_Count</th>\n",
       "    </tr>\n",
       "  </thead>\n",
       "  <tbody>\n",
       "    <tr>\n",
       "      <th>0</th>\n",
       "      <td>AA</td>\n",
       "      <td>American Airlines Inc.</td>\n",
       "      <td>(ABQ, DFW)</td>\n",
       "      <td>(Albuquerque, NM, Dallas/Fort Worth, TX)</td>\n",
       "      <td>569.0</td>\n",
       "      <td>5.041379</td>\n",
       "    </tr>\n",
       "    <tr>\n",
       "      <th>1</th>\n",
       "      <td>AA</td>\n",
       "      <td>American Airlines Inc.</td>\n",
       "      <td>(ALB, CLT)</td>\n",
       "      <td>(Albany, NY, Charlotte, NC)</td>\n",
       "      <td>646.0</td>\n",
       "      <td>1.406977</td>\n",
       "    </tr>\n",
       "    <tr>\n",
       "      <th>2</th>\n",
       "      <td>AA</td>\n",
       "      <td>American Airlines Inc.</td>\n",
       "      <td>(ANC, DFW)</td>\n",
       "      <td>(Anchorage, AK, Dallas/Fort Worth, TX)</td>\n",
       "      <td>3043.0</td>\n",
       "      <td>5.310345</td>\n",
       "    </tr>\n",
       "    <tr>\n",
       "      <th>3</th>\n",
       "      <td>AA</td>\n",
       "      <td>American Airlines Inc.</td>\n",
       "      <td>(ANC, LAX)</td>\n",
       "      <td>(Anchorage, AK, Los Angeles, CA)</td>\n",
       "      <td>2345.0</td>\n",
       "      <td>26.517241</td>\n",
       "    </tr>\n",
       "    <tr>\n",
       "      <th>4</th>\n",
       "      <td>AA</td>\n",
       "      <td>American Airlines Inc.</td>\n",
       "      <td>(ANC, PHX)</td>\n",
       "      <td>(Anchorage, AK, Phoenix, AZ)</td>\n",
       "      <td>2552.0</td>\n",
       "      <td>0.724138</td>\n",
       "    </tr>\n",
       "  </tbody>\n",
       "</table>\n",
       "</div>"
      ],
      "text/plain": [
       "  UNIQUE_CARRIER            airline_name airport_routes  \\\n",
       "0             AA  American Airlines Inc.     (ABQ, DFW)   \n",
       "1             AA  American Airlines Inc.     (ALB, CLT)   \n",
       "2             AA  American Airlines Inc.     (ANC, DFW)   \n",
       "3             AA  American Airlines Inc.     (ANC, LAX)   \n",
       "4             AA  American Airlines Inc.     (ANC, PHX)   \n",
       "\n",
       "                                city_routes  DISTANCE  total_delay_Count  \n",
       "0  (Albuquerque, NM, Dallas/Fort Worth, TX)     569.0           5.041379  \n",
       "1               (Albany, NY, Charlotte, NC)     646.0           1.406977  \n",
       "2    (Anchorage, AK, Dallas/Fort Worth, TX)    3043.0           5.310345  \n",
       "3          (Anchorage, AK, Los Angeles, CA)    2345.0          26.517241  \n",
       "4              (Anchorage, AK, Phoenix, AZ)    2552.0           0.724138  "
      ]
     },
     "execution_count": 75,
     "metadata": {},
     "output_type": "execute_result"
    }
   ],
   "source": [
    "#route_delays.sort(columns = 'total_delay', ascending = False, inplace = True)\n",
    "route_delays = route_delays.add_suffix('_Count').reset_index()\n",
    "#route_delays.drop('index_Count', axis=1, inplace=True)\n",
    "route_delays.head()"
   ]
  },
  {
   "cell_type": "code",
   "execution_count": 76,
   "metadata": {
    "collapsed": false
   },
   "outputs": [],
   "source": [
    "# route_delays.columns = ['UNIQUE_CARRIER', 'airline_name', 'airport_routes', 'city_routes',\n",
    "#        'DISTANCE', 'avg_delay_minutes'] \n",
    "route_delays['merge_col'] = route_delays.loc[:, ('UNIQUE_CARRIER', 'airport_routes')].apply(tuple, axis=1)"
   ]
  },
  {
   "cell_type": "code",
   "execution_count": 77,
   "metadata": {
    "collapsed": false
   },
   "outputs": [
    {
     "data": {
      "text/html": [
       "<div>\n",
       "<table border=\"1\" class=\"dataframe\">\n",
       "  <thead>\n",
       "    <tr style=\"text-align: right;\">\n",
       "      <th></th>\n",
       "      <th>UNIQUE_CARRIER</th>\n",
       "      <th>airline_name</th>\n",
       "      <th>airport_routes</th>\n",
       "      <th>city_routes</th>\n",
       "      <th>DISTANCE</th>\n",
       "      <th>total_delay_Count</th>\n",
       "      <th>merge_col</th>\n",
       "    </tr>\n",
       "  </thead>\n",
       "  <tbody>\n",
       "    <tr>\n",
       "      <th>0</th>\n",
       "      <td>AA</td>\n",
       "      <td>American Airlines Inc.</td>\n",
       "      <td>(ABQ, DFW)</td>\n",
       "      <td>(Albuquerque, NM, Dallas/Fort Worth, TX)</td>\n",
       "      <td>569.0</td>\n",
       "      <td>5.041379</td>\n",
       "      <td>(AA, (ABQ, DFW))</td>\n",
       "    </tr>\n",
       "    <tr>\n",
       "      <th>1</th>\n",
       "      <td>AA</td>\n",
       "      <td>American Airlines Inc.</td>\n",
       "      <td>(ALB, CLT)</td>\n",
       "      <td>(Albany, NY, Charlotte, NC)</td>\n",
       "      <td>646.0</td>\n",
       "      <td>1.406977</td>\n",
       "      <td>(AA, (ALB, CLT))</td>\n",
       "    </tr>\n",
       "    <tr>\n",
       "      <th>2</th>\n",
       "      <td>AA</td>\n",
       "      <td>American Airlines Inc.</td>\n",
       "      <td>(ANC, DFW)</td>\n",
       "      <td>(Anchorage, AK, Dallas/Fort Worth, TX)</td>\n",
       "      <td>3043.0</td>\n",
       "      <td>5.310345</td>\n",
       "      <td>(AA, (ANC, DFW))</td>\n",
       "    </tr>\n",
       "    <tr>\n",
       "      <th>3</th>\n",
       "      <td>AA</td>\n",
       "      <td>American Airlines Inc.</td>\n",
       "      <td>(ANC, LAX)</td>\n",
       "      <td>(Anchorage, AK, Los Angeles, CA)</td>\n",
       "      <td>2345.0</td>\n",
       "      <td>26.517241</td>\n",
       "      <td>(AA, (ANC, LAX))</td>\n",
       "    </tr>\n",
       "    <tr>\n",
       "      <th>4</th>\n",
       "      <td>AA</td>\n",
       "      <td>American Airlines Inc.</td>\n",
       "      <td>(ANC, PHX)</td>\n",
       "      <td>(Anchorage, AK, Phoenix, AZ)</td>\n",
       "      <td>2552.0</td>\n",
       "      <td>0.724138</td>\n",
       "      <td>(AA, (ANC, PHX))</td>\n",
       "    </tr>\n",
       "  </tbody>\n",
       "</table>\n",
       "</div>"
      ],
      "text/plain": [
       "  UNIQUE_CARRIER            airline_name airport_routes  \\\n",
       "0             AA  American Airlines Inc.     (ABQ, DFW)   \n",
       "1             AA  American Airlines Inc.     (ALB, CLT)   \n",
       "2             AA  American Airlines Inc.     (ANC, DFW)   \n",
       "3             AA  American Airlines Inc.     (ANC, LAX)   \n",
       "4             AA  American Airlines Inc.     (ANC, PHX)   \n",
       "\n",
       "                                city_routes  DISTANCE  total_delay_Count  \\\n",
       "0  (Albuquerque, NM, Dallas/Fort Worth, TX)     569.0           5.041379   \n",
       "1               (Albany, NY, Charlotte, NC)     646.0           1.406977   \n",
       "2    (Anchorage, AK, Dallas/Fort Worth, TX)    3043.0           5.310345   \n",
       "3          (Anchorage, AK, Los Angeles, CA)    2345.0          26.517241   \n",
       "4              (Anchorage, AK, Phoenix, AZ)    2552.0           0.724138   \n",
       "\n",
       "          merge_col  \n",
       "0  (AA, (ABQ, DFW))  \n",
       "1  (AA, (ALB, CLT))  \n",
       "2  (AA, (ANC, DFW))  \n",
       "3  (AA, (ANC, LAX))  \n",
       "4  (AA, (ANC, PHX))  "
      ]
     },
     "execution_count": 77,
     "metadata": {},
     "output_type": "execute_result"
    }
   ],
   "source": [
    "route_delays.head()"
   ]
  },
  {
   "cell_type": "code",
   "execution_count": 86,
   "metadata": {
    "collapsed": false
   },
   "outputs": [
    {
     "data": {
      "text/html": [
       "<div>\n",
       "<table border=\"1\" class=\"dataframe\">\n",
       "  <thead>\n",
       "    <tr style=\"text-align: right;\">\n",
       "      <th></th>\n",
       "      <th>UNIQUE_CARRIER_x</th>\n",
       "      <th>airline_name_x</th>\n",
       "      <th>airport_routes_x</th>\n",
       "      <th>city_routes_x</th>\n",
       "      <th>DISTANCE_x</th>\n",
       "      <th>total_delay_Count_x</th>\n",
       "      <th>merge_col</th>\n",
       "      <th>UNIQUE_CARRIER_y</th>\n",
       "      <th>airline_name_y</th>\n",
       "      <th>airport_routes_y</th>\n",
       "      <th>city_routes_y</th>\n",
       "      <th>DISTANCE_y</th>\n",
       "      <th>FLIGHTS_Count</th>\n",
       "      <th>UNIQUE_CARRIER</th>\n",
       "      <th>airline_name</th>\n",
       "      <th>airport_routes</th>\n",
       "      <th>city_routes</th>\n",
       "      <th>DISTANCE</th>\n",
       "      <th>total_delay_Count_y</th>\n",
       "    </tr>\n",
       "  </thead>\n",
       "  <tbody>\n",
       "    <tr>\n",
       "      <th>0</th>\n",
       "      <td>AA</td>\n",
       "      <td>American Airlines Inc.</td>\n",
       "      <td>(ABQ, DFW)</td>\n",
       "      <td>(Albuquerque, NM, Dallas/Fort Worth, TX)</td>\n",
       "      <td>569.0</td>\n",
       "      <td>5.041379</td>\n",
       "      <td>(AA, (ABQ, DFW))</td>\n",
       "      <td>AA</td>\n",
       "      <td>American Airlines Inc.</td>\n",
       "      <td>(ABQ, DFW)</td>\n",
       "      <td>(Albuquerque, NM, Dallas/Fort Worth, TX)</td>\n",
       "      <td>569.0</td>\n",
       "      <td>145.0</td>\n",
       "      <td>AA</td>\n",
       "      <td>American Airlines Inc.</td>\n",
       "      <td>(ABQ, DFW)</td>\n",
       "      <td>(Albuquerque, NM, Dallas/Fort Worth, TX)</td>\n",
       "      <td>569.0</td>\n",
       "      <td>409.595498</td>\n",
       "    </tr>\n",
       "    <tr>\n",
       "      <th>1</th>\n",
       "      <td>AA</td>\n",
       "      <td>American Airlines Inc.</td>\n",
       "      <td>(ALB, CLT)</td>\n",
       "      <td>(Albany, NY, Charlotte, NC)</td>\n",
       "      <td>646.0</td>\n",
       "      <td>1.406977</td>\n",
       "      <td>(AA, (ALB, CLT))</td>\n",
       "      <td>AA</td>\n",
       "      <td>American Airlines Inc.</td>\n",
       "      <td>(ALB, CLT)</td>\n",
       "      <td>(Albany, NY, Charlotte, NC)</td>\n",
       "      <td>646.0</td>\n",
       "      <td>86.0</td>\n",
       "      <td>AA</td>\n",
       "      <td>American Airlines Inc.</td>\n",
       "      <td>(ALB, CLT)</td>\n",
       "      <td>(Albany, NY, Charlotte, NC)</td>\n",
       "      <td>646.0</td>\n",
       "      <td>21.844186</td>\n",
       "    </tr>\n",
       "    <tr>\n",
       "      <th>2</th>\n",
       "      <td>AA</td>\n",
       "      <td>American Airlines Inc.</td>\n",
       "      <td>(ANC, DFW)</td>\n",
       "      <td>(Anchorage, AK, Dallas/Fort Worth, TX)</td>\n",
       "      <td>3043.0</td>\n",
       "      <td>5.310345</td>\n",
       "      <td>(AA, (ANC, DFW))</td>\n",
       "      <td>AA</td>\n",
       "      <td>American Airlines Inc.</td>\n",
       "      <td>(ANC, DFW)</td>\n",
       "      <td>(Anchorage, AK, Dallas/Fort Worth, TX)</td>\n",
       "      <td>3043.0</td>\n",
       "      <td>29.0</td>\n",
       "      <td>AA</td>\n",
       "      <td>American Airlines Inc.</td>\n",
       "      <td>(ANC, DFW)</td>\n",
       "      <td>(Anchorage, AK, Dallas/Fort Worth, TX)</td>\n",
       "      <td>3043.0</td>\n",
       "      <td>157.078818</td>\n",
       "    </tr>\n",
       "    <tr>\n",
       "      <th>3</th>\n",
       "      <td>AA</td>\n",
       "      <td>American Airlines Inc.</td>\n",
       "      <td>(ANC, LAX)</td>\n",
       "      <td>(Anchorage, AK, Los Angeles, CA)</td>\n",
       "      <td>2345.0</td>\n",
       "      <td>26.517241</td>\n",
       "      <td>(AA, (ANC, LAX))</td>\n",
       "      <td>AA</td>\n",
       "      <td>American Airlines Inc.</td>\n",
       "      <td>(ANC, LAX)</td>\n",
       "      <td>(Anchorage, AK, Los Angeles, CA)</td>\n",
       "      <td>2345.0</td>\n",
       "      <td>29.0</td>\n",
       "      <td>AA</td>\n",
       "      <td>American Airlines Inc.</td>\n",
       "      <td>(ANC, LAX)</td>\n",
       "      <td>(Anchorage, AK, Los Angeles, CA)</td>\n",
       "      <td>2345.0</td>\n",
       "      <td>12432.758621</td>\n",
       "    </tr>\n",
       "    <tr>\n",
       "      <th>4</th>\n",
       "      <td>AA</td>\n",
       "      <td>American Airlines Inc.</td>\n",
       "      <td>(ANC, PHX)</td>\n",
       "      <td>(Anchorage, AK, Phoenix, AZ)</td>\n",
       "      <td>2552.0</td>\n",
       "      <td>0.724138</td>\n",
       "      <td>(AA, (ANC, PHX))</td>\n",
       "      <td>AA</td>\n",
       "      <td>American Airlines Inc.</td>\n",
       "      <td>(ANC, PHX)</td>\n",
       "      <td>(Anchorage, AK, Phoenix, AZ)</td>\n",
       "      <td>2552.0</td>\n",
       "      <td>29.0</td>\n",
       "      <td>AA</td>\n",
       "      <td>American Airlines Inc.</td>\n",
       "      <td>(ANC, PHX)</td>\n",
       "      <td>(Anchorage, AK, Phoenix, AZ)</td>\n",
       "      <td>2552.0</td>\n",
       "      <td>15.206897</td>\n",
       "    </tr>\n",
       "  </tbody>\n",
       "</table>\n",
       "</div>"
      ],
      "text/plain": [
       "  UNIQUE_CARRIER_x          airline_name_x airport_routes_x  \\\n",
       "0               AA  American Airlines Inc.       (ABQ, DFW)   \n",
       "1               AA  American Airlines Inc.       (ALB, CLT)   \n",
       "2               AA  American Airlines Inc.       (ANC, DFW)   \n",
       "3               AA  American Airlines Inc.       (ANC, LAX)   \n",
       "4               AA  American Airlines Inc.       (ANC, PHX)   \n",
       "\n",
       "                              city_routes_x  DISTANCE_x  total_delay_Count_x  \\\n",
       "0  (Albuquerque, NM, Dallas/Fort Worth, TX)       569.0             5.041379   \n",
       "1               (Albany, NY, Charlotte, NC)       646.0             1.406977   \n",
       "2    (Anchorage, AK, Dallas/Fort Worth, TX)      3043.0             5.310345   \n",
       "3          (Anchorage, AK, Los Angeles, CA)      2345.0            26.517241   \n",
       "4              (Anchorage, AK, Phoenix, AZ)      2552.0             0.724138   \n",
       "\n",
       "          merge_col UNIQUE_CARRIER_y          airline_name_y airport_routes_y  \\\n",
       "0  (AA, (ABQ, DFW))               AA  American Airlines Inc.       (ABQ, DFW)   \n",
       "1  (AA, (ALB, CLT))               AA  American Airlines Inc.       (ALB, CLT)   \n",
       "2  (AA, (ANC, DFW))               AA  American Airlines Inc.       (ANC, DFW)   \n",
       "3  (AA, (ANC, LAX))               AA  American Airlines Inc.       (ANC, LAX)   \n",
       "4  (AA, (ANC, PHX))               AA  American Airlines Inc.       (ANC, PHX)   \n",
       "\n",
       "                              city_routes_y  DISTANCE_y  FLIGHTS_Count  \\\n",
       "0  (Albuquerque, NM, Dallas/Fort Worth, TX)       569.0          145.0   \n",
       "1               (Albany, NY, Charlotte, NC)       646.0           86.0   \n",
       "2    (Anchorage, AK, Dallas/Fort Worth, TX)      3043.0           29.0   \n",
       "3          (Anchorage, AK, Los Angeles, CA)      2345.0           29.0   \n",
       "4              (Anchorage, AK, Phoenix, AZ)      2552.0           29.0   \n",
       "\n",
       "  UNIQUE_CARRIER            airline_name airport_routes  \\\n",
       "0             AA  American Airlines Inc.     (ABQ, DFW)   \n",
       "1             AA  American Airlines Inc.     (ALB, CLT)   \n",
       "2             AA  American Airlines Inc.     (ANC, DFW)   \n",
       "3             AA  American Airlines Inc.     (ANC, LAX)   \n",
       "4             AA  American Airlines Inc.     (ANC, PHX)   \n",
       "\n",
       "                                city_routes  DISTANCE  total_delay_Count_y  \n",
       "0  (Albuquerque, NM, Dallas/Fort Worth, TX)     569.0           409.595498  \n",
       "1               (Albany, NY, Charlotte, NC)     646.0            21.844186  \n",
       "2    (Anchorage, AK, Dallas/Fort Worth, TX)    3043.0           157.078818  \n",
       "3          (Anchorage, AK, Los Angeles, CA)    2345.0         12432.758621  \n",
       "4              (Anchorage, AK, Phoenix, AZ)    2552.0            15.206897  "
      ]
     },
     "execution_count": 86,
     "metadata": {},
     "output_type": "execute_result"
    }
   ],
   "source": [
    "counts_and_delays = pd.merge(route_delays, airline_routes_sum, on='merge_col', how='inner')\n",
    "counts_and_delays = pd.merge(counts_and_delays, route_delay_var, on='merge_col', how='inner' )\n",
    "counts_and_delays.head()"
   ]
  },
  {
   "cell_type": "code",
   "execution_count": 90,
   "metadata": {
    "collapsed": false
   },
   "outputs": [],
   "source": [
    "#list(enumerate(counts_and_delays.columns))"
   ]
  },
  {
   "cell_type": "code",
   "execution_count": 89,
   "metadata": {
    "collapsed": false
   },
   "outputs": [],
   "source": [
    "counts_and_delays.drop(counts_and_delays.columns[[6,7,8,9,10,11,13,14,15,16,17]], axis=1, inplace=True)"
   ]
  },
  {
   "cell_type": "code",
   "execution_count": 91,
   "metadata": {
    "collapsed": false
   },
   "outputs": [
    {
     "data": {
      "text/html": [
       "<div>\n",
       "<table border=\"1\" class=\"dataframe\">\n",
       "  <thead>\n",
       "    <tr style=\"text-align: right;\">\n",
       "      <th></th>\n",
       "      <th>UNIQUE_CARRIER_x</th>\n",
       "      <th>airline_name_x</th>\n",
       "      <th>airport_routes_x</th>\n",
       "      <th>city_routes_x</th>\n",
       "      <th>DISTANCE_x</th>\n",
       "      <th>total_delay_Count_x</th>\n",
       "      <th>FLIGHTS_Count</th>\n",
       "      <th>total_delay_Count_y</th>\n",
       "    </tr>\n",
       "  </thead>\n",
       "  <tbody>\n",
       "    <tr>\n",
       "      <th>0</th>\n",
       "      <td>AA</td>\n",
       "      <td>American Airlines Inc.</td>\n",
       "      <td>(ABQ, DFW)</td>\n",
       "      <td>(Albuquerque, NM, Dallas/Fort Worth, TX)</td>\n",
       "      <td>569.0</td>\n",
       "      <td>5.041379</td>\n",
       "      <td>145.0</td>\n",
       "      <td>409.595498</td>\n",
       "    </tr>\n",
       "    <tr>\n",
       "      <th>1</th>\n",
       "      <td>AA</td>\n",
       "      <td>American Airlines Inc.</td>\n",
       "      <td>(ALB, CLT)</td>\n",
       "      <td>(Albany, NY, Charlotte, NC)</td>\n",
       "      <td>646.0</td>\n",
       "      <td>1.406977</td>\n",
       "      <td>86.0</td>\n",
       "      <td>21.844186</td>\n",
       "    </tr>\n",
       "  </tbody>\n",
       "</table>\n",
       "</div>"
      ],
      "text/plain": [
       "  UNIQUE_CARRIER_x          airline_name_x airport_routes_x  \\\n",
       "0               AA  American Airlines Inc.       (ABQ, DFW)   \n",
       "1               AA  American Airlines Inc.       (ALB, CLT)   \n",
       "\n",
       "                              city_routes_x  DISTANCE_x  total_delay_Count_x  \\\n",
       "0  (Albuquerque, NM, Dallas/Fort Worth, TX)       569.0             5.041379   \n",
       "1               (Albany, NY, Charlotte, NC)       646.0             1.406977   \n",
       "\n",
       "   FLIGHTS_Count  total_delay_Count_y  \n",
       "0          145.0           409.595498  \n",
       "1           86.0            21.844186  "
      ]
     },
     "execution_count": 91,
     "metadata": {},
     "output_type": "execute_result"
    }
   ],
   "source": [
    "counts_and_delays.head(2)"
   ]
  },
  {
   "cell_type": "code",
   "execution_count": 92,
   "metadata": {
    "collapsed": false
   },
   "outputs": [],
   "source": [
    "counts_and_delays.columns = ['UNIQUE_CARRIER', 'airline_name', 'airport_routes', 'city_coutes', 'distance',\n",
    "                            'average_delay_minutes', 'flight_counts', 'delay_var_minutes']"
   ]
  },
  {
   "cell_type": "code",
   "execution_count": 93,
   "metadata": {
    "collapsed": false
   },
   "outputs": [
    {
     "data": {
      "text/html": [
       "<div>\n",
       "<table border=\"1\" class=\"dataframe\">\n",
       "  <thead>\n",
       "    <tr style=\"text-align: right;\">\n",
       "      <th></th>\n",
       "      <th>UNIQUE_CARRIER</th>\n",
       "      <th>airline_name</th>\n",
       "      <th>airport_routes</th>\n",
       "      <th>city_coutes</th>\n",
       "      <th>distance</th>\n",
       "      <th>average_delay_minutes</th>\n",
       "      <th>flight_counts</th>\n",
       "      <th>delay_var_minutes</th>\n",
       "    </tr>\n",
       "  </thead>\n",
       "  <tbody>\n",
       "    <tr>\n",
       "      <th>0</th>\n",
       "      <td>AA</td>\n",
       "      <td>American Airlines Inc.</td>\n",
       "      <td>(ABQ, DFW)</td>\n",
       "      <td>(Albuquerque, NM, Dallas/Fort Worth, TX)</td>\n",
       "      <td>569.0</td>\n",
       "      <td>5.041379</td>\n",
       "      <td>145.0</td>\n",
       "      <td>409.595498</td>\n",
       "    </tr>\n",
       "    <tr>\n",
       "      <th>1</th>\n",
       "      <td>AA</td>\n",
       "      <td>American Airlines Inc.</td>\n",
       "      <td>(ALB, CLT)</td>\n",
       "      <td>(Albany, NY, Charlotte, NC)</td>\n",
       "      <td>646.0</td>\n",
       "      <td>1.406977</td>\n",
       "      <td>86.0</td>\n",
       "      <td>21.844186</td>\n",
       "    </tr>\n",
       "  </tbody>\n",
       "</table>\n",
       "</div>"
      ],
      "text/plain": [
       "  UNIQUE_CARRIER            airline_name airport_routes  \\\n",
       "0             AA  American Airlines Inc.     (ABQ, DFW)   \n",
       "1             AA  American Airlines Inc.     (ALB, CLT)   \n",
       "\n",
       "                                city_coutes  distance  average_delay_minutes  \\\n",
       "0  (Albuquerque, NM, Dallas/Fort Worth, TX)     569.0               5.041379   \n",
       "1               (Albany, NY, Charlotte, NC)     646.0               1.406977   \n",
       "\n",
       "   flight_counts  delay_var_minutes  \n",
       "0          145.0         409.595498  \n",
       "1           86.0          21.844186  "
      ]
     },
     "execution_count": 93,
     "metadata": {},
     "output_type": "execute_result"
    }
   ],
   "source": [
    "counts_and_delays.head(2)"
   ]
  },
  {
   "cell_type": "code",
   "execution_count": 95,
   "metadata": {
    "collapsed": false
   },
   "outputs": [],
   "source": [
    "#sum(counts_and_delays['flight_counts'])"
   ]
  },
  {
   "cell_type": "code",
   "execution_count": null,
   "metadata": {
    "collapsed": true
   },
   "outputs": [],
   "source": [
    "np.unique(counts_and_delays[''])"
   ]
  },
  {
   "cell_type": "markdown",
   "metadata": {},
   "source": [
    "## Analysis of Airlines"
   ]
  },
  {
   "cell_type": "code",
   "execution_count": 392,
   "metadata": {
    "collapsed": true
   },
   "outputs": [],
   "source": [
    "airline_details = pd.DataFrame({'UNIQUE_CARRIER':tot_flights.index,'num_flights':tot_flights, 'weather_delay':weather_del_tot,\n",
    "                               'carrier_delay':carrier_del_tot,'tot_arr_del':arr_delay_totals,\n",
    "                                'avg_arr_del':arr_delay_averages, 'tot_dep_del':dep_delay_totals,\n",
    "                               'avg_dep_del':dep_delay_averages, 'cancellations':tot_canc, 'arr_delay_var':arr_delay_var,\n",
    "                               'dep_delay_var':dep_delay_var})"
   ]
  },
  {
   "cell_type": "code",
   "execution_count": 393,
   "metadata": {
    "collapsed": false
   },
   "outputs": [],
   "source": [
    "airline_details['weather_plus_carrier'] = airline_details['weather_delay'].add(airline_details['carrier_delay'])"
   ]
  },
  {
   "cell_type": "code",
   "execution_count": 394,
   "metadata": {
    "collapsed": false
   },
   "outputs": [],
   "source": [
    "airline_details['carrier_delay%'] = (airline_details['carrier_delay']/airline_details['weather_plus_carrier'])*100"
   ]
  },
  {
   "cell_type": "code",
   "execution_count": 395,
   "metadata": {
    "collapsed": false
   },
   "outputs": [],
   "source": [
    "airline_details['cancellation%'] = (airline_details['cancellations']/airline_details['num_flights'])*100"
   ]
  },
  {
   "cell_type": "code",
   "execution_count": 396,
   "metadata": {
    "collapsed": false
   },
   "outputs": [
    {
     "data": {
      "text/html": [
       "<div>\n",
       "<table border=\"1\" class=\"dataframe\">\n",
       "  <thead>\n",
       "    <tr style=\"text-align: right;\">\n",
       "      <th></th>\n",
       "      <th>UNIQUE_CARRIER</th>\n",
       "      <th>arr_delay_var</th>\n",
       "      <th>avg_arr_del</th>\n",
       "      <th>avg_dep_del</th>\n",
       "      <th>cancellations</th>\n",
       "      <th>carrier_delay</th>\n",
       "      <th>dep_delay_var</th>\n",
       "      <th>num_flights</th>\n",
       "      <th>tot_arr_del</th>\n",
       "      <th>tot_dep_del</th>\n",
       "      <th>weather_delay</th>\n",
       "      <th>weather_plus_carrier</th>\n",
       "      <th>carrier_delay%</th>\n",
       "      <th>cancellation%</th>\n",
       "      <th>airline_name</th>\n",
       "    </tr>\n",
       "  </thead>\n",
       "  <tbody>\n",
       "    <tr>\n",
       "      <th>0</th>\n",
       "      <td>AA</td>\n",
       "      <td>1971.062352</td>\n",
       "      <td>4.555905</td>\n",
       "      <td>8.009019</td>\n",
       "      <td>5936.0</td>\n",
       "      <td>2879650.0</td>\n",
       "      <td>1748.594768</td>\n",
       "      <td>772474.0</td>\n",
       "      <td>3519318.0</td>\n",
       "      <td>6186759.0</td>\n",
       "      <td>567831.0</td>\n",
       "      <td>3447481.0</td>\n",
       "      <td>83.529104</td>\n",
       "      <td>0.768440</td>\n",
       "      <td>American Airlines Inc.</td>\n",
       "    </tr>\n",
       "    <tr>\n",
       "      <th>1</th>\n",
       "      <td>AS</td>\n",
       "      <td>602.216878</td>\n",
       "      <td>-3.432391</td>\n",
       "      <td>-1.031163</td>\n",
       "      <td>264.0</td>\n",
       "      <td>215216.0</td>\n",
       "      <td>482.703190</td>\n",
       "      <td>151303.0</td>\n",
       "      <td>-519331.0</td>\n",
       "      <td>-156018.0</td>\n",
       "      <td>11042.0</td>\n",
       "      <td>226258.0</td>\n",
       "      <td>95.119731</td>\n",
       "      <td>0.174484</td>\n",
       "      <td>Alaska Airlines Inc.</td>\n",
       "    </tr>\n",
       "    <tr>\n",
       "      <th>2</th>\n",
       "      <td>B6</td>\n",
       "      <td>1545.718563</td>\n",
       "      <td>4.132796</td>\n",
       "      <td>9.824886</td>\n",
       "      <td>1333.0</td>\n",
       "      <td>928779.0</td>\n",
       "      <td>1333.714393</td>\n",
       "      <td>237793.0</td>\n",
       "      <td>982750.0</td>\n",
       "      <td>2336289.0</td>\n",
       "      <td>73148.0</td>\n",
       "      <td>1001927.0</td>\n",
       "      <td>92.699269</td>\n",
       "      <td>0.560572</td>\n",
       "      <td>JetBlue Airways</td>\n",
       "    </tr>\n",
       "    <tr>\n",
       "      <th>3</th>\n",
       "      <td>DL</td>\n",
       "      <td>1330.420322</td>\n",
       "      <td>-2.564315</td>\n",
       "      <td>5.641251</td>\n",
       "      <td>420.0</td>\n",
       "      <td>2404329.0</td>\n",
       "      <td>1201.113300</td>\n",
       "      <td>790725.0</td>\n",
       "      <td>-2027668.0</td>\n",
       "      <td>4460678.0</td>\n",
       "      <td>238820.0</td>\n",
       "      <td>2643149.0</td>\n",
       "      <td>90.964565</td>\n",
       "      <td>0.053116</td>\n",
       "      <td>Delta Air Lines Inc.</td>\n",
       "    </tr>\n",
       "    <tr>\n",
       "      <th>4</th>\n",
       "      <td>EV</td>\n",
       "      <td>1835.113328</td>\n",
       "      <td>2.147810</td>\n",
       "      <td>5.879991</td>\n",
       "      <td>6006.0</td>\n",
       "      <td>1632246.0</td>\n",
       "      <td>1667.976188</td>\n",
       "      <td>412537.0</td>\n",
       "      <td>886051.0</td>\n",
       "      <td>2425714.0</td>\n",
       "      <td>92700.0</td>\n",
       "      <td>1724946.0</td>\n",
       "      <td>94.625919</td>\n",
       "      <td>1.455869</td>\n",
       "      <td>ExpressJet Airlines Inc.</td>\n",
       "    </tr>\n",
       "    <tr>\n",
       "      <th>5</th>\n",
       "      <td>F9</td>\n",
       "      <td>1978.195899</td>\n",
       "      <td>2.476229</td>\n",
       "      <td>8.413453</td>\n",
       "      <td>224.0</td>\n",
       "      <td>192142.0</td>\n",
       "      <td>1797.670589</td>\n",
       "      <td>76207.0</td>\n",
       "      <td>188706.0</td>\n",
       "      <td>641164.0</td>\n",
       "      <td>21051.0</td>\n",
       "      <td>213193.0</td>\n",
       "      <td>90.125848</td>\n",
       "      <td>0.293936</td>\n",
       "      <td>Frontier Airlines Inc.</td>\n",
       "    </tr>\n",
       "    <tr>\n",
       "      <th>6</th>\n",
       "      <td>HA</td>\n",
       "      <td>619.272197</td>\n",
       "      <td>-1.009116</td>\n",
       "      <td>-0.655191</td>\n",
       "      <td>120.0</td>\n",
       "      <td>103509.0</td>\n",
       "      <td>586.865082</td>\n",
       "      <td>63847.0</td>\n",
       "      <td>-64429.0</td>\n",
       "      <td>-41832.0</td>\n",
       "      <td>7291.0</td>\n",
       "      <td>110800.0</td>\n",
       "      <td>93.419675</td>\n",
       "      <td>0.187949</td>\n",
       "      <td>Hawaiian Airlines Inc.</td>\n",
       "    </tr>\n",
       "    <tr>\n",
       "      <th>7</th>\n",
       "      <td>NK</td>\n",
       "      <td>1460.359300</td>\n",
       "      <td>7.825065</td>\n",
       "      <td>10.909640</td>\n",
       "      <td>1862.0</td>\n",
       "      <td>337781.0</td>\n",
       "      <td>1306.765659</td>\n",
       "      <td>116689.0</td>\n",
       "      <td>913099.0</td>\n",
       "      <td>1273035.0</td>\n",
       "      <td>42823.0</td>\n",
       "      <td>380604.0</td>\n",
       "      <td>88.748673</td>\n",
       "      <td>1.595695</td>\n",
       "      <td>Spirit Air Lines</td>\n",
       "    </tr>\n",
       "    <tr>\n",
       "      <th>8</th>\n",
       "      <td>OO</td>\n",
       "      <td>1508.225942</td>\n",
       "      <td>1.527726</td>\n",
       "      <td>5.059268</td>\n",
       "      <td>4723.0</td>\n",
       "      <td>1528539.0</td>\n",
       "      <td>1431.957581</td>\n",
       "      <td>509583.0</td>\n",
       "      <td>778503.0</td>\n",
       "      <td>2578117.0</td>\n",
       "      <td>175894.0</td>\n",
       "      <td>1704433.0</td>\n",
       "      <td>89.680205</td>\n",
       "      <td>0.926836</td>\n",
       "      <td>SkyWest Airlines Inc.</td>\n",
       "    </tr>\n",
       "    <tr>\n",
       "      <th>9</th>\n",
       "      <td>UA</td>\n",
       "      <td>1802.037320</td>\n",
       "      <td>-0.473971</td>\n",
       "      <td>9.683270</td>\n",
       "      <td>4192.0</td>\n",
       "      <td>1360575.0</td>\n",
       "      <td>1632.276450</td>\n",
       "      <td>449118.0</td>\n",
       "      <td>-212869.0</td>\n",
       "      <td>4348931.0</td>\n",
       "      <td>213863.0</td>\n",
       "      <td>1574438.0</td>\n",
       "      <td>86.416550</td>\n",
       "      <td>0.933385</td>\n",
       "      <td>United Air Lines Inc.</td>\n",
       "    </tr>\n",
       "    <tr>\n",
       "      <th>10</th>\n",
       "      <td>VX</td>\n",
       "      <td>1212.749691</td>\n",
       "      <td>6.916231</td>\n",
       "      <td>10.955985</td>\n",
       "      <td>451.0</td>\n",
       "      <td>151079.0</td>\n",
       "      <td>975.525839</td>\n",
       "      <td>57730.0</td>\n",
       "      <td>399274.0</td>\n",
       "      <td>632489.0</td>\n",
       "      <td>33668.0</td>\n",
       "      <td>184747.0</td>\n",
       "      <td>81.776159</td>\n",
       "      <td>0.781223</td>\n",
       "      <td>Virgin America</td>\n",
       "    </tr>\n",
       "    <tr>\n",
       "      <th>11</th>\n",
       "      <td>WN</td>\n",
       "      <td>914.638304</td>\n",
       "      <td>4.773709</td>\n",
       "      <td>9.207169</td>\n",
       "      <td>8432.0</td>\n",
       "      <td>2614791.0</td>\n",
       "      <td>789.610800</td>\n",
       "      <td>1092941.0</td>\n",
       "      <td>5217382.0</td>\n",
       "      <td>10062892.0</td>\n",
       "      <td>493738.0</td>\n",
       "      <td>3108529.0</td>\n",
       "      <td>84.116667</td>\n",
       "      <td>0.771496</td>\n",
       "      <td>Southwest Airlines Co.</td>\n",
       "    </tr>\n",
       "  </tbody>\n",
       "</table>\n",
       "</div>"
      ],
      "text/plain": [
       "   UNIQUE_CARRIER  arr_delay_var  avg_arr_del  avg_dep_del  cancellations  \\\n",
       "0              AA    1971.062352     4.555905     8.009019         5936.0   \n",
       "1              AS     602.216878    -3.432391    -1.031163          264.0   \n",
       "2              B6    1545.718563     4.132796     9.824886         1333.0   \n",
       "3              DL    1330.420322    -2.564315     5.641251          420.0   \n",
       "4              EV    1835.113328     2.147810     5.879991         6006.0   \n",
       "5              F9    1978.195899     2.476229     8.413453          224.0   \n",
       "6              HA     619.272197    -1.009116    -0.655191          120.0   \n",
       "7              NK    1460.359300     7.825065    10.909640         1862.0   \n",
       "8              OO    1508.225942     1.527726     5.059268         4723.0   \n",
       "9              UA    1802.037320    -0.473971     9.683270         4192.0   \n",
       "10             VX    1212.749691     6.916231    10.955985          451.0   \n",
       "11             WN     914.638304     4.773709     9.207169         8432.0   \n",
       "\n",
       "    carrier_delay  dep_delay_var  num_flights  tot_arr_del  tot_dep_del  \\\n",
       "0       2879650.0    1748.594768     772474.0    3519318.0    6186759.0   \n",
       "1        215216.0     482.703190     151303.0    -519331.0    -156018.0   \n",
       "2        928779.0    1333.714393     237793.0     982750.0    2336289.0   \n",
       "3       2404329.0    1201.113300     790725.0   -2027668.0    4460678.0   \n",
       "4       1632246.0    1667.976188     412537.0     886051.0    2425714.0   \n",
       "5        192142.0    1797.670589      76207.0     188706.0     641164.0   \n",
       "6        103509.0     586.865082      63847.0     -64429.0     -41832.0   \n",
       "7        337781.0    1306.765659     116689.0     913099.0    1273035.0   \n",
       "8       1528539.0    1431.957581     509583.0     778503.0    2578117.0   \n",
       "9       1360575.0    1632.276450     449118.0    -212869.0    4348931.0   \n",
       "10       151079.0     975.525839      57730.0     399274.0     632489.0   \n",
       "11      2614791.0     789.610800    1092941.0    5217382.0   10062892.0   \n",
       "\n",
       "    weather_delay  weather_plus_carrier  carrier_delay%  cancellation%  \\\n",
       "0        567831.0             3447481.0       83.529104       0.768440   \n",
       "1         11042.0              226258.0       95.119731       0.174484   \n",
       "2         73148.0             1001927.0       92.699269       0.560572   \n",
       "3        238820.0             2643149.0       90.964565       0.053116   \n",
       "4         92700.0             1724946.0       94.625919       1.455869   \n",
       "5         21051.0              213193.0       90.125848       0.293936   \n",
       "6          7291.0              110800.0       93.419675       0.187949   \n",
       "7         42823.0              380604.0       88.748673       1.595695   \n",
       "8        175894.0             1704433.0       89.680205       0.926836   \n",
       "9        213863.0             1574438.0       86.416550       0.933385   \n",
       "10        33668.0              184747.0       81.776159       0.781223   \n",
       "11       493738.0             3108529.0       84.116667       0.771496   \n",
       "\n",
       "                airline_name  \n",
       "0     American Airlines Inc.  \n",
       "1       Alaska Airlines Inc.  \n",
       "2            JetBlue Airways  \n",
       "3       Delta Air Lines Inc.  \n",
       "4   ExpressJet Airlines Inc.  \n",
       "5     Frontier Airlines Inc.  \n",
       "6     Hawaiian Airlines Inc.  \n",
       "7           Spirit Air Lines  \n",
       "8      SkyWest Airlines Inc.  \n",
       "9      United Air Lines Inc.  \n",
       "10            Virgin America  \n",
       "11    Southwest Airlines Co.  "
      ]
     },
     "execution_count": 396,
     "metadata": {},
     "output_type": "execute_result"
    }
   ],
   "source": [
    "airline_details = pd.merge(airline_details, airline_lookup, on='UNIQUE_CARRIER')\n",
    "airline_details"
   ]
  },
  {
   "cell_type": "code",
   "execution_count": 250,
   "metadata": {
    "collapsed": false
   },
   "outputs": [
    {
     "data": {
      "text/plain": [
       "<matplotlib.axes._subplots.AxesSubplot at 0x11ea00278>"
      ]
     },
     "execution_count": 250,
     "metadata": {},
     "output_type": "execute_result"
    },
    {
     "data": {
      "image/png": "[encoded data removed]",
      "text/plain": [
       "<matplotlib.figure.Figure at 0x11a31c0f0>"
      ]
     },
     "metadata": {},
     "output_type": "display_data"
    }
   ],
   "source": [
    "# df.ix[5].plot.bar(); plt.axhline(0, color='k')\n",
    "airline_details.ix[:,1].plot.bar()"
   ]
  },
  {
   "cell_type": "code",
   "execution_count": 251,
   "metadata": {
    "collapsed": false
   },
   "outputs": [
    {
     "data": {
      "text/plain": [
       "<matplotlib.axes._subplots.AxesSubplot at 0x127ebe978>"
      ]
     },
     "execution_count": 251,
     "metadata": {},
     "output_type": "execute_result"
    },
    {
     "data": {
      "image/png": "[encoded data removed]",
      "text/plain": [
       "<matplotlib.figure.Figure at 0x127ecacf8>"
      ]
     },
     "metadata": {},
     "output_type": "display_data"
    }
   ],
   "source": [
    "airline_details.ix[:,6].plot.bar()"
   ]
  },
  {
   "cell_type": "code",
   "execution_count": 168,
   "metadata": {
    "collapsed": false
   },
   "outputs": [
    {
     "data": {
      "text/plain": [
       "('ABQ', 'DFW')"
      ]
     },
     "execution_count": 168,
     "metadata": {},
     "output_type": "execute_result"
    }
   ],
   "source": [
    "type(route_delays.iloc[0,2])\n",
    "route_delays.iloc[0,2]"
   ]
  },
  {
   "cell_type": "code",
   "execution_count": 93,
   "metadata": {
    "collapsed": false
   },
   "outputs": [],
   "source": [
    "# xticks = airline_details.index\n",
    "# x = range(len(airline_details.index))\n",
    "# plt.bar(x, airline_details.avg_arr_del)\n",
    "# plt.xticks(x, xticks)"
   ]
  },
  {
   "cell_type": "code",
   "execution_count": 91,
   "metadata": {
    "collapsed": false
   },
   "outputs": [],
   "source": [
    "# xticks = airline_details.index\n",
    "# x = range(len(airline_details.index))\n",
    "# plt.bar(x, airline_details.weather_delay)\n",
    "# plt.xticks(x, xticks)"
   ]
  },
  {
   "cell_type": "code",
   "execution_count": 92,
   "metadata": {
    "collapsed": false
   },
   "outputs": [],
   "source": [
    "# xticks = airline_details.index\n",
    "# x = range(len(airline_details.index))\n",
    "# plt.bar(x, airline_details.carrier_delay)\n",
    "# plt.xticks(x, xticks)"
   ]
  },
  {
   "cell_type": "code",
   "execution_count": 403,
   "metadata": {
    "collapsed": false
   },
   "outputs": [
    {
     "data": {
      "text/html": [
       "<div>\n",
       "<table border=\"1\" class=\"dataframe\">\n",
       "  <thead>\n",
       "    <tr style=\"text-align: right;\">\n",
       "      <th></th>\n",
       "      <th>UNIQUE_CARRIER</th>\n",
       "      <th>airline_name</th>\n",
       "      <th>airport_routes</th>\n",
       "      <th>city_routes</th>\n",
       "      <th>DISTANCE</th>\n",
       "      <th>avg_delay_minutes</th>\n",
       "      <th>merge_col</th>\n",
       "    </tr>\n",
       "  </thead>\n",
       "  <tbody>\n",
       "    <tr>\n",
       "      <th>800</th>\n",
       "      <td>AS</td>\n",
       "      <td>Alaska Airlines Inc.</td>\n",
       "      <td>(LAX, PDX)</td>\n",
       "      <td>(Los Angeles, CA, Portland, OR)</td>\n",
       "      <td>834.0</td>\n",
       "      <td>1.092389</td>\n",
       "      <td>(AS, (LAX, PDX))</td>\n",
       "    </tr>\n",
       "    <tr>\n",
       "      <th>1766</th>\n",
       "      <td>DL</td>\n",
       "      <td>Delta Air Lines Inc.</td>\n",
       "      <td>(LAX, PDX)</td>\n",
       "      <td>(Los Angeles, CA, Portland, OR)</td>\n",
       "      <td>834.0</td>\n",
       "      <td>4.170259</td>\n",
       "      <td>(DL, (LAX, PDX))</td>\n",
       "    </tr>\n",
       "    <tr>\n",
       "      <th>3719</th>\n",
       "      <td>NK</td>\n",
       "      <td>Spirit Air Lines</td>\n",
       "      <td>(LAX, PDX)</td>\n",
       "      <td>(Los Angeles, CA, Portland, OR)</td>\n",
       "      <td>834.0</td>\n",
       "      <td>2.967213</td>\n",
       "      <td>(NK, (LAX, PDX))</td>\n",
       "    </tr>\n",
       "    <tr>\n",
       "      <th>6440</th>\n",
       "      <td>WN</td>\n",
       "      <td>Southwest Airlines Co.</td>\n",
       "      <td>(LAX, PDX)</td>\n",
       "      <td>(Los Angeles, CA, Portland, OR)</td>\n",
       "      <td>834.0</td>\n",
       "      <td>3.787986</td>\n",
       "      <td>(WN, (LAX, PDX))</td>\n",
       "    </tr>\n",
       "  </tbody>\n",
       "</table>\n",
       "</div>"
      ],
      "text/plain": [
       "     UNIQUE_CARRIER            airline_name airport_routes  \\\n",
       "800              AS    Alaska Airlines Inc.     (LAX, PDX)   \n",
       "1766             DL    Delta Air Lines Inc.     (LAX, PDX)   \n",
       "3719             NK        Spirit Air Lines     (LAX, PDX)   \n",
       "6440             WN  Southwest Airlines Co.     (LAX, PDX)   \n",
       "\n",
       "                          city_routes  DISTANCE  avg_delay_minutes  \\\n",
       "800   (Los Angeles, CA, Portland, OR)     834.0           1.092389   \n",
       "1766  (Los Angeles, CA, Portland, OR)     834.0           4.170259   \n",
       "3719  (Los Angeles, CA, Portland, OR)     834.0           2.967213   \n",
       "6440  (Los Angeles, CA, Portland, OR)     834.0           3.787986   \n",
       "\n",
       "             merge_col  \n",
       "800   (AS, (LAX, PDX))  \n",
       "1766  (DL, (LAX, PDX))  \n",
       "3719  (NK, (LAX, PDX))  \n",
       "6440  (WN, (LAX, PDX))  "
      ]
     },
     "execution_count": 403,
     "metadata": {},
     "output_type": "execute_result"
    }
   ],
   "source": [
    "route_delays.loc[route_delays['airport_routes'] == ('LAX', 'PDX')]"
   ]
  },
  {
   "cell_type": "code",
   "execution_count": 406,
   "metadata": {
    "collapsed": false
   },
   "outputs": [
    {
     "data": {
      "text/plain": [
       "7127"
      ]
     },
     "execution_count": 406,
     "metadata": {},
     "output_type": "execute_result"
    }
   ],
   "source": []
  },
  {
   "cell_type": "code",
   "execution_count": 407,
   "metadata": {
    "collapsed": false
   },
   "outputs": [
    {
     "data": {
      "text/plain": [
       "4273"
      ]
     },
     "execution_count": 407,
     "metadata": {},
     "output_type": "execute_result"
    }
   ],
   "source": [
    "len(np.unique(counts_and_delays['airport_routes']))"
   ]
  },
  {
   "cell_type": "code",
   "execution_count": 405,
   "metadata": {
    "collapsed": false
   },
   "outputs": [
    {
     "data": {
      "text/html": [
       "<div>\n",
       "<table border=\"1\" class=\"dataframe\">\n",
       "  <thead>\n",
       "    <tr style=\"text-align: right;\">\n",
       "      <th></th>\n",
       "      <th>UNIQUE_CARRIER</th>\n",
       "      <th>arr_delay_var</th>\n",
       "      <th>avg_arr_del</th>\n",
       "      <th>avg_dep_del</th>\n",
       "      <th>cancellations</th>\n",
       "      <th>carrier_delay</th>\n",
       "      <th>dep_delay_var</th>\n",
       "      <th>num_flights</th>\n",
       "      <th>tot_arr_del</th>\n",
       "      <th>tot_dep_del</th>\n",
       "      <th>weather_delay</th>\n",
       "      <th>weather_plus_carrier</th>\n",
       "      <th>carrier_delay%</th>\n",
       "      <th>cancellation%</th>\n",
       "      <th>airline_name</th>\n",
       "    </tr>\n",
       "  </thead>\n",
       "  <tbody>\n",
       "    <tr>\n",
       "      <th>0</th>\n",
       "      <td>AA</td>\n",
       "      <td>1971.062352</td>\n",
       "      <td>4.555905</td>\n",
       "      <td>8.009019</td>\n",
       "      <td>5936.0</td>\n",
       "      <td>2879650.0</td>\n",
       "      <td>1748.594768</td>\n",
       "      <td>772474.0</td>\n",
       "      <td>3519318.0</td>\n",
       "      <td>6186759.0</td>\n",
       "      <td>567831.0</td>\n",
       "      <td>3447481.0</td>\n",
       "      <td>83.529104</td>\n",
       "      <td>0.768440</td>\n",
       "      <td>American Airlines Inc.</td>\n",
       "    </tr>\n",
       "    <tr>\n",
       "      <th>1</th>\n",
       "      <td>AS</td>\n",
       "      <td>602.216878</td>\n",
       "      <td>-3.432391</td>\n",
       "      <td>-1.031163</td>\n",
       "      <td>264.0</td>\n",
       "      <td>215216.0</td>\n",
       "      <td>482.703190</td>\n",
       "      <td>151303.0</td>\n",
       "      <td>-519331.0</td>\n",
       "      <td>-156018.0</td>\n",
       "      <td>11042.0</td>\n",
       "      <td>226258.0</td>\n",
       "      <td>95.119731</td>\n",
       "      <td>0.174484</td>\n",
       "      <td>Alaska Airlines Inc.</td>\n",
       "    </tr>\n",
       "  </tbody>\n",
       "</table>\n",
       "</div>"
      ],
      "text/plain": [
       "  UNIQUE_CARRIER  arr_delay_var  avg_arr_del  avg_dep_del  cancellations  \\\n",
       "0             AA    1971.062352     4.555905     8.009019         5936.0   \n",
       "1             AS     602.216878    -3.432391    -1.031163          264.0   \n",
       "\n",
       "   carrier_delay  dep_delay_var  num_flights  tot_arr_del  tot_dep_del  \\\n",
       "0      2879650.0    1748.594768     772474.0    3519318.0    6186759.0   \n",
       "1       215216.0     482.703190     151303.0    -519331.0    -156018.0   \n",
       "\n",
       "   weather_delay  weather_plus_carrier  carrier_delay%  cancellation%  \\\n",
       "0       567831.0             3447481.0       83.529104       0.768440   \n",
       "1        11042.0              226258.0       95.119731       0.174484   \n",
       "\n",
       "             airline_name  \n",
       "0  American Airlines Inc.  \n",
       "1    Alaska Airlines Inc.  "
      ]
     },
     "execution_count": 405,
     "metadata": {},
     "output_type": "execute_result"
    }
   ],
   "source": [
    "airline_details.head(2)"
   ]
  },
  {
   "cell_type": "code",
   "execution_count": 297,
   "metadata": {
    "collapsed": false
   },
   "outputs": [],
   "source": [
    "airline_details_merge = airline_details[['UNIQUE_CARRIER', 'arr_delay_var', 'carrier_delay%', 'cancellation%']]"
   ]
  },
  {
   "cell_type": "code",
   "execution_count": 299,
   "metadata": {
    "collapsed": false
   },
   "outputs": [],
   "source": [
    "export_df = pd.merge(airline_details_merge, route_delays, on='UNIQUE_CARRIER')"
   ]
  },
  {
   "cell_type": "code",
   "execution_count": 301,
   "metadata": {
    "collapsed": false
   },
   "outputs": [],
   "source": [
    "export_df.to_csv('routes_delays.csv')"
   ]
  },
  {
   "cell_type": "code",
   "execution_count": 414,
   "metadata": {
    "collapsed": true
   },
   "outputs": [],
   "source": []
  },
  {
   "cell_type": "code",
   "execution_count": null,
   "metadata": {
    "collapsed": true
   },
   "outputs": [],
   "source": []
  }
 ],
 "metadata": {
  "kernelspec": {
   "display_name": "Python 3",
   "language": "python",
   "name": "python3"
  },
  "language_info": {
   "codemirror_mode": {
    "name": "ipython",
    "version": 3
   },
   "file_extension": ".py",
   "mimetype": "text/x-python",
   "name": "python",
   "nbconvert_exporter": "python",
   "pygments_lexer": "ipython3",
   "version": "3.5.1"
  }
 },
 "nbformat": 4,
 "nbformat_minor": 0
}
