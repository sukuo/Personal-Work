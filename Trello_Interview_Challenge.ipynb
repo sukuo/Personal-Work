{
 "cells": [
  {
   "cell_type": "markdown",
   "metadata": {},
   "source": [
    "# Trello SQL Challenge"
   ]
  },
  {
   "cell_type": "markdown",
   "metadata": {},
   "source": [
    "### Sunne Kuo 11/19/2016"
   ]
  },
  {
   "cell_type": "markdown",
   "metadata": {},
   "source": [
    "Given the data file linked below, what is the name of the tag with the lowest id that has a post count equal to the median post count?\n",
    "\n",
    "Please include the tag name in the field below, along with the SQL code you wrote to get the answer.\n",
    "\n",
    "Data file*:  http://bit.ly/2cXJNe2\n",
    "\n",
    "* Data saved from https://archive.org/details/stackexchange. Live data may be different than the provided snapshot."
   ]
  },
  {
   "cell_type": "code",
   "execution_count": 1,
   "metadata": {
    "collapsed": true
   },
   "outputs": [],
   "source": [
    "import pandas as pd\n",
    "import numpy as np"
   ]
  },
  {
   "cell_type": "code",
   "execution_count": 2,
   "metadata": {
    "collapsed": true
   },
   "outputs": [],
   "source": [
    "#Import and read csv data\n",
    "tags_csv = pd.read_csv('http://bit.ly/2cXJNe2')"
   ]
  },
  {
   "cell_type": "code",
   "execution_count": 3,
   "metadata": {
    "collapsed": false
   },
   "outputs": [],
   "source": [
    "#Get column names\n",
    "column_names = tags_csv.columns[0].split('~')\n",
    "column_names[0] = 'ID'\n",
    "column_names[2] = 'Cnt_hits'"
   ]
  },
  {
   "cell_type": "code",
   "execution_count": 4,
   "metadata": {
    "collapsed": false
   },
   "outputs": [],
   "source": [
    "#Split the data into a list and remove the original column\n",
    "tags_csv['list_of_data'] = tags_csv.ix[:,0].apply(lambda x: x.split('~'))\n",
    "tags_csv.drop(tags_csv.columns[0], axis=1, inplace=True)"
   ]
  },
  {
   "cell_type": "code",
   "execution_count": 5,
   "metadata": {
    "collapsed": false
   },
   "outputs": [],
   "source": [
    "#Create dataframe from lists contained in rows\n",
    "tags = pd.DataFrame({column_names[0]: tags_csv['list_of_data'].apply(lambda x: x[0]),\n",
    "                     column_names[1]: tags_csv['list_of_data'].apply(lambda x: x[1]),\n",
    "                     column_names[2]: tags_csv['list_of_data'].apply(lambda x: x[2]),\n",
    "                     column_names[3]: tags_csv['list_of_data'].apply(\n",
    "                                                    lambda x: x[3] if len(x)>3 else np.nan),\n",
    "                     column_names[4]: tags_csv['list_of_data'].apply(\n",
    "                                                    lambda x: x[4] if len(x)>3 else np.nan)},\n",
    "                     columns = column_names)"
   ]
  },
  {
   "cell_type": "code",
   "execution_count": 6,
   "metadata": {
    "collapsed": false
   },
   "outputs": [],
   "source": [
    "#Convert Count column into integer type\n",
    "tags['Cnt_hits'] = tags['Cnt_hits'].apply(lambda x: int(x))"
   ]
  },
  {
   "cell_type": "code",
   "execution_count": 7,
   "metadata": {
    "collapsed": false
   },
   "outputs": [],
   "source": [
    "#Select Tag Name with the lowest id that has a post count equal to the median post count using Pandas indexing\n",
    "answer = tags.ix[tags['Cnt_hits'] == int(tags['Cnt_hits'].median()), \n",
    "                 ['ID', 'TagName']].sort_values('ID').reset_index().ix[0,'TagName']"
   ]
  },
  {
   "cell_type": "code",
   "execution_count": 8,
   "metadata": {
    "collapsed": false
   },
   "outputs": [
    {
     "name": "stdout",
     "output_type": "stream",
     "text": [
      "The tag name with the lowest ID whose post count = median post count is: chickens\n"
     ]
    }
   ],
   "source": [
    "print(\"The tag name with the lowest ID whose post count = median post count is: {}\"\n",
    "      .format(answer))"
   ]
  },
  {
   "cell_type": "markdown",
   "metadata": {},
   "source": [
    "## SQL Query"
   ]
  },
  {
   "cell_type": "code",
   "execution_count": 9,
   "metadata": {
    "collapsed": false
   },
   "outputs": [],
   "source": [
    "#Run on sqlite\n",
    "from pandasql import *\n",
    "pysqldf = lambda q: sqldf(q, globals())"
   ]
  },
  {
   "cell_type": "code",
   "execution_count": 10,
   "metadata": {
    "collapsed": false
   },
   "outputs": [
    {
     "data": {
      "text/html": [
       "<div>\n",
       "<table border=\"1\" class=\"dataframe\">\n",
       "  <thead>\n",
       "    <tr style=\"text-align: right;\">\n",
       "      <th></th>\n",
       "      <th>TagName</th>\n",
       "    </tr>\n",
       "  </thead>\n",
       "  <tbody>\n",
       "    <tr>\n",
       "      <th>0</th>\n",
       "      <td>chickens</td>\n",
       "    </tr>\n",
       "  </tbody>\n",
       "</table>\n",
       "</div>"
      ],
      "text/plain": [
       "    TagName\n",
       "0  chickens"
      ]
     },
     "execution_count": 10,
     "metadata": {},
     "output_type": "execute_result"
    }
   ],
   "source": [
    "q2  = \"\"\"\n",
    "\n",
    "SELECT TagName\n",
    "FROM tags\n",
    "GROUP BY ID\n",
    "HAVING Cnt_hits = \n",
    "(SELECT CAST(AVG(Cnt_hits) AS INTEGER) AS Count_median\n",
    " FROM (SELECT Cnt_hits\n",
    "      FROM tags\n",
    "      ORDER BY Cnt_hits\n",
    "      LIMIT 2 - (SELECT COUNT(*) FROM tags) % 2    \n",
    "      OFFSET (SELECT (COUNT(*) - 1) / 2\n",
    "              FROM tags)))\n",
    "LIMIT 1\n",
    "\n",
    "\"\"\"\n",
    "\n",
    "pysqldf(q2)"
   ]
  }
 ],
 "metadata": {
  "kernelspec": {
   "display_name": "Python 3",
   "language": "python",
   "name": "python3"
  },
  "language_info": {
   "codemirror_mode": {
    "name": "ipython",
    "version": 3
   },
   "file_extension": ".py",
   "mimetype": "text/x-python",
   "name": "python",
   "nbconvert_exporter": "python",
   "pygments_lexer": "ipython3",
   "version": "3.5.1"
  }
 },
 "nbformat": 4,
 "nbformat_minor": 0
}
