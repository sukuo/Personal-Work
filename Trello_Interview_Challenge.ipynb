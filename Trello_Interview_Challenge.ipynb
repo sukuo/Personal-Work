{
 "cells": [
  {
   "cell_type": "markdown",
   "metadata": {},
   "source": [
    "# Trello SQL Challenge"
   ]
  },
  {
   "cell_type": "markdown",
   "metadata": {},
   "source": [
    "### Sunne Kuo 11/19/2016"
   ]
  },
  {
   "cell_type": "markdown",
   "metadata": {},
   "source": [
    "Given the data file linked below, what is the name of the tag with the lowest id that has a post count equal to the median post count?\n",
    "\n",
    "Please include the tag name in the field below, along with the SQL code you wrote to get the answer.\n",
    "\n",
    "Data file*:  http://bit.ly/2cXJNe2\n",
    "\n",
    "* Data saved from https://archive.org/details/stackexchange. Live data may be different than the provided snapshot."
   ]
  },
  {
   "cell_type": "code",
   "execution_count": 59,
   "metadata": {
    "collapsed": true
   },
   "outputs": [],
   "source": [
    "import pandas as pd\n",
    "import numpy as np"
   ]
  },
  {
   "cell_type": "code",
   "execution_count": 60,
   "metadata": {
    "collapsed": true
   },
   "outputs": [],
   "source": [
    "#Import and read csv data into pandas dataframe\n",
    "tags = pd.read_csv('http://bit.ly/2cXJNe2', sep='~')"
   ]
  },
  {
   "cell_type": "code",
   "execution_count": 92,
   "metadata": {
    "collapsed": true
   },
   "outputs": [],
   "source": [
    "#Renaming column names for easier access\n",
    "tags.columns = ['Id', 'TagName', 'Count', 'ExerptPostID', 'WikiPostId']"
   ]
  },
  {
   "cell_type": "code",
   "execution_count": 104,
   "metadata": {
    "collapsed": false
   },
   "outputs": [],
   "source": [
    "#Select Tag Name with the lowest id that has a post count equal to the median post count using Pandas indexing\n",
    "answer = tags.ix[tags['Count'] == int(tags['Count'].median()), \n",
    "                 ['Id', 'TagName']].sort_values('Id').reset_index().ix[0,'TagName']"
   ]
  },
  {
   "cell_type": "code",
   "execution_count": 105,
   "metadata": {
    "collapsed": false
   },
   "outputs": [
    {
     "name": "stdout",
     "output_type": "stream",
     "text": [
      "The tag name with the lowest Id whose post count = median post count is: sound\n"
     ]
    }
   ],
   "source": [
    "print(\"The tag name with the lowest Id whose post count = median post count is: {}\"\n",
    "      .format(answer))"
   ]
  },
  {
   "cell_type": "markdown",
   "metadata": {},
   "source": [
    "## SQL Query"
   ]
  },
  {
   "cell_type": "code",
   "execution_count": 96,
   "metadata": {
    "collapsed": false
   },
   "outputs": [],
   "source": [
    "#Run on sqlite\n",
    "from pandasql import *\n",
    "pysqldf = lambda q: sqldf(q, globals())"
   ]
  },
  {
   "cell_type": "code",
   "execution_count": 101,
   "metadata": {
    "collapsed": false
   },
   "outputs": [
    {
     "data": {
      "text/html": [
       "<div>\n",
       "<table border=\"1\" class=\"dataframe\">\n",
       "  <thead>\n",
       "    <tr style=\"text-align: right;\">\n",
       "      <th></th>\n",
       "      <th>TagName</th>\n",
       "    </tr>\n",
       "  </thead>\n",
       "  <tbody>\n",
       "    <tr>\n",
       "      <th>0</th>\n",
       "      <td>sound</td>\n",
       "    </tr>\n",
       "  </tbody>\n",
       "</table>\n",
       "</div>"
      ],
      "text/plain": [
       "  TagName\n",
       "0   sound"
      ]
     },
     "execution_count": 101,
     "metadata": {},
     "output_type": "execute_result"
    }
   ],
   "source": [
    "q  = \"\"\"\n",
    "\n",
    "SELECT TagName\n",
    "FROM tags\n",
    "GROUP BY 1\n",
    "HAVING Count = \n",
    "(SELECT CAST(AVG(Count) AS INTEGER) AS Count_median\n",
    " FROM (SELECT Count\n",
    "      FROM tags\n",
    "      ORDER BY Count\n",
    "      LIMIT 2 - (SELECT COUNT(*) FROM tags) % 2    \n",
    "      OFFSET (SELECT (COUNT(*) - 1) / 2\n",
    "              FROM tags)))\n",
    "\n",
    "ORDER BY ID\n",
    "LIMIT 1\n",
    "\n",
    "\"\"\"\n",
    "\n",
    "pysqldf(q)"
   ]
  }
 ],
 "metadata": {
  "kernelspec": {
   "display_name": "Python 3",
   "language": "python",
   "name": "python3"
  },
  "language_info": {
   "codemirror_mode": {
    "name": "ipython",
    "version": 3
   },
   "file_extension": ".py",
   "mimetype": "text/x-python",
   "name": "python",
   "nbconvert_exporter": "python",
   "pygments_lexer": "ipython3",
   "version": "3.5.1"
  }
 },
 "nbformat": 4,
 "nbformat_minor": 0
}
